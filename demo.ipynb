{
  "cells": [
    {
      "cell_type": "code",
      "metadata": {
        "jukit_cell_id": "virdG1SNXY"
      },
      "source": [
        "import psi4\n",
        "from qcportal import PortalClient\n",
        "from pprint import pprint as pp\n",
        "from qcelemental.models import Molecule"
      ],
      "outputs": [],
      "execution_count": null
    },
    {
      "cell_type": "code",
      "metadata": {
        "jukit_cell_id": "BVc6W6uOta"
      },
      "source": [
        "from setup_qcfractal import setup_qcarchive_qcfractal\n",
        "import os\n",
        "\n",
        "setup_qcarchive_qcfractal(\n",
        "    QCF_BASE_FOLDER=os.path.join(os.getcwd(), \"qcfractal\"),\n",
        "    start=False,\n",
        "    reset=False,\n",
        "    db_config={\n",
        "        \"name\": None,\n",
        "        \"enable_security\": \"false\",\n",
        "        \"allow_unauthenticated_read\": None,\n",
        "        \"logfile\": None,\n",
        "        \"loglevel\": None,\n",
        "        \"service_frequency\": 10,\n",
        "        \"max_active_services\": None,\n",
        "        \"heartbeat_frequency\": None,\n",
        "        \"log_access\": None,\n",
        "        \"database\": {\n",
        "            \"base_folder\": None,\n",
        "            \"host\": None,\n",
        "            \"port\": 5432,\n",
        "            \"database_name\": \"qca\",\n",
        "            \"username\": None,\n",
        "            \"password\": None,\n",
        "            \"own\": None,\n",
        "        },\n",
        "        \"api\": {\n",
        "            \"host\": None,\n",
        "            \"port\": 7777,\n",
        "            \"secret_key\": None,\n",
        "            \"jwt_secret_key\": None,\n",
        "        },\n",
        "    },\n",
        ")"
      ],
      "outputs": [
        {
          "output_type": "stream",
          "name": "stdout",
          "text": "/home/amwalla3/gits/cybershuttle_demo/qcfractal\n\n--------------------------------------------------------------------------------\nPython executable:  /home/amwalla3/miniconda3/envs/p4_qcml/bin/python\nQCFractal version:  0.59\nQCFractal alembic revision:  d5988aa750ae\npg_ctl path:  /home/amwalla3/miniconda3/envs/p4_qcml/bin/pg_ctl\nPostgreSQL server version:  PostgreSQL 17.4 on x86_64-conda-linux-gnu, compiled by x86_64-conda-linux-gnu-cc (conda-forge gcc 13.3.0-2) 13.3.0, 64-bit\n--------------------------------------------------------------------------------\n\n\nDisplaying QCFractal configuration below\n--------------------------------------------------------------------------------\naccess_log_keep: 0\nallow_unauthenticated_read: true\napi:\n  extra_flask_options: null\n  extra_waitress_options: null\n  host: localhost\n  jwt_access_token_expires: 3600\n  jwt_refresh_token_expires: 86400\n  jwt_secret_key: 29oNF42M8_IMtQL7cW_A9RGqo7sUg5hLPqrhsVXGaGo\n  num_threads_per_worker: 4\n  port: 7777\n  secret_key: pdqOvXBOawsy25FGc1yYxphmpYan5jMcolOhPgG3cj8\n  worker_timeout: 120\napi_limits:\n  add_molecules: 1000\n  add_records: 500\n  get_access_logs: 1000\n  get_dataset_entries: 2000\n  get_error_logs: 100\n  get_internal_jobs: 1000\n  get_managers: 1000\n  get_molecules: 1000\n  get_records: 1000\n  manager_tasks_claim: 200\n  manager_tasks_return: 10\nauto_reset:\n  compute_lost: 5\n  enabled: false\n  random_error: 5\n  unknown_error: 2\nbase_folder: /home/amwalla3/gits/cybershuttle_demo/qcfractal\ndatabase:\n  base_folder: /home/amwalla3/gits/cybershuttle_demo/qcfractal\n  data_directory: /home/amwalla3/gits/cybershuttle_demo/qcfractal/postgres\n  database_name: qca\n  echo_sql: false\n  full_uri: null\n  host: localhost\n  logfile: /home/amwalla3/gits/cybershuttle_demo/qcfractal/qcfractal_database.log\n  maintenance_db: postgres\n  own: true\n  password: N5X4ueaE6Mf1y83wZjhw6bH_AmM0HDwNAxm6Bs6Mheo\n  pg_tool_dir: null\n  pool_size: 5\n  port: 5432\n  query: {}\n  username: qcfractal\nenable_security: false\ngeoip2_dir: /home/amwalla3/gits/cybershuttle_demo/qcfractal/geoip2\ngeoip2_filename: GeoLite2-City.mmdb\nheartbeat_frequency: 1800\nheartbeat_frequency_jitter: 0\nheartbeat_max_missed: 5\nhide_internal_errors: true\nhomepage_directory: null\nhomepage_redirect_url: null\ninternal_job_keep: 0\ninternal_job_processes: 1\nlog_access: false\nlogfile: null\nloglevel: INFO\nmax_active_services: 20\nmaxmind_license_key: null\nname: QCFractal Server\ns3:\n  access_key_id: null\n  bucket_map:\n    dataset_attachment: dataset_attachment\n  enabled: false\n  endpoint_url: null\n  passthrough: false\n  secret_access_key: null\n  verify: true\nservice_frequency: 10\nstrict_queue_tags: false\ntemporary_dir: /tmp\n--------------------------------------------------------------------------------\n\nQCFractal setup complete\nTo start the server run:\n  qcfractal-server --config=/home/amwalla3/gits/cybershuttle_demo/qcfractal/qcfractal_config.yaml start\nTo start the compute manager run:\n  qcfractal-compute-manager --config=/home/amwalla3/gits/cybershuttle_demo/qcfractal/resources.yml\n"
        }
      ],
      "execution_count": 1
    },
    {
      "cell_type": "code",
      "metadata": {
        "jukit_cell_id": "CwEhpqwLXX"
      },
      "source": [
        "!qcfractal-server --config=`pwd`/qcfractal/qcfractal_config.yaml start > qcfractal_server.log & disown\n",
        "\n",
        "# NOTE kill server when finished by running:\n",
        "#     ps aux | grep qcfractal-server | awk '{ print $2 }'\n",
        "#     kill -9 <PID>"
      ],
      "outputs": [],
      "execution_count": null
    },
    {
      "cell_type": "code",
      "metadata": {
        "jukit_cell_id": "3HjtiyIuFg"
      },
      "source": [
        "!qcfractal-compute-manager --config=`pwd`/qcfractal/resources.yml > qcfractal_compute.log & disown\n",
        "# NOTE kill server when finished by running:;\n",
        "#    ps aux | grep qcfractal-server | awk '{ print $2 }'\n",
        "#    kill -9 <PID>"
      ],
      "outputs": [],
      "execution_count": null
    },
    {
      "cell_type": "code",
      "metadata": {
        "jukit_cell_id": "hMCmRgdGJ4"
      },
      "source": [
        "# Running a single job\n",
        "client = PortalClient(\"http://localhost:7777\", verify=False)\n",
        "for rec in client.query_records():\n",
        "    pp(rec)\n",
        "\n",
        "mol = Molecule.from_data(\n",
        "    \"\"\"\n",
        "     0 1\n",
        "     O  -1.551007  -0.114520   0.000000\n",
        "     H  -1.934259   0.762503   0.000000\n",
        "     H  -0.599677   0.040712   0.000000\n",
        "     --\n",
        "     0 1\n",
        "     O   1.350625   0.111469   0.000000\n",
        "     H   1.680398  -0.373741  -0.758561\n",
        "     H   1.680398  -0.373741   0.758561\n",
        "\n",
        "     units angstrom\n",
        "     no_reorient\n",
        "     symmetry c1\n",
        "\"\"\"\n",
        ")\n",
        "\n",
        "psi4.set_options(\n",
        "    {\"basis\": \"aug-cc-pvdz\", \"scf_type\": \"df\", \"e_convergence\": 6, \"freeze_core\": True}\n",
        ")\n",
        "\n",
        "client.add_singlepoints(\n",
        "    [mol],\n",
        "    \"psi4\",\n",
        "    driver=\"energy\",\n",
        "    method=\"b3lyp\",\n",
        "    basis=\"aug-cc-pvdz\",\n",
        "    keywords={\"scf_type\": \"df\", \"e_convergence\": 6, \"freeze_core\": True},\n",
        "    tag=\"local\",\n",
        ")\n",
        "\n",
        "for rec in client.query_records():\n",
        "    pp(rec.dict)\n",
        "    pp(rec.error)"
      ],
      "outputs": [
        {
          "output_type": "stream",
          "name": "stdout",
          "text": "SinglepointRecord(id=1, record_type='singlepoint', is_service=False, properties={'pe energy': 0.0, 'scf dipole': [1.01443376121482, 0.030397167953621462, 4.7350182585600975e-12], 'calcinfo_nmo': 82, 'dft xc energy': -15.09393332583476, 'return_energy': -152.89658734330823, 'return_result': -152.89658734330823, 'scf_xc_energy': -15.09393332583476, 'calcinfo_natom': 6, 'calcinfo_nbeta': 10, 'current dipole': [1.01443376121482, 0.030397167953621462, 4.7350182585600975e-12], 'current energy': -152.89658734330823, 'return_hessian': None, 'scf_iterations': 8, 'calcinfo_nalpha': 10, 'calcinfo_nbasis': 82, 'dft vv10 energy': 0.0, 'return_gradient': None, 'dft total energy': -152.89658734330823, 'scf_total_energy': -152.89658734330823, 'scf_dipole_moment': [1.01443376121482, 0.030397167953621462, 4.7350182585600975e-12], 'scf_total_hessian': None, 'scf total energies': [-152.18329179022422, -152.54809853364748, -151.78477048281337, -152.8958414937564, -152.89589353340773, -152.8965718707634, -152.89658669740808, -152.8965873387496, -152.89658734330823], 'scf_total_gradient': None, 'dd solvation energy': 0.0, 'grid electrons beta': 10.000001013223176, 'one-electron energy': -282.48472356908326, 'two-electron energy': 108.01922155474642, 'grid electrons alpha': 10.000001013223176, 'grid electrons total': 20.000002026446353, 'scf iteration energy': -152.89658734330823, 'xc grid total points': 132401.0, 'xc grid radial points': 75.0, 'pcm polarization energy': 0.0, 'scf_one_electron_energy': -282.48472356908326, 'scf_two_electron_energy': 108.01922155474642, 'current reference energy': -152.89658734330823, 'nuclear_repulsion_energy': 36.66284799686338, 'xc grid spherical points': 302.0, 'dft functional total energy': -152.89658734330823}, extras={}, status=<RecordStatusEnum.complete: 'complete'>, manager_name='theoryfs-archlinux-78c3989c-9e18-4e18-9473-c73a57f13c3b', created_on=datetime.datetime(2025, 4, 24, 16, 34, 56, 593691, tzinfo=datetime.timezone(datetime.timedelta(days=-1, seconds=72000))), modified_on=datetime.datetime(2025, 4, 24, 16, 44, 58, 724552, tzinfo=datetime.timezone(datetime.timedelta(days=-1, seconds=72000))), owner_user=None, owner_group=None, compute_history_=None, task_=None, service_=None, comments_=None, native_files_=None, specification=QCSpecification(program='psi4', driver=<SinglepointDriver.energy: 'energy'>, method='b3lyp', basis='aug-cc-pvdz', keywords={'scf_type': 'df', 'freeze_core': True, 'e_convergence': 6}, protocols=AtomicResultProtocols(wavefunction=<WavefunctionProtocolEnum.none: 'none'>, stdout=True, error_correction=ErrorCorrectionProtocol(default_policy=True, policies=None), native_files=<NativeFilesProtocolEnum.none: 'none'>)), molecule_id=1, molecule_=None, wavefunction_=None)\n<bound method BaseModel.dict of SinglepointRecord(id=1, record_type='singlepoint', is_service=False, properties={'pe energy': 0.0, 'scf dipole': [1.01443376121482, 0.030397167953621462, 4.7350182585600975e-12], 'calcinfo_nmo': 82, 'dft xc energy': -15.09393332583476, 'return_energy': -152.89658734330823, 'return_result': -152.89658734330823, 'scf_xc_energy': -15.09393332583476, 'calcinfo_natom': 6, 'calcinfo_nbeta': 10, 'current dipole': [1.01443376121482, 0.030397167953621462, 4.7350182585600975e-12], 'current energy': -152.89658734330823, 'return_hessian': None, 'scf_iterations': 8, 'calcinfo_nalpha': 10, 'calcinfo_nbasis': 82, 'dft vv10 energy': 0.0, 'return_gradient': None, 'dft total energy': -152.89658734330823, 'scf_total_energy': -152.89658734330823, 'scf_dipole_moment': [1.01443376121482, 0.030397167953621462, 4.7350182585600975e-12], 'scf_total_hessian': None, 'scf total energies': [-152.18329179022422, -152.54809853364748, -151.78477048281337, -152.8958414937564, -152.89589353340773, -152.8965718707634, -152.89658669740808, -152.8965873387496, -152.89658734330823], 'scf_total_gradient': None, 'dd solvation energy': 0.0, 'grid electrons beta': 10.000001013223176, 'one-electron energy': -282.48472356908326, 'two-electron energy': 108.01922155474642, 'grid electrons alpha': 10.000001013223176, 'grid electrons total': 20.000002026446353, 'scf iteration energy': -152.89658734330823, 'xc grid total points': 132401.0, 'xc grid radial points': 75.0, 'pcm polarization energy': 0.0, 'scf_one_electron_energy': -282.48472356908326, 'scf_two_electron_energy': 108.01922155474642, 'current reference energy': -152.89658734330823, 'nuclear_repulsion_energy': 36.66284799686338, 'xc grid spherical points': 302.0, 'dft functional total energy': -152.89658734330823}, extras={}, status=<RecordStatusEnum.complete: 'complete'>, manager_name='theoryfs-archlinux-78c3989c-9e18-4e18-9473-c73a57f13c3b', created_on=datetime.datetime(2025, 4, 24, 16, 34, 56, 593691, tzinfo=datetime.timezone(datetime.timedelta(days=-1, seconds=72000))), modified_on=datetime.datetime(2025, 4, 24, 16, 44, 58, 724552, tzinfo=datetime.timezone(datetime.timedelta(days=-1, seconds=72000))), owner_user=None, owner_group=None, compute_history_=None, task_=None, service_=None, comments_=None, native_files_=None, specification=QCSpecification(program='psi4', driver=<SinglepointDriver.energy: 'energy'>, method='b3lyp', basis='aug-cc-pvdz', keywords={'scf_type': 'df', 'freeze_core': True, 'e_convergence': 6}, protocols=AtomicResultProtocols(wavefunction=<WavefunctionProtocolEnum.none: 'none'>, stdout=True, error_correction=ErrorCorrectionProtocol(default_policy=True, policies=None), native_files=<NativeFilesProtocolEnum.none: 'none'>)), molecule_id=1, molecule_=None, wavefunction_=None)>\nNone\n"
        }
      ],
      "execution_count": 2
    },
    {
      "cell_type": "code",
      "metadata": {
        "jukit_cell_id": "Z0wXrcgRq8"
      },
      "source": [
        "# Now create S22 Interaction Energy Dataset\n",
        "from s22 import geoms\n",
        "\n",
        "# geoms is a list of qcelemental Molecule objects that can be used to create a\n",
        "# QCArchive dataset\n",
        "print(geoms)"
      ],
      "outputs": [
        {
          "output_type": "stream",
          "name": "stdout",
          "text": "[Molecule(name='H4O2', formula='H4O2', hash='49ecd61'), Molecule(name='C2H4O4', formula='C2H4O4', hash='cb6a49d'), Molecule(name='C2H6N2O2', formula='C2H6N2O2', hash='b1ca3e5'), Molecule(name='C8H8N4O4', formula='C8H8N4O4', hash='13c83b3'), Molecule(name='C10H11N3O', formula='C10H11N3O', hash='3b8e723'), Molecule(name='C10H11N7O2', formula='C10H11N7O2', hash='3520f9b'), Molecule(name='C2H8', formula='C2H8', hash='67d7d29'), Molecule(name='C4H8', formula='C4H8', hash='47f28b2'), Molecule(name='C7H10', formula='C7H10', hash='4810149'), Molecule(name='C12H12', formula='C12H12', hash='420be36'), Molecule(name='C8H8N4', formula='C8H8N4', hash='3072d92'), Molecule(name='C8H8N4O4', formula='C8H8N4O4', hash='9f67f10'), Molecule(name='C14H13N', formula='C14H13N', hash='00ea319'), Molecule(name='C10H11N7O2', formula='C10H11N7O2', hash='4af63d5'), Molecule(name='C4H6', formula='C4H6', hash='2f8f067'), Molecule(name='C6H8O', formula='C6H8O', hash='22eeb90'), Molecule(name='C6H9N', formula='C6H9N', hash='ad33ea4'), Molecule(name='C7H7N', formula='C7H7N', hash='2aacdee'), Molecule(name='C12H12', formula='C12H12', hash='cea3c9a'), Molecule(name='C14H13N', formula='C14H13N', hash='c11e4cb'), Molecule(name='C12H12O2', formula='C12H12O2', hash='4f0a6bf')]\n"
        }
      ],
      "execution_count": 3
    },
    {
      "cell_type": "code",
      "metadata": {
        "jukit_cell_id": "i8ICwzPWaD"
      },
      "source": [
        "# Create client dataset\n",
        "\n",
        "ds_name = 'S22'\n",
        "\n",
        "try:\n",
        "    ds = client.add_dataset(\"singlepoint\", ds_name,\n",
        "                            f\"Dataset to contain {system}\")\n",
        "    print(f\"Added {system} as dataset\")\n",
        "except Exception:\n",
        "    ds = client.get_dataset(\"singlepoint\", system)\n",
        "    print(f\"Found {system} dataset, using this instead\")\n",
        "    print(ds)"
      ],
      "outputs": [
        {
          "output_type": "stream",
          "name": "stdout",
          "text": "\u001b[31m---------------------------------------------------------------------------\u001b[39m\n\u001b[31mNameError\u001b[39m                                 Traceback (most recent call last)\n\u001b[36mCell\u001b[39m\u001b[36m \u001b[39m\u001b[32mIn[51]\u001b[39m\u001b[32m, line 6\u001b[39m\n\u001b[32m      4\u001b[39m     ds = client.add_dataset(\u001b[33m\"\u001b[39m\u001b[33msinglepoint\u001b[39m\u001b[33m\"\u001b[39m, \u001b[33m\"\u001b[39m\u001b[33mS22\u001b[39m\u001b[33m\"\u001b[39m,\n\u001b[32m      5\u001b[39m                             \u001b[33mf\u001b[39m\u001b[33m\"\u001b[39m\u001b[33mDataset to contain S22 dimers\u001b[39m\u001b[33m\"\u001b[39m)\n\u001b[32m----> \u001b[39m\u001b[32m6\u001b[39m     \u001b[38;5;28mprint\u001b[39m(\u001b[33mf\u001b[39m\u001b[33m\"\u001b[39m\u001b[33mAdded \u001b[39m\u001b[38;5;132;01m{\u001b[39;00m\u001b[43msystem\u001b[49m\u001b[38;5;132;01m}\u001b[39;00m\u001b[33m as dataset\u001b[39m\u001b[33m\"\u001b[39m)\n\u001b[32m      7\u001b[39m \u001b[38;5;28;01mexcept\u001b[39;00m \u001b[38;5;167;01mException\u001b[39;00m:\n\n\u001b[31mNameError\u001b[39m: name 'system' is not defined\n\nDuring handling of the above exception, another exception occurred:\n\n\u001b[31mNameError\u001b[39m                                 Traceback (most recent call last)\n\u001b[36mCell\u001b[39m\u001b[36m \u001b[39m\u001b[32mIn[51]\u001b[39m\u001b[32m, line 8\u001b[39m\n\u001b[32m      6\u001b[39m     \u001b[38;5;28mprint\u001b[39m(\u001b[33mf\u001b[39m\u001b[33m\"\u001b[39m\u001b[33mAdded \u001b[39m\u001b[38;5;132;01m{\u001b[39;00msystem\u001b[38;5;132;01m}\u001b[39;00m\u001b[33m as dataset\u001b[39m\u001b[33m\"\u001b[39m)\n\u001b[32m      7\u001b[39m \u001b[38;5;28;01mexcept\u001b[39;00m \u001b[38;5;167;01mException\u001b[39;00m:\n\u001b[32m----> \u001b[39m\u001b[32m8\u001b[39m     ds = client.get_dataset(\u001b[33m\"\u001b[39m\u001b[33msinglepoint\u001b[39m\u001b[33m\"\u001b[39m, \u001b[43msystem\u001b[49m)\n\u001b[32m      9\u001b[39m     \u001b[38;5;28mprint\u001b[39m(\u001b[33mf\u001b[39m\u001b[33m\"\u001b[39m\u001b[33mFound \u001b[39m\u001b[38;5;132;01m{\u001b[39;00msystem\u001b[38;5;132;01m}\u001b[39;00m\u001b[33m dataset, using this instead\u001b[39m\u001b[33m\"\u001b[39m)\n\u001b[32m     10\u001b[39m     \u001b[38;5;28mprint\u001b[39m(ds)\n\n\u001b[31mNameError\u001b[39m: name 'system' is not defined\n"
        }
      ],
      "execution_count": 4
    },
    {
      "cell_type": "code",
      "metadata": {
        "jukit_cell_id": "OVVcYRXWUA"
      },
      "source": [
        "!ps aux | grep qcfractal-server | awk '{ print $2 }'"
      ],
      "outputs": [],
      "execution_count": null
    },
    {
      "cell_type": "code",
      "metadata": {
        "jukit_cell_id": "5HSrFMKRJh"
      },
      "source": [],
      "outputs": [],
      "execution_count": null
    }
  ],
  "metadata": {
    "anaconda-cloud": {},
    "kernelspec": {
      "display_name": "python",
      "language": "python",
      "name": "python3"
    }
  },
  "nbformat": 4,
  "nbformat_minor": 4
}