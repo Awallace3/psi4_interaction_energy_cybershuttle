{
 "cells": [
  {
   "cell_type": "markdown",
   "metadata": {
    "jukit_cell_id": "tveJZTmZdq"
   },
   "source": [
    "# QCArchive+QCMLForge Demo with CyberShuttle\n",
    "\n",
    "The first half of this demo shows how to use QCArchive to setup a dataset\n",
    "and run computations with ease. The compute resource for this noteboook\n",
    "uses Cybershuttle; however, a purely local resource demo is available under\n",
    "`./demo_local.ipynb`.\n",
    "\n",
    "The second half of this demo shows how one can consume the generated data\n",
    "to train AP-Net models through QCMLForge. \n",
    "\n",
    "## How is this useful?\n",
    "Prior to using quantum mechanical (QM) methods for applications, often computational\n",
    "chemists will either consult previous studies of benchmarked methods on similar\n",
    "systems, or perform the benchmarking task themselves. Then after quantifying\n",
    "error, the level of theory that balances both expected error and is a reasonable\n",
    "computational cost will be selected for applying to novel system(s).\n",
    "\n",
    "The Sherrill research group has performed quite a few of these benchmarking\n",
    "studies particularly for studying intermolecular interaction energies. These\n",
    "interaction energies basically determine how attractive (or repulsive) molecules\n",
    "behave when brought close together. A more practical definition for an\n",
    "interaction energy (IE) is: \n",
    "\n",
    "$E_{\\rm IE} = E_{\\rm dimer} - E_{\\rm monomerA} - E_{\\rm monomerB}$.\n",
    "\n",
    "Hence, the interaction energy is defined as the energy difference between\n",
    "the dimer (when the two molecules are together) and the molecules on\n",
    "their own (monomerA and monomerB in isolation).\n",
    "\n",
    "To demonstrate how one might carryout the computational aspects of a\n",
    "benchmarking study, the present notebook will provide examples of managing\n",
    "datasets with QCArchive and running QM calculations prior to analyzing error\n",
    "statistics with respect to reference energies. The second half of the notebook\n",
    "provides examples on how you could then apply QM data towards training ML models\n",
    "through QCMLForge."
   ]
  },
  {
   "cell_type": "code",
   "execution_count": 1,
   "metadata": {
    "jukit_cell_id": "FHk2C2mAci"
   },
   "outputs": [
    {
     "name": "stdout",
     "output_type": "stream",
     "text": [
      "\n",
      "Loaded airavata_jupyter_magic (2.0.17) \n",
      "(current runtime = local)\n",
      "\n",
      "  %authenticate                              -- Authenticate to access high-performance runtimes.\n",
      "  %request_runtime <rt> [args]               -- Request a runtime named <rt> with configuration <args>.\n",
      "                                                Call multiple times to request multiple runtimes.\n",
      "  %restart_runtime <rt>                      -- Restart runtime <rt> if it hangs. This will clear all variables.\n",
      "  %stop_runtime <rt>                         -- Stop runtime <rt> when no longer needed.\n",
      "  %wait_for_runtime <rt>                     -- Wait for runtime <rt> to be ready.\n",
      "  %switch_runtime <rt>                       -- Switch the active runtime to <rt>. All subsequent cells will run here.\n",
      "  %%run_on <rt>                              -- Force a cell to always execute on <rt>, regardless of the active runtime.\n",
      "  %stat_runtime <rt>                         -- Show the status of runtime <rt>.\n",
      "  %copy_data source=<r1:f1> target=<r2:f2>   -- Copy <f1> in <r1> to <f2> in <r2>.\n",
      "\n"
     ]
    }
   ],
   "source": [
    "# !pip install --force-reinstall -q \"airavata-python-sdk[notebook]\"\n",
    "import airavata_jupyter_magic"
   ]
  },
  {
   "cell_type": "code",
   "execution_count": 2,
   "metadata": {
    "jukit_cell_id": "VonilTFkTU"
   },
   "outputs": [
    {
     "data": {
      "application/vnd.jupyter.widget-view+json": {
       "model_id": "22d4286643a344c7849d35eeab707fb5",
       "version_major": 2,
       "version_minor": 0
      },
      "text/plain": [
       "Output()"
      ]
     },
     "metadata": {},
     "output_type": "display_data"
    },
    {
     "data": {
      "text/html": [
       "<pre style=\"white-space:pre;overflow-x:auto;line-height:normal;font-family:Menlo,'DejaVu Sans Mono',consolas,'Courier New',monospace\">Authenticated.\n",
       "</pre>\n"
      ],
      "text/plain": [
       "Authenticated.\n"
      ]
     },
     "metadata": {},
     "output_type": "display_data"
    },
    {
     "data": {
      "text/html": [
       "<pre style=\"white-space:pre;overflow-x:auto;line-height:normal;font-family:Menlo,'DejaVu Sans Mono',consolas,'Courier New',monospace\"></pre>\n"
      ],
      "text/plain": []
     },
     "metadata": {},
     "output_type": "display_data"
    },
    {
     "data": {
      "text/html": [
       "<pre style=\"white-space:pre;overflow-x:auto;line-height:normal;font-family:Menlo,'DejaVu Sans Mono',consolas,'Courier New',monospace\"></pre>\n"
      ],
      "text/plain": []
     },
     "metadata": {},
     "output_type": "display_data"
    }
   ],
   "source": [
    "%authenticate"
   ]
  },
  {
   "cell_type": "code",
   "execution_count": null,
   "metadata": {
    "jukit_cell_id": "1sXw3fhOc3"
   },
   "outputs": [
    {
     "name": "stdout",
     "output_type": "stream",
     "text": [
      "Requesting runtime=hpc_cpu...\n",
      "[expanse:shared, 60 Minutes, 1 Node(s), 24 CPU(s), 0 GPU(s), 48000 MB RAM, 0 MB VRAM]\n",
      "* modules=[]\n",
      "* libraries=['numpy=2.2.5', 'pandas=2.2.3', 'pip', 'psycopg2=2.9.9', 'postgresql=17.4', 'pytest', 'python=3.10', 'psi4=1.9.1', 'pytorch-cpu=2.5.1', 'jupyter=1.1.1', 'requests', 'setuptools', 'torchaudio=2.5.1', 'torchvision=0.20.1', 'pytorch_geometric=2.6.1', 'pytorch_scatter=2.1.2=cpu*', 'pytorch-minimize=0.0.2', 'matplotlib=3.10.1', 'pydantic=1', 'scipy=1.15.*', 'tqdm']\n",
      "* pip=['cdsg-tools==0.0.2', 'qm-tools-aw==1.4.5', 'qcmlforge==0.0.6', 'qcfractal==0.59', 'qcmanybody', 'qcfractalcompute==0.59']\n",
      "* mounts=[]\n"
     ]
    },
    {
     "name": "stdout",
     "output_type": "stream",
     "text": [
      "Requested runtime=hpc_cpu\n"
     ]
    },
    {
     "data": {
      "application/vnd.jupyter.widget-view+json": {
       "model_id": "d4de0c893ce24d18b7b4d2798ec6a17a",
       "version_major": 2,
       "version_minor": 0
      },
      "text/plain": [
       "Output()"
      ]
     },
     "metadata": {},
     "output_type": "display_data"
    },
    {
     "data": {
      "text/html": [
       "<pre style=\"white-space:pre;overflow-x:auto;line-height:normal;font-family:Menlo,'DejaVu Sans Mono',consolas,'Courier New',monospace\"></pre>\n"
      ],
      "text/plain": []
     },
     "metadata": {},
     "output_type": "display_data"
    },
    {
     "name": "stdout",
     "output_type": "stream",
     "text": [
      "Switched to runtime=hpc_cpu.\n"
     ]
    }
   ],
   "source": [
    "%request_runtime hpc_cpu --file=cybershuttle.yml --walltime=60 --use=expanse:shared\n",
    "%wait_for_runtime hpc_cpu\n",
    "%switch_runtime hpc_cpu"
   ]
  },
  {
   "cell_type": "code",
   "execution_count": 11,
   "metadata": {},
   "outputs": [
    {
     "name": "stdout",
     "output_type": "stream",
     "text": [
      "Copying from local:setup_qcfractal.py to hpc_cpu:setup_qcfractal.py\n",
      "local:/home/awallace43/gits/cybershuttle_demo/setup_qcfractal.py --> hpc_cpu:setup_qcfractal.py... [200]\n",
      "Copying from local:__init__.py to hpc_cpu:__init__.py\n",
      "local:/home/awallace43/gits/cybershuttle_demo/__init__.py --> hpc_cpu:__init__.py... [200]\n",
      "Copying from local:combined_df_subset_358.pkl to hpc_cpu:combined_df_subset_358.pkl\n",
      "local:/home/awallace43/gits/cybershuttle_demo/combined_df_subset_358.pkl --> hpc_cpu:combined_df_subset_358.pkl... [200]\n",
      "apnet2_transfer_learning.pt  demo_local.ipynb  __init__.py  s22.py\n",
      "combined_df_subset_358.pkl   demo_og.py        LICENSE      setup_qcfractal.py\n",
      "cybershuttle.yml             demo.py           main.py\n",
      "demo.html                    environment.yml   notes.md\n",
      "demo.ipynb                   \u001b[0m\u001b[01;34mexample_plots\u001b[0m/    README.md\n"
     ]
    }
   ],
   "source": [
    "%copy_data source=local:setup_qcfractal.py target=hpc_cpu:setup_qcfractal.py\n",
    "%copy_data source=local:__init__.py target=hpc_cpu:__init__.py\n",
    "%copy_data source=local:combined_df_subset_358.pkl target=hpc_cpu:combined_df_subset_358.pkl\n",
    "%ls"
   ]
  },
  {
   "cell_type": "code",
   "execution_count": null,
   "metadata": {},
   "outputs": [
    {
     "name": "stdout",
     "output_type": "stream",
     "text": [
      "\u001b[2K\u001b[32m⠧\u001b[0m Connecting to=hpc_cpu... status=CONNECTED\n",
      "\u001b[1A\u001b[2Ktotal 19525\n",
      "-rw-r--r-- 1 gridchem uic151       29 May  5 10:27 A447103629\n",
      "-rw-r--r-- 1 gridchem uic151    79955 May  5 11:02 AiravataAgent.stderr\n",
      "-rw-r--r-- 1 gridchem uic151    14014 May  5 11:02 AiravataAgent.stdout\n",
      "drwxr-xr-x 2 gridchem uic151    57344 May  5 10:58 __init__.py\n",
      "-rwxr-xr-x 1 gridchem uic151 17640299 May  2 02:31 airavata-agent\n",
      "lrwxrwxrwx 1 gridchem uic151       39 May  5 10:27 application -> /home/gridchem/cybershuttle/application\n",
      "drwxr-xr-x 2 gridchem uic151    57344 May  5 10:59 combined_df_subset_358.pkl\n",
      "-rw-r--r-- 1 gridchem uic151     1851 May  5 10:27 job_685473831.slurm\n",
      "-rw-r--r-- 1 gridchem uic151     4137 May  2 02:32 kernel.py\n",
      "-rwxr-xr-x 1 gridchem uic151 16371024 Apr  9 05:04 micromamba\n",
      "drwxr-xr-x 2 gridchem uic151    57344 May  5 10:58 setup_qcfractal.py\n",
      "cat: __init__.py: Is a directory\n",
      "cat: setup_qcfractal.py: Is a directory\n",
      "/home/gridchem/cybershuttle/workspace/uic151/PROCESS_173a7907-87bc-4bd7-9123-844fe949b5ef\n",
      "/bin/bash: line 0: cd: /workspace: No such file or directory\n",
      "/home/gridchem/cybershuttle/workspace/uic151/PROCESS_173a7907-87bc-4bd7-9123-844fe949b5ef\n"
     ]
    }
   ],
   "source": [
    "!ls -l\n",
    "!cat __init__.py\n",
    "!cat setup_qcfractal.py\n",
    "!pwd"
   ]
  },
  {
   "cell_type": "code",
   "execution_count": 6,
   "metadata": {
    "jukit_cell_id": "sb2BSlStsm"
   },
   "outputs": [
    {
     "name": "stdout",
     "output_type": "stream",
     "text": [
      "\u001b[2K\u001b[32m⠇\u001b[0m Connecting to=hpc_cpu... status=CONNECTED\n",
      "\u001b[1A\u001b[2KImports\n"
     ]
    }
   ],
   "source": [
    "import psi4\n",
    "from pprint import pprint as pp\n",
    "import pandas as pd\n",
    "import numpy as np\n",
    "from qm_tools_aw import tools\n",
    "import matplotlib.pyplot as plt\n",
    "# QCElemental Imports\n",
    "from qcelemental.models import Molecule\n",
    "import qcelemental as qcel\n",
    "# Dataset Imports\n",
    "from qcportal import PortalClient\n",
    "from qcportal.singlepoint import SinglepointDatasetEntry, QCSpecification\n",
    "from qcportal.manybody import ManybodyDatasetEntry, ManybodySpecification\n",
    "from torch import manual_seed\n",
    "\n",
    "manual_seed(42)\n",
    "\n",
    "h2kcalmol = qcel.constants.hartree2kcalmol\n",
    "print('Imports')"
   ]
  },
  {
   "cell_type": "markdown",
   "metadata": {
    "jukit_cell_id": "78H3oHPXBB"
   },
   "source": [
    "# QCArchive Setup\n",
    "QCArchive uses a PostgreSQL database for storing QM data including geometries,\n",
    "energies, and properties. Furthermore, to save on compute resources, every job\n",
    "generates a unique hash allowing future computations to be able to query previous\n",
    "job results for avoiding re-computing calculations, unless specifically requested.\n",
    "\n",
    "The following function initializes the QCArchive DB and QCFractal server, allowing\n",
    "us to then start the services for interfacing them through python. The configurations\n",
    "below will operate on a remote node through cybershuttle."
   ]
  },
  {
   "cell_type": "code",
   "execution_count": 19,
   "metadata": {
    "jukit_cell_id": "BVc6W6uOta"
   },
   "outputs": [
    {
     "name": "stdout",
     "output_type": "stream",
     "text": [
      "\u001b[2K\u001b[32m⠇\u001b[0m Connecting to=hpc_cpu... status=CONNECTED\n",
      "\u001b[1A\u001b[2K"
     ]
    },
    {
     "data": {
      "text/html": [
       "\n",
       "                <div style=\"\n",
       "                    color: #a71d5d;\n",
       "                    background-color: #fdd;\n",
       "                    border: 1px solid #a71d5d;\n",
       "                    padding: 5px;\n",
       "                    border-radius: 5px;\n",
       "                    font-family: Consolas, 'Courier New', monospace;\n",
       "                \">\n",
       "                    <pre><strong>ImportError: attempted relative import with no known parent package</strong>\n",
       "                ---------------------------------------------------------------------------\n",
       "ImportError                               Traceback (most recent call last)\n",
       "Cell In[29], line 1\n",
       "----> 1 from .setup_qcfractal import setup_qcarchive_qcfractal\n",
       "      2 import os\n",
       "      4 # Update these if you request non-default resources from cybershuttle.yml\n",
       "\n",
       "ImportError: attempted relative import with no known parent package\n",
       "</pre></div>"
      ],
      "text/plain": [
       "<IPython.core.display.HTML object>"
      ]
     },
     "metadata": {},
     "output_type": "display_data"
    }
   ],
   "source": [
    "from .setup_qcfractal import setup_qcarchive_qcfractal\n",
    "import os\n",
    "\n",
    "# Update these if you request non-default resources from cybershuttle.yml\n",
    "max_workers = 3\n",
    "cores_per_worker = 8\n",
    "memory_per_worker = 16\n",
    "\n",
    "setup_qcarchive_qcfractal(\n",
    "    QCF_BASE_FOLDER=os.path.join(os.getcwd(), \"qcfractal\"),\n",
    "    start=False,\n",
    "    reset=False,\n",
    "    db_config={\n",
    "        \"name\": None,\n",
    "        \"enable_security\": \"false\",\n",
    "        \"allow_unauthenticated_read\": None,\n",
    "        \"logfile\": None,\n",
    "        \"loglevel\": None,\n",
    "        \"service_frequency\": 5,\n",
    "        \"max_active_services\": None,\n",
    "        \"heartbeat_frequency\": 60,\n",
    "        \"log_access\": None,\n",
    "        \"database\": {\n",
    "            \"base_folder\": None,\n",
    "            \"host\": None,\n",
    "            \"port\": 5433,\n",
    "            \"database_name\": \"qca\",\n",
    "            \"username\": None,\n",
    "            \"password\": None,\n",
    "            \"own\": None,\n",
    "        },\n",
    "        \"api\": {\n",
    "            \"host\": None,\n",
    "            \"port\": 7778,\n",
    "            \"secret_key\": None,\n",
    "            \"jwt_secret_key\": None,\n",
    "        },\n",
    "    },\n",
    "    resources_config={\n",
    "            \"update_frequency\": 5,\n",
    "            \"cores_per_worker\": cores_per_worker,\n",
    "            \"max_workers\": max_workers,\n",
    "            \"memory_per_worker\": memory_per_worker,\n",
    "    },\n",
    "    conda_env=None,\n",
    "    worker_sh=None,\n",
    ")"
   ]
  },
  {
   "cell_type": "code",
   "execution_count": null,
   "metadata": {
    "jukit_cell_id": "CwEhpqwLXX"
   },
   "outputs": [],
   "source": [
    "get_ipython().system = os.system\n",
    "!qcfractal-server --config=`pwd`/qcfractal/qcfractal_config.yaml start > qcfractal/qcf_server.log &"
   ]
  },
  {
   "cell_type": "code",
   "execution_count": null,
   "metadata": {
    "jukit_cell_id": "3HjtiyIuFg"
   },
   "outputs": [
    {
     "name": "stdout",
     "output_type": "stream",
     "text": [
      "\u001b[2K\u001b[32m⠹\u001b[0m Connecting to=hpc_cpu.....\n",
      "\u001b[1A\u001b[2K"
     ]
    },
    {
     "ename": "InvalidStateError",
     "evalue": "Runtime=hpc_cpu is in state=EXPERIMENT_COMPLETED\nprocess  completed\n\nSTDOUT:\nCS_HOME=/home/gridchem/cybershuttle\nAGENT=agent_4b90d99e-04a5-4707-ac60-72cb2f64034e\nSERVER=api.gateway.cybershuttle.org\nCONTAINER=remote-agent-base.sif\nLIBRARIES=numpy=2.2.5,pandas=2.2.3,pip,psycopg2=2.9.9,postgresql=17.4,pytest,python=3.10,psi4=1.9.1,pytorch-cpu=2.5.1,jupyter=1.1.1,requests,setuptools,torchaudio=2.5.1,torchvision=0.20.1,pytorch_geometric=2.6.1,pytorch_scatter=2.1.2=cpu*,pytorch-minimize=0.0.2,matplotlib=3.10.1,pydantic=1,scipy=1.15.*,tqdm\nPIP=cdsg-tools==0.0.2,qm-tools-aw==1.4.5,qcmlforge==0.0.6,qcfractal==0.59,qcmanybody,qcfractalcompute==0.59\nMOUNTS=\n\n\nTransaction\n\n  Prefix: /dev/shm/cybershuttle/envs/18dccede\n\n  Updating specs:\n\n   - numpy=2.2.5\n   - pandas=2.2.3\n   - pip\n   - psycopg2=2.9.9\n   - postgresql=17.4\n   - pytest\n   - python=3.10\n   - psi4=1.9.1\n   - pytorch-cpu=2.5.1\n   - jupyter=1.1.1\n   - requests\n   - setuptools\n   - torchaudio=2.5.1\n   - torchvision=0.20.1\n   - pytorch_geometric=2.6.1\n   - pytorch_scatter[version=\"=2.1.2\",build=\"cpu*\"]\n   - pytorch-minimize=0.0.2\n   - matplotlib=3.10.1\n   - pydantic=1\n   - scipy=1.15\n   - tqdm\n   - python<3.12\n   - ipykernel\n   - git\n   - flask\n   - jupyter_client\n\n\n  Package                                 Version  Build                       Channel           Size\n───────────────────────────────────────────────────────────────────────────────────────────────────────\n  Install:\n───────────────────────────────────────────────────────────────────────────────────────────────────────\n\n  + _openmp_mutex                             4.5  3_kmp_llvm                  conda-forge     Cached\n  + aiohappyeyeballs                        2.6.1  pyhd8ed1ab_0                conda-forge     Cached\n  + aiohttp                               3.11.18  py310h89163eb_0             conda-forge     Cached\n  + aiosignal                               1.3.2  pyhd8ed1ab_0                conda-forge     Cached\n  + alsa-lib                               1.2.14  hb9d3cd8_0                  conda-forge     Cached\n  + anyio                                   4.9.0  pyh29332c3_0                conda-forge     Cached\n  + aom                                     3.9.1  hac33072_0                  conda-forge     Cached\n  + argon2-cffi                            23.1.0  pyhd8ed1ab_1                conda-forge       19kB\n  + argon2-cffi-bindings                   21.2.0  py310ha75aee5_5             conda-forge       34kB\n  + arrow                                   1.3.0  pyhd8ed1ab_1                conda-forge      100kB\n  + asttokens                               3.0.0  pyhd8ed1ab_1                conda-forge     Cached\n  + async-lru                               2.0.5  pyh29332c3_0                conda-forge       17kB\n  + async-timeout                           5.0.1  pyhd8ed1ab_1                conda-forge     Cached\n  + attrs                                  25.3.0  pyh71513ae_0                conda-forge     Cached\n  + babel                                  2.17.0  pyhd8ed1ab_0                conda-forge        7MB\n  + beautifulsoup4                         4.13.4  pyha770c72_0                conda-forge      147kB\n  + bleach                                  6.2.0  pyh29332c3_4                conda-forge      141kB\n  + bleach-with-css                         6.2.0  h82add2a_4                  conda-forge        4kB\n  + blinker                                 1.9.0  pyhff2d567_0                conda-forge     Cached\n  + brotli                                  1.1.0  hb9d3cd8_2                  conda-forge     Cached\n  + brotli-bin                              1.1.0  hb9d3cd8_2                  conda-forge     Cached\n  + brotli-python                           1.1.0  py310hf71b8c6_2             conda-forge     Cached\n  + bzip2                                   1.0.8  h4bc722e_7                  conda-forge     Cached\n  + c-ares                                 1.34.5  hb9d3cd8_0                  conda-forge     Cached\n  + ca-certificates                     2025.4.26  hbd8a1cb_0                  conda-forge     Cached\n  + cached-property                         1.5.2  hd8ed1ab_1                  conda-forge     Cached\n  + cached_property                         1.5.2  pyha770c72_1                conda-forge     Cached\n  + cairo                                  1.18.4  h3394656_0                  conda-forge     Cached\n  + certifi                             2025.1.31  pyhd8ed1ab_0                conda-forge     Cached\n  + cffi                                   1.17.1  py310h8deb56e_0             conda-forge     Cached\n  + charset-normalizer                      3.4.2  pyhd8ed1ab_0                conda-forge     Cached\n  + click                                   8.1.8  pyh707e725_0                conda-forge     Cached\n  + colorama                                0.4.6  pyhd8ed1ab_1                conda-forge     Cached\n  + comm                                    0.2.2  pyhd8ed1ab_1                conda-forge     Cached\n  + contourpy                               1.3.2  py310h3788b33_0             conda-forge     Cached\n  + cpython                               3.10.17  py310hd8ed1ab_0             conda-forge     Cached\n  + cudatoolkit                            11.8.0  h4ba93d1_13                 conda-forge     Cached\n  + cycler                                 0.12.1  pyhd8ed1ab_1                conda-forge     Cached\n  + cyrus-sasl                             2.1.27  h54b06d7_7                  conda-forge     Cached\n  + dav1d                                   1.2.1  hd590300_0                  conda-forge     Cached\n  + dbus                                   1.13.6  h5008d03_3                  conda-forge     Cached\n  + debugpy                                1.8.14  py310hf71b8c6_0             conda-forge     Cached\n  + decorator                               5.2.1  pyhd8ed1ab_0                conda-forge     Cached\n  + defusedxml                              0.7.1  pyhd8ed1ab_0                conda-forge       24kB\n  + dkh                                       1.2  ha94c79b_3                  conda-forge       65kB\n  + double-conversion                       3.3.1  h5888daf_0                  conda-forge     Cached\n  + exceptiongroup                          1.2.2  pyhd8ed1ab_1                conda-forge     Cached\n  + executing                               2.2.0  pyhd8ed1ab_0                conda-forge     Cached\n  + expat                                   2.7.0  h5888daf_0                  conda-forge     Cached\n  + filelock                               3.18.0  pyhd8ed1ab_0                conda-forge     Cached\n  + flask                                   3.1.0  pyhd8ed1ab_1                conda-forge     Cached\n  + flexcache                                 0.3  pyhd8ed1ab_1                conda-forge       17kB\n  + flexparser                                0.4  pyhd8ed1ab_1                conda-forge       29kB\n  + font-ttf-dejavu-sans-mono                2.37  hab24e00_0                  conda-forge     Cached\n  + font-ttf-inconsolata                    3.000  h77eed37_0                  conda-forge     Cached\n  + font-ttf-source-code-pro                2.038  h77eed37_0                  conda-forge     Cached\n  + font-ttf-ubuntu                          0.83  h77eed37_3                  conda-forge     Cached\n  + fontconfig                             2.15.0  h7e30c49_1                  conda-forge     Cached\n  + fonts-conda-ecosystem                       1  0                           conda-forge     Cached\n  + fonts-conda-forge                           1  0                           conda-forge     Cached\n  + fonttools                              4.57.0  py310h89163eb_0             conda-forge     Cached\n  + fqdn                                    1.5.1  pyhd8ed1ab_1                conda-forge       17kB\n  + freetype                               2.13.3  ha770c72_1                  conda-forge     Cached\n  + frozenlist                              1.5.0  py310h89163eb_1             conda-forge     Cached\n  + fsspec                               2025.3.2  pyhd8ed1ab_0                conda-forge     Cached\n  + gau2grid                                2.0.7  h4bc722e_4                  conda-forge      387kB\n  + giflib                                  5.2.2  hd590300_0                  conda-forge     Cached\n  + git                                    2.49.0  pl5321h59d505e_0            conda-forge     Cached\n  + gmp                                     6.3.0  hac33072_2                  conda-forge     Cached\n  + gmpy2                                   2.2.1  py310he8512ff_0             conda-forge     Cached\n  + graphite2                              1.3.13  h59595ed_1003               conda-forge     Cached\n  + h11                                    0.16.0  pyhd8ed1ab_0                conda-forge     Cached\n  + h2                                      4.2.0  pyhd8ed1ab_0                conda-forge     Cached\n  + harfbuzz                               11.1.0  h3beb420_0                  conda-forge     Cached\n  + hpack                                   4.1.0  pyhd8ed1ab_0                conda-forge     Cached\n  + httpcore                                1.0.9  pyh29332c3_0                conda-forge     Cached\n  + httpx                                  0.28.1  pyhd8ed1ab_0                conda-forge     Cached\n  + hyperframe                              6.1.0  pyhd8ed1ab_0                conda-forge     Cached\n  + icu                                      75.1  he02047a_0                  conda-forge     Cached\n  + idna                                     3.10  pyhd8ed1ab_1                conda-forge     Cached\n  + importlib-metadata                      8.6.1  pyha770c72_0                conda-forge     Cached\n  + importlib_resources                     6.5.2  pyhd8ed1ab_0                conda-forge     Cached\n  + iniconfig                               2.0.0  pyhd8ed1ab_1                conda-forge       11kB\n  + ipykernel                              6.29.5  pyh3099207_0                conda-forge     Cached\n  + ipython                                8.36.0  pyh907856f_0                conda-forge     Cached\n  + ipywidgets                              8.1.7  pyhd8ed1ab_0                conda-forge      115kB\n  + isoduration                           20.11.0  pyhd8ed1ab_1                conda-forge       20kB\n  + itsdangerous                            2.2.0  pyhd8ed1ab_1                conda-forge     Cached\n  + jedi                                   0.19.2  pyhd8ed1ab_1                conda-forge     Cached\n  + jinja2                                  3.1.6  pyhd8ed1ab_0                conda-forge     Cached\n  + json5                                  0.12.0  pyhd8ed1ab_0                conda-forge       34kB\n  + jsonpointer                             3.0.0  py310hff52083_1             conda-forge       16kB\n  + jsonschema                             4.23.0  pyhd8ed1ab_1                conda-forge     Cached\n  + jsonschema-specifications            2025.4.1  pyh29332c3_0                conda-forge     Cached\n  + jsonschema-with-format-nongpl          4.23.0  hd8ed1ab_1                  conda-forge        7kB\n  + jupyter                                 1.1.1  pyhd8ed1ab_1                conda-forge        9kB\n  + jupyter-lsp                             2.2.5  pyhd8ed1ab_1                conda-forge       55kB\n  + jupyter_client                          8.6.3  pyhd8ed1ab_1                conda-forge     Cached\n  + jupyter_console                         6.6.3  pyhd8ed1ab_1                conda-forge       27kB\n  + jupyter_core                            5.7.2  pyh31011fe_1                conda-forge     Cached\n  + jupyter_events                         0.12.0  pyh29332c3_0                conda-forge       24kB\n  + jupyter_server                         2.15.0  pyhd8ed1ab_0                conda-forge      328kB\n  + jupyter_server_terminals                0.5.3  pyhd8ed1ab_1                conda-forge       20kB\n  + jupyterlab                              4.4.1  pyhd8ed1ab_0                conda-forge        8MB\n  + jupyterlab_pygments                     0.3.0  pyhd8ed1ab_2                conda-forge       19kB\n  + jupyterlab_server                      2.27.3  pyhd8ed1ab_1                conda-forge       49kB\n  + jupyterlab_widgets                     3.0.15  pyhd8ed1ab_0                conda-forge      189kB\n  + kaldi                                5.5.1112  cpu_hb028f0a_8              conda-forge       21MB\n  + kernel-headers_linux-64                3.10.0  he073ed8_18                 conda-forge     Cached\n  + keyutils                                1.6.1  h166bdaf_0                  conda-forge     Cached\n  + kiwisolver                              1.4.7  py310h3788b33_0             conda-forge     Cached\n  + krb5                                   1.21.3  h659f571_0                  conda-forge     Cached\n  + lcms2                                    2.17  h717163a_0                  conda-forge     Cached\n  + ld_impl_linux-64                         2.43  h712a8e2_4                  conda-forge     Cached\n  + lerc                                    4.0.0  h0aef613_1                  conda-forge     Cached\n  + libabseil                          20250127.1  cxx17_hbbce691_0            conda-forge     Cached\n  + libavif16                               1.2.1  hbb36593_2                  conda-forge     Cached\n  + libblas                                 3.9.0  31_hfdb39a5_mkl             conda-forge     Cached\n  + libbrotlicommon                         1.1.0  hb9d3cd8_2                  conda-forge     Cached\n  + libbrotlidec                            1.1.0  hb9d3cd8_2                  conda-forge     Cached\n  + libbrotlienc                            1.1.0  hb9d3cd8_2                  conda-forge     Cached\n  + libcblas                                3.9.0  31_h372d94f_mkl             conda-forge     Cached\n  + libclang-cpp20.1                       20.1.4  default_h1df26ce_0          conda-forge     Cached\n  + libclang13                             20.1.4  default_he06ed0a_0          conda-forge     Cached\n  + libcups                                 2.3.3  h4637d8d_4                  conda-forge     Cached\n  + libcurl                                8.13.0  h332b0f4_0                  conda-forge     Cached\n  + libde265                               1.0.15  h00ab1b0_0                  conda-forge      412kB\n  + libdeflate                               1.23  h86f0d12_0                  conda-forge     Cached\n  + libdrm                                2.4.124  hb9d3cd8_0                  conda-forge     Cached\n  + libecpint                               1.0.7  h981d57b_12                 conda-forge      359kB\n  + libedit                          3.1.20250104  pl5321h7949ede_0            conda-forge     Cached\n  + libegl                                  1.7.0  ha4b6fd6_2                  conda-forge     Cached\n  + libev                                    4.33  hd590300_2                  conda-forge     Cached\n  + libexpat                                2.7.0  h5888daf_0                  conda-forge     Cached\n  + libffi                                  3.4.6  h2dba641_1                  conda-forge     Cached\n  + libfreetype                            2.13.3  ha770c72_1                  conda-forge     Cached\n  + libfreetype6                           2.13.3  h48d6fc4_1                  conda-forge     Cached\n  + libgcc                                 14.2.0  h767d61c_2                  conda-forge     Cached\n  + libgcc-ng                              14.2.0  h69a702a_2                  conda-forge     Cached\n  + libgfortran                            14.2.0  h69a702a_2                  conda-forge     Cached\n  + libgfortran5                           14.2.0  hf1ad2bd_2                  conda-forge     Cached\n  + libgl                                   1.7.0  ha4b6fd6_2                  conda-forge     Cached\n  + libglib                                2.84.1  h2ff4ddf_0                  conda-forge     Cached\n  + libglvnd                                1.7.0  ha4b6fd6_2                  conda-forge     Cached\n  + libglx                                  1.7.0  ha4b6fd6_2                  conda-forge     Cached\n  + libheif                                1.19.7  gpl_hc18d805_100            conda-forge      597kB\n  + libhwloc                               2.11.2  default_h0d58e46_1001       conda-forge     Cached\n  + libiconv                                 1.18  h4ce23a2_1                  conda-forge     Cached\n  + libint                                  2.9.0  h23769fb_2                  conda-forge       76MB\n  + libjpeg-turbo                           3.1.0  hb9d3cd8_0                  conda-forge     Cached\n  + liblapack                               3.9.0  31_hc41d3b0_mkl             conda-forge     Cached\n  + liblapacke                              3.9.0  31_hbc6e62b_mkl             conda-forge       17kB\n  + libllvm20                              20.1.4  he9d0ab4_0                  conda-forge     Cached\n  + liblzma                                 5.8.1  hb9d3cd8_0                  conda-forge     Cached\n  + libnghttp2                             1.64.0  h161d5f1_0                  conda-forge     Cached\n  + libnsl                                  2.0.1  hd590300_0                  conda-forge     Cached\n  + libntlm                                   1.8  hb9d3cd8_0                  conda-forge     Cached\n  + libopengl                               1.7.0  ha4b6fd6_2                  conda-forge       51kB\n  + libpciaccess                             0.18  hd590300_0                  conda-forge     Cached\n  + libpcm                                  1.2.3  hdca9e5a_15                 conda-forge      571kB\n  + libpng                                 1.6.47  h943b412_0                  conda-forge     Cached\n  + libpq                                    17.4  h27ae623_1                  conda-forge     Cached\n  + libprotobuf                            5.29.3  h501fc15_1                  conda-forge     Cached\n  + libsodium                              1.0.20  h4ab18f5_0                  conda-forge     Cached\n  + libsqlite                              3.49.1  hee588c1_2                  conda-forge     Cached\n  + libssh2                                1.11.1  hcf80075_0                  conda-forge     Cached\n  + libstdcxx                              14.2.0  h8f9b012_2                  conda-forge     Cached\n  + libstdcxx-ng                           14.2.0  h4852527_2                  conda-forge     Cached\n  + libtiff                                 4.7.0  hd9ff511_4                  conda-forge     Cached\n  + libtorch                                2.5.1  cpu_mkl_hf6ddc5a_117        conda-forge       54MB\n  + libuuid                                2.38.1  h0b41bf4_0                  conda-forge     Cached\n  + libuv                                  1.50.0  hb9d3cd8_0                  conda-forge     Cached\n  + libwebp-base                            1.5.0  h851e524_0                  conda-forge     Cached\n  + libxc-c                                 7.0.0  cpu_h20a523f_2              conda-forge       59MB\n  + libxcb                                 1.17.0  h8a09558_0                  conda-forge     Cached\n  + libxcrypt                              4.4.36  hd590300_1                  conda-forge     Cached\n  + libxkbcommon                            1.9.1  h65c71a3_0                  conda-forge     Cached\n  + libxml2                                2.13.7  h4bc477f_1                  conda-forge     Cached\n  + libxslt                                1.1.39  h76b75d6_0                  conda-forge     Cached\n  + libzlib                                 1.3.1  hb9d3cd8_2                  conda-forge     Cached\n  + llvm-openmp                            20.1.4  h024ca30_0                  conda-forge     Cached\n  + lz4-c                                  1.10.0  h5888daf_1                  conda-forge     Cached\n  + markupsafe                              3.0.2  py310h89163eb_1             conda-forge     Cached\n  + matplotlib                             3.10.1  py310hff52083_0             conda-forge       17kB\n  + matplotlib-base                        3.10.1  py310h68603db_0             conda-forge     Cached\n  + matplotlib-inline                       0.1.7  pyhd8ed1ab_1                conda-forge     Cached\n  + mistune                                 3.1.3  pyh29332c3_0                conda-forge       73kB\n  + mkl                                  2024.2.2  ha957f24_16                 conda-forge     Cached\n  + mpc                                     1.3.1  h24ddda3_1                  conda-forge     Cached\n  + mpfr                                    4.2.1  h90cbb55_3                  conda-forge     Cached\n  + mpmath                                  1.3.0  pyhd8ed1ab_1                conda-forge     Cached\n  + msgpack-python                          1.1.0  py310h3788b33_0             conda-forge     Cached\n  + multidict                               6.4.3  py310h89163eb_0             conda-forge     Cached\n  + munkres                                 1.1.4  pyh9f0ad1d_0                conda-forge     Cached\n  + mysql-common                            9.2.0  h266115a_0                  conda-forge     Cached\n  + mysql-libs                              9.2.0  he0572af_0                  conda-forge     Cached\n  + nbclient                               0.10.2  pyhd8ed1ab_0                conda-forge       28kB\n  + nbconvert-core                         7.16.6  pyh29332c3_0                conda-forge      201kB\n  + nbformat                               5.10.4  pyhd8ed1ab_1                conda-forge      101kB\n  + ncurses                                   6.5  h2d0b736_3                  conda-forge     Cached\n  + nest-asyncio                            1.6.0  pyhd8ed1ab_1                conda-forge     Cached\n  + networkx                                3.4.2  pyh267e887_2                conda-forge     Cached\n  + notebook                                7.4.1  pyhd8ed1ab_0                conda-forge       10MB\n  + notebook-shim                           0.2.4  pyhd8ed1ab_1                conda-forge       17kB\n  + numpy                                   2.2.5  py310hefbff90_0             conda-forge     Cached\n  + openfst                                 1.8.3  h84d6215_3                  conda-forge     Cached\n  + openjpeg                                2.5.3  h5fbd93e_0                  conda-forge     Cached\n  + openldap                                2.6.9  he970967_0                  conda-forge     Cached\n  + openssl                                 3.5.0  h7b32b05_1                  conda-forge     Cached\n  + optking                                 0.3.0  pyhd8ed1ab_0                conda-forge      143kB\n  + overrides                               7.7.0  pyhd8ed1ab_1                conda-forge       30kB\n  + packaging                                25.0  pyh29332c3_1                conda-forge     Cached\n  + pandas                                  2.2.3  py310h5eaa309_3             conda-forge     Cached\n  + pandocfilters                           1.5.0  pyhd8ed1ab_0                conda-forge       12kB\n  + parso                                   0.8.4  pyhd8ed1ab_1                conda-forge     Cached\n  + pcmsolver                               1.2.3  py_15                       conda-forge      100kB\n  + pcre2                                   10.44  hc749103_2                  conda-forge     Cached\n  + perl                                   5.32.1  7_hd590300_perl5            conda-forge     Cached\n  + pexpect                                 4.9.0  pyhd8ed1ab_1                conda-forge     Cached\n  + pickleshare                             0.7.5  pyhd8ed1ab_1004             conda-forge     Cached\n  + pillow                                 11.1.0  py310h7e6dc6c_0             conda-forge     Cached\n  + pint                                   0.24.4  pyhd8ed1ab_1                conda-forge      230kB\n  + pip                                    25.1.1  pyh8b19718_0                conda-forge     Cached\n  + pixman                                 0.46.0  h29eaf8c_0                  conda-forge     Cached\n  + pkgutil-resolve-name                   1.3.10  pyhd8ed1ab_2                conda-forge     Cached\n  + platformdirs                            4.3.7  pyh29332c3_0                conda-forge     Cached\n  + pluggy                                  1.5.0  pyhd8ed1ab_1                conda-forge       24kB\n  + postgresql                               17.4  h9e3fa73_1                  conda-forge        6MB\n  + prometheus_client                      0.21.1  pyhd8ed1ab_0                conda-forge       49kB\n  + prompt-toolkit                         3.0.51  pyha770c72_0                conda-forge     Cached\n  + prompt_toolkit                         3.0.51  hd8ed1ab_0                  conda-forge        7kB\n  + propcache                               0.3.1  py310h89163eb_0             conda-forge     Cached\n  + psi4                                    1.9.1  py310hb6a4943_10            conda-forge       29MB\n  + psutil                                  7.0.0  py310ha75aee5_0             conda-forge     Cached\n  + psycopg2                                2.9.9  py310hce86986_2             conda-forge      174kB\n  + pthread-stubs                             0.4  hb9d3cd8_1002               conda-forge     Cached\n  + ptyprocess                              0.7.0  pyhd8ed1ab_1                conda-forge     Cached\n  + pugixml                                  1.15  h3f63f65_0                  conda-forge     Cached\n  + pure_eval                               0.2.3  pyhd8ed1ab_1                conda-forge     Cached\n  + py-cpuinfo                              9.0.0  pyhd8ed1ab_1                conda-forge       26kB\n  + pybind11                               2.13.6  pyh1ec8472_2                conda-forge     Cached\n  + pybind11-abi                                4  hd8ed1ab_3                  conda-forge       10kB\n  + pybind11-global                        2.13.6  pyh415d2e4_2                conda-forge     Cached\n  + pycparser                                2.22  pyh29332c3_1                conda-forge     Cached\n  + pydantic                              1.10.21  py310h727ffd4_0             conda-forge        2MB\n  + pygments                               2.19.1  pyhd8ed1ab_0                conda-forge     Cached\n  + pyparsing                               3.2.3  pyhd8ed1ab_1                conda-forge     Cached\n  + pyside6                                 6.9.0  py310hfd10a26_0             conda-forge       10MB\n  + pysocks                                 1.7.1  pyha55dd90_7                conda-forge     Cached\n  + pytest                                  8.3.5  pyhd8ed1ab_0                conda-forge      260kB\n  + python                                3.10.17  hd6af730_0_cpython          conda-forge     Cached\n  + python-dateutil                   2.9.0.post0  pyhff2d567_1                conda-forge     Cached\n  + python-fastjsonschema                  2.21.1  pyhd8ed1ab_0                conda-forge      226kB\n  + python-json-logger                      2.0.7  pyhd8ed1ab_0                conda-forge       13kB\n  + python-tzdata                          2025.2  pyhd8ed1ab_0                conda-forge     Cached\n  + python-wget                               3.2  py_0                        conda-forge     Cached\n  + python_abi                               3.10  7_cp310                     conda-forge     Cached\n  + pytorch                                 2.5.1  cpu_mkl_py310_h8ec2884_117  conda-forge       24MB\n  + pytorch-cpu                             2.5.1  cpu_mkl_hc60beec_117        conda-forge       51kB\n  + pytorch-minimize                        0.0.2  pyhd8ed1ab_1                conda-forge       49kB\n  + pytorch_geometric                       2.6.1  pyhecae5ae_2                conda-forge      598kB\n  + pytorch_scatter                         2.1.2  cpu_py310h4c4a1c3_10        conda-forge      260kB\n  + pytz                                   2025.2  pyhd8ed1ab_0                conda-forge     Cached\n  + pyyaml                                  6.0.2  py310h89163eb_2             conda-forge     Cached\n  + pyzmq                                  26.4.0  py310h71f11fc_0             conda-forge     Cached\n  + qcelemental                            0.29.0  pyhd8ed1ab_1                conda-forge      255kB\n  + qcengine                               0.32.0  pyhd8ed1ab_0                conda-forge      244kB\n  + qhull                                  2020.2  h434a139_5                  conda-forge     Cached\n  + qt6-main                                6.9.0  h6441bc3_1                  conda-forge       52MB\n  + rav1e                                   0.6.6  he8a937b_2                  conda-forge     Cached\n  + readline                                  8.2  h8c095d6_2                  conda-forge     Cached\n  + referencing                            0.36.2  pyh29332c3_0                conda-forge     Cached\n  + requests                               2.32.3  pyhd8ed1ab_1                conda-forge     Cached\n  + rfc3339-validator                       0.1.4  pyhd8ed1ab_1                conda-forge       10kB\n  + rfc3986-validator                       0.1.1  pyh9f0ad1d_0                conda-forge        8kB\n  + rpds-py                                0.24.0  py310hc1293b2_0             conda-forge     Cached\n  + scipy                                  1.15.2  py310h1d65ade_0             conda-forge     Cached\n  + send2trash                              1.8.3  pyh0d859eb_1                conda-forge       23kB\n  + setuptools                             75.8.2  pyhff2d567_0                conda-forge     Cached\n  + six                                    1.17.0  pyhd8ed1ab_0                conda-forge     Cached\n  + sleef                                     3.8  h1b44611_0                  conda-forge     Cached\n  + sniffio                                 1.3.1  pyhd8ed1ab_1                conda-forge     Cached\n  + soupsieve                                 2.5  pyhd8ed1ab_1                conda-forge       37kB\n  + stack_data                              0.6.3  pyhd8ed1ab_1                conda-forge     Cached\n  + svt-av1                                 3.0.2  h5888daf_0                  conda-forge     Cached\n  + sympy                                  1.14.0  pyh2585a3b_105              conda-forge     Cached\n  + sysroot_linux-64                         2.17  h0157908_18                 conda-forge     Cached\n  + tbb                                 2021.13.0  hceb3a55_1                  conda-forge     Cached\n  + terminado                              0.18.1  pyh0d859eb_0                conda-forge       22kB\n  + tinycss2                                1.4.0  pyhd8ed1ab_0                conda-forge       28kB\n  + tk                                     8.6.13  noxft_h4845f30_101          conda-forge     Cached\n  + tomli                                   2.2.1  pyhd8ed1ab_1                conda-forge       19kB\n  + torchaudio                              2.5.1  cpu_py310h845ff4e_1         conda-forge        5MB\n  + torchvision                            0.20.1  cpu_py310_he61ac84_6        conda-forge        1MB\n  + tornado                                 6.4.2  py310ha75aee5_0             conda-forge     Cached\n  + tqdm                                   4.67.1  pyhd8ed1ab_1                conda-forge     Cached\n  + traitlets                              5.14.3  pyhd8ed1ab_1                conda-forge     Cached\n  + types-python-dateutil          2.9.0.20241206  pyhd8ed1ab_0                conda-forge       22kB\n  + typing-extensions                      4.13.2  h0e9735f_0                  conda-forge     Cached\n  + typing_extensions                      4.13.2  pyh29332c3_0                conda-forge     Cached\n  + typing_utils                            0.1.0  pyhd8ed1ab_1                conda-forge       15kB\n  + tzcode                                  2025b  hb9d3cd8_0                  conda-forge       70kB\n  + tzdata                                  2025b  h78e105d_0                  conda-forge     Cached\n  + unicodedata2                           16.0.0  py310ha75aee5_0             conda-forge     Cached\n  + uri-template                            1.3.0  pyhd8ed1ab_1                conda-forge       24kB\n  + urllib3                                 2.4.0  pyhd8ed1ab_0                conda-forge     Cached\n  + wayland                                1.23.1  h3e06ad9_1                  conda-forge     Cached\n  + wcwidth                                0.2.13  pyhd8ed1ab_1                conda-forge     Cached\n  + webcolors                             24.11.1  pyhd8ed1ab_0                conda-forge       18kB\n  + webencodings                            0.5.1  pyhd8ed1ab_3                conda-forge       15kB\n  + websocket-client                        1.8.0  pyhd8ed1ab_1                conda-forge       47kB\n  + werkzeug                                3.1.3  pyhd8ed1ab_1                conda-forge     Cached\n  + wheel                                  0.45.1  pyhd8ed1ab_1                conda-forge     Cached\n  + widgetsnbextension                     4.0.14  pyhd8ed1ab_0                conda-forge      889kB\n  + x265                                      3.5  h924138e_3                  conda-forge        3MB\n  + xcb-util                                0.4.1  hb711507_2                  conda-forge     Cached\n  + xcb-util-cursor                         0.1.5  hb9d3cd8_0                  conda-forge     Cached\n  + xcb-util-image                          0.4.0  hb711507_2                  conda-forge     Cached\n  + xcb-util-keysyms                        0.4.1  hb711507_0                  conda-forge     Cached\n  + xcb-util-renderutil                    0.3.10  hb711507_0                  conda-forge     Cached\n  + xcb-util-wm                             0.4.2  hb711507_0                  conda-forge     Cached\n  + xkeyboard-config                         2.44  hb9d3cd8_0                  conda-forge     Cached\n  + xorg-libice                             1.1.2  hb9d3cd8_0                  conda-forge     Cached\n  + xorg-libsm                              1.2.6  he73a12e_0                  conda-forge     Cached\n  + xorg-libx11                            1.8.12  h4f16b4b_0                  conda-forge     Cached\n  + xorg-libxau                            1.0.12  hb9d3cd8_0                  conda-forge     Cached\n  + xorg-libxcomposite                      0.4.6  hb9d3cd8_2                  conda-forge     Cached\n  + xorg-libxcursor                         1.2.3  hb9d3cd8_0                  conda-forge     Cached\n  + xorg-libxdamage                         1.1.6  hb9d3cd8_0                  conda-forge     Cached\n  + xorg-libxdmcp                           1.1.5  hb9d3cd8_0                  conda-forge     Cached\n  + xorg-libxext                            1.3.6  hb9d3cd8_0                  conda-forge     Cached\n  + xorg-libxfixes                          6.0.1  hb9d3cd8_0                  conda-forge     Cached\n  + xorg-libxi                              1.8.2  hb9d3cd8_0                  conda-forge     Cached\n  + xorg-libxrandr                          1.5.4  hb9d3cd8_0                  conda-forge     Cached\n  + xorg-libxrender                        0.9.12  hb9d3cd8_0                  conda-forge     Cached\n  + xorg-libxtst                            1.2.5  hb9d3cd8_3                  conda-forge     Cached\n  + xorg-libxxf86vm                         1.1.6  hb9d3cd8_0                  conda-forge     Cached\n  + yaml                                    0.2.5  h7f98852_2                  conda-forge     Cached\n  + yarl                                   1.20.0  py310h89163eb_0             conda-forge     Cached\n  + zeromq                                  4.3.5  h3b0a872_7                  conda-forge     Cached\n  + zipp                                   3.21.0  pyhd8ed1ab_1                conda-forge     Cached\n  + zstandard                              0.23.0  py310ha75aee5_2             conda-forge     Cached\n  + zstd                                    1.5.7  hb8e6e7a_2                  conda-forge     Cached\n\n  Summary:\n\n  Install: 343 packages\n\n  Total download: 376MB\n\n───────────────────────────────────────────────────────────────────────────────────────────────────────\n\n\n\nTransaction starting\nLinking llvm-openmp-20.1.4-h024ca30_0\nLinking ld_impl_linux-64-2.43-h712a8e2_4\nLinking libglvnd-1.7.0-ha4b6fd6_2\nLinking _openmp_mutex-4.5-3_kmp_llvm\nLinking libopengl-1.7.0-ha4b6fd6_2\nLinking libegl-1.7.0-ha4b6fd6_2\nLinking libgcc-14.2.0-h767d61c_2\nLinking libdeflate-1.23-h86f0d12_0\nLinking alsa-lib-1.2.14-hb9d3cd8_0\nLinking c-ares-1.34.5-hb9d3cd8_0\nLinking xorg-libice-1.1.2-hb9d3cd8_0\nLinking libntlm-1.8-hb9d3cd8_0\nLinking libbrotlicommon-1.1.0-hb9d3cd8_2\nLinking xorg-libxdmcp-1.1.5-hb9d3cd8_0\nLinking xorg-libxau-1.0.12-hb9d3cd8_0\nLinking pthread-stubs-0.4-hb9d3cd8_1002\nLinking libiconv-1.18-h4ce23a2_1\nLinking tzcode-2025b-hb9d3cd8_0\nLinking libxc-c-7.0.0-cpu_h20a523f_2\nLinking ncurses-6.5-h2d0b736_3\nLinking libffi-3.4.6-h2dba641_1\nLinking libgfortran5-14.2.0-hf1ad2bd_2\nLinking libzlib-1.3.1-hb9d3cd8_2\nLinking libjpeg-turbo-3.1.0-hb9d3cd8_0\nLinking libstdcxx-14.2.0-h8f9b012_2\nLinking libgcc-ng-14.2.0-h69a702a_2\nLinking libwebp-base-1.5.0-h851e524_0\nLinking libuv-1.50.0-hb9d3cd8_0\nLinking liblzma-5.8.1-hb9d3cd8_0\nLinking libexpat-2.7.0-h5888daf_0\nLinking libbrotlienc-1.1.0-hb9d3cd8_2\nLinking libbrotlidec-1.1.0-hb9d3cd8_2\nLinking libxcb-1.17.0-h8a09558_0\nLinking libedit-3.1.20250104-pl5321h7949ede_0\nLinking readline-8.2-h8c095d6_2\nLinking libgfortran-14.2.0-h69a702a_2\nLinking libsqlite-3.49.1-hee588c1_2\nLinking libpng-1.6.47-h943b412_0\nLinking pixman-0.46.0-h29eaf8c_0\nLinking double-conversion-3.3.1-h5888daf_0\nLinking openfst-1.8.3-h84d6215_3\nLinking lerc-4.0.0-h0aef613_1\nLinking zstd-1.5.7-hb8e6e7a_2\nLinking lz4-c-1.10.0-h5888daf_1\nLinking libint-2.9.0-h23769fb_2\nLinking pugixml-1.15-h3f63f65_0\nLinking libstdcxx-ng-14.2.0-h4852527_2\nLinking svt-av1-3.0.2-h5888daf_0\nLinking sleef-3.8-h1b44611_0\nLinking libabseil-20250127.1-cxx17_hbbce691_0\nLinking libev-4.33-hd590300_2\nLinking libpciaccess-0.18-hd590300_0\nLinking rav1e-0.6.6-he8a937b_2\nLinking gau2grid-2.0.7-h4bc722e_4\nLinking tk-8.6.13-noxft_h4845f30_101\nLinking libxcrypt-4.4.36-hd590300_1\nLinking yaml-0.2.5-h7f98852_2\nLinking bzip2-1.0.8-h4bc722e_7\nLinking dav1d-1.2.1-hd590300_0\nLinking libsodium-1.0.20-h4ab18f5_0\nLinking giflib-5.2.2-hd590300_0\nLinking libuuid-2.38.1-h0b41bf4_0\nLinking libnsl-2.0.1-hd590300_0\nLinking keyutils-1.6.1-h166bdaf_0\nLinking expat-2.7.0-h5888daf_0\nLinking wayland-1.23.1-h3e06ad9_1\nLinking brotli-bin-1.1.0-hb9d3cd8_2\nLinking xorg-libx11-1.8.12-h4f16b4b_0\nLinking xcb-util-wm-0.4.2-hb711507_0\nLinking xcb-util-renderutil-0.3.10-hb711507_0\nLinking xcb-util-keysyms-0.4.1-hb711507_0\nLinking xcb-util-0.4.1-hb711507_2\nLinking libpcm-1.2.3-hdca9e5a_15\nLinking libfreetype6-2.13.3-h48d6fc4_1\nLinking libtiff-4.7.0-hd9ff511_4\nLinking libecpint-1.0.7-h981d57b_12\nLinking graphite2-1.3.13-h59595ed_1003\nLinking gmp-6.3.0-hac33072_2\nLinking x265-3.5-h924138e_3\nLinking qhull-2020.2-h434a139_5\nLinking cudatoolkit-11.8.0-h4ba93d1_13\nBy downloading and using the CUDA Toolkit conda packages, you accept the terms and conditions of the CUDA End User License Agreement (EULA): https://docs.nvidia.com/cuda/eula/index.html\n\nLinking libde265-1.0.15-h00ab1b0_0\nLinking aom-3.9.1-hac33072_0\nLinking icu-75.1-he02047a_0\nLinking libprotobuf-5.29.3-h501fc15_1\nLinking libdrm-2.4.124-hb9d3cd8_0\nLinking perl-5.32.1-7_hd590300_perl5\nLinking pcre2-10.44-hc749103_2\nLinking xorg-libsm-1.2.6-he73a12e_0\nLinking brotli-1.1.0-hb9d3cd8_2\nLinking xorg-libxrender-0.9.12-hb9d3cd8_0\nLinking xkeyboard-config-2.44-hb9d3cd8_0\nLinking xorg-libxfixes-6.0.1-hb9d3cd8_0\nLinking xorg-libxext-1.3.6-hb9d3cd8_0\nLinking libglx-1.7.0-ha4b6fd6_2\nLinking xcb-util-image-0.4.0-hb711507_2\nLinking libfreetype-2.13.3-ha770c72_1\nLinking lcms2-2.17-h717163a_0\nLinking openjpeg-2.5.3-h5fbd93e_0\nLinking mpfr-4.2.1-h90cbb55_3\nLinking libavif16-1.2.1-hbb36593_2\nLinking libxml2-2.13.7-h4bc477f_1\nLinking libglib-2.84.1-h2ff4ddf_0\nLinking xorg-libxcomposite-0.4.6-hb9d3cd8_2\nLinking xorg-libxcursor-1.2.3-hb9d3cd8_0\nLinking xorg-libxi-1.8.2-hb9d3cd8_0\nLinking xorg-libxxf86vm-1.1.6-hb9d3cd8_0\nLinking xorg-libxrandr-1.5.4-hb9d3cd8_0\nLinking xorg-libxdamage-1.1.6-hb9d3cd8_0\nLinking libgl-1.7.0-ha4b6fd6_2\nLinking xcb-util-cursor-0.1.5-hb9d3cd8_0\nLinking freetype-2.13.3-ha770c72_1\nLinking mpc-1.3.1-h24ddda3_1\nLinking libheif-1.19.7-gpl_hc18d805_100\nLinking libxkbcommon-1.9.1-h65c71a3_0\nLinking libllvm20-20.1.4-he9d0ab4_0\nLinking libhwloc-2.11.2-default_h0d58e46_1001\nLinking libxslt-1.1.39-h76b75d6_0\nLinking dbus-1.13.6-h5008d03_3\nLinking xorg-libxtst-1.2.5-hb9d3cd8_3\nLinking fontconfig-2.15.0-h7e30c49_1\nLinking libclang-cpp20.1-20.1.4-default_h1df26ce_0\nLinking libclang13-20.1.4-default_he06ed0a_0\nLinking tbb-2021.13.0-hceb3a55_1\nLinking mkl-2024.2.2-ha957f24_16\nLinking libblas-3.9.0-31_hfdb39a5_mkl\nLinking dkh-1.2-ha94c79b_3\nLinking libcblas-3.9.0-31_h372d94f_mkl\nLinking liblapack-3.9.0-31_hc41d3b0_mkl\nLinking libtorch-2.5.1-cpu_mkl_hf6ddc5a_117\nLinking liblapacke-3.9.0-31_hbc6e62b_mkl\nLinking kaldi-5.5.1112-cpu_hb028f0a_8\nLinking python_abi-3.10-7_cp310\nLinking tzdata-2025b-h78e105d_0\nLinking pybind11-abi-4-hd8ed1ab_3\nLinking ca-certificates-2025.4.26-hbd8a1cb_0\nLinking font-ttf-dejavu-sans-mono-2.37-hab24e00_0\nLinking font-ttf-ubuntu-0.83-h77eed37_3\nLinking font-ttf-inconsolata-3.000-h77eed37_0\nLinking font-ttf-source-code-pro-2.038-h77eed37_0\nLinking kernel-headers_linux-64-3.10.0-he073ed8_18\nLinking fonts-conda-forge-1-0\nLinking sysroot_linux-64-2.17-h0157908_18\nLinking fonts-conda-ecosystem-1-0\nLinking openssl-3.5.0-h7b32b05_1\nLinking cairo-1.18.4-h3394656_0\nLinking libssh2-1.11.1-hcf80075_0\nLinking mysql-common-9.2.0-h266115a_0\nLinking libnghttp2-1.64.0-h161d5f1_0\nLinking python-3.10.17-hd6af730_0_cpython\nLinking krb5-1.21.3-h659f571_0\nLinking harfbuzz-11.1.0-h3beb420_0\nLinking mysql-libs-9.2.0-he0572af_0\nLinking libcups-2.3.3-h4637d8d_4\nLinking libcurl-8.13.0-h332b0f4_0\nLinking zeromq-4.3.5-h3b0a872_7\nLinking cyrus-sasl-2.1.27-h54b06d7_7\nLinking git-2.49.0-pl5321h59d505e_0\nLinking openldap-2.6.9-he970967_0\nLinking libpq-17.4-h27ae623_1\nLinking qt6-main-6.9.0-h6441bc3_1\nLinking postgresql-17.4-h9e3fa73_1\nLinking wheel-0.45.1-pyhd8ed1ab_1\nLinking setuptools-75.8.2-pyhff2d567_0\nLinking pip-25.1.1-pyh8b19718_0\nLinking pybind11-global-2.13.6-pyh415d2e4_2\nLinking python-fastjsonschema-2.21.1-pyhd8ed1ab_0\nLinking typing_utils-0.1.0-pyhd8ed1ab_1\nLinking cached_property-1.5.2-pyha770c72_1\nLinking pycparser-2.22-pyh29332c3_1\nLinking types-python-dateutil-2.9.0.20241206-pyhd8ed1ab_0\nLinking soupsieve-2.5-pyhd8ed1ab_1\nLinking webencodings-0.5.1-pyhd8ed1ab_3\nLinking sniffio-1.3.1-pyhd8ed1ab_1\nLinking parso-0.8.4-pyhd8ed1ab_1\nLinking pkgutil-resolve-name-1.3.10-pyhd8ed1ab_2\nLinking webcolors-24.11.1-pyhd8ed1ab_0\nLinking uri-template-1.3.0-pyhd8ed1ab_1\nLinking python-json-logger-2.0.7-pyhd8ed1ab_0\nLinking websocket-client-1.8.0-pyhd8ed1ab_1\nLinking send2trash-1.8.3-pyh0d859eb_1\nLinking prometheus_client-0.21.1-pyhd8ed1ab_0\nLinking rfc3986-validator-0.1.1-pyh9f0ad1d_0\nLinking json5-0.12.0-pyhd8ed1ab_0\nLinking pandocfilters-1.5.0-pyhd8ed1ab_0\nLinking defusedxml-0.7.1-pyhd8ed1ab_0\nLinking ptyprocess-0.7.0-pyhd8ed1ab_1\nLinking wcwidth-0.2.13-pyhd8ed1ab_1\nLinking six-1.17.0-pyhd8ed1ab_0\nLinking pure_eval-0.2.3-pyhd8ed1ab_1\nLinking executing-2.2.0-pyhd8ed1ab_0\nLinking asttokens-3.0.0-pyhd8ed1ab_1\nLinking cpython-3.10.17-py310hd8ed1ab_0\nLinking mpmath-1.3.0-pyhd8ed1ab_1\nLinking pysocks-1.7.1-pyha55dd90_7\nLinking hyperframe-6.1.0-pyhd8ed1ab_0\nLinking hpack-4.1.0-pyhd8ed1ab_0\nLinking attrs-25.3.0-pyh71513ae_0\nLinking async-timeout-5.0.1-pyhd8ed1ab_1\nLinking aiohappyeyeballs-2.6.1-pyhd8ed1ab_0\nLinking munkres-1.1.4-pyh9f0ad1d_0\nLinking cycler-0.12.1-pyhd8ed1ab_1\nLinking pytz-2025.2-pyhd8ed1ab_0\nLinking python-tzdata-2025.2-pyhd8ed1ab_0\nLinking pcmsolver-1.2.3-py_15\nLinking networkx-3.4.2-pyh267e887_2\nLinking filelock-3.18.0-pyhd8ed1ab_0\nLinking itsdangerous-2.2.0-pyhd8ed1ab_1\nLinking click-8.1.8-pyh707e725_0\nLinking zipp-3.21.0-pyhd8ed1ab_1\nLinking nest-asyncio-1.6.0-pyhd8ed1ab_1\nLinking pygments-2.19.1-pyhd8ed1ab_0\nLinking pickleshare-0.7.5-pyhd8ed1ab_1004\nLinking decorator-5.2.1-pyhd8ed1ab_0\nLinking widgetsnbextension-4.0.14-pyhd8ed1ab_0\nLinking jupyterlab_widgets-3.0.15-pyhd8ed1ab_0\nLinking traitlets-5.14.3-pyhd8ed1ab_1\nLinking typing_extensions-4.13.2-pyh29332c3_0\nLinking platformdirs-4.3.7-pyh29332c3_0\nLinking tomli-2.2.1-pyhd8ed1ab_1\nLinking pluggy-1.5.0-pyhd8ed1ab_1\nLinking iniconfig-2.0.0-pyhd8ed1ab_1\nLinking exceptiongroup-1.2.2-pyhd8ed1ab_1\nLinking fsspec-2025.3.2-pyhd8ed1ab_0\nLinking pyparsing-3.2.3-pyhd8ed1ab_1\nLinking py-cpuinfo-9.0.0-pyhd8ed1ab_1\nLinking packaging-25.0-pyh29332c3_1\nLinking charset-normalizer-3.4.2-pyhd8ed1ab_0\nLinking idna-3.10-pyhd8ed1ab_1\nLinking certifi-2025.1.31-pyhd8ed1ab_0\nLinking colorama-0.4.6-pyhd8ed1ab_1\nLinking python-wget-3.2-py_0\nLinking blinker-1.9.0-pyhff2d567_0\nLinking pybind11-2.13.6-pyh1ec8472_2\nLinking overrides-7.7.0-pyhd8ed1ab_1\nLinking cached-property-1.5.2-hd8ed1ab_1\nLinking tinycss2-1.4.0-pyhd8ed1ab_0\nLinking bleach-6.2.0-pyh29332c3_4\nLinking jedi-0.19.2-pyhd8ed1ab_1\nLinking pexpect-4.9.0-pyhd8ed1ab_1\nLinking prompt-toolkit-3.0.51-pyha770c72_0\nLinking rfc3339-validator-0.1.4-pyhd8ed1ab_1\nLinking python-dateutil-2.9.0.post0-pyhff2d567_1\nLinking stack_data-0.6.3-pyhd8ed1ab_1\nLinking h2-4.2.0-pyhd8ed1ab_0\nLinking babel-2.17.0-pyhd8ed1ab_0\nLinking importlib_resources-6.5.2-pyhd8ed1ab_0\nLinking importlib-metadata-8.6.1-pyha770c72_0\nLinking jupyterlab_pygments-0.3.0-pyhd8ed1ab_2\nLinking matplotlib-inline-0.1.7-pyhd8ed1ab_1\nLinking comm-0.2.2-pyhd8ed1ab_1\nLinking h11-0.16.0-pyhd8ed1ab_0\nLinking async-lru-2.0.5-pyh29332c3_0\nLinking mistune-3.1.3-pyh29332c3_0\nLinking typing-extensions-4.13.2-h0e9735f_0\nLinking jupyter_core-5.7.2-pyh31011fe_1\nLinking anyio-4.9.0-pyh29332c3_0\nLinking tqdm-4.67.1-pyhd8ed1ab_1\nLinking pytest-8.3.5-pyhd8ed1ab_0\nLinking fqdn-1.5.1-pyhd8ed1ab_1\nLinking bleach-with-css-6.2.0-h82add2a_4\nLinking prompt_toolkit-3.0.51-hd8ed1ab_0\nLinking arrow-1.3.0-pyhd8ed1ab_1\nLinking ipython-8.36.0-pyh907856f_0\nLinking beautifulsoup4-4.13.4-pyha770c72_0\nLinking flexparser-0.4-pyhd8ed1ab_1\nLinking flexcache-0.3-pyhd8ed1ab_1\nLinking httpcore-1.0.9-pyh29332c3_0\nLinking isoduration-20.11.0-pyhd8ed1ab_1\nLinking ipywidgets-8.1.7-pyhd8ed1ab_0\nLinking pint-0.24.4-pyhd8ed1ab_1\nLinking httpx-0.28.1-pyhd8ed1ab_0\nLinking rpds-py-0.24.0-py310hc1293b2_0\nLinking jsonpointer-3.0.0-py310hff52083_1\nLinking gmpy2-2.2.1-py310he8512ff_0\nLinking brotli-python-1.1.0-py310hf71b8c6_2\nLinking propcache-0.3.1-py310h89163eb_0\nLinking frozenlist-1.5.0-py310h89163eb_1\nLinking unicodedata2-16.0.0-py310ha75aee5_0\nLinking pyside6-6.9.0-py310hfd10a26_0\nLinking kiwisolver-1.4.7-py310h3788b33_0\nLinking pillow-11.1.0-py310h7e6dc6c_0\nLinking debugpy-1.8.14-py310hf71b8c6_0\nLinking markupsafe-3.0.2-py310h89163eb_1\nLinking tornado-6.4.2-py310ha75aee5_0\nLinking pyzmq-26.4.0-py310h71f11fc_0\nLinking msgpack-python-1.1.0-py310h3788b33_0\nLinking pyyaml-6.0.2-py310h89163eb_2\nLinking psutil-7.0.0-py310ha75aee5_0\nLinking psycopg2-2.9.9-py310hce86986_2\nLinking numpy-2.2.5-py310hefbff90_0\nLinking cffi-1.17.1-py310h8deb56e_0\nLinking pydantic-1.10.21-py310h727ffd4_0\nLinking multidict-6.4.3-py310h89163eb_0\nLinking fonttools-4.57.0-py310h89163eb_0\nLinking contourpy-1.3.2-py310h3788b33_0\nLinking scipy-1.15.2-py310h1d65ade_0\nLinking pandas-2.2.3-py310h5eaa309_3\nLinking argon2-cffi-bindings-21.2.0-py310ha75aee5_5\nLinking zstandard-0.23.0-py310ha75aee5_2\nLinking yarl-1.20.0-py310h89163eb_0\nLinking matplotlib-base-3.10.1-py310h68603db_0\nLinking matplotlib-3.10.1-py310hff52083_0\nLinking referencing-0.36.2-pyh29332c3_0\nLinking sympy-1.14.0-pyh2585a3b_105\nLinking aiosignal-1.3.2-pyhd8ed1ab_0\nLinking werkzeug-3.1.3-pyhd8ed1ab_1\nLinking jinja2-3.1.6-pyhd8ed1ab_0\nLinking terminado-0.18.1-pyh0d859eb_0\nLinking jupyter_client-8.6.3-pyhd8ed1ab_1\nLinking qcelemental-0.29.0-pyhd8ed1ab_1\nLinking argon2-cffi-23.1.0-pyhd8ed1ab_1\nLinking urllib3-2.4.0-pyhd8ed1ab_0\nLinking jsonschema-specifications-2025.4.1-pyh29332c3_0\nLinking flask-3.1.0-pyhd8ed1ab_1\nLinking jupyter_server_terminals-0.5.3-pyhd8ed1ab_1\nLinking ipykernel-6.29.5-pyh3099207_0\nLinking qcengine-0.32.0-pyhd8ed1ab_0\nLinking requests-2.32.3-pyhd8ed1ab_1\nLinking jsonschema-4.23.0-pyhd8ed1ab_1\nLinking jupyter_console-6.6.3-pyhd8ed1ab_1\nLinking optking-0.3.0-pyhd8ed1ab_0\nLinking jsonschema-with-format-nongpl-4.23.0-hd8ed1ab_1\nLinking nbformat-5.10.4-pyhd8ed1ab_1\nLinking jupyter_events-0.12.0-pyh29332c3_0\nLinking nbclient-0.10.2-pyhd8ed1ab_0\nLinking nbconvert-core-7.16.6-pyh29332c3_0\nLinking jupyter_server-2.15.0-pyhd8ed1ab_0\nLinking jupyter-lsp-2.2.5-pyhd8ed1ab_1\nLinking notebook-shim-0.2.4-pyhd8ed1ab_1\nLinking jupyterlab_server-2.27.3-pyhd8ed1ab_1\nLinking jupyterlab-4.4.1-pyhd8ed1ab_0\nLinking notebook-7.4.1-pyhd8ed1ab_0\nLinking jupyter-1.1.1-pyhd8ed1ab_1\nLinking aiohttp-3.11.18-py310h89163eb_0\nLinking pytorch-2.5.1-cpu_mkl_py310_h8ec2884_117\nLinking psi4-1.9.1-py310hb6a4943_10\nLinking torchvision-0.20.1-cpu_py310_he61ac84_6\nLinking torchaudio-2.5.1-cpu_py310h845ff4e_1\nLinking pytorch_scatter-2.1.2-cpu_py310h4c4a1c3_10\nLinking pytorch-cpu-2.5.1-cpu_mkl_hc60beec_117\nLinking pytorch_geometric-2.6.1-pyhecae5ae_2\nLinking pytorch-minimize-0.0.2-pyhd8ed1ab_1\n\nTransaction finished\n\nCollecting cdsg-tools==0.0.2\n  Downloading cdsg_tools-0.0.2-py3-none-any.whl.metadata (4.2 kB)\nCollecting qm-tools-aw==1.4.5\n  Downloading qm_tools_aw-1.4.5-py3-none-any.whl.metadata (3.0 kB)\nCollecting qcmlforge==0.0.6\n  Downloading qcmlforge-0.0.6-py3-none-any.whl.metadata (3.7 kB)\nCollecting qcfractal==0.59\n  Downloading qcfractal-0.59-py3-none-any.whl.metadata (1.2 kB)\nCollecting qcmanybody\n  Downloading qcmanybody-0.4.0-py3-none-any.whl.metadata (5.8 kB)\nCollecting qcfractalcompute==0.59\n  Downloading qcfractalcompute-0.59-py3-none-any.whl.metadata (653 bytes)\nRequirement already satisfied: torch==2.5.1 in /dev/shm/cybershuttle/envs/18dccede/lib/python3.10/site-packages (from qcmlforge==0.0.6) (2.5.1)\nRequirement already satisfied: numpy>=2.2.0 in /dev/shm/cybershuttle/envs/18dccede/lib/python3.10/site-packages (from qcmlforge==0.0.6) (2.2.5)\nRequirement already satisfied: qcelemental==0.29.0 in /dev/shm/cybershuttle/envs/18dccede/lib/python3.10/site-packages (from qcmlforge==0.0.6) (0.29.0)\nRequirement already satisfied: torch-geometric==2.6.1 in /dev/shm/cybershuttle/envs/18dccede/lib/python3.10/site-packages (from qcmlforge==0.0.6) (2.6.1)\nRequirement already satisfied: torch-scatter==2.1.2 in /dev/shm/cybershuttle/envs/18dccede/lib/python3.10/site-packages (from qcmlforge==0.0.6) (2.1.2)\nRequirement already satisfied: pytorch-minimize in /dev/shm/cybershuttle/envs/18dccede/lib/python3.10/site-packages (from qcmlforge==0.0.6) (0.0.2)\nCollecting qcportal==0.59 (from qcmlforge==0.0.6)\n  Downloading qcportal-0.59-py3-none-any.whl.metadata (1.0 kB)\nRequirement already satisfied: flask in /dev/shm/cybershuttle/envs/18dccede/lib/python3.10/site-packages (from qcfractal==0.59) (3.1.0)\nCollecting flask-jwt-extended (from qcfractal==0.59)\n  Downloading Flask_JWT_Extended-4.7.1-py2.py3-none-any.whl.metadata (3.8 kB)\nCollecting waitress (from qcfractal==0.59)\n  Downloading waitress-3.0.2-py3-none-any.whl.metadata (5.8 kB)\nCollecting bcrypt (from qcfractal==0.59)\n  Downloading bcrypt-4.3.0-cp39-abi3-manylinux_2_28_x86_64.whl.metadata (10 kB)\nCollecting sqlalchemy>=2.0 (from qcfractal==0.59)\n  Downloading sqlalchemy-2.0.40-cp310-cp310-manylinux_2_17_x86_64.manylinux2014_x86_64.whl.metadata (9.6 kB)\nCollecting alembic (from qcfractal==0.59)\n  Downloading alembic-1.15.2-py3-none-any.whl.metadata (7.3 kB)\nRequirement already satisfied: psycopg2 in /dev/shm/cybershuttle/envs/18dccede/lib/python3.10/site-packages (from qcfractal==0.59) (2.9.9)\nCollecting parsl (from qcfractalcompute==0.59)\n  Downloading parsl-2025.4.28-py3-none-any.whl.metadata (4.0 kB)\nRequirement already satisfied: packaging>=24.1 in /dev/shm/cybershuttle/envs/18dccede/lib/python3.10/site-packages (from qcelemental==0.29.0->qcmlforge==0.0.6) (25.0)\nRequirement already satisfied: pint>=0.24 in /dev/shm/cybershuttle/envs/18dccede/lib/python3.10/site-packages (from qcelemental==0.29.0->qcmlforge==0.0.6) (0.24.4)\nRequirement already satisfied: pydantic>=1.8.2 in /dev/shm/cybershuttle/envs/18dccede/lib/python3.10/site-packages (from qcelemental==0.29.0->qcmlforge==0.0.6) (1.10.21)\nRequirement already satisfied: msgpack in /dev/shm/cybershuttle/envs/18dccede/lib/python3.10/site-packages (from qcportal==0.59->qcmlforge==0.0.6) (1.1.0)\nRequirement already satisfied: requests in /dev/shm/cybershuttle/envs/18dccede/lib/python3.10/site-packages (from qcportal==0.59->qcmlforge==0.0.6) (2.32.3)\nRequirement already satisfied: pyyaml in /dev/shm/cybershuttle/envs/18dccede/lib/python3.10/site-packages (from qcportal==0.59->qcmlforge==0.0.6) (6.0.2)\nRequirement already satisfied: zstandard in /dev/shm/cybershuttle/envs/18dccede/lib/python3.10/site-packages (from qcportal==0.59->qcmlforge==0.0.6) (0.23.0)\nCollecting apsw>=3.42 (from qcportal==0.59->qcmlforge==0.0.6)\n  Downloading apsw-3.49.1.0-cp310-cp310-manylinux_2_17_x86_64.manylinux2014_x86_64.whl.metadata (3.7 kB)\nCollecting tabulate (from qcportal==0.59->qcmlforge==0.0.6)\n  Using cached tabulate-0.9.0-py3-none-any.whl.metadata (34 kB)\nRequirement already satisfied: tqdm in /dev/shm/cybershuttle/envs/18dccede/lib/python3.10/site-packages (from qcportal==0.59->qcmlforge==0.0.6) (4.67.1)\nRequirement already satisfied: pandas in /dev/shm/cybershuttle/envs/18dccede/lib/python3.10/site-packages (from qcportal==0.59->qcmlforge==0.0.6) (2.2.3)\nCollecting pyjwt>=2.10 (from qcportal==0.59->qcmlforge==0.0.6)\n  Downloading PyJWT-2.10.1-py3-none-any.whl.metadata (4.0 kB)\nRequirement already satisfied: typing_extensions in /dev/shm/cybershuttle/envs/18dccede/lib/python3.10/site-packages (from qcportal==0.59->qcmlforge==0.0.6) (4.13.2)\nRequirement already satisfied: python-dateutil in /dev/shm/cybershuttle/envs/18dccede/lib/python3.10/site-packages (from qcportal==0.59->qcmlforge==0.0.6) (2.9.0.post0)\nRequirement already satisfied: pytz in /dev/shm/cybershuttle/envs/18dccede/lib/python3.10/site-packages (from qcportal==0.59->qcmlforge==0.0.6) (2025.2)\nRequirement already satisfied: filelock in /dev/shm/cybershuttle/envs/18dccede/lib/python3.10/site-packages (from torch==2.5.1->qcmlforge==0.0.6) (3.18.0)\nRequirement already satisfied: sympy!=1.13.2,>=1.13.1 in /dev/shm/cybershuttle/envs/18dccede/lib/python3.10/site-packages (from torch==2.5.1->qcmlforge==0.0.6) (1.14.0)\nRequirement already satisfied: networkx in /dev/shm/cybershuttle/envs/18dccede/lib/python3.10/site-packages (from torch==2.5.1->qcmlforge==0.0.6) (3.4.2)\nRequirement already satisfied: jinja2 in /dev/shm/cybershuttle/envs/18dccede/lib/python3.10/site-packages (from torch==2.5.1->qcmlforge==0.0.6) (3.1.6)\nRequirement already satisfied: fsspec in /dev/shm/cybershuttle/envs/18dccede/lib/python3.10/site-packages (from torch==2.5.1->qcmlforge==0.0.6) (2025.3.2)\nRequirement already satisfied: aiohttp in /dev/shm/cybershuttle/envs/18dccede/lib/python3.10/site-packages (from torch-geometric==2.6.1->qcmlforge==0.0.6) (3.11.18)\nRequirement already satisfied: psutil>=5.8.0 in /dev/shm/cybershuttle/envs/18dccede/lib/python3.10/site-packages (from torch-geometric==2.6.1->qcmlforge==0.0.6) (7.0.0)\nRequirement already satisfied: pyparsing in /dev/shm/cybershuttle/envs/18dccede/lib/python3.10/site-packages (from torch-geometric==2.6.1->qcmlforge==0.0.6) (3.2.3)\nRequirement already satisfied: platformdirs>=2.1.0 in /dev/shm/cybershuttle/envs/18dccede/lib/python3.10/site-packages (from pint>=0.24->qcelemental==0.29.0->qcmlforge==0.0.6) (4.3.7)\nRequirement already satisfied: flexcache>=0.3 in /dev/shm/cybershuttle/envs/18dccede/lib/python3.10/site-packages (from pint>=0.24->qcelemental==0.29.0->qcmlforge==0.0.6) (0.3)\nRequirement already satisfied: flexparser>=0.4 in /dev/shm/cybershuttle/envs/18dccede/lib/python3.10/site-packages (from pint>=0.24->qcelemental==0.29.0->qcmlforge==0.0.6) (0.4)\nCollecting greenlet>=1 (from sqlalchemy>=2.0->qcfractal==0.59)\n  Downloading greenlet-3.2.1-cp310-cp310-manylinux_2_24_x86_64.manylinux_2_28_x86_64.whl.metadata (4.1 kB)\nRequirement already satisfied: mpmath<1.4,>=1.1.0 in /dev/shm/cybershuttle/envs/18dccede/lib/python3.10/site-packages (from sympy!=1.13.2,>=1.13.1->torch==2.5.1->qcmlforge==0.0.6) (1.3.0)\nRequirement already satisfied: aiohappyeyeballs>=2.3.0 in /dev/shm/cybershuttle/envs/18dccede/lib/python3.10/site-packages (from aiohttp->torch-geometric==2.6.1->qcmlforge==0.0.6) (2.6.1)\nRequirement already satisfied: aiosignal>=1.1.2 in /dev/shm/cybershuttle/envs/18dccede/lib/python3.10/site-packages (from aiohttp->torch-geometric==2.6.1->qcmlforge==0.0.6) (1.3.2)\nRequirement already satisfied: async-timeout<6.0,>=4.0 in /dev/shm/cybershuttle/envs/18dccede/lib/python3.10/site-packages (from aiohttp->torch-geometric==2.6.1->qcmlforge==0.0.6) (5.0.1)\nRequirement already satisfied: attrs>=17.3.0 in /dev/shm/cybershuttle/envs/18dccede/lib/python3.10/site-packages (from aiohttp->torch-geometric==2.6.1->qcmlforge==0.0.6) (25.3.0)\nRequirement already satisfied: frozenlist>=1.1.1 in /dev/shm/cybershuttle/envs/18dccede/lib/python3.10/site-packages (from aiohttp->torch-geometric==2.6.1->qcmlforge==0.0.6) (1.5.0)\nRequirement already satisfied: multidict<7.0,>=4.5 in /dev/shm/cybershuttle/envs/18dccede/lib/python3.10/site-packages (from aiohttp->torch-geometric==2.6.1->qcmlforge==0.0.6) (6.4.3)\nRequirement already satisfied: propcache>=0.2.0 in /dev/shm/cybershuttle/envs/18dccede/lib/python3.10/site-packages (from aiohttp->torch-geometric==2.6.1->qcmlforge==0.0.6) (0.3.1)\nRequirement already satisfied: yarl<2.0,>=1.17.0 in /dev/shm/cybershuttle/envs/18dccede/lib/python3.10/site-packages (from aiohttp->torch-geometric==2.6.1->qcmlforge==0.0.6) (1.20.0)\nRequirement already satisfied: idna>=2.0 in /dev/shm/cybershuttle/envs/18dccede/lib/python3.10/site-packages (from yarl<2.0,>=1.17.0->aiohttp->torch-geometric==2.6.1->qcmlforge==0.0.6) (3.10)\nCollecting Mako (from alembic->qcfractal==0.59)\n  Downloading mako-1.3.10-py3-none-any.whl.metadata (2.9 kB)\nRequirement already satisfied: Werkzeug>=3.1 in /dev/shm/cybershuttle/envs/18dccede/lib/python3.10/site-packages (from flask->qcfractal==0.59) (3.1.3)\nRequirement already satisfied: itsdangerous>=2.2 in /dev/shm/cybershuttle/envs/18dccede/lib/python3.10/site-packages (from flask->qcfractal==0.59) (2.2.0)\nRequirement already satisfied: click>=8.1.3 in /dev/shm/cybershuttle/envs/18dccede/lib/python3.10/site-packages (from flask->qcfractal==0.59) (8.1.8)\nRequirement already satisfied: blinker>=1.9 in /dev/shm/cybershuttle/envs/18dccede/lib/python3.10/site-packages (from flask->qcfractal==0.59) (1.9.0)\nRequirement already satisfied: MarkupSafe>=2.0 in /dev/shm/cybershuttle/envs/18dccede/lib/python3.10/site-packages (from jinja2->torch==2.5.1->qcmlforge==0.0.6) (3.0.2)\nRequirement already satisfied: tzdata>=2022.7 in /dev/shm/cybershuttle/envs/18dccede/lib/python3.10/site-packages (from pandas->qcportal==0.59->qcmlforge==0.0.6) (2025.2)\nRequirement already satisfied: six>=1.5 in /dev/shm/cybershuttle/envs/18dccede/lib/python3.10/site-packages (from python-dateutil->qcportal==0.59->qcmlforge==0.0.6) (1.17.0)\nRequirement already satisfied: pyzmq>=17.1.2 in /dev/shm/cybershuttle/envs/18dccede/lib/python3.10/site-packages (from parsl->qcfractalcompute==0.59) (26.4.0)\nCollecting typeguard!=3.*,<5,>=2.10 (from parsl->qcfractalcompute==0.59)\n  Downloading typeguard-4.4.2-py3-none-any.whl.metadata (3.8 kB)\nCollecting globus-sdk (from parsl->qcfractalcompute==0.59)\n  Downloading globus_sdk-3.56.0-py3-none-any.whl.metadata (3.3 kB)\nCollecting dill (from parsl->qcfractalcompute==0.59)\n  Downloading dill-0.4.0-py3-none-any.whl.metadata (10 kB)\nCollecting tblib (from parsl->qcfractalcompute==0.59)\n  Downloading tblib-3.1.0-py3-none-any.whl.metadata (25 kB)\nCollecting setproctitle (from parsl->qcfractalcompute==0.59)\n  Downloading setproctitle-1.3.6-cp310-cp310-manylinux_2_5_x86_64.manylinux1_x86_64.manylinux_2_17_x86_64.manylinux2014_x86_64.whl.metadata (10 kB)\nCollecting cryptography!=3.4.0,>=3.3.1 (from globus-sdk->parsl->qcfractalcompute==0.59)\n  Downloading cryptography-44.0.3-cp39-abi3-manylinux_2_28_x86_64.whl.metadata (5.7 kB)\nRequirement already satisfied: charset_normalizer<4,>=2 in /dev/shm/cybershuttle/envs/18dccede/lib/python3.10/site-packages (from requests->qcportal==0.59->qcmlforge==0.0.6) (3.4.2)\nRequirement already satisfied: urllib3<3,>=1.21.1 in /dev/shm/cybershuttle/envs/18dccede/lib/python3.10/site-packages (from requests->qcportal==0.59->qcmlforge==0.0.6) (2.4.0)\nRequirement already satisfied: certifi>=2017.4.17 in /dev/shm/cybershuttle/envs/18dccede/lib/python3.10/site-packages (from requests->qcportal==0.59->qcmlforge==0.0.6) (2025.1.31)\nRequirement already satisfied: cffi>=1.12 in /dev/shm/cybershuttle/envs/18dccede/lib/python3.10/site-packages (from cryptography!=3.4.0,>=3.3.1->globus-sdk->parsl->qcfractalcompute==0.59) (1.17.1)\nRequirement already satisfied: pycparser in /dev/shm/cybershuttle/envs/18dccede/lib/python3.10/site-packages (from cffi>=1.12->cryptography!=3.4.0,>=3.3.1->globus-sdk->parsl->qcfractalcompute==0.59) (2.22)\nRequirement already satisfied: scipy>=1.6 in /dev/shm/cybershuttle/envs/18dccede/lib/python3.10/site-packages (from pytorch-minimize->qcmlforge==0.0.6) (1.15.2)\nDownloading cdsg_tools-0.0.2-py3-none-any.whl (43 kB)\nDownloading qm_tools_aw-1.4.5-py3-none-any.whl (18 kB)\nDownloading qcmlforge-0.0.6-py3-none-any.whl (103.7 MB)\n   ━━━━━━━━━━━━━━━━━━━━━━━━━━━━━━━━━━━━━━━━ 103.7/103.7 MB 3.8 MB/s eta 0:00:00\nDownloading qcfractal-0.59-py3-none-any.whl (557 kB)\n   ━━━━━━━━━━━━━━━━━━━━━━━━━━━━━━━━━━━━━━━━ 557.2/557.2 kB 2.9 MB/s eta 0:00:00\nDownloading qcfractalcompute-0.59-py3-none-any.whl (32 kB)\nDownloading qcportal-0.59-py3-none-any.whl (137 kB)\nDownloading qcmanybody-0.4.0-py3-none-any.whl (948 kB)\n   ━━━━━━━━━━━━━━━━━━━━━━━━━━━━━━━━━━━━━━━━ 949.0/949.0 kB 10.4 MB/s eta 0:00:00\nDownloading apsw-3.49.1.0-cp310-cp310-manylinux_2_17_x86_64.manylinux2014_x86_64.whl (6.2 MB)\n   ━━━━━━━━━━━━━━━━━━━━━━━━━━━━━━━━━━━━━━━━ 6.2/6.2 MB 34.7 MB/s eta 0:00:00\nDownloading PyJWT-2.10.1-py3-none-any.whl (22 kB)\nDownloading sqlalchemy-2.0.40-cp310-cp310-manylinux_2_17_x86_64.manylinux2014_x86_64.whl (3.1 MB)\n   ━━━━━━━━━━━━━━━━━━━━━━━━━━━━━━━━━━━━━━━━ 3.1/3.1 MB 28.1 MB/s eta 0:00:00\nDownloading greenlet-3.2.1-cp310-cp310-manylinux_2_24_x86_64.manylinux_2_28_x86_64.whl (580 kB)\n   ━━━━━━━━━━━━━━━━━━━━━━━━━━━━━━━━━━━━━━━━ 580.6/580.6 kB 4.4 MB/s eta 0:00:00\nDownloading alembic-1.15.2-py3-none-any.whl (231 kB)\nDownloading bcrypt-4.3.0-cp39-abi3-manylinux_2_28_x86_64.whl (284 kB)\nDownloading Flask_JWT_Extended-4.7.1-py2.py3-none-any.whl (22 kB)\nDownloading mako-1.3.10-py3-none-any.whl (78 kB)\nDownloading parsl-2025.4.28-py3-none-any.whl (553 kB)\n   ━━━━━━━━━━━━━━━━━━━━━━━━━━━━━━━━━━━━━━━━ 553.3/553.3 kB 3.2 MB/s eta 0:00:00\nDownloading typeguard-4.4.2-py3-none-any.whl (35 kB)\nDownloading dill-0.4.0-py3-none-any.whl (119 kB)\nDownloading globus_sdk-3.56.0-py3-none-any.whl (409 kB)\nDownloading cryptography-44.0.3-cp39-abi3-manylinux_2_28_x86_64.whl (4.2 MB)\n   ━━━━━━━━━━━━━━━━━━━━━━━━━━━━━━━━━━━━━━━━ 4.2/4.2 MB 47.3 MB/s eta 0:00:00\nDownloading setproctitle-1.3.6-cp310-cp310-manylinux_2_5_x86_64.manylinux1_x86_64.manylinux_2_17_x86_64.manylinux2014_x86_64.whl (30 kB)\nUsing cached tabulate-0.9.0-py3-none-any.whl (35 kB)\nDownloading tblib-3.1.0-py3-none-any.whl (12 kB)\nDownloading waitress-3.0.2-py3-none-any.whl (56 kB)\nInstalling collected packages: waitress, typeguard, tblib, tabulate, setproctitle, qm-tools-aw, pyjwt, Mako, greenlet, dill, cdsg-tools, bcrypt, apsw, sqlalchemy, cryptography, flask-jwt-extended, alembic, qcportal, qcmanybody, globus-sdk, qcmlforge, qcfractal, parsl, qcfractalcompute\n\nSuccessfully installed Mako-1.3.10 alembic-1.15.2 apsw-3.49.1.0 bcrypt-4.3.0 cdsg-tools-0.0.2 cryptography-44.0.3 dill-0.4.0 flask-jwt-extended-4.7.1 globus-sdk-3.56.0 greenlet-3.2.1 parsl-2025.4.28 pyjwt-2.10.1 qcfractal-0.59 qcfractalcompute-0.59 qcmanybody-0.4.0 qcmlforge-0.0.6 qcportal-0.59 qm-tools-aw-1.4.5 setproctitle-1.3.6 sqlalchemy-2.0.40 tabulate-0.9.0 tblib-3.1.0 typeguard-4.4.2 waitress-3.0.2\n\nSTDERR:\n% Total    % Received % Xferd  Average Speed   Time    Time     Time  Current\n                                 Dload  Upload   Total   Spent    Left  Speed\n\r  0     0    0     0    0     0      0      0 --:--:-- --:--:-- --:--:--     0\r100   239  100   118  100   121    959    983 --:--:-- --:--:-- --:--:--  1943\n2025/05/05 09:13:53 [agent.go] main() --server=api.gateway.cybershuttle.org:19900\n2025/05/05 09:13:53 [agent.go] main() --agent=agent_4b90d99e-04a5-4707-ac60-72cb2f64034e\n2025/05/05 09:13:53 [agent.go] main() --environ=18dccede\n2025/05/05 09:13:53 [agent.go] main() --lib=numpy=2.2.5,pandas=2.2.3,pip,psycopg2=2.9.9,postgresql=17.4,pytest,python=3.10,psi4=1.9.1,pytorch-cpu=2.5.1,jupyter=1.1.1,requests,setuptools,torchaudio=2.5.1,torchvision=0.20.1,pytorch_geometric=2.6.1,pytorch_scatter=2.1.2=cpu*,pytorch-minimize=0.0.2,matplotlib=3.10.1,pydantic=1,scipy=1.15.*,tqdm\n2025/05/05 09:13:53 [agent.go] main() --pip=cdsg-tools==0.0.2,qm-tools-aw==1.4.5,qcmlforge==0.0.6,qcfractal==0.59,qcmanybody,qcfractalcompute==0.59\n2025/05/05 09:13:53 [agent.go] main() Connected to api.gateway.cybershuttle.org:19900\n2025/05/05 09:13:53 [agent.go] main() Created stream...\n2025/05/05 09:13:53 [agent.go] main() Created environment: 18dccede\n2025/05/05 09:13:53 [agent.go] main() Installing --lib: [numpy=2.2.5 pandas=2.2.3 pip psycopg2=2.9.9 postgresql=17.4 pytest python=3.10 psi4=1.9.1 pytorch-cpu=2.5.1 jupyter=1.1.1 requests setuptools torchaudio=2.5.1 torchvision=0.20.1 pytorch_geometric=2.6.1 pytorch_scatter=2.1.2=cpu* pytorch-minimize=0.0.2 matplotlib=3.10.1 pydantic=1 scipy=1.15.* tqdm python<3.12 pip ipykernel git flask jupyter_client]\nwarning  libmamba Could not validate package '/expanse/lustre/projects/uic151/gridchem/conda/pkgs/platformdirs-4.3.7-pyh29332c3_0/info/repodata_record.json': md5 and sha256 sum unknown.\n    Set safety_checks to disabled to override this warning.\nwarning  libmamba Extracted package cache '/expanse/lustre/projects/uic151/gridchem/conda/pkgs/platformdirs-4.3.7-pyh29332c3_0' has no checksum\n2025/05/05 09:32:34 [agent.go] main() Installed --lib: [numpy=2.2.5 pandas=2.2.3 pip psycopg2=2.9.9 postgresql=17.4 pytest python=3.10 psi4=1.9.1 pytorch-cpu=2.5.1 jupyter=1.1.1 requests setuptools torchaudio=2.5.1 torchvision=0.20.1 pytorch_geometric=2.6.1 pytorch_scatter=2.1.2=cpu* pytorch-minimize=0.0.2 matplotlib=3.10.1 pydantic=1 scipy=1.15.* tqdm python<3.12 pip ipykernel git flask jupyter_client]\n2025/05/05 09:32:34 [agent.go] main() Installing --pip: [cdsg-tools==0.0.2 qm-tools-aw==1.4.5 qcmlforge==0.0.6 qcfractal==0.59 qcmanybody qcfractalcompute==0.59]\n2025/05/05 09:33:18 [agent.go] main() Installed --pip: [cdsg-tools==0.0.2 qm-tools-aw==1.4.5 qcmlforge==0.0.6 qcfractal==0.59 qcmanybody qcfractalcompute==0.59]\n2025/05/05 09:33:18 [agent.go] main() Trying to connect to api.gateway.cybershuttle.org:19900 with agent id agent_4b90d99e-04a5-4707-ac60-72cb2f64034e\n2025/05/05 09:33:18 [agent.go] main() Connected to the server.\nslurmstepd: error: *** JOB 39095819 ON exp-1-43 CANCELLED AT 2025-05-05T10:13:57 DUE TO TIME LIMIT ***",
     "output_type": "error",
     "traceback": [
      "\u001b[0;31m---------------------------------------------------------------------------\u001b[0m",
      "\u001b[0;31mInvalidStateError\u001b[0m                         Traceback (most recent call last)",
      "File \u001b[0;32m/projects/cos-lab-cs207/ds/awallace43/conda_user/p4_qcml/lib/python3.10/site-packages/IPython/core/async_helpers.py:128\u001b[0m, in \u001b[0;36m_pseudo_sync_runner\u001b[0;34m(coro)\u001b[0m\n\u001b[1;32m    120\u001b[0m \u001b[38;5;250m\u001b[39m\u001b[38;5;124;03m\"\"\"\u001b[39;00m\n\u001b[1;32m    121\u001b[0m \u001b[38;5;124;03mA runner that does not really allow async execution, and just advance the coroutine.\u001b[39;00m\n\u001b[1;32m    122\u001b[0m \n\u001b[0;32m   (...)\u001b[0m\n\u001b[1;32m    125\u001b[0m \u001b[38;5;124;03mCredit to Nathaniel Smith\u001b[39;00m\n\u001b[1;32m    126\u001b[0m \u001b[38;5;124;03m\"\"\"\u001b[39;00m\n\u001b[1;32m    127\u001b[0m \u001b[38;5;28;01mtry\u001b[39;00m:\n\u001b[0;32m--> 128\u001b[0m     \u001b[43mcoro\u001b[49m\u001b[38;5;241;43m.\u001b[39;49m\u001b[43msend\u001b[49m\u001b[43m(\u001b[49m\u001b[38;5;28;43;01mNone\u001b[39;49;00m\u001b[43m)\u001b[49m\n\u001b[1;32m    129\u001b[0m \u001b[38;5;28;01mexcept\u001b[39;00m \u001b[38;5;167;01mStopIteration\u001b[39;00m \u001b[38;5;28;01mas\u001b[39;00m exc:\n\u001b[1;32m    130\u001b[0m     \u001b[38;5;28;01mreturn\u001b[39;00m exc\u001b[38;5;241m.\u001b[39mvalue\n",
      "File \u001b[0;32m/projects/cos-lab-cs207/ds/awallace43/conda_user/p4_qcml/lib/python3.10/site-packages/airavata_jupyter_magic/__init__.py:1096\u001b[0m, in \u001b[0;36mrun_cell_async\u001b[0;34m(raw_cell, store_history, silent, shell_futures, transformed_cell, preprocessing_exc_tuple, cell_id)\u001b[0m\n\u001b[1;32m   1094\u001b[0m result \u001b[38;5;241m=\u001b[39m ExecutionResult(info\u001b[38;5;241m=\u001b[39m\u001b[38;5;28;01mNone\u001b[39;00m)\n\u001b[1;32m   1095\u001b[0m \u001b[38;5;28;01mtry\u001b[39;00m:\n\u001b[0;32m-> 1096\u001b[0m     \u001b[43mwait_until_runtime_ready\u001b[49m\u001b[43m(\u001b[49m\u001b[43maccess_token\u001b[49m\u001b[43m,\u001b[49m\u001b[43m \u001b[49m\u001b[43mrt\u001b[49m\u001b[43m,\u001b[49m\u001b[43m \u001b[49m\u001b[43mrender_live_logs\u001b[49m\u001b[38;5;241;43m=\u001b[39;49m\u001b[38;5;28;43;01mFalse\u001b[39;49;00m\u001b[43m)\u001b[49m\n\u001b[1;32m   1097\u001b[0m     run_on_runtime(rt, raw_cell, result)\n\u001b[1;32m   1098\u001b[0m \u001b[38;5;28;01mexcept\u001b[39;00m \u001b[38;5;167;01mException\u001b[39;00m \u001b[38;5;28;01mas\u001b[39;00m e:\n",
      "File \u001b[0;32m/projects/cos-lab-cs207/ds/awallace43/conda_user/p4_qcml/lib/python3.10/site-packages/airavata_jupyter_magic/__init__.py:458\u001b[0m, in \u001b[0;36mwait_until_runtime_ready\u001b[0;34m(access_token, rt_name, render_live_logs)\u001b[0m\n\u001b[1;32m    456\u001b[0m error_message \u001b[38;5;241m=\u001b[39m \u001b[38;5;124mf\u001b[39m\u001b[38;5;124m\"\u001b[39m\u001b[38;5;132;01m{\u001b[39;00m\u001b[38;5;28mstr\u001b[39m(e)\u001b[38;5;132;01m}\u001b[39;00m\u001b[38;5;130;01m\\n\u001b[39;00m\u001b[38;5;130;01m\\n\u001b[39;00m\u001b[38;5;124mSTDOUT:\u001b[39m\u001b[38;5;130;01m\\n\u001b[39;00m\u001b[38;5;132;01m{\u001b[39;00mstdout\u001b[38;5;132;01m}\u001b[39;00m\u001b[38;5;130;01m\\n\u001b[39;00m\u001b[38;5;130;01m\\n\u001b[39;00m\u001b[38;5;124mSTDERR:\u001b[39m\u001b[38;5;130;01m\\n\u001b[39;00m\u001b[38;5;132;01m{\u001b[39;00mstderr\u001b[38;5;132;01m}\u001b[39;00m\u001b[38;5;124m\"\u001b[39m\n\u001b[1;32m    457\u001b[0m e\u001b[38;5;241m.\u001b[39margs \u001b[38;5;241m=\u001b[39m (error_message,) \u001b[38;5;241m+\u001b[39m e\u001b[38;5;241m.\u001b[39margs[\u001b[38;5;241m1\u001b[39m:] \u001b[38;5;28;01mif\u001b[39;00m \u001b[38;5;28mlen\u001b[39m(e\u001b[38;5;241m.\u001b[39margs) \u001b[38;5;241m>\u001b[39m \u001b[38;5;241m0\u001b[39m \u001b[38;5;28;01melse\u001b[39;00m (error_message,)\n\u001b[0;32m--> 458\u001b[0m \u001b[38;5;28;01mraise\u001b[39;00m e\n",
      "File \u001b[0;32m/projects/cos-lab-cs207/ds/awallace43/conda_user/p4_qcml/lib/python3.10/site-packages/airavata_jupyter_magic/__init__.py:446\u001b[0m, in \u001b[0;36mwait_until_runtime_ready\u001b[0;34m(access_token, rt_name, render_live_logs)\u001b[0m\n\u001b[1;32m    444\u001b[0m \u001b[38;5;28;01mwith\u001b[39;00m console\u001b[38;5;241m.\u001b[39mstatus(\u001b[38;5;124mf\u001b[39m\u001b[38;5;124m\"\u001b[39m\u001b[38;5;124mConnecting to=\u001b[39m\u001b[38;5;132;01m{\u001b[39;00mrt_name\u001b[38;5;132;01m}\u001b[39;00m\u001b[38;5;124m...\u001b[39m\u001b[38;5;124m\"\u001b[39m) \u001b[38;5;28;01mas\u001b[39;00m status:\n\u001b[1;32m    445\u001b[0m     \u001b[38;5;28;01mwhile\u001b[39;00m \u001b[38;5;28;01mTrue\u001b[39;00m:\n\u001b[0;32m--> 446\u001b[0m         ready, rstate \u001b[38;5;241m=\u001b[39m \u001b[43mis_runtime_ready\u001b[49m\u001b[43m(\u001b[49m\u001b[43maccess_token\u001b[49m\u001b[43m,\u001b[49m\u001b[43m \u001b[49m\u001b[43mrt\u001b[49m\u001b[43m,\u001b[49m\u001b[43m \u001b[49m\u001b[43mrt_name\u001b[49m\u001b[43m)\u001b[49m\n\u001b[1;32m    447\u001b[0m         \u001b[38;5;28;01mif\u001b[39;00m ready:\n\u001b[1;32m    448\u001b[0m             status\u001b[38;5;241m.\u001b[39mupdate(\u001b[38;5;124mf\u001b[39m\u001b[38;5;124m\"\u001b[39m\u001b[38;5;124mConnecting to=\u001b[39m\u001b[38;5;132;01m{\u001b[39;00mrt_name\u001b[38;5;132;01m}\u001b[39;00m\u001b[38;5;124m... status=CONNECTED\u001b[39m\u001b[38;5;124m\"\u001b[39m)\n",
      "File \u001b[0;32m/projects/cos-lab-cs207/ds/awallace43/conda_user/p4_qcml/lib/python3.10/site-packages/airavata_jupyter_magic/__init__.py:151\u001b[0m, in \u001b[0;36mis_runtime_ready\u001b[0;34m(access_token, rt, rt_name)\u001b[0m\n\u001b[1;32m    149\u001b[0m \u001b[38;5;28;01mif\u001b[39;00m exstate \u001b[38;5;129;01min\u001b[39;00m TERMINAL_STATES:\n\u001b[1;32m    150\u001b[0m     msg \u001b[38;5;241m=\u001b[39m \u001b[38;5;124mf\u001b[39m\u001b[38;5;124m\"\u001b[39m\u001b[38;5;124mRuntime=\u001b[39m\u001b[38;5;132;01m{\u001b[39;00mrt_name\u001b[38;5;132;01m}\u001b[39;00m\u001b[38;5;124m is in state=EXPERIMENT_\u001b[39m\u001b[38;5;132;01m{\u001b[39;00mexstate\u001b[38;5;241m.\u001b[39mname\u001b[38;5;132;01m}\u001b[39;00m\u001b[38;5;130;01m\\n\u001b[39;00m\u001b[38;5;132;01m{\u001b[39;00mreason\u001b[38;5;132;01m}\u001b[39;00m\u001b[38;5;124m\"\u001b[39m\n\u001b[0;32m--> 151\u001b[0m     \u001b[38;5;28;01mraise\u001b[39;00m InvalidStateError(msg)\n\u001b[1;32m    153\u001b[0m \u001b[38;5;66;03m# second, check the state of each processes\u001b[39;00m\n\u001b[1;32m    154\u001b[0m pid, pstate \u001b[38;5;241m=\u001b[39m get_process_state(rt\u001b[38;5;241m.\u001b[39mexperimentId, headers)\n",
      "\u001b[0;31mInvalidStateError\u001b[0m: Runtime=hpc_cpu is in state=EXPERIMENT_COMPLETED\nprocess  completed\n\nSTDOUT:\nCS_HOME=/home/gridchem/cybershuttle\nAGENT=agent_4b90d99e-04a5-4707-ac60-72cb2f64034e\nSERVER=api.gateway.cybershuttle.org\nCONTAINER=remote-agent-base.sif\nLIBRARIES=numpy=2.2.5,pandas=2.2.3,pip,psycopg2=2.9.9,postgresql=17.4,pytest,python=3.10,psi4=1.9.1,pytorch-cpu=2.5.1,jupyter=1.1.1,requests,setuptools,torchaudio=2.5.1,torchvision=0.20.1,pytorch_geometric=2.6.1,pytorch_scatter=2.1.2=cpu*,pytorch-minimize=0.0.2,matplotlib=3.10.1,pydantic=1,scipy=1.15.*,tqdm\nPIP=cdsg-tools==0.0.2,qm-tools-aw==1.4.5,qcmlforge==0.0.6,qcfractal==0.59,qcmanybody,qcfractalcompute==0.59\nMOUNTS=\n\n\nTransaction\n\n  Prefix: /dev/shm/cybershuttle/envs/18dccede\n\n  Updating specs:\n\n   - numpy=2.2.5\n   - pandas=2.2.3\n   - pip\n   - psycopg2=2.9.9\n   - postgresql=17.4\n   - pytest\n   - python=3.10\n   - psi4=1.9.1\n   - pytorch-cpu=2.5.1\n   - jupyter=1.1.1\n   - requests\n   - setuptools\n   - torchaudio=2.5.1\n   - torchvision=0.20.1\n   - pytorch_geometric=2.6.1\n   - pytorch_scatter[version=\"=2.1.2\",build=\"cpu*\"]\n   - pytorch-minimize=0.0.2\n   - matplotlib=3.10.1\n   - pydantic=1\n   - scipy=1.15\n   - tqdm\n   - python<3.12\n   - ipykernel\n   - git\n   - flask\n   - jupyter_client\n\n\n  Package                                 Version  Build                       Channel           Size\n───────────────────────────────────────────────────────────────────────────────────────────────────────\n  Install:\n───────────────────────────────────────────────────────────────────────────────────────────────────────\n\n  + _openmp_mutex                             4.5  3_kmp_llvm                  conda-forge     Cached\n  + aiohappyeyeballs                        2.6.1  pyhd8ed1ab_0                conda-forge     Cached\n  + aiohttp                               3.11.18  py310h89163eb_0             conda-forge     Cached\n  + aiosignal                               1.3.2  pyhd8ed1ab_0                conda-forge     Cached\n  + alsa-lib                               1.2.14  hb9d3cd8_0                  conda-forge     Cached\n  + anyio                                   4.9.0  pyh29332c3_0                conda-forge     Cached\n  + aom                                     3.9.1  hac33072_0                  conda-forge     Cached\n  + argon2-cffi                            23.1.0  pyhd8ed1ab_1                conda-forge       19kB\n  + argon2-cffi-bindings                   21.2.0  py310ha75aee5_5             conda-forge       34kB\n  + arrow                                   1.3.0  pyhd8ed1ab_1                conda-forge      100kB\n  + asttokens                               3.0.0  pyhd8ed1ab_1                conda-forge     Cached\n  + async-lru                               2.0.5  pyh29332c3_0                conda-forge       17kB\n  + async-timeout                           5.0.1  pyhd8ed1ab_1                conda-forge     Cached\n  + attrs                                  25.3.0  pyh71513ae_0                conda-forge     Cached\n  + babel                                  2.17.0  pyhd8ed1ab_0                conda-forge        7MB\n  + beautifulsoup4                         4.13.4  pyha770c72_0                conda-forge      147kB\n  + bleach                                  6.2.0  pyh29332c3_4                conda-forge      141kB\n  + bleach-with-css                         6.2.0  h82add2a_4                  conda-forge        4kB\n  + blinker                                 1.9.0  pyhff2d567_0                conda-forge     Cached\n  + brotli                                  1.1.0  hb9d3cd8_2                  conda-forge     Cached\n  + brotli-bin                              1.1.0  hb9d3cd8_2                  conda-forge     Cached\n  + brotli-python                           1.1.0  py310hf71b8c6_2             conda-forge     Cached\n  + bzip2                                   1.0.8  h4bc722e_7                  conda-forge     Cached\n  + c-ares                                 1.34.5  hb9d3cd8_0                  conda-forge     Cached\n  + ca-certificates                     2025.4.26  hbd8a1cb_0                  conda-forge     Cached\n  + cached-property                         1.5.2  hd8ed1ab_1                  conda-forge     Cached\n  + cached_property                         1.5.2  pyha770c72_1                conda-forge     Cached\n  + cairo                                  1.18.4  h3394656_0                  conda-forge     Cached\n  + certifi                             2025.1.31  pyhd8ed1ab_0                conda-forge     Cached\n  + cffi                                   1.17.1  py310h8deb56e_0             conda-forge     Cached\n  + charset-normalizer                      3.4.2  pyhd8ed1ab_0                conda-forge     Cached\n  + click                                   8.1.8  pyh707e725_0                conda-forge     Cached\n  + colorama                                0.4.6  pyhd8ed1ab_1                conda-forge     Cached\n  + comm                                    0.2.2  pyhd8ed1ab_1                conda-forge     Cached\n  + contourpy                               1.3.2  py310h3788b33_0             conda-forge     Cached\n  + cpython                               3.10.17  py310hd8ed1ab_0             conda-forge     Cached\n  + cudatoolkit                            11.8.0  h4ba93d1_13                 conda-forge     Cached\n  + cycler                                 0.12.1  pyhd8ed1ab_1                conda-forge     Cached\n  + cyrus-sasl                             2.1.27  h54b06d7_7                  conda-forge     Cached\n  + dav1d                                   1.2.1  hd590300_0                  conda-forge     Cached\n  + dbus                                   1.13.6  h5008d03_3                  conda-forge     Cached\n  + debugpy                                1.8.14  py310hf71b8c6_0             conda-forge     Cached\n  + decorator                               5.2.1  pyhd8ed1ab_0                conda-forge     Cached\n  + defusedxml                              0.7.1  pyhd8ed1ab_0                conda-forge       24kB\n  + dkh                                       1.2  ha94c79b_3                  conda-forge       65kB\n  + double-conversion                       3.3.1  h5888daf_0                  conda-forge     Cached\n  + exceptiongroup                          1.2.2  pyhd8ed1ab_1                conda-forge     Cached\n  + executing                               2.2.0  pyhd8ed1ab_0                conda-forge     Cached\n  + expat                                   2.7.0  h5888daf_0                  conda-forge     Cached\n  + filelock                               3.18.0  pyhd8ed1ab_0                conda-forge     Cached\n  + flask                                   3.1.0  pyhd8ed1ab_1                conda-forge     Cached\n  + flexcache                                 0.3  pyhd8ed1ab_1                conda-forge       17kB\n  + flexparser                                0.4  pyhd8ed1ab_1                conda-forge       29kB\n  + font-ttf-dejavu-sans-mono                2.37  hab24e00_0                  conda-forge     Cached\n  + font-ttf-inconsolata                    3.000  h77eed37_0                  conda-forge     Cached\n  + font-ttf-source-code-pro                2.038  h77eed37_0                  conda-forge     Cached\n  + font-ttf-ubuntu                          0.83  h77eed37_3                  conda-forge     Cached\n  + fontconfig                             2.15.0  h7e30c49_1                  conda-forge     Cached\n  + fonts-conda-ecosystem                       1  0                           conda-forge     Cached\n  + fonts-conda-forge                           1  0                           conda-forge     Cached\n  + fonttools                              4.57.0  py310h89163eb_0             conda-forge     Cached\n  + fqdn                                    1.5.1  pyhd8ed1ab_1                conda-forge       17kB\n  + freetype                               2.13.3  ha770c72_1                  conda-forge     Cached\n  + frozenlist                              1.5.0  py310h89163eb_1             conda-forge     Cached\n  + fsspec                               2025.3.2  pyhd8ed1ab_0                conda-forge     Cached\n  + gau2grid                                2.0.7  h4bc722e_4                  conda-forge      387kB\n  + giflib                                  5.2.2  hd590300_0                  conda-forge     Cached\n  + git                                    2.49.0  pl5321h59d505e_0            conda-forge     Cached\n  + gmp                                     6.3.0  hac33072_2                  conda-forge     Cached\n  + gmpy2                                   2.2.1  py310he8512ff_0             conda-forge     Cached\n  + graphite2                              1.3.13  h59595ed_1003               conda-forge     Cached\n  + h11                                    0.16.0  pyhd8ed1ab_0                conda-forge     Cached\n  + h2                                      4.2.0  pyhd8ed1ab_0                conda-forge     Cached\n  + harfbuzz                               11.1.0  h3beb420_0                  conda-forge     Cached\n  + hpack                                   4.1.0  pyhd8ed1ab_0                conda-forge     Cached\n  + httpcore                                1.0.9  pyh29332c3_0                conda-forge     Cached\n  + httpx                                  0.28.1  pyhd8ed1ab_0                conda-forge     Cached\n  + hyperframe                              6.1.0  pyhd8ed1ab_0                conda-forge     Cached\n  + icu                                      75.1  he02047a_0                  conda-forge     Cached\n  + idna                                     3.10  pyhd8ed1ab_1                conda-forge     Cached\n  + importlib-metadata                      8.6.1  pyha770c72_0                conda-forge     Cached\n  + importlib_resources                     6.5.2  pyhd8ed1ab_0                conda-forge     Cached\n  + iniconfig                               2.0.0  pyhd8ed1ab_1                conda-forge       11kB\n  + ipykernel                              6.29.5  pyh3099207_0                conda-forge     Cached\n  + ipython                                8.36.0  pyh907856f_0                conda-forge     Cached\n  + ipywidgets                              8.1.7  pyhd8ed1ab_0                conda-forge      115kB\n  + isoduration                           20.11.0  pyhd8ed1ab_1                conda-forge       20kB\n  + itsdangerous                            2.2.0  pyhd8ed1ab_1                conda-forge     Cached\n  + jedi                                   0.19.2  pyhd8ed1ab_1                conda-forge     Cached\n  + jinja2                                  3.1.6  pyhd8ed1ab_0                conda-forge     Cached\n  + json5                                  0.12.0  pyhd8ed1ab_0                conda-forge       34kB\n  + jsonpointer                             3.0.0  py310hff52083_1             conda-forge       16kB\n  + jsonschema                             4.23.0  pyhd8ed1ab_1                conda-forge     Cached\n  + jsonschema-specifications            2025.4.1  pyh29332c3_0                conda-forge     Cached\n  + jsonschema-with-format-nongpl          4.23.0  hd8ed1ab_1                  conda-forge        7kB\n  + jupyter                                 1.1.1  pyhd8ed1ab_1                conda-forge        9kB\n  + jupyter-lsp                             2.2.5  pyhd8ed1ab_1                conda-forge       55kB\n  + jupyter_client                          8.6.3  pyhd8ed1ab_1                conda-forge     Cached\n  + jupyter_console                         6.6.3  pyhd8ed1ab_1                conda-forge       27kB\n  + jupyter_core                            5.7.2  pyh31011fe_1                conda-forge     Cached\n  + jupyter_events                         0.12.0  pyh29332c3_0                conda-forge       24kB\n  + jupyter_server                         2.15.0  pyhd8ed1ab_0                conda-forge      328kB\n  + jupyter_server_terminals                0.5.3  pyhd8ed1ab_1                conda-forge       20kB\n  + jupyterlab                              4.4.1  pyhd8ed1ab_0                conda-forge        8MB\n  + jupyterlab_pygments                     0.3.0  pyhd8ed1ab_2                conda-forge       19kB\n  + jupyterlab_server                      2.27.3  pyhd8ed1ab_1                conda-forge       49kB\n  + jupyterlab_widgets                     3.0.15  pyhd8ed1ab_0                conda-forge      189kB\n  + kaldi                                5.5.1112  cpu_hb028f0a_8              conda-forge       21MB\n  + kernel-headers_linux-64                3.10.0  he073ed8_18                 conda-forge     Cached\n  + keyutils                                1.6.1  h166bdaf_0                  conda-forge     Cached\n  + kiwisolver                              1.4.7  py310h3788b33_0             conda-forge     Cached\n  + krb5                                   1.21.3  h659f571_0                  conda-forge     Cached\n  + lcms2                                    2.17  h717163a_0                  conda-forge     Cached\n  + ld_impl_linux-64                         2.43  h712a8e2_4                  conda-forge     Cached\n  + lerc                                    4.0.0  h0aef613_1                  conda-forge     Cached\n  + libabseil                          20250127.1  cxx17_hbbce691_0            conda-forge     Cached\n  + libavif16                               1.2.1  hbb36593_2                  conda-forge     Cached\n  + libblas                                 3.9.0  31_hfdb39a5_mkl             conda-forge     Cached\n  + libbrotlicommon                         1.1.0  hb9d3cd8_2                  conda-forge     Cached\n  + libbrotlidec                            1.1.0  hb9d3cd8_2                  conda-forge     Cached\n  + libbrotlienc                            1.1.0  hb9d3cd8_2                  conda-forge     Cached\n  + libcblas                                3.9.0  31_h372d94f_mkl             conda-forge     Cached\n  + libclang-cpp20.1                       20.1.4  default_h1df26ce_0          conda-forge     Cached\n  + libclang13                             20.1.4  default_he06ed0a_0          conda-forge     Cached\n  + libcups                                 2.3.3  h4637d8d_4                  conda-forge     Cached\n  + libcurl                                8.13.0  h332b0f4_0                  conda-forge     Cached\n  + libde265                               1.0.15  h00ab1b0_0                  conda-forge      412kB\n  + libdeflate                               1.23  h86f0d12_0                  conda-forge     Cached\n  + libdrm                                2.4.124  hb9d3cd8_0                  conda-forge     Cached\n  + libecpint                               1.0.7  h981d57b_12                 conda-forge      359kB\n  + libedit                          3.1.20250104  pl5321h7949ede_0            conda-forge     Cached\n  + libegl                                  1.7.0  ha4b6fd6_2                  conda-forge     Cached\n  + libev                                    4.33  hd590300_2                  conda-forge     Cached\n  + libexpat                                2.7.0  h5888daf_0                  conda-forge     Cached\n  + libffi                                  3.4.6  h2dba641_1                  conda-forge     Cached\n  + libfreetype                            2.13.3  ha770c72_1                  conda-forge     Cached\n  + libfreetype6                           2.13.3  h48d6fc4_1                  conda-forge     Cached\n  + libgcc                                 14.2.0  h767d61c_2                  conda-forge     Cached\n  + libgcc-ng                              14.2.0  h69a702a_2                  conda-forge     Cached\n  + libgfortran                            14.2.0  h69a702a_2                  conda-forge     Cached\n  + libgfortran5                           14.2.0  hf1ad2bd_2                  conda-forge     Cached\n  + libgl                                   1.7.0  ha4b6fd6_2                  conda-forge     Cached\n  + libglib                                2.84.1  h2ff4ddf_0                  conda-forge     Cached\n  + libglvnd                                1.7.0  ha4b6fd6_2                  conda-forge     Cached\n  + libglx                                  1.7.0  ha4b6fd6_2                  conda-forge     Cached\n  + libheif                                1.19.7  gpl_hc18d805_100            conda-forge      597kB\n  + libhwloc                               2.11.2  default_h0d58e46_1001       conda-forge     Cached\n  + libiconv                                 1.18  h4ce23a2_1                  conda-forge     Cached\n  + libint                                  2.9.0  h23769fb_2                  conda-forge       76MB\n  + libjpeg-turbo                           3.1.0  hb9d3cd8_0                  conda-forge     Cached\n  + liblapack                               3.9.0  31_hc41d3b0_mkl             conda-forge     Cached\n  + liblapacke                              3.9.0  31_hbc6e62b_mkl             conda-forge       17kB\n  + libllvm20                              20.1.4  he9d0ab4_0                  conda-forge     Cached\n  + liblzma                                 5.8.1  hb9d3cd8_0                  conda-forge     Cached\n  + libnghttp2                             1.64.0  h161d5f1_0                  conda-forge     Cached\n  + libnsl                                  2.0.1  hd590300_0                  conda-forge     Cached\n  + libntlm                                   1.8  hb9d3cd8_0                  conda-forge     Cached\n  + libopengl                               1.7.0  ha4b6fd6_2                  conda-forge       51kB\n  + libpciaccess                             0.18  hd590300_0                  conda-forge     Cached\n  + libpcm                                  1.2.3  hdca9e5a_15                 conda-forge      571kB\n  + libpng                                 1.6.47  h943b412_0                  conda-forge     Cached\n  + libpq                                    17.4  h27ae623_1                  conda-forge     Cached\n  + libprotobuf                            5.29.3  h501fc15_1                  conda-forge     Cached\n  + libsodium                              1.0.20  h4ab18f5_0                  conda-forge     Cached\n  + libsqlite                              3.49.1  hee588c1_2                  conda-forge     Cached\n  + libssh2                                1.11.1  hcf80075_0                  conda-forge     Cached\n  + libstdcxx                              14.2.0  h8f9b012_2                  conda-forge     Cached\n  + libstdcxx-ng                           14.2.0  h4852527_2                  conda-forge     Cached\n  + libtiff                                 4.7.0  hd9ff511_4                  conda-forge     Cached\n  + libtorch                                2.5.1  cpu_mkl_hf6ddc5a_117        conda-forge       54MB\n  + libuuid                                2.38.1  h0b41bf4_0                  conda-forge     Cached\n  + libuv                                  1.50.0  hb9d3cd8_0                  conda-forge     Cached\n  + libwebp-base                            1.5.0  h851e524_0                  conda-forge     Cached\n  + libxc-c                                 7.0.0  cpu_h20a523f_2              conda-forge       59MB\n  + libxcb                                 1.17.0  h8a09558_0                  conda-forge     Cached\n  + libxcrypt                              4.4.36  hd590300_1                  conda-forge     Cached\n  + libxkbcommon                            1.9.1  h65c71a3_0                  conda-forge     Cached\n  + libxml2                                2.13.7  h4bc477f_1                  conda-forge     Cached\n  + libxslt                                1.1.39  h76b75d6_0                  conda-forge     Cached\n  + libzlib                                 1.3.1  hb9d3cd8_2                  conda-forge     Cached\n  + llvm-openmp                            20.1.4  h024ca30_0                  conda-forge     Cached\n  + lz4-c                                  1.10.0  h5888daf_1                  conda-forge     Cached\n  + markupsafe                              3.0.2  py310h89163eb_1             conda-forge     Cached\n  + matplotlib                             3.10.1  py310hff52083_0             conda-forge       17kB\n  + matplotlib-base                        3.10.1  py310h68603db_0             conda-forge     Cached\n  + matplotlib-inline                       0.1.7  pyhd8ed1ab_1                conda-forge     Cached\n  + mistune                                 3.1.3  pyh29332c3_0                conda-forge       73kB\n  + mkl                                  2024.2.2  ha957f24_16                 conda-forge     Cached\n  + mpc                                     1.3.1  h24ddda3_1                  conda-forge     Cached\n  + mpfr                                    4.2.1  h90cbb55_3                  conda-forge     Cached\n  + mpmath                                  1.3.0  pyhd8ed1ab_1                conda-forge     Cached\n  + msgpack-python                          1.1.0  py310h3788b33_0             conda-forge     Cached\n  + multidict                               6.4.3  py310h89163eb_0             conda-forge     Cached\n  + munkres                                 1.1.4  pyh9f0ad1d_0                conda-forge     Cached\n  + mysql-common                            9.2.0  h266115a_0                  conda-forge     Cached\n  + mysql-libs                              9.2.0  he0572af_0                  conda-forge     Cached\n  + nbclient                               0.10.2  pyhd8ed1ab_0                conda-forge       28kB\n  + nbconvert-core                         7.16.6  pyh29332c3_0                conda-forge      201kB\n  + nbformat                               5.10.4  pyhd8ed1ab_1                conda-forge      101kB\n  + ncurses                                   6.5  h2d0b736_3                  conda-forge     Cached\n  + nest-asyncio                            1.6.0  pyhd8ed1ab_1                conda-forge     Cached\n  + networkx                                3.4.2  pyh267e887_2                conda-forge     Cached\n  + notebook                                7.4.1  pyhd8ed1ab_0                conda-forge       10MB\n  + notebook-shim                           0.2.4  pyhd8ed1ab_1                conda-forge       17kB\n  + numpy                                   2.2.5  py310hefbff90_0             conda-forge     Cached\n  + openfst                                 1.8.3  h84d6215_3                  conda-forge     Cached\n  + openjpeg                                2.5.3  h5fbd93e_0                  conda-forge     Cached\n  + openldap                                2.6.9  he970967_0                  conda-forge     Cached\n  + openssl                                 3.5.0  h7b32b05_1                  conda-forge     Cached\n  + optking                                 0.3.0  pyhd8ed1ab_0                conda-forge      143kB\n  + overrides                               7.7.0  pyhd8ed1ab_1                conda-forge       30kB\n  + packaging                                25.0  pyh29332c3_1                conda-forge     Cached\n  + pandas                                  2.2.3  py310h5eaa309_3             conda-forge     Cached\n  + pandocfilters                           1.5.0  pyhd8ed1ab_0                conda-forge       12kB\n  + parso                                   0.8.4  pyhd8ed1ab_1                conda-forge     Cached\n  + pcmsolver                               1.2.3  py_15                       conda-forge      100kB\n  + pcre2                                   10.44  hc749103_2                  conda-forge     Cached\n  + perl                                   5.32.1  7_hd590300_perl5            conda-forge     Cached\n  + pexpect                                 4.9.0  pyhd8ed1ab_1                conda-forge     Cached\n  + pickleshare                             0.7.5  pyhd8ed1ab_1004             conda-forge     Cached\n  + pillow                                 11.1.0  py310h7e6dc6c_0             conda-forge     Cached\n  + pint                                   0.24.4  pyhd8ed1ab_1                conda-forge      230kB\n  + pip                                    25.1.1  pyh8b19718_0                conda-forge     Cached\n  + pixman                                 0.46.0  h29eaf8c_0                  conda-forge     Cached\n  + pkgutil-resolve-name                   1.3.10  pyhd8ed1ab_2                conda-forge     Cached\n  + platformdirs                            4.3.7  pyh29332c3_0                conda-forge     Cached\n  + pluggy                                  1.5.0  pyhd8ed1ab_1                conda-forge       24kB\n  + postgresql                               17.4  h9e3fa73_1                  conda-forge        6MB\n  + prometheus_client                      0.21.1  pyhd8ed1ab_0                conda-forge       49kB\n  + prompt-toolkit                         3.0.51  pyha770c72_0                conda-forge     Cached\n  + prompt_toolkit                         3.0.51  hd8ed1ab_0                  conda-forge        7kB\n  + propcache                               0.3.1  py310h89163eb_0             conda-forge     Cached\n  + psi4                                    1.9.1  py310hb6a4943_10            conda-forge       29MB\n  + psutil                                  7.0.0  py310ha75aee5_0             conda-forge     Cached\n  + psycopg2                                2.9.9  py310hce86986_2             conda-forge      174kB\n  + pthread-stubs                             0.4  hb9d3cd8_1002               conda-forge     Cached\n  + ptyprocess                              0.7.0  pyhd8ed1ab_1                conda-forge     Cached\n  + pugixml                                  1.15  h3f63f65_0                  conda-forge     Cached\n  + pure_eval                               0.2.3  pyhd8ed1ab_1                conda-forge     Cached\n  + py-cpuinfo                              9.0.0  pyhd8ed1ab_1                conda-forge       26kB\n  + pybind11                               2.13.6  pyh1ec8472_2                conda-forge     Cached\n  + pybind11-abi                                4  hd8ed1ab_3                  conda-forge       10kB\n  + pybind11-global                        2.13.6  pyh415d2e4_2                conda-forge     Cached\n  + pycparser                                2.22  pyh29332c3_1                conda-forge     Cached\n  + pydantic                              1.10.21  py310h727ffd4_0             conda-forge        2MB\n  + pygments                               2.19.1  pyhd8ed1ab_0                conda-forge     Cached\n  + pyparsing                               3.2.3  pyhd8ed1ab_1                conda-forge     Cached\n  + pyside6                                 6.9.0  py310hfd10a26_0             conda-forge       10MB\n  + pysocks                                 1.7.1  pyha55dd90_7                conda-forge     Cached\n  + pytest                                  8.3.5  pyhd8ed1ab_0                conda-forge      260kB\n  + python                                3.10.17  hd6af730_0_cpython          conda-forge     Cached\n  + python-dateutil                   2.9.0.post0  pyhff2d567_1                conda-forge     Cached\n  + python-fastjsonschema                  2.21.1  pyhd8ed1ab_0                conda-forge      226kB\n  + python-json-logger                      2.0.7  pyhd8ed1ab_0                conda-forge       13kB\n  + python-tzdata                          2025.2  pyhd8ed1ab_0                conda-forge     Cached\n  + python-wget                               3.2  py_0                        conda-forge     Cached\n  + python_abi                               3.10  7_cp310                     conda-forge     Cached\n  + pytorch                                 2.5.1  cpu_mkl_py310_h8ec2884_117  conda-forge       24MB\n  + pytorch-cpu                             2.5.1  cpu_mkl_hc60beec_117        conda-forge       51kB\n  + pytorch-minimize                        0.0.2  pyhd8ed1ab_1                conda-forge       49kB\n  + pytorch_geometric                       2.6.1  pyhecae5ae_2                conda-forge      598kB\n  + pytorch_scatter                         2.1.2  cpu_py310h4c4a1c3_10        conda-forge      260kB\n  + pytz                                   2025.2  pyhd8ed1ab_0                conda-forge     Cached\n  + pyyaml                                  6.0.2  py310h89163eb_2             conda-forge     Cached\n  + pyzmq                                  26.4.0  py310h71f11fc_0             conda-forge     Cached\n  + qcelemental                            0.29.0  pyhd8ed1ab_1                conda-forge      255kB\n  + qcengine                               0.32.0  pyhd8ed1ab_0                conda-forge      244kB\n  + qhull                                  2020.2  h434a139_5                  conda-forge     Cached\n  + qt6-main                                6.9.0  h6441bc3_1                  conda-forge       52MB\n  + rav1e                                   0.6.6  he8a937b_2                  conda-forge     Cached\n  + readline                                  8.2  h8c095d6_2                  conda-forge     Cached\n  + referencing                            0.36.2  pyh29332c3_0                conda-forge     Cached\n  + requests                               2.32.3  pyhd8ed1ab_1                conda-forge     Cached\n  + rfc3339-validator                       0.1.4  pyhd8ed1ab_1                conda-forge       10kB\n  + rfc3986-validator                       0.1.1  pyh9f0ad1d_0                conda-forge        8kB\n  + rpds-py                                0.24.0  py310hc1293b2_0             conda-forge     Cached\n  + scipy                                  1.15.2  py310h1d65ade_0             conda-forge     Cached\n  + send2trash                              1.8.3  pyh0d859eb_1                conda-forge       23kB\n  + setuptools                             75.8.2  pyhff2d567_0                conda-forge     Cached\n  + six                                    1.17.0  pyhd8ed1ab_0                conda-forge     Cached\n  + sleef                                     3.8  h1b44611_0                  conda-forge     Cached\n  + sniffio                                 1.3.1  pyhd8ed1ab_1                conda-forge     Cached\n  + soupsieve                                 2.5  pyhd8ed1ab_1                conda-forge       37kB\n  + stack_data                              0.6.3  pyhd8ed1ab_1                conda-forge     Cached\n  + svt-av1                                 3.0.2  h5888daf_0                  conda-forge     Cached\n  + sympy                                  1.14.0  pyh2585a3b_105              conda-forge     Cached\n  + sysroot_linux-64                         2.17  h0157908_18                 conda-forge     Cached\n  + tbb                                 2021.13.0  hceb3a55_1                  conda-forge     Cached\n  + terminado                              0.18.1  pyh0d859eb_0                conda-forge       22kB\n  + tinycss2                                1.4.0  pyhd8ed1ab_0                conda-forge       28kB\n  + tk                                     8.6.13  noxft_h4845f30_101          conda-forge     Cached\n  + tomli                                   2.2.1  pyhd8ed1ab_1                conda-forge       19kB\n  + torchaudio                              2.5.1  cpu_py310h845ff4e_1         conda-forge        5MB\n  + torchvision                            0.20.1  cpu_py310_he61ac84_6        conda-forge        1MB\n  + tornado                                 6.4.2  py310ha75aee5_0             conda-forge     Cached\n  + tqdm                                   4.67.1  pyhd8ed1ab_1                conda-forge     Cached\n  + traitlets                              5.14.3  pyhd8ed1ab_1                conda-forge     Cached\n  + types-python-dateutil          2.9.0.20241206  pyhd8ed1ab_0                conda-forge       22kB\n  + typing-extensions                      4.13.2  h0e9735f_0                  conda-forge     Cached\n  + typing_extensions                      4.13.2  pyh29332c3_0                conda-forge     Cached\n  + typing_utils                            0.1.0  pyhd8ed1ab_1                conda-forge       15kB\n  + tzcode                                  2025b  hb9d3cd8_0                  conda-forge       70kB\n  + tzdata                                  2025b  h78e105d_0                  conda-forge     Cached\n  + unicodedata2                           16.0.0  py310ha75aee5_0             conda-forge     Cached\n  + uri-template                            1.3.0  pyhd8ed1ab_1                conda-forge       24kB\n  + urllib3                                 2.4.0  pyhd8ed1ab_0                conda-forge     Cached\n  + wayland                                1.23.1  h3e06ad9_1                  conda-forge     Cached\n  + wcwidth                                0.2.13  pyhd8ed1ab_1                conda-forge     Cached\n  + webcolors                             24.11.1  pyhd8ed1ab_0                conda-forge       18kB\n  + webencodings                            0.5.1  pyhd8ed1ab_3                conda-forge       15kB\n  + websocket-client                        1.8.0  pyhd8ed1ab_1                conda-forge       47kB\n  + werkzeug                                3.1.3  pyhd8ed1ab_1                conda-forge     Cached\n  + wheel                                  0.45.1  pyhd8ed1ab_1                conda-forge     Cached\n  + widgetsnbextension                     4.0.14  pyhd8ed1ab_0                conda-forge      889kB\n  + x265                                      3.5  h924138e_3                  conda-forge        3MB\n  + xcb-util                                0.4.1  hb711507_2                  conda-forge     Cached\n  + xcb-util-cursor                         0.1.5  hb9d3cd8_0                  conda-forge     Cached\n  + xcb-util-image                          0.4.0  hb711507_2                  conda-forge     Cached\n  + xcb-util-keysyms                        0.4.1  hb711507_0                  conda-forge     Cached\n  + xcb-util-renderutil                    0.3.10  hb711507_0                  conda-forge     Cached\n  + xcb-util-wm                             0.4.2  hb711507_0                  conda-forge     Cached\n  + xkeyboard-config                         2.44  hb9d3cd8_0                  conda-forge     Cached\n  + xorg-libice                             1.1.2  hb9d3cd8_0                  conda-forge     Cached\n  + xorg-libsm                              1.2.6  he73a12e_0                  conda-forge     Cached\n  + xorg-libx11                            1.8.12  h4f16b4b_0                  conda-forge     Cached\n  + xorg-libxau                            1.0.12  hb9d3cd8_0                  conda-forge     Cached\n  + xorg-libxcomposite                      0.4.6  hb9d3cd8_2                  conda-forge     Cached\n  + xorg-libxcursor                         1.2.3  hb9d3cd8_0                  conda-forge     Cached\n  + xorg-libxdamage                         1.1.6  hb9d3cd8_0                  conda-forge     Cached\n  + xorg-libxdmcp                           1.1.5  hb9d3cd8_0                  conda-forge     Cached\n  + xorg-libxext                            1.3.6  hb9d3cd8_0                  conda-forge     Cached\n  + xorg-libxfixes                          6.0.1  hb9d3cd8_0                  conda-forge     Cached\n  + xorg-libxi                              1.8.2  hb9d3cd8_0                  conda-forge     Cached\n  + xorg-libxrandr                          1.5.4  hb9d3cd8_0                  conda-forge     Cached\n  + xorg-libxrender                        0.9.12  hb9d3cd8_0                  conda-forge     Cached\n  + xorg-libxtst                            1.2.5  hb9d3cd8_3                  conda-forge     Cached\n  + xorg-libxxf86vm                         1.1.6  hb9d3cd8_0                  conda-forge     Cached\n  + yaml                                    0.2.5  h7f98852_2                  conda-forge     Cached\n  + yarl                                   1.20.0  py310h89163eb_0             conda-forge     Cached\n  + zeromq                                  4.3.5  h3b0a872_7                  conda-forge     Cached\n  + zipp                                   3.21.0  pyhd8ed1ab_1                conda-forge     Cached\n  + zstandard                              0.23.0  py310ha75aee5_2             conda-forge     Cached\n  + zstd                                    1.5.7  hb8e6e7a_2                  conda-forge     Cached\n\n  Summary:\n\n  Install: 343 packages\n\n  Total download: 376MB\n\n───────────────────────────────────────────────────────────────────────────────────────────────────────\n\n\n\nTransaction starting\nLinking llvm-openmp-20.1.4-h024ca30_0\nLinking ld_impl_linux-64-2.43-h712a8e2_4\nLinking libglvnd-1.7.0-ha4b6fd6_2\nLinking _openmp_mutex-4.5-3_kmp_llvm\nLinking libopengl-1.7.0-ha4b6fd6_2\nLinking libegl-1.7.0-ha4b6fd6_2\nLinking libgcc-14.2.0-h767d61c_2\nLinking libdeflate-1.23-h86f0d12_0\nLinking alsa-lib-1.2.14-hb9d3cd8_0\nLinking c-ares-1.34.5-hb9d3cd8_0\nLinking xorg-libice-1.1.2-hb9d3cd8_0\nLinking libntlm-1.8-hb9d3cd8_0\nLinking libbrotlicommon-1.1.0-hb9d3cd8_2\nLinking xorg-libxdmcp-1.1.5-hb9d3cd8_0\nLinking xorg-libxau-1.0.12-hb9d3cd8_0\nLinking pthread-stubs-0.4-hb9d3cd8_1002\nLinking libiconv-1.18-h4ce23a2_1\nLinking tzcode-2025b-hb9d3cd8_0\nLinking libxc-c-7.0.0-cpu_h20a523f_2\nLinking ncurses-6.5-h2d0b736_3\nLinking libffi-3.4.6-h2dba641_1\nLinking libgfortran5-14.2.0-hf1ad2bd_2\nLinking libzlib-1.3.1-hb9d3cd8_2\nLinking libjpeg-turbo-3.1.0-hb9d3cd8_0\nLinking libstdcxx-14.2.0-h8f9b012_2\nLinking libgcc-ng-14.2.0-h69a702a_2\nLinking libwebp-base-1.5.0-h851e524_0\nLinking libuv-1.50.0-hb9d3cd8_0\nLinking liblzma-5.8.1-hb9d3cd8_0\nLinking libexpat-2.7.0-h5888daf_0\nLinking libbrotlienc-1.1.0-hb9d3cd8_2\nLinking libbrotlidec-1.1.0-hb9d3cd8_2\nLinking libxcb-1.17.0-h8a09558_0\nLinking libedit-3.1.20250104-pl5321h7949ede_0\nLinking readline-8.2-h8c095d6_2\nLinking libgfortran-14.2.0-h69a702a_2\nLinking libsqlite-3.49.1-hee588c1_2\nLinking libpng-1.6.47-h943b412_0\nLinking pixman-0.46.0-h29eaf8c_0\nLinking double-conversion-3.3.1-h5888daf_0\nLinking openfst-1.8.3-h84d6215_3\nLinking lerc-4.0.0-h0aef613_1\nLinking zstd-1.5.7-hb8e6e7a_2\nLinking lz4-c-1.10.0-h5888daf_1\nLinking libint-2.9.0-h23769fb_2\nLinking pugixml-1.15-h3f63f65_0\nLinking libstdcxx-ng-14.2.0-h4852527_2\nLinking svt-av1-3.0.2-h5888daf_0\nLinking sleef-3.8-h1b44611_0\nLinking libabseil-20250127.1-cxx17_hbbce691_0\nLinking libev-4.33-hd590300_2\nLinking libpciaccess-0.18-hd590300_0\nLinking rav1e-0.6.6-he8a937b_2\nLinking gau2grid-2.0.7-h4bc722e_4\nLinking tk-8.6.13-noxft_h4845f30_101\nLinking libxcrypt-4.4.36-hd590300_1\nLinking yaml-0.2.5-h7f98852_2\nLinking bzip2-1.0.8-h4bc722e_7\nLinking dav1d-1.2.1-hd590300_0\nLinking libsodium-1.0.20-h4ab18f5_0\nLinking giflib-5.2.2-hd590300_0\nLinking libuuid-2.38.1-h0b41bf4_0\nLinking libnsl-2.0.1-hd590300_0\nLinking keyutils-1.6.1-h166bdaf_0\nLinking expat-2.7.0-h5888daf_0\nLinking wayland-1.23.1-h3e06ad9_1\nLinking brotli-bin-1.1.0-hb9d3cd8_2\nLinking xorg-libx11-1.8.12-h4f16b4b_0\nLinking xcb-util-wm-0.4.2-hb711507_0\nLinking xcb-util-renderutil-0.3.10-hb711507_0\nLinking xcb-util-keysyms-0.4.1-hb711507_0\nLinking xcb-util-0.4.1-hb711507_2\nLinking libpcm-1.2.3-hdca9e5a_15\nLinking libfreetype6-2.13.3-h48d6fc4_1\nLinking libtiff-4.7.0-hd9ff511_4\nLinking libecpint-1.0.7-h981d57b_12\nLinking graphite2-1.3.13-h59595ed_1003\nLinking gmp-6.3.0-hac33072_2\nLinking x265-3.5-h924138e_3\nLinking qhull-2020.2-h434a139_5\nLinking cudatoolkit-11.8.0-h4ba93d1_13\nBy downloading and using the CUDA Toolkit conda packages, you accept the terms and conditions of the CUDA End User License Agreement (EULA): https://docs.nvidia.com/cuda/eula/index.html\n\nLinking libde265-1.0.15-h00ab1b0_0\nLinking aom-3.9.1-hac33072_0\nLinking icu-75.1-he02047a_0\nLinking libprotobuf-5.29.3-h501fc15_1\nLinking libdrm-2.4.124-hb9d3cd8_0\nLinking perl-5.32.1-7_hd590300_perl5\nLinking pcre2-10.44-hc749103_2\nLinking xorg-libsm-1.2.6-he73a12e_0\nLinking brotli-1.1.0-hb9d3cd8_2\nLinking xorg-libxrender-0.9.12-hb9d3cd8_0\nLinking xkeyboard-config-2.44-hb9d3cd8_0\nLinking xorg-libxfixes-6.0.1-hb9d3cd8_0\nLinking xorg-libxext-1.3.6-hb9d3cd8_0\nLinking libglx-1.7.0-ha4b6fd6_2\nLinking xcb-util-image-0.4.0-hb711507_2\nLinking libfreetype-2.13.3-ha770c72_1\nLinking lcms2-2.17-h717163a_0\nLinking openjpeg-2.5.3-h5fbd93e_0\nLinking mpfr-4.2.1-h90cbb55_3\nLinking libavif16-1.2.1-hbb36593_2\nLinking libxml2-2.13.7-h4bc477f_1\nLinking libglib-2.84.1-h2ff4ddf_0\nLinking xorg-libxcomposite-0.4.6-hb9d3cd8_2\nLinking xorg-libxcursor-1.2.3-hb9d3cd8_0\nLinking xorg-libxi-1.8.2-hb9d3cd8_0\nLinking xorg-libxxf86vm-1.1.6-hb9d3cd8_0\nLinking xorg-libxrandr-1.5.4-hb9d3cd8_0\nLinking xorg-libxdamage-1.1.6-hb9d3cd8_0\nLinking libgl-1.7.0-ha4b6fd6_2\nLinking xcb-util-cursor-0.1.5-hb9d3cd8_0\nLinking freetype-2.13.3-ha770c72_1\nLinking mpc-1.3.1-h24ddda3_1\nLinking libheif-1.19.7-gpl_hc18d805_100\nLinking libxkbcommon-1.9.1-h65c71a3_0\nLinking libllvm20-20.1.4-he9d0ab4_0\nLinking libhwloc-2.11.2-default_h0d58e46_1001\nLinking libxslt-1.1.39-h76b75d6_0\nLinking dbus-1.13.6-h5008d03_3\nLinking xorg-libxtst-1.2.5-hb9d3cd8_3\nLinking fontconfig-2.15.0-h7e30c49_1\nLinking libclang-cpp20.1-20.1.4-default_h1df26ce_0\nLinking libclang13-20.1.4-default_he06ed0a_0\nLinking tbb-2021.13.0-hceb3a55_1\nLinking mkl-2024.2.2-ha957f24_16\nLinking libblas-3.9.0-31_hfdb39a5_mkl\nLinking dkh-1.2-ha94c79b_3\nLinking libcblas-3.9.0-31_h372d94f_mkl\nLinking liblapack-3.9.0-31_hc41d3b0_mkl\nLinking libtorch-2.5.1-cpu_mkl_hf6ddc5a_117\nLinking liblapacke-3.9.0-31_hbc6e62b_mkl\nLinking kaldi-5.5.1112-cpu_hb028f0a_8\nLinking python_abi-3.10-7_cp310\nLinking tzdata-2025b-h78e105d_0\nLinking pybind11-abi-4-hd8ed1ab_3\nLinking ca-certificates-2025.4.26-hbd8a1cb_0\nLinking font-ttf-dejavu-sans-mono-2.37-hab24e00_0\nLinking font-ttf-ubuntu-0.83-h77eed37_3\nLinking font-ttf-inconsolata-3.000-h77eed37_0\nLinking font-ttf-source-code-pro-2.038-h77eed37_0\nLinking kernel-headers_linux-64-3.10.0-he073ed8_18\nLinking fonts-conda-forge-1-0\nLinking sysroot_linux-64-2.17-h0157908_18\nLinking fonts-conda-ecosystem-1-0\nLinking openssl-3.5.0-h7b32b05_1\nLinking cairo-1.18.4-h3394656_0\nLinking libssh2-1.11.1-hcf80075_0\nLinking mysql-common-9.2.0-h266115a_0\nLinking libnghttp2-1.64.0-h161d5f1_0\nLinking python-3.10.17-hd6af730_0_cpython\nLinking krb5-1.21.3-h659f571_0\nLinking harfbuzz-11.1.0-h3beb420_0\nLinking mysql-libs-9.2.0-he0572af_0\nLinking libcups-2.3.3-h4637d8d_4\nLinking libcurl-8.13.0-h332b0f4_0\nLinking zeromq-4.3.5-h3b0a872_7\nLinking cyrus-sasl-2.1.27-h54b06d7_7\nLinking git-2.49.0-pl5321h59d505e_0\nLinking openldap-2.6.9-he970967_0\nLinking libpq-17.4-h27ae623_1\nLinking qt6-main-6.9.0-h6441bc3_1\nLinking postgresql-17.4-h9e3fa73_1\nLinking wheel-0.45.1-pyhd8ed1ab_1\nLinking setuptools-75.8.2-pyhff2d567_0\nLinking pip-25.1.1-pyh8b19718_0\nLinking pybind11-global-2.13.6-pyh415d2e4_2\nLinking python-fastjsonschema-2.21.1-pyhd8ed1ab_0\nLinking typing_utils-0.1.0-pyhd8ed1ab_1\nLinking cached_property-1.5.2-pyha770c72_1\nLinking pycparser-2.22-pyh29332c3_1\nLinking types-python-dateutil-2.9.0.20241206-pyhd8ed1ab_0\nLinking soupsieve-2.5-pyhd8ed1ab_1\nLinking webencodings-0.5.1-pyhd8ed1ab_3\nLinking sniffio-1.3.1-pyhd8ed1ab_1\nLinking parso-0.8.4-pyhd8ed1ab_1\nLinking pkgutil-resolve-name-1.3.10-pyhd8ed1ab_2\nLinking webcolors-24.11.1-pyhd8ed1ab_0\nLinking uri-template-1.3.0-pyhd8ed1ab_1\nLinking python-json-logger-2.0.7-pyhd8ed1ab_0\nLinking websocket-client-1.8.0-pyhd8ed1ab_1\nLinking send2trash-1.8.3-pyh0d859eb_1\nLinking prometheus_client-0.21.1-pyhd8ed1ab_0\nLinking rfc3986-validator-0.1.1-pyh9f0ad1d_0\nLinking json5-0.12.0-pyhd8ed1ab_0\nLinking pandocfilters-1.5.0-pyhd8ed1ab_0\nLinking defusedxml-0.7.1-pyhd8ed1ab_0\nLinking ptyprocess-0.7.0-pyhd8ed1ab_1\nLinking wcwidth-0.2.13-pyhd8ed1ab_1\nLinking six-1.17.0-pyhd8ed1ab_0\nLinking pure_eval-0.2.3-pyhd8ed1ab_1\nLinking executing-2.2.0-pyhd8ed1ab_0\nLinking asttokens-3.0.0-pyhd8ed1ab_1\nLinking cpython-3.10.17-py310hd8ed1ab_0\nLinking mpmath-1.3.0-pyhd8ed1ab_1\nLinking pysocks-1.7.1-pyha55dd90_7\nLinking hyperframe-6.1.0-pyhd8ed1ab_0\nLinking hpack-4.1.0-pyhd8ed1ab_0\nLinking attrs-25.3.0-pyh71513ae_0\nLinking async-timeout-5.0.1-pyhd8ed1ab_1\nLinking aiohappyeyeballs-2.6.1-pyhd8ed1ab_0\nLinking munkres-1.1.4-pyh9f0ad1d_0\nLinking cycler-0.12.1-pyhd8ed1ab_1\nLinking pytz-2025.2-pyhd8ed1ab_0\nLinking python-tzdata-2025.2-pyhd8ed1ab_0\nLinking pcmsolver-1.2.3-py_15\nLinking networkx-3.4.2-pyh267e887_2\nLinking filelock-3.18.0-pyhd8ed1ab_0\nLinking itsdangerous-2.2.0-pyhd8ed1ab_1\nLinking click-8.1.8-pyh707e725_0\nLinking zipp-3.21.0-pyhd8ed1ab_1\nLinking nest-asyncio-1.6.0-pyhd8ed1ab_1\nLinking pygments-2.19.1-pyhd8ed1ab_0\nLinking pickleshare-0.7.5-pyhd8ed1ab_1004\nLinking decorator-5.2.1-pyhd8ed1ab_0\nLinking widgetsnbextension-4.0.14-pyhd8ed1ab_0\nLinking jupyterlab_widgets-3.0.15-pyhd8ed1ab_0\nLinking traitlets-5.14.3-pyhd8ed1ab_1\nLinking typing_extensions-4.13.2-pyh29332c3_0\nLinking platformdirs-4.3.7-pyh29332c3_0\nLinking tomli-2.2.1-pyhd8ed1ab_1\nLinking pluggy-1.5.0-pyhd8ed1ab_1\nLinking iniconfig-2.0.0-pyhd8ed1ab_1\nLinking exceptiongroup-1.2.2-pyhd8ed1ab_1\nLinking fsspec-2025.3.2-pyhd8ed1ab_0\nLinking pyparsing-3.2.3-pyhd8ed1ab_1\nLinking py-cpuinfo-9.0.0-pyhd8ed1ab_1\nLinking packaging-25.0-pyh29332c3_1\nLinking charset-normalizer-3.4.2-pyhd8ed1ab_0\nLinking idna-3.10-pyhd8ed1ab_1\nLinking certifi-2025.1.31-pyhd8ed1ab_0\nLinking colorama-0.4.6-pyhd8ed1ab_1\nLinking python-wget-3.2-py_0\nLinking blinker-1.9.0-pyhff2d567_0\nLinking pybind11-2.13.6-pyh1ec8472_2\nLinking overrides-7.7.0-pyhd8ed1ab_1\nLinking cached-property-1.5.2-hd8ed1ab_1\nLinking tinycss2-1.4.0-pyhd8ed1ab_0\nLinking bleach-6.2.0-pyh29332c3_4\nLinking jedi-0.19.2-pyhd8ed1ab_1\nLinking pexpect-4.9.0-pyhd8ed1ab_1\nLinking prompt-toolkit-3.0.51-pyha770c72_0\nLinking rfc3339-validator-0.1.4-pyhd8ed1ab_1\nLinking python-dateutil-2.9.0.post0-pyhff2d567_1\nLinking stack_data-0.6.3-pyhd8ed1ab_1\nLinking h2-4.2.0-pyhd8ed1ab_0\nLinking babel-2.17.0-pyhd8ed1ab_0\nLinking importlib_resources-6.5.2-pyhd8ed1ab_0\nLinking importlib-metadata-8.6.1-pyha770c72_0\nLinking jupyterlab_pygments-0.3.0-pyhd8ed1ab_2\nLinking matplotlib-inline-0.1.7-pyhd8ed1ab_1\nLinking comm-0.2.2-pyhd8ed1ab_1\nLinking h11-0.16.0-pyhd8ed1ab_0\nLinking async-lru-2.0.5-pyh29332c3_0\nLinking mistune-3.1.3-pyh29332c3_0\nLinking typing-extensions-4.13.2-h0e9735f_0\nLinking jupyter_core-5.7.2-pyh31011fe_1\nLinking anyio-4.9.0-pyh29332c3_0\nLinking tqdm-4.67.1-pyhd8ed1ab_1\nLinking pytest-8.3.5-pyhd8ed1ab_0\nLinking fqdn-1.5.1-pyhd8ed1ab_1\nLinking bleach-with-css-6.2.0-h82add2a_4\nLinking prompt_toolkit-3.0.51-hd8ed1ab_0\nLinking arrow-1.3.0-pyhd8ed1ab_1\nLinking ipython-8.36.0-pyh907856f_0\nLinking beautifulsoup4-4.13.4-pyha770c72_0\nLinking flexparser-0.4-pyhd8ed1ab_1\nLinking flexcache-0.3-pyhd8ed1ab_1\nLinking httpcore-1.0.9-pyh29332c3_0\nLinking isoduration-20.11.0-pyhd8ed1ab_1\nLinking ipywidgets-8.1.7-pyhd8ed1ab_0\nLinking pint-0.24.4-pyhd8ed1ab_1\nLinking httpx-0.28.1-pyhd8ed1ab_0\nLinking rpds-py-0.24.0-py310hc1293b2_0\nLinking jsonpointer-3.0.0-py310hff52083_1\nLinking gmpy2-2.2.1-py310he8512ff_0\nLinking brotli-python-1.1.0-py310hf71b8c6_2\nLinking propcache-0.3.1-py310h89163eb_0\nLinking frozenlist-1.5.0-py310h89163eb_1\nLinking unicodedata2-16.0.0-py310ha75aee5_0\nLinking pyside6-6.9.0-py310hfd10a26_0\nLinking kiwisolver-1.4.7-py310h3788b33_0\nLinking pillow-11.1.0-py310h7e6dc6c_0\nLinking debugpy-1.8.14-py310hf71b8c6_0\nLinking markupsafe-3.0.2-py310h89163eb_1\nLinking tornado-6.4.2-py310ha75aee5_0\nLinking pyzmq-26.4.0-py310h71f11fc_0\nLinking msgpack-python-1.1.0-py310h3788b33_0\nLinking pyyaml-6.0.2-py310h89163eb_2\nLinking psutil-7.0.0-py310ha75aee5_0\nLinking psycopg2-2.9.9-py310hce86986_2\nLinking numpy-2.2.5-py310hefbff90_0\nLinking cffi-1.17.1-py310h8deb56e_0\nLinking pydantic-1.10.21-py310h727ffd4_0\nLinking multidict-6.4.3-py310h89163eb_0\nLinking fonttools-4.57.0-py310h89163eb_0\nLinking contourpy-1.3.2-py310h3788b33_0\nLinking scipy-1.15.2-py310h1d65ade_0\nLinking pandas-2.2.3-py310h5eaa309_3\nLinking argon2-cffi-bindings-21.2.0-py310ha75aee5_5\nLinking zstandard-0.23.0-py310ha75aee5_2\nLinking yarl-1.20.0-py310h89163eb_0\nLinking matplotlib-base-3.10.1-py310h68603db_0\nLinking matplotlib-3.10.1-py310hff52083_0\nLinking referencing-0.36.2-pyh29332c3_0\nLinking sympy-1.14.0-pyh2585a3b_105\nLinking aiosignal-1.3.2-pyhd8ed1ab_0\nLinking werkzeug-3.1.3-pyhd8ed1ab_1\nLinking jinja2-3.1.6-pyhd8ed1ab_0\nLinking terminado-0.18.1-pyh0d859eb_0\nLinking jupyter_client-8.6.3-pyhd8ed1ab_1\nLinking qcelemental-0.29.0-pyhd8ed1ab_1\nLinking argon2-cffi-23.1.0-pyhd8ed1ab_1\nLinking urllib3-2.4.0-pyhd8ed1ab_0\nLinking jsonschema-specifications-2025.4.1-pyh29332c3_0\nLinking flask-3.1.0-pyhd8ed1ab_1\nLinking jupyter_server_terminals-0.5.3-pyhd8ed1ab_1\nLinking ipykernel-6.29.5-pyh3099207_0\nLinking qcengine-0.32.0-pyhd8ed1ab_0\nLinking requests-2.32.3-pyhd8ed1ab_1\nLinking jsonschema-4.23.0-pyhd8ed1ab_1\nLinking jupyter_console-6.6.3-pyhd8ed1ab_1\nLinking optking-0.3.0-pyhd8ed1ab_0\nLinking jsonschema-with-format-nongpl-4.23.0-hd8ed1ab_1\nLinking nbformat-5.10.4-pyhd8ed1ab_1\nLinking jupyter_events-0.12.0-pyh29332c3_0\nLinking nbclient-0.10.2-pyhd8ed1ab_0\nLinking nbconvert-core-7.16.6-pyh29332c3_0\nLinking jupyter_server-2.15.0-pyhd8ed1ab_0\nLinking jupyter-lsp-2.2.5-pyhd8ed1ab_1\nLinking notebook-shim-0.2.4-pyhd8ed1ab_1\nLinking jupyterlab_server-2.27.3-pyhd8ed1ab_1\nLinking jupyterlab-4.4.1-pyhd8ed1ab_0\nLinking notebook-7.4.1-pyhd8ed1ab_0\nLinking jupyter-1.1.1-pyhd8ed1ab_1\nLinking aiohttp-3.11.18-py310h89163eb_0\nLinking pytorch-2.5.1-cpu_mkl_py310_h8ec2884_117\nLinking psi4-1.9.1-py310hb6a4943_10\nLinking torchvision-0.20.1-cpu_py310_he61ac84_6\nLinking torchaudio-2.5.1-cpu_py310h845ff4e_1\nLinking pytorch_scatter-2.1.2-cpu_py310h4c4a1c3_10\nLinking pytorch-cpu-2.5.1-cpu_mkl_hc60beec_117\nLinking pytorch_geometric-2.6.1-pyhecae5ae_2\nLinking pytorch-minimize-0.0.2-pyhd8ed1ab_1\n\nTransaction finished\n\nCollecting cdsg-tools==0.0.2\n  Downloading cdsg_tools-0.0.2-py3-none-any.whl.metadata (4.2 kB)\nCollecting qm-tools-aw==1.4.5\n  Downloading qm_tools_aw-1.4.5-py3-none-any.whl.metadata (3.0 kB)\nCollecting qcmlforge==0.0.6\n  Downloading qcmlforge-0.0.6-py3-none-any.whl.metadata (3.7 kB)\nCollecting qcfractal==0.59\n  Downloading qcfractal-0.59-py3-none-any.whl.metadata (1.2 kB)\nCollecting qcmanybody\n  Downloading qcmanybody-0.4.0-py3-none-any.whl.metadata (5.8 kB)\nCollecting qcfractalcompute==0.59\n  Downloading qcfractalcompute-0.59-py3-none-any.whl.metadata (653 bytes)\nRequirement already satisfied: torch==2.5.1 in /dev/shm/cybershuttle/envs/18dccede/lib/python3.10/site-packages (from qcmlforge==0.0.6) (2.5.1)\nRequirement already satisfied: numpy>=2.2.0 in /dev/shm/cybershuttle/envs/18dccede/lib/python3.10/site-packages (from qcmlforge==0.0.6) (2.2.5)\nRequirement already satisfied: qcelemental==0.29.0 in /dev/shm/cybershuttle/envs/18dccede/lib/python3.10/site-packages (from qcmlforge==0.0.6) (0.29.0)\nRequirement already satisfied: torch-geometric==2.6.1 in /dev/shm/cybershuttle/envs/18dccede/lib/python3.10/site-packages (from qcmlforge==0.0.6) (2.6.1)\nRequirement already satisfied: torch-scatter==2.1.2 in /dev/shm/cybershuttle/envs/18dccede/lib/python3.10/site-packages (from qcmlforge==0.0.6) (2.1.2)\nRequirement already satisfied: pytorch-minimize in /dev/shm/cybershuttle/envs/18dccede/lib/python3.10/site-packages (from qcmlforge==0.0.6) (0.0.2)\nCollecting qcportal==0.59 (from qcmlforge==0.0.6)\n  Downloading qcportal-0.59-py3-none-any.whl.metadata (1.0 kB)\nRequirement already satisfied: flask in /dev/shm/cybershuttle/envs/18dccede/lib/python3.10/site-packages (from qcfractal==0.59) (3.1.0)\nCollecting flask-jwt-extended (from qcfractal==0.59)\n  Downloading Flask_JWT_Extended-4.7.1-py2.py3-none-any.whl.metadata (3.8 kB)\nCollecting waitress (from qcfractal==0.59)\n  Downloading waitress-3.0.2-py3-none-any.whl.metadata (5.8 kB)\nCollecting bcrypt (from qcfractal==0.59)\n  Downloading bcrypt-4.3.0-cp39-abi3-manylinux_2_28_x86_64.whl.metadata (10 kB)\nCollecting sqlalchemy>=2.0 (from qcfractal==0.59)\n  Downloading sqlalchemy-2.0.40-cp310-cp310-manylinux_2_17_x86_64.manylinux2014_x86_64.whl.metadata (9.6 kB)\nCollecting alembic (from qcfractal==0.59)\n  Downloading alembic-1.15.2-py3-none-any.whl.metadata (7.3 kB)\nRequirement already satisfied: psycopg2 in /dev/shm/cybershuttle/envs/18dccede/lib/python3.10/site-packages (from qcfractal==0.59) (2.9.9)\nCollecting parsl (from qcfractalcompute==0.59)\n  Downloading parsl-2025.4.28-py3-none-any.whl.metadata (4.0 kB)\nRequirement already satisfied: packaging>=24.1 in /dev/shm/cybershuttle/envs/18dccede/lib/python3.10/site-packages (from qcelemental==0.29.0->qcmlforge==0.0.6) (25.0)\nRequirement already satisfied: pint>=0.24 in /dev/shm/cybershuttle/envs/18dccede/lib/python3.10/site-packages (from qcelemental==0.29.0->qcmlforge==0.0.6) (0.24.4)\nRequirement already satisfied: pydantic>=1.8.2 in /dev/shm/cybershuttle/envs/18dccede/lib/python3.10/site-packages (from qcelemental==0.29.0->qcmlforge==0.0.6) (1.10.21)\nRequirement already satisfied: msgpack in /dev/shm/cybershuttle/envs/18dccede/lib/python3.10/site-packages (from qcportal==0.59->qcmlforge==0.0.6) (1.1.0)\nRequirement already satisfied: requests in /dev/shm/cybershuttle/envs/18dccede/lib/python3.10/site-packages (from qcportal==0.59->qcmlforge==0.0.6) (2.32.3)\nRequirement already satisfied: pyyaml in /dev/shm/cybershuttle/envs/18dccede/lib/python3.10/site-packages (from qcportal==0.59->qcmlforge==0.0.6) (6.0.2)\nRequirement already satisfied: zstandard in /dev/shm/cybershuttle/envs/18dccede/lib/python3.10/site-packages (from qcportal==0.59->qcmlforge==0.0.6) (0.23.0)\nCollecting apsw>=3.42 (from qcportal==0.59->qcmlforge==0.0.6)\n  Downloading apsw-3.49.1.0-cp310-cp310-manylinux_2_17_x86_64.manylinux2014_x86_64.whl.metadata (3.7 kB)\nCollecting tabulate (from qcportal==0.59->qcmlforge==0.0.6)\n  Using cached tabulate-0.9.0-py3-none-any.whl.metadata (34 kB)\nRequirement already satisfied: tqdm in /dev/shm/cybershuttle/envs/18dccede/lib/python3.10/site-packages (from qcportal==0.59->qcmlforge==0.0.6) (4.67.1)\nRequirement already satisfied: pandas in /dev/shm/cybershuttle/envs/18dccede/lib/python3.10/site-packages (from qcportal==0.59->qcmlforge==0.0.6) (2.2.3)\nCollecting pyjwt>=2.10 (from qcportal==0.59->qcmlforge==0.0.6)\n  Downloading PyJWT-2.10.1-py3-none-any.whl.metadata (4.0 kB)\nRequirement already satisfied: typing_extensions in /dev/shm/cybershuttle/envs/18dccede/lib/python3.10/site-packages (from qcportal==0.59->qcmlforge==0.0.6) (4.13.2)\nRequirement already satisfied: python-dateutil in /dev/shm/cybershuttle/envs/18dccede/lib/python3.10/site-packages (from qcportal==0.59->qcmlforge==0.0.6) (2.9.0.post0)\nRequirement already satisfied: pytz in /dev/shm/cybershuttle/envs/18dccede/lib/python3.10/site-packages (from qcportal==0.59->qcmlforge==0.0.6) (2025.2)\nRequirement already satisfied: filelock in /dev/shm/cybershuttle/envs/18dccede/lib/python3.10/site-packages (from torch==2.5.1->qcmlforge==0.0.6) (3.18.0)\nRequirement already satisfied: sympy!=1.13.2,>=1.13.1 in /dev/shm/cybershuttle/envs/18dccede/lib/python3.10/site-packages (from torch==2.5.1->qcmlforge==0.0.6) (1.14.0)\nRequirement already satisfied: networkx in /dev/shm/cybershuttle/envs/18dccede/lib/python3.10/site-packages (from torch==2.5.1->qcmlforge==0.0.6) (3.4.2)\nRequirement already satisfied: jinja2 in /dev/shm/cybershuttle/envs/18dccede/lib/python3.10/site-packages (from torch==2.5.1->qcmlforge==0.0.6) (3.1.6)\nRequirement already satisfied: fsspec in /dev/shm/cybershuttle/envs/18dccede/lib/python3.10/site-packages (from torch==2.5.1->qcmlforge==0.0.6) (2025.3.2)\nRequirement already satisfied: aiohttp in /dev/shm/cybershuttle/envs/18dccede/lib/python3.10/site-packages (from torch-geometric==2.6.1->qcmlforge==0.0.6) (3.11.18)\nRequirement already satisfied: psutil>=5.8.0 in /dev/shm/cybershuttle/envs/18dccede/lib/python3.10/site-packages (from torch-geometric==2.6.1->qcmlforge==0.0.6) (7.0.0)\nRequirement already satisfied: pyparsing in /dev/shm/cybershuttle/envs/18dccede/lib/python3.10/site-packages (from torch-geometric==2.6.1->qcmlforge==0.0.6) (3.2.3)\nRequirement already satisfied: platformdirs>=2.1.0 in /dev/shm/cybershuttle/envs/18dccede/lib/python3.10/site-packages (from pint>=0.24->qcelemental==0.29.0->qcmlforge==0.0.6) (4.3.7)\nRequirement already satisfied: flexcache>=0.3 in /dev/shm/cybershuttle/envs/18dccede/lib/python3.10/site-packages (from pint>=0.24->qcelemental==0.29.0->qcmlforge==0.0.6) (0.3)\nRequirement already satisfied: flexparser>=0.4 in /dev/shm/cybershuttle/envs/18dccede/lib/python3.10/site-packages (from pint>=0.24->qcelemental==0.29.0->qcmlforge==0.0.6) (0.4)\nCollecting greenlet>=1 (from sqlalchemy>=2.0->qcfractal==0.59)\n  Downloading greenlet-3.2.1-cp310-cp310-manylinux_2_24_x86_64.manylinux_2_28_x86_64.whl.metadata (4.1 kB)\nRequirement already satisfied: mpmath<1.4,>=1.1.0 in /dev/shm/cybershuttle/envs/18dccede/lib/python3.10/site-packages (from sympy!=1.13.2,>=1.13.1->torch==2.5.1->qcmlforge==0.0.6) (1.3.0)\nRequirement already satisfied: aiohappyeyeballs>=2.3.0 in /dev/shm/cybershuttle/envs/18dccede/lib/python3.10/site-packages (from aiohttp->torch-geometric==2.6.1->qcmlforge==0.0.6) (2.6.1)\nRequirement already satisfied: aiosignal>=1.1.2 in /dev/shm/cybershuttle/envs/18dccede/lib/python3.10/site-packages (from aiohttp->torch-geometric==2.6.1->qcmlforge==0.0.6) (1.3.2)\nRequirement already satisfied: async-timeout<6.0,>=4.0 in /dev/shm/cybershuttle/envs/18dccede/lib/python3.10/site-packages (from aiohttp->torch-geometric==2.6.1->qcmlforge==0.0.6) (5.0.1)\nRequirement already satisfied: attrs>=17.3.0 in /dev/shm/cybershuttle/envs/18dccede/lib/python3.10/site-packages (from aiohttp->torch-geometric==2.6.1->qcmlforge==0.0.6) (25.3.0)\nRequirement already satisfied: frozenlist>=1.1.1 in /dev/shm/cybershuttle/envs/18dccede/lib/python3.10/site-packages (from aiohttp->torch-geometric==2.6.1->qcmlforge==0.0.6) (1.5.0)\nRequirement already satisfied: multidict<7.0,>=4.5 in /dev/shm/cybershuttle/envs/18dccede/lib/python3.10/site-packages (from aiohttp->torch-geometric==2.6.1->qcmlforge==0.0.6) (6.4.3)\nRequirement already satisfied: propcache>=0.2.0 in /dev/shm/cybershuttle/envs/18dccede/lib/python3.10/site-packages (from aiohttp->torch-geometric==2.6.1->qcmlforge==0.0.6) (0.3.1)\nRequirement already satisfied: yarl<2.0,>=1.17.0 in /dev/shm/cybershuttle/envs/18dccede/lib/python3.10/site-packages (from aiohttp->torch-geometric==2.6.1->qcmlforge==0.0.6) (1.20.0)\nRequirement already satisfied: idna>=2.0 in /dev/shm/cybershuttle/envs/18dccede/lib/python3.10/site-packages (from yarl<2.0,>=1.17.0->aiohttp->torch-geometric==2.6.1->qcmlforge==0.0.6) (3.10)\nCollecting Mako (from alembic->qcfractal==0.59)\n  Downloading mako-1.3.10-py3-none-any.whl.metadata (2.9 kB)\nRequirement already satisfied: Werkzeug>=3.1 in /dev/shm/cybershuttle/envs/18dccede/lib/python3.10/site-packages (from flask->qcfractal==0.59) (3.1.3)\nRequirement already satisfied: itsdangerous>=2.2 in /dev/shm/cybershuttle/envs/18dccede/lib/python3.10/site-packages (from flask->qcfractal==0.59) (2.2.0)\nRequirement already satisfied: click>=8.1.3 in /dev/shm/cybershuttle/envs/18dccede/lib/python3.10/site-packages (from flask->qcfractal==0.59) (8.1.8)\nRequirement already satisfied: blinker>=1.9 in /dev/shm/cybershuttle/envs/18dccede/lib/python3.10/site-packages (from flask->qcfractal==0.59) (1.9.0)\nRequirement already satisfied: MarkupSafe>=2.0 in /dev/shm/cybershuttle/envs/18dccede/lib/python3.10/site-packages (from jinja2->torch==2.5.1->qcmlforge==0.0.6) (3.0.2)\nRequirement already satisfied: tzdata>=2022.7 in /dev/shm/cybershuttle/envs/18dccede/lib/python3.10/site-packages (from pandas->qcportal==0.59->qcmlforge==0.0.6) (2025.2)\nRequirement already satisfied: six>=1.5 in /dev/shm/cybershuttle/envs/18dccede/lib/python3.10/site-packages (from python-dateutil->qcportal==0.59->qcmlforge==0.0.6) (1.17.0)\nRequirement already satisfied: pyzmq>=17.1.2 in /dev/shm/cybershuttle/envs/18dccede/lib/python3.10/site-packages (from parsl->qcfractalcompute==0.59) (26.4.0)\nCollecting typeguard!=3.*,<5,>=2.10 (from parsl->qcfractalcompute==0.59)\n  Downloading typeguard-4.4.2-py3-none-any.whl.metadata (3.8 kB)\nCollecting globus-sdk (from parsl->qcfractalcompute==0.59)\n  Downloading globus_sdk-3.56.0-py3-none-any.whl.metadata (3.3 kB)\nCollecting dill (from parsl->qcfractalcompute==0.59)\n  Downloading dill-0.4.0-py3-none-any.whl.metadata (10 kB)\nCollecting tblib (from parsl->qcfractalcompute==0.59)\n  Downloading tblib-3.1.0-py3-none-any.whl.metadata (25 kB)\nCollecting setproctitle (from parsl->qcfractalcompute==0.59)\n  Downloading setproctitle-1.3.6-cp310-cp310-manylinux_2_5_x86_64.manylinux1_x86_64.manylinux_2_17_x86_64.manylinux2014_x86_64.whl.metadata (10 kB)\nCollecting cryptography!=3.4.0,>=3.3.1 (from globus-sdk->parsl->qcfractalcompute==0.59)\n  Downloading cryptography-44.0.3-cp39-abi3-manylinux_2_28_x86_64.whl.metadata (5.7 kB)\nRequirement already satisfied: charset_normalizer<4,>=2 in /dev/shm/cybershuttle/envs/18dccede/lib/python3.10/site-packages (from requests->qcportal==0.59->qcmlforge==0.0.6) (3.4.2)\nRequirement already satisfied: urllib3<3,>=1.21.1 in /dev/shm/cybershuttle/envs/18dccede/lib/python3.10/site-packages (from requests->qcportal==0.59->qcmlforge==0.0.6) (2.4.0)\nRequirement already satisfied: certifi>=2017.4.17 in /dev/shm/cybershuttle/envs/18dccede/lib/python3.10/site-packages (from requests->qcportal==0.59->qcmlforge==0.0.6) (2025.1.31)\nRequirement already satisfied: cffi>=1.12 in /dev/shm/cybershuttle/envs/18dccede/lib/python3.10/site-packages (from cryptography!=3.4.0,>=3.3.1->globus-sdk->parsl->qcfractalcompute==0.59) (1.17.1)\nRequirement already satisfied: pycparser in /dev/shm/cybershuttle/envs/18dccede/lib/python3.10/site-packages (from cffi>=1.12->cryptography!=3.4.0,>=3.3.1->globus-sdk->parsl->qcfractalcompute==0.59) (2.22)\nRequirement already satisfied: scipy>=1.6 in /dev/shm/cybershuttle/envs/18dccede/lib/python3.10/site-packages (from pytorch-minimize->qcmlforge==0.0.6) (1.15.2)\nDownloading cdsg_tools-0.0.2-py3-none-any.whl (43 kB)\nDownloading qm_tools_aw-1.4.5-py3-none-any.whl (18 kB)\nDownloading qcmlforge-0.0.6-py3-none-any.whl (103.7 MB)\n   ━━━━━━━━━━━━━━━━━━━━━━━━━━━━━━━━━━━━━━━━ 103.7/103.7 MB 3.8 MB/s eta 0:00:00\nDownloading qcfractal-0.59-py3-none-any.whl (557 kB)\n   ━━━━━━━━━━━━━━━━━━━━━━━━━━━━━━━━━━━━━━━━ 557.2/557.2 kB 2.9 MB/s eta 0:00:00\nDownloading qcfractalcompute-0.59-py3-none-any.whl (32 kB)\nDownloading qcportal-0.59-py3-none-any.whl (137 kB)\nDownloading qcmanybody-0.4.0-py3-none-any.whl (948 kB)\n   ━━━━━━━━━━━━━━━━━━━━━━━━━━━━━━━━━━━━━━━━ 949.0/949.0 kB 10.4 MB/s eta 0:00:00\nDownloading apsw-3.49.1.0-cp310-cp310-manylinux_2_17_x86_64.manylinux2014_x86_64.whl (6.2 MB)\n   ━━━━━━━━━━━━━━━━━━━━━━━━━━━━━━━━━━━━━━━━ 6.2/6.2 MB 34.7 MB/s eta 0:00:00\nDownloading PyJWT-2.10.1-py3-none-any.whl (22 kB)\nDownloading sqlalchemy-2.0.40-cp310-cp310-manylinux_2_17_x86_64.manylinux2014_x86_64.whl (3.1 MB)\n   ━━━━━━━━━━━━━━━━━━━━━━━━━━━━━━━━━━━━━━━━ 3.1/3.1 MB 28.1 MB/s eta 0:00:00\nDownloading greenlet-3.2.1-cp310-cp310-manylinux_2_24_x86_64.manylinux_2_28_x86_64.whl (580 kB)\n   ━━━━━━━━━━━━━━━━━━━━━━━━━━━━━━━━━━━━━━━━ 580.6/580.6 kB 4.4 MB/s eta 0:00:00\nDownloading alembic-1.15.2-py3-none-any.whl (231 kB)\nDownloading bcrypt-4.3.0-cp39-abi3-manylinux_2_28_x86_64.whl (284 kB)\nDownloading Flask_JWT_Extended-4.7.1-py2.py3-none-any.whl (22 kB)\nDownloading mako-1.3.10-py3-none-any.whl (78 kB)\nDownloading parsl-2025.4.28-py3-none-any.whl (553 kB)\n   ━━━━━━━━━━━━━━━━━━━━━━━━━━━━━━━━━━━━━━━━ 553.3/553.3 kB 3.2 MB/s eta 0:00:00\nDownloading typeguard-4.4.2-py3-none-any.whl (35 kB)\nDownloading dill-0.4.0-py3-none-any.whl (119 kB)\nDownloading globus_sdk-3.56.0-py3-none-any.whl (409 kB)\nDownloading cryptography-44.0.3-cp39-abi3-manylinux_2_28_x86_64.whl (4.2 MB)\n   ━━━━━━━━━━━━━━━━━━━━━━━━━━━━━━━━━━━━━━━━ 4.2/4.2 MB 47.3 MB/s eta 0:00:00\nDownloading setproctitle-1.3.6-cp310-cp310-manylinux_2_5_x86_64.manylinux1_x86_64.manylinux_2_17_x86_64.manylinux2014_x86_64.whl (30 kB)\nUsing cached tabulate-0.9.0-py3-none-any.whl (35 kB)\nDownloading tblib-3.1.0-py3-none-any.whl (12 kB)\nDownloading waitress-3.0.2-py3-none-any.whl (56 kB)\nInstalling collected packages: waitress, typeguard, tblib, tabulate, setproctitle, qm-tools-aw, pyjwt, Mako, greenlet, dill, cdsg-tools, bcrypt, apsw, sqlalchemy, cryptography, flask-jwt-extended, alembic, qcportal, qcmanybody, globus-sdk, qcmlforge, qcfractal, parsl, qcfractalcompute\n\nSuccessfully installed Mako-1.3.10 alembic-1.15.2 apsw-3.49.1.0 bcrypt-4.3.0 cdsg-tools-0.0.2 cryptography-44.0.3 dill-0.4.0 flask-jwt-extended-4.7.1 globus-sdk-3.56.0 greenlet-3.2.1 parsl-2025.4.28 pyjwt-2.10.1 qcfractal-0.59 qcfractalcompute-0.59 qcmanybody-0.4.0 qcmlforge-0.0.6 qcportal-0.59 qm-tools-aw-1.4.5 setproctitle-1.3.6 sqlalchemy-2.0.40 tabulate-0.9.0 tblib-3.1.0 typeguard-4.4.2 waitress-3.0.2\n\nSTDERR:\n% Total    % Received % Xferd  Average Speed   Time    Time     Time  Current\n                                 Dload  Upload   Total   Spent    Left  Speed\n\r  0     0    0     0    0     0      0      0 --:--:-- --:--:-- --:--:--     0\r100   239  100   118  100   121    959    983 --:--:-- --:--:-- --:--:--  1943\n2025/05/05 09:13:53 [agent.go] main() --server=api.gateway.cybershuttle.org:19900\n2025/05/05 09:13:53 [agent.go] main() --agent=agent_4b90d99e-04a5-4707-ac60-72cb2f64034e\n2025/05/05 09:13:53 [agent.go] main() --environ=18dccede\n2025/05/05 09:13:53 [agent.go] main() --lib=numpy=2.2.5,pandas=2.2.3,pip,psycopg2=2.9.9,postgresql=17.4,pytest,python=3.10,psi4=1.9.1,pytorch-cpu=2.5.1,jupyter=1.1.1,requests,setuptools,torchaudio=2.5.1,torchvision=0.20.1,pytorch_geometric=2.6.1,pytorch_scatter=2.1.2=cpu*,pytorch-minimize=0.0.2,matplotlib=3.10.1,pydantic=1,scipy=1.15.*,tqdm\n2025/05/05 09:13:53 [agent.go] main() --pip=cdsg-tools==0.0.2,qm-tools-aw==1.4.5,qcmlforge==0.0.6,qcfractal==0.59,qcmanybody,qcfractalcompute==0.59\n2025/05/05 09:13:53 [agent.go] main() Connected to api.gateway.cybershuttle.org:19900\n2025/05/05 09:13:53 [agent.go] main() Created stream...\n2025/05/05 09:13:53 [agent.go] main() Created environment: 18dccede\n2025/05/05 09:13:53 [agent.go] main() Installing --lib: [numpy=2.2.5 pandas=2.2.3 pip psycopg2=2.9.9 postgresql=17.4 pytest python=3.10 psi4=1.9.1 pytorch-cpu=2.5.1 jupyter=1.1.1 requests setuptools torchaudio=2.5.1 torchvision=0.20.1 pytorch_geometric=2.6.1 pytorch_scatter=2.1.2=cpu* pytorch-minimize=0.0.2 matplotlib=3.10.1 pydantic=1 scipy=1.15.* tqdm python<3.12 pip ipykernel git flask jupyter_client]\nwarning  libmamba Could not validate package '/expanse/lustre/projects/uic151/gridchem/conda/pkgs/platformdirs-4.3.7-pyh29332c3_0/info/repodata_record.json': md5 and sha256 sum unknown.\n    Set safety_checks to disabled to override this warning.\nwarning  libmamba Extracted package cache '/expanse/lustre/projects/uic151/gridchem/conda/pkgs/platformdirs-4.3.7-pyh29332c3_0' has no checksum\n2025/05/05 09:32:34 [agent.go] main() Installed --lib: [numpy=2.2.5 pandas=2.2.3 pip psycopg2=2.9.9 postgresql=17.4 pytest python=3.10 psi4=1.9.1 pytorch-cpu=2.5.1 jupyter=1.1.1 requests setuptools torchaudio=2.5.1 torchvision=0.20.1 pytorch_geometric=2.6.1 pytorch_scatter=2.1.2=cpu* pytorch-minimize=0.0.2 matplotlib=3.10.1 pydantic=1 scipy=1.15.* tqdm python<3.12 pip ipykernel git flask jupyter_client]\n2025/05/05 09:32:34 [agent.go] main() Installing --pip: [cdsg-tools==0.0.2 qm-tools-aw==1.4.5 qcmlforge==0.0.6 qcfractal==0.59 qcmanybody qcfractalcompute==0.59]\n2025/05/05 09:33:18 [agent.go] main() Installed --pip: [cdsg-tools==0.0.2 qm-tools-aw==1.4.5 qcmlforge==0.0.6 qcfractal==0.59 qcmanybody qcfractalcompute==0.59]\n2025/05/05 09:33:18 [agent.go] main() Trying to connect to api.gateway.cybershuttle.org:19900 with agent id agent_4b90d99e-04a5-4707-ac60-72cb2f64034e\n2025/05/05 09:33:18 [agent.go] main() Connected to the server.\nslurmstepd: error: *** JOB 39095819 ON exp-1-43 CANCELLED AT 2025-05-05T10:13:57 DUE TO TIME LIMIT ***"
     ]
    }
   ],
   "source": [
    "!qcfractal-compute-manager --config=`pwd`/qcfractal/resources.yml &"
   ]
  },
  {
   "cell_type": "code",
   "execution_count": null,
   "metadata": {},
   "outputs": [
    {
     "ename": "NameError",
     "evalue": "name 'PortalClient' is not defined",
     "output_type": "error",
     "traceback": [
      "\u001b[0;31m---------------------------------------------------------------------------\u001b[0m",
      "\u001b[0;31mNameError\u001b[0m                                 Traceback (most recent call last)",
      "Cell \u001b[0;32mIn[8], line 2\u001b[0m\n\u001b[1;32m      1\u001b[0m \u001b[38;5;66;03m# Establish client connection\u001b[39;00m\n\u001b[0;32m----> 2\u001b[0m client \u001b[38;5;241m=\u001b[39m \u001b[43mPortalClient\u001b[49m(\u001b[38;5;124m\"\u001b[39m\u001b[38;5;124mhttp://localhost:7778\u001b[39m\u001b[38;5;124m\"\u001b[39m, verify\u001b[38;5;241m=\u001b[39m\u001b[38;5;28;01mFalse\u001b[39;00m)\n\u001b[1;32m      3\u001b[0m \u001b[38;5;28mprint\u001b[39m(client)\n",
      "\u001b[0;31mNameError\u001b[0m: name 'PortalClient' is not defined"
     ]
    }
   ],
   "source": [
    "# Establish client connection\n",
    "client = PortalClient(\"http://localhost:7778\", verify=False)\n",
    "print(client)"
   ]
  },
  {
   "cell_type": "markdown",
   "metadata": {
    "jukit_cell_id": "X31FadtbG5"
   },
   "source": [
    "# QCArchive single point example with Psi4\n",
    "\n",
    "QCArchive/QCFractal can be used to run several QM softwares, but the focus of\n",
    "the present notebook will highlight the popular, open-source Psi4 program. \n",
    "\n",
    "As a simple example, we can specify a water dimer geometry and then\n",
    "create a singlepoint energy entry into the database with the client."
   ]
  },
  {
   "cell_type": "code",
   "execution_count": null,
   "metadata": {
    "jukit_cell_id": "hMCmRgdGJ4"
   },
   "outputs": [],
   "source": [
    "# Running a single job\n",
    "mol = Molecule.from_data(\n",
    "    \"\"\"\n",
    "     0 1\n",
    "     O  -1.551007  -0.114520   0.000000\n",
    "     H  -1.934259   0.762503   0.000000\n",
    "     H  -0.599677   0.040712   0.000000\n",
    "     --\n",
    "     0 1\n",
    "     O   1.350625   0.111469   0.000000\n",
    "     H   1.680398  -0.373741  -0.758561\n",
    "     H   1.680398  -0.373741   0.758561\n",
    "\n",
    "     units angstrom\n",
    "     no_reorient\n",
    "     symmetry c1\n",
    "\"\"\"\n",
    ")\n",
    "\n",
    "client.add_singlepoints(\n",
    "    [mol],\n",
    "    \"psi4\",\n",
    "    driver=\"energy\",\n",
    "    method=\"b3lyp\",\n",
    "    basis=\"aug-cc-pvdz\",\n",
    "    keywords={\"scf_type\": \"df\", \"e_convergence\": 6, \"freeze_core\": True},\n",
    "    tag=\"local\",\n",
    ")\n"
   ]
  },
  {
   "cell_type": "markdown",
   "metadata": {},
   "source": [
    "## Query Results"
   ]
  },
  {
   "cell_type": "code",
   "execution_count": 11,
   "metadata": {},
   "outputs": [
    {
     "ename": "NameError",
     "evalue": "name 'client' is not defined",
     "output_type": "error",
     "traceback": [
      "\u001b[0;31m---------------------------------------------------------------------------\u001b[0m",
      "\u001b[0;31mNameError\u001b[0m                                 Traceback (most recent call last)",
      "Cell \u001b[0;32mIn[11], line 1\u001b[0m\n\u001b[0;32m----> 1\u001b[0m recs \u001b[38;5;241m=\u001b[39m \u001b[43mclient\u001b[49m\u001b[38;5;241m.\u001b[39mquery_records(\n\u001b[1;32m      2\u001b[0m     record_id\u001b[38;5;241m=\u001b[39m[\u001b[38;5;241m1\u001b[39m]\n\u001b[1;32m      3\u001b[0m )\n\u001b[1;32m      4\u001b[0m \u001b[38;5;28;01mfor\u001b[39;00m rec \u001b[38;5;129;01min\u001b[39;00m recs:\n\u001b[1;32m      5\u001b[0m     \u001b[38;5;28mprint\u001b[39m(rec\u001b[38;5;241m.\u001b[39mdict)\n",
      "\u001b[0;31mNameError\u001b[0m: name 'client' is not defined"
     ]
    }
   ],
   "source": [
    "recs = client.query_records(\n",
    "    record_id=[1]\n",
    ")\n",
    "for rec in recs:\n",
    "    print(rec.dict)\n",
    "    print(rec.properties['return_result'])"
   ]
  },
  {
   "cell_type": "markdown",
   "metadata": {
    "jukit_cell_id": "6DmD5wp1nB"
   },
   "source": [
    "# Dataset Example\n",
    "While one could use the above logic for all calculations, QCArchive provides\n",
    "dataset options to make managing data for a specific application substantially\n",
    "easier. \n",
    "\n",
    "Prior to creating the QCArchive datasets, we will first load in data from a \n",
    "recently submitted Sherrill work [Levels of SAPT II](https://chemrxiv.org/engage/chemrxiv/article-details/67fe885f6e70d6fb2e033804). To faciliate insertion\n",
    "into the DB, we will create QCElemental Molecule objects in the pickle file\n",
    "and extract specific columns to store as variables for usage below. "
   ]
  },
  {
   "cell_type": "code",
   "execution_count": null,
   "metadata": {
    "jukit_cell_id": "Z0wXrcgRq8"
   },
   "outputs": [],
   "source": [
    "# Creating a QCArchive Dataset...\n",
    "# Load in a dataset from a recent Sherrill work (Levels of SAPT II)\n",
    "df_LoS = pd.read_pickle(\"./combined_df_subset_358.pkl\")\n",
    "print(df_LoS[['Benchmark', 'SAPT2+3(CCD)DMP2 TOTAL ENERGY aqz', 'MP2 IE atz', 'SAPT0 TOTAL ENERGY adz' ]])\n",
    "\n",
    "# Limit to 100 molecules with maximum of 16 atoms to keep computational cost down\n",
    "df_LoS['size'] = df_LoS['atomic_numbers'].apply(lambda x: len(x))\n",
    "df_LoS = df_LoS[df_LoS['size'] <= 16]\n",
    "df_LoS = df_LoS.sample(100, random_state=42, axis=0).copy()\n",
    "# df_LoS = df_LoS.sample(50, random_state=42, axis=0).copy()\n",
    "df_LoS.reset_index(drop=True, inplace=True)\n",
    "print(df_LoS['size'].describe())\n",
    "\n",
    "# Create QCElemntal Molecules to generate the dataset\n",
    "def qcel_mols(row):\n",
    "    \"\"\"\n",
    "    Convert the row to a qcel molecule\n",
    "    \"\"\"\n",
    "    atomic_numbers = [row['atomic_numbers'][row['monAs']], row['atomic_numbers'][row['monBs']]]\n",
    "    coords = [row['coordinates'][row['monAs']], row['coordinates'][row['monBs']]]\n",
    "    cm = [\n",
    "        [row['monA_charge'], row['monA_multiplicity']],\n",
    "        [row['monB_charge'], row['monB_multiplicity']],\n",
    "     ]\n",
    "    return tools.convert_pos_carts_to_mol(atomic_numbers, coords, cm)\n",
    "df_LoS['qcel_molecule'] = df_LoS.apply(qcel_mols, axis=1)\n",
    "geoms = df_LoS['qcel_molecule'].tolist()\n",
    "ref_IEs = df_LoS['Benchmark'].tolist()\n",
    "sapt0_adz = (df_LoS['SAPT0 TOTAL ENERGY adz'] * h2kcalmol).tolist()"
   ]
  },
  {
   "cell_type": "markdown",
   "metadata": {
    "jukit_cell_id": "iwmcvViziS"
   },
   "source": [
    "## Singlepoint Dataset\n",
    "\n",
    "First, to demonstrate how you could use this data for singlepoint energies/properties like the water\n",
    "dimer example above, we will create a singlepoint dataset and slot in our geometry data. "
   ]
  },
  {
   "cell_type": "code",
   "execution_count": null,
   "metadata": {
    "jukit_cell_id": "i8ICwzPWaD"
   },
   "outputs": [],
   "source": [
    "# Create client dataset\n",
    "ds_name = 'LoS-singlepoint'\n",
    "client_datasets = [i['dataset_name'] for i in client.list_datasets()]\n",
    "# Check if dataset already exists, if not create a new one\n",
    "if ds_name not in client_datasets:\n",
    "    ds = client.add_dataset(\"singlepoint\", ds_name,\n",
    "                            f\"Dataset to contain {ds_name}\")\n",
    "    print(f\"Added {ds_name} as dataset\")\n",
    "    # Insert entries into dataset\n",
    "    entry_list = []\n",
    "    for idx, mol in enumerate(geoms):\n",
    "        extras = {\n",
    "            \"name\": 'LoS-' + str(idx),\n",
    "            \"idx\": idx,\n",
    "        }\n",
    "        mol = Molecule.from_data(mol.dict(), extras=extras)\n",
    "        ent = SinglepointDatasetEntry(name=extras['name'], molecule=mol)\n",
    "        entry_list.append(ent)\n",
    "    ds.add_entries(entry_list)\n",
    "    print(f\"Added {len(entry_list)} molecules to dataset\")\n",
    "else:\n",
    "    ds = client.get_dataset(\"singlepoint\", ds_name)\n",
    "    print(f\"Found {ds_name} dataset, using this instead\")\n",
    "\n",
    "print(ds)"
   ]
  },
  {
   "cell_type": "code",
   "execution_count": null,
   "metadata": {
    "jukit_cell_id": "7ZAOPlzuUX"
   },
   "outputs": [],
   "source": [
    "# Can delete the dataset if you want to start over. Need to know dataset_id\n",
    "# client.delete_dataset(dataset_id=ds.id, delete_records=True)"
   ]
  },
  {
   "cell_type": "markdown",
   "metadata": {},
   "source": [
    "# Create QCSpecification and submit computations\n",
    "Now that the dataset has been created with our molecular systems, we will\n",
    "specify a level of theory (method/basis set) for running our calculations. We\n",
    "will name our specification \"psi4/SAPT0/cc-pvdz\" to easily label this\n",
    "specification's level of theory and program. This name will be used later\n",
    "during data collection and analysis. Although many QM methods that use a\n",
    "singlepoint energy would return a total energy, SAPT is a specialized method\n",
    "that directly computes the interaction energy between our monomers."
   ]
  },
  {
   "cell_type": "code",
   "execution_count": null,
   "metadata": {
    "jukit_cell_id": "vMkm00fo00"
   },
   "outputs": [],
   "source": [
    "# SAPT0 Example\n",
    "method, basis = \"SAPT0\", \"cc-pvdz\"\n",
    "\n",
    "# Set the QCSpecification (QM interaction energy in our case)\n",
    "spec = QCSpecification(\n",
    "    program=\"psi4\",\n",
    "    driver=\"energy\",\n",
    "    method=method,\n",
    "    basis=basis,\n",
    "    keywords={\n",
    "        \"scf_type\": \"df\",\n",
    "    },\n",
    ")\n",
    "ds.add_specification(name=f\"psi4/{method}/{basis}\", specification=spec)"
   ]
  },
  {
   "cell_type": "code",
   "execution_count": null,
   "metadata": {
    "jukit_cell_id": "dwYb9dbQNI"
   },
   "outputs": [],
   "source": [
    "# Run the computations\n",
    "ds.submit()\n",
    "print(f\"Submitted {ds_name} dataset\")"
   ]
  },
  {
   "cell_type": "code",
   "execution_count": null,
   "metadata": {
    "jukit_cell_id": "2JMCNlehez"
   },
   "outputs": [],
   "source": [
    "# Check the status of the dataset - can repeatedly run this to see the progress\n",
    "ds.status()"
   ]
  },
  {
   "cell_type": "markdown",
   "metadata": {
    "jukit_cell_id": "kT14mJyNqJ"
   },
   "source": [
    "## Manybody Dataset - typical way to compute interaction energies with most QM methods\n",
    "\n",
    "While SAPT0 returns an interaction energy from a singlepoint energy, most other QM\n",
    "methods like HF, MP2, CCSD, or DFT would return a total dimer energy ($E_{\\rm dimer}$). To\n",
    "get QCArchive to run the energies of the dimer, monomerA, and monomerB and return the \n",
    "energy difference as above for $E_{\\rm IE}$, we can use the ManybodyDataset. The setup is\n",
    "similar to the singlepoint dataset above, but using different objects."
   ]
  },
  {
   "cell_type": "code",
   "execution_count": null,
   "metadata": {
    "jukit_cell_id": "g31JlHrgso"
   },
   "outputs": [],
   "source": [
    "# Create client dataset\n",
    "ds_name_mb = 'LoS-manybody'\n",
    "client_datasets = [i['dataset_name'] for i in client.list_datasets()]\n",
    "# Check if dataset already exists, if not create a new one\n",
    "if ds_name_mb not in client_datasets:\n",
    "    print(\"Setting up new dataset:\", ds_name_mb)\n",
    "    ds_mb = client.add_dataset(\"manybody\", ds_name_mb,\n",
    "                            f\"Dataset to contain {ds_name_mb}\")\n",
    "    print(f\"Added {ds_name_mb} as dataset\")\n",
    "    # Insert entries into dataset\n",
    "    entry_list = []\n",
    "    for idx, mol in enumerate(geoms):\n",
    "        ent = ManybodyDatasetEntry(name=f\"LoS-IE-{idx}\", initial_molecule=mol)\n",
    "        entry_list.append(ent)\n",
    "    ds_mb.add_entries(entry_list)\n",
    "    print(f\"Added {len(entry_list)} molecules to dataset\")\n",
    "else:\n",
    "    ds_mb = client.get_dataset(\"manybody\", ds_name_mb)\n",
    "    print(f\"Found {ds_name_mb} dataset, using this instead\")\n",
    "\n",
    "print(ds_mb)\n",
    "\n",
    "# Can delete the dataset if you want to start over. Need to know dataset_id\n",
    "# client.delete_dataset(dataset_id=2, delete_records=True)"
   ]
  },
  {
   "cell_type": "code",
   "execution_count": null,
   "metadata": {
    "jukit_cell_id": "bYERcUudd0"
   },
   "outputs": [],
   "source": [
    "ds_mb.status()"
   ]
  },
  {
   "cell_type": "markdown",
   "metadata": {},
   "source": [
    "# Specify level of theory for Manybody dataset\n",
    "Similar to above, we can iterate through different levels of theory, create\n",
    "QCSpecifications, and submit the dataset computations. The major difference here\n",
    "is that now the \"levels\" must be specified for the ManybodySpecification. These\n",
    "\"levels\" refer to what level of theory and options we want to run our dimer (2)\n",
    "and monomer (1) computations with. "
   ]
  },
  {
   "cell_type": "code",
   "execution_count": null,
   "metadata": {
    "jukit_cell_id": "gauw3VIjl9"
   },
   "outputs": [],
   "source": [
    "# Set multiple levels of theory - you can add/remove levels as you desire.\n",
    "# Computational scaling will get quite expensive with better methods and larger\n",
    "# basis sets\n",
    "\n",
    "methods = [\n",
    "    'hf', # 'svwn', # 'pbe', \n",
    "]\n",
    "basis_sets = [\n",
    "    '6-31g*'\n",
    "]\n",
    "\n",
    "for method in methods:\n",
    "    for basis in basis_sets:\n",
    "        # Set the QCSpecification (QM interaction energy in our case)\n",
    "        qc_spec_mb = QCSpecification(\n",
    "            program=\"psi4\",\n",
    "            driver=\"energy\",\n",
    "            method=method,\n",
    "            basis=basis,\n",
    "            keywords={\n",
    "                \"d_convergence\": 8,\n",
    "                \"scf_type\": \"df\",\n",
    "            },\n",
    "        )\n",
    "\n",
    "        spec_mb = ManybodySpecification(\n",
    "            program='qcmanybody',\n",
    "            bsse_correction=['cp'],\n",
    "            levels={\n",
    "                1: qc_spec_mb,\n",
    "                2: qc_spec_mb,\n",
    "            },\n",
    "        )\n",
    "        print(\"spec_mb\", spec_mb)\n",
    "\n",
    "        ds_mb.add_specification(name=f\"psi4/{method}/{basis}\", specification=spec_mb)\n",
    "\n",
    "        # Run the computations\n",
    "        ds_mb.submit()\n",
    "        print(f\"Submitted {ds_name} dataset\")"
   ]
  },
  {
   "cell_type": "markdown",
   "metadata": {},
   "source": [
    "# Dataset Status\n",
    "We can re-execute the following cell to see how many computations have completed and how many are running/waiting."
   ]
  },
  {
   "cell_type": "code",
   "execution_count": null,
   "metadata": {
    "jukit_cell_id": "qYukdPBXmi"
   },
   "outputs": [],
   "source": [
    "pp(ds.status())\n",
    "pp(ds_mb.status())"
   ]
  },
  {
   "cell_type": "code",
   "execution_count": null,
   "metadata": {},
   "outputs": [],
   "source": [
    "ds_mb.detailed_status()"
   ]
  },
  {
   "cell_type": "markdown",
   "metadata": {
    "jukit_cell_id": "xgdzc0Klhx"
   },
   "source": [
    "# Data Assembly\n",
    "\n",
    "NOTE: While you can execute the following blocks before all computations are\n",
    "complete, it is recommended to wait until all computations are complete to\n",
    "continue.\n",
    "\n",
    "QCArchive allows use to write functions that operate on each dataset entry to return exactly what information\n",
    "we want from every record through the `compile_values` method. The method returns a\n",
    "pandas dataframe containing our QCSpecification names and our specified columns for each entry \n",
    "in our assemble data functions. Here is the Singlepoint data assembly for SAPT calculations. "
   ]
  },
  {
   "cell_type": "code",
   "execution_count": null,
   "metadata": {
    "jukit_cell_id": "7RHL31QOoC"
   },
   "outputs": [],
   "source": [
    "# Singlepoint data assemble\n",
    "def assemble_singlepoint_data(record):\n",
    "    record_dict = record.dict()\n",
    "    qcvars = record_dict[\"properties\"]\n",
    "    sapt_energies = np.array([np.nan, np.nan, np.nan, np.nan, np.nan])\n",
    "    sapt_energies[0] = qcvars['sapt total energy']\n",
    "    sapt_energies[1] = qcvars['sapt elst energy']\n",
    "    sapt_energies[2] = qcvars['sapt exch energy']\n",
    "    sapt_energies[3] = qcvars['sapt ind energy']\n",
    "    sapt_energies[4] = qcvars['sapt disp energy']\n",
    "    return (\n",
    "        record.molecule,\n",
    "        record.molecule.atomic_numbers,\n",
    "        record.molecule.geometry * qcel.constants.bohr2angstroms,\n",
    "        int(record.molecule.molecular_charge),\n",
    "        record.molecule.molecular_multiplicity,\n",
    "        sapt_energies,\n",
    "    )\n",
    "\n",
    "def assemble_singlepoint_data_value_names():\n",
    "    return [\n",
    "        'qcel_molecule',\n",
    "        \"Z\",\n",
    "        \"R\",\n",
    "        \"TQ\",\n",
    "        \"molecular_multiplicity\",\n",
    "        \"SAPT Energies\",\n",
    "    ]\n",
    "\n",
    "df = ds.compile_values(\n",
    "    value_call=assemble_singlepoint_data,\n",
    "    value_names=assemble_singlepoint_data_value_names(),\n",
    "    unpack=True,\n",
    ")\n",
    "pp(df.columns.tolist())\n",
    "df_sapt0 = df['psi4/SAPT0/cc-pvdz']"
   ]
  },
  {
   "cell_type": "markdown",
   "metadata": {},
   "source": [
    "Below is the assemble data function for our Manybody dataset results:"
   ]
  },
  {
   "cell_type": "code",
   "execution_count": null,
   "metadata": {
    "jukit_cell_id": "CDD1QjxHpc"
   },
   "outputs": [],
   "source": [
    "def assemble_data(record):\n",
    "    record_dict = record.dict()\n",
    "    qcvars = record_dict[\"properties\"]\n",
    "    CP_IE = qcvars['results']['cp_corrected_interaction_energy'] * h2kcalmol\n",
    "    NOCP_IE = qcvars['results'].get('nocp_corrected_interaction_energy', np.nan) * h2kcalmol\n",
    "    return (\n",
    "    record.initial_molecule,\n",
    "    CP_IE,\n",
    "    NOCP_IE,\n",
    "    record.initial_molecule.atomic_numbers,\n",
    "    record.initial_molecule.geometry * qcel.constants.bohr2angstroms,\n",
    "    int(record.initial_molecule.molecular_charge),\n",
    "    record.initial_molecule.molecular_multiplicity,\n",
    "    )\n",
    "\n",
    "def assemble_data_value_names():\n",
    "    return [\n",
    "        'qcel_molecule',\n",
    "        \"CP_IE\",\n",
    "        \"NOCP_IE\",\n",
    "        \"Z\",\n",
    "        \"R\",\n",
    "        \"TQ\",\n",
    "        \"molecular_multiplicity\"\n",
    "    ]\n",
    "\n",
    "df_mb = ds_mb.compile_values(\n",
    "    value_call=assemble_data,\n",
    "    value_names=assemble_data_value_names(),\n",
    "    unpack=True,\n",
    ")\n",
    "\n",
    "pp(df_mb.columns.tolist())"
   ]
  },
  {
   "cell_type": "markdown",
   "metadata": {},
   "source": [
    "Now we can pull together this data for analyzing our results. Our group has some\n",
    "common plotting scripts operating on pandas Dataframes, so we will convert\n",
    "our computed data into a format that is compatable with these scripts."
   ]
  },
  {
   "cell_type": "code",
   "execution_count": null,
   "metadata": {
    "jukit_cell_id": "XT87RegBfm"
   },
   "outputs": [],
   "source": [
    "from cdsg_plot import error_statistics\n",
    "\n",
    "df_sapt0['sapt0 total energes'] = df_sapt0.apply(lambda x: x['SAPT Energies'][0] * h2kcalmol, axis=1)\n",
    "df_plot = pd.DataFrame(\n",
    "    {\n",
    "        \"qcel_molecule\": df_mb[\"psi4/pbe/6-31g*\"][\"qcel_molecule\"],\n",
    "        \"HF/6-31G*\": df_mb[\"psi4/hf/6-31g*\"][\"CP_IE\"],\n",
    "        'SAPT0/cc-pvdz': df_sapt0['sapt0 total energes'].values,\n",
    "        # \"svwn/6-31G*\": df_mb[\"psi4/svwn/6-31g*\"][\"CP_IE\"],\n",
    "        # \"PBE/6-31G*\": df_mb[\"psi4/pbe/6-31g*\"][\"CP_IE\"],\n",
    "    }\n",
    ")\n",
    "# print(df_plot)\n",
    "id = [int(i[7:]) for i in df_plot.index]\n",
    "df_plot['id'] = id\n",
    "df_plot.sort_values(by='id', inplace=True, ascending=True)\n",
    "df_plot['reference'] = ref_IEs\n",
    "df_plot['SAPT0/aug-cc-pvdz'] = sapt0_adz\n",
    "df_plot['HF/6-31G* error'] = (df_plot['HF/6-31G*'] - df_plot['reference']).astype(float)\n",
    "# df_plot['PBE/6-31G* error'] = (df_plot['PBE/6-31G*'] - df_plot['reference']).astype(float)\n",
    "# df_plot['svwn/6-31G* error'] = (df_plot['svwn/6-31G*'] - df_plot['reference']).astype(float)\n",
    "df_plot['SAPT0/cc-pvdz error'] = (df_plot['SAPT0/cc-pvdz'] - df_plot['reference']).astype(float)\n",
    "df_plot['SAPT0/aug-cc-pvdz error'] = (df_plot['SAPT0/aug-cc-pvdz'] - df_plot['reference']).astype(float)\n",
    "# print(df_plot[['HF/6-31G*', 'SAPT0/cc-pvdz', 'reference', \"SAPT0/aug-cc-pvdz\"]])\n",
    "df_plot = df_plot.dropna(subset=['qcel_molecule', 'HF/6-31G*', 'SAPT0/cc-pvdz', 'SAPT0/aug-cc-pvdz'])\n",
    "print(df_plot[['HF/6-31G* error', 'SAPT0/cc-pvdz error', \"SAPT0/aug-cc-pvdz error\"]].describe())"
   ]
  },
  {
   "cell_type": "markdown",
   "metadata": {
    "jukit_cell_id": "6ziYQ8PdtF"
   },
   "source": [
    "# Plotting the interaction energy errors\n",
    "The function below will plot violin plots of the error distributions of the\n",
    "approximate level of theory and our reference. For this dataset, the reference\n",
    "energies are estimated CCSD(T)/CBS interaction energies provided by the Levels\n",
    "of SAPT II Supplemental Information."
   ]
  },
  {
   "cell_type": "code",
   "execution_count": null,
   "metadata": {
    "jukit_cell_id": "dRiuyCtOh1"
   },
   "outputs": [],
   "source": [
    "error_statistics.violin_plot(\n",
    "    df_plot,\n",
    "    df_labels_and_columns={\n",
    "        \"HF/6-31G*\": \"HF/6-31G* error\",\n",
    "        # \"svwn/6-31G*\": \"svwn/6-31G* error\",\n",
    "        # \"PBE/6-31G*\": \"PBE/6-31G* error\",\n",
    "        \"SAPT0/cc-pvdz\": \"SAPT0/cc-pvdz error\",\n",
    "        \"SAPT0/aug-cc-pvdz\": \"SAPT0/aug-cc-pvdz error\",\n",
    "    },\n",
    "    output_filename=\"S22-IE.png\",\n",
    "    figure_size=(6, 6),\n",
    "    x_label_fontsize=16,\n",
    "    ylim=(-15, 15),\n",
    "    rcParams={},\n",
    "    usetex=False,\n",
    "    ylabel=r\"IE Error vs. CCSD(T)/CBS (kcal/mol)\",\n",
    ")"
   ]
  },
  {
   "cell_type": "markdown",
   "metadata": {},
   "source": [
    "![S22-IE_violin.png](./S22-IE_violin.png)"
   ]
  },
  {
   "cell_type": "markdown",
   "metadata": {
    "jukit_cell_id": "NoxyyvkpUK"
   },
   "source": [
    "# QCMLForge\n",
    "The previous sections conclude the benchmarking workflow; however, the remaining blocks in this\n",
    "notebook focus on using this QM data to train models and run inference to compare against QM methods. \n",
    "\n",
    "## Interaction energy ML model inference\n",
    "A specialized atom-pairwise neural network\n",
    "([AP-Net](https://pubs.rsc.org/en/content/articlehtml/2024/sc/d4sc01029a))\n",
    "architecture developed in the Sherrill group has been trained on 1.6 million\n",
    "dimers to predict SAPT0/aug-cc-pV(D+d)Z interaction energies. The model has been\n",
    "re-implemented and re-trained in PyTorch in QCMLForge for extending in the\n",
    "future. Below will take a pre-trained AP-Net2 model and predict energies on our\n",
    "current dimer dataset.  Note that the AP-Net2 architecture relies on first an\n",
    "AtomModel for predicting multipoles and intramolecular features, prior to more\n",
    "message passing neural networks for predicting SAPT component energies. As such,\n",
    "we must load pre-trained AtomModel weights and APNet2Model weights."
   ]
  },
  {
   "cell_type": "code",
   "execution_count": 14,
   "metadata": {
    "jukit_cell_id": "8jtfD3m3S4"
   },
   "outputs": [
    {
     "name": "stdout",
     "output_type": "stream",
     "text": [
      "running on the CPU\n",
      "running on the CPU\n",
      "self.dataset=None\n"
     ]
    },
    {
     "ename": "NameError",
     "evalue": "name 'df_plot' is not defined",
     "output_type": "error",
     "traceback": [
      "\u001b[0;31m---------------------------------------------------------------------------\u001b[0m",
      "\u001b[0;31mNameError\u001b[0m                                 Traceback (most recent call last)",
      "Cell \u001b[0;32mIn[14], line 8\u001b[0m\n\u001b[1;32m      6\u001b[0m ap2 \u001b[38;5;241m=\u001b[39m APNet2Model(atom_model\u001b[38;5;241m=\u001b[39matom_model\u001b[38;5;241m.\u001b[39mmodel)\u001b[38;5;241m.\u001b[39mset_pretrained_model(model_id\u001b[38;5;241m=\u001b[39m\u001b[38;5;241m0\u001b[39m)\n\u001b[1;32m      7\u001b[0m ap2\u001b[38;5;241m.\u001b[39matom_model \u001b[38;5;241m=\u001b[39m atom_model\u001b[38;5;241m.\u001b[39mmodel\n\u001b[0;32m----> 8\u001b[0m \u001b[38;5;28mprint\u001b[39m(\u001b[43mdf_plot\u001b[49m[\u001b[38;5;124m'\u001b[39m\u001b[38;5;124mqcel_molecule\u001b[39m\u001b[38;5;124m'\u001b[39m]\u001b[38;5;241m.\u001b[39mtolist())\n\u001b[1;32m      9\u001b[0m apnet2_ies_predicted \u001b[38;5;241m=\u001b[39m ap2\u001b[38;5;241m.\u001b[39mpredict_qcel_mols(\n\u001b[1;32m     10\u001b[0m     mols\u001b[38;5;241m=\u001b[39mdf_plot[\u001b[38;5;124m'\u001b[39m\u001b[38;5;124mqcel_molecule\u001b[39m\u001b[38;5;124m'\u001b[39m]\u001b[38;5;241m.\u001b[39mtolist(),\n\u001b[1;32m     11\u001b[0m     batch_size\u001b[38;5;241m=\u001b[39m\u001b[38;5;241m16\u001b[39m\n\u001b[1;32m     12\u001b[0m )\n",
      "\u001b[0;31mNameError\u001b[0m: name 'df_plot' is not defined"
     ]
    }
   ],
   "source": [
    "import apnet_pt\n",
    "from apnet_pt.AtomPairwiseModels.apnet2 import APNet2Model\n",
    "from apnet_pt.AtomModels.ap2_atom_model import AtomModel\n",
    "\n",
    "atom_model = AtomModel().set_pretrained_model(model_id=0)\n",
    "ap2 = APNet2Model(atom_model=atom_model.model).set_pretrained_model(model_id=0)\n",
    "ap2.atom_model = atom_model.model\n",
    "print(df_plot['qcel_molecule'].tolist())\n",
    "apnet2_ies_predicted = ap2.predict_qcel_mols(\n",
    "    mols=df_plot['qcel_molecule'].tolist(),\n",
    "    batch_size=16\n",
    ")"
   ]
  },
  {
   "cell_type": "code",
   "execution_count": null,
   "metadata": {
    "jukit_cell_id": "nxmLPrfAfx"
   },
   "outputs": [],
   "source": [
    "# AP-Net2 IE\n",
    "df_plot['APNet2'] = np.sum(apnet2_ies_predicted, axis=1)\n",
    "df_plot['APNet2 error'] = (df_plot['APNet2'] - df_plot['reference']).astype(float)\n",
    "#print(df_plot.sort_values(by='APNet2 error', ascending=True)[['APNet2', 'reference']])\n",
    "error_statistics.violin_plot(\n",
    "    df_plot,\n",
    "    df_labels_and_columns={\n",
    "        \"HF/6-31G*\": \"HF/6-31G* error\",\n",
    "        # \"svwn/6-31G*\": \"svwn/6-31G* error\",\n",
    "        # \"PBE/6-31G*\": \"PBE/6-31G* error\",\n",
    "        \"SAPT0/cc-pvdz\": \"SAPT0/cc-pvdz error\",\n",
    "        \"SAPT0/aug-cc-pvdz\": \"SAPT0/aug-cc-pvdz error\",\n",
    "        \"APNet2\": \"APNet2 error\",\n",
    "    },\n",
    "    output_filename=\"S22-IE-AP2.png\",\n",
    "    rcParams={},\n",
    "    usetex=False,\n",
    "    figure_size=(4, 4),\n",
    "    ylabel=r\"IE Error vs. CCSD(T)/CBS (kcal/mol)\",\n",
    ")\n",
    "plt.show()"
   ]
  },
  {
   "cell_type": "markdown",
   "metadata": {},
   "source": [
    "![S22-IE-AP2_violin.png](./S22-IE-AP2_violin.png)"
   ]
  },
  {
   "cell_type": "markdown",
   "metadata": {},
   "source": [
    "# Transfer Learning\n",
    "To demonstrate transfer learning, we can use our reference data to then tune our\n",
    "pre-trained SAPT0 model to predict the CCSD(T)/CBS energies. Then we will\n",
    "re-plot, evaluating the model performance. Note that in any application, you\n",
    "should certainly use much more data and careful train/test set selection than\n",
    "what is done in this notebook. This is purely meant for demonstraion purposes\n",
    "only."
   ]
  },
  {
   "cell_type": "code",
   "execution_count": 15,
   "metadata": {
    "jukit_cell_id": "XtMJQEokjd"
   },
   "outputs": [
    {
     "ename": "NameError",
     "evalue": "name 'df_plot' is not defined",
     "output_type": "error",
     "traceback": [
      "\u001b[0;31m---------------------------------------------------------------------------\u001b[0m",
      "\u001b[0;31mNameError\u001b[0m                                 Traceback (most recent call last)",
      "Cell \u001b[0;32mIn[15], line 9\u001b[0m\n\u001b[1;32m      1\u001b[0m \u001b[38;5;66;03m# Training models on new QM data: Transfer Learning\u001b[39;00m\n\u001b[1;32m      3\u001b[0m \u001b[38;5;28;01mfrom\u001b[39;00m\u001b[38;5;250m \u001b[39m\u001b[38;5;21;01mapnet_pt\u001b[39;00m\u001b[38;5;250m \u001b[39m\u001b[38;5;28;01mimport\u001b[39;00m pairwise_datasets\n\u001b[1;32m      5\u001b[0m ds2 \u001b[38;5;241m=\u001b[39m pairwise_datasets\u001b[38;5;241m.\u001b[39mapnet2_module_dataset(\n\u001b[1;32m      6\u001b[0m     root\u001b[38;5;241m=\u001b[39m\u001b[38;5;124m\"\u001b[39m\u001b[38;5;124mdata_dir\u001b[39m\u001b[38;5;124m\"\u001b[39m,\n\u001b[1;32m      7\u001b[0m     spec_type\u001b[38;5;241m=\u001b[39m\u001b[38;5;28;01mNone\u001b[39;00m,\n\u001b[1;32m      8\u001b[0m     atom_model\u001b[38;5;241m=\u001b[39matom_model,\n\u001b[0;32m----> 9\u001b[0m     qcel_molecules\u001b[38;5;241m=\u001b[39m\u001b[43mdf_plot\u001b[49m[\u001b[38;5;124m'\u001b[39m\u001b[38;5;124mqcel_molecule\u001b[39m\u001b[38;5;124m'\u001b[39m]\u001b[38;5;241m.\u001b[39mtolist(),\n\u001b[1;32m     10\u001b[0m     energy_labels\u001b[38;5;241m=\u001b[39m[np\u001b[38;5;241m.\u001b[39marray([i]) \u001b[38;5;28;01mfor\u001b[39;00m i \u001b[38;5;129;01min\u001b[39;00m df_plot[\u001b[38;5;124m'\u001b[39m\u001b[38;5;124mreference\u001b[39m\u001b[38;5;124m'\u001b[39m]\u001b[38;5;241m.\u001b[39mtolist()],\n\u001b[1;32m     11\u001b[0m     skip_compile\u001b[38;5;241m=\u001b[39m\u001b[38;5;28;01mTrue\u001b[39;00m,\n\u001b[1;32m     12\u001b[0m     force_reprocess\u001b[38;5;241m=\u001b[39m\u001b[38;5;28;01mTrue\u001b[39;00m,\n\u001b[1;32m     13\u001b[0m     atomic_batch_size\u001b[38;5;241m=\u001b[39m\u001b[38;5;241m8\u001b[39m,\n\u001b[1;32m     14\u001b[0m     prebatched\u001b[38;5;241m=\u001b[39m\u001b[38;5;28;01mFalse\u001b[39;00m,\n\u001b[1;32m     15\u001b[0m     in_memory\u001b[38;5;241m=\u001b[39m\u001b[38;5;28;01mTrue\u001b[39;00m,\n\u001b[1;32m     16\u001b[0m     batch_size\u001b[38;5;241m=\u001b[39m\u001b[38;5;241m4\u001b[39m,\n\u001b[1;32m     17\u001b[0m )\n\u001b[1;32m     18\u001b[0m \u001b[38;5;28mprint\u001b[39m(ds2)\n",
      "\u001b[0;31mNameError\u001b[0m: name 'df_plot' is not defined"
     ]
    }
   ],
   "source": [
    "# Training models on new QM data: Transfer Learning\n",
    "\n",
    "from apnet_pt import pairwise_datasets\n",
    "\n",
    "ds2 = pairwise_datasets.apnet2_module_dataset(\n",
    "    root=\"data_dir\",\n",
    "    spec_type=None,\n",
    "    atom_model=atom_model,\n",
    "    qcel_molecules=df_plot['qcel_molecule'].tolist(),\n",
    "    energy_labels=[np.array([i]) for i in df_plot['reference'].tolist()],\n",
    "    skip_compile=True,\n",
    "    force_reprocess=True,\n",
    "    atomic_batch_size=8,\n",
    "    prebatched=False,\n",
    "    in_memory=True,\n",
    "    batch_size=4,\n",
    ")\n",
    "print(ds2)"
   ]
  },
  {
   "cell_type": "code",
   "execution_count": null,
   "metadata": {
    "jukit_cell_id": "xXslqNQSRI"
   },
   "outputs": [],
   "source": [
    "# Transfer Learning APNet2 model on computed QM data\n",
    "ap2.train(\n",
    "    dataset=ds2,\n",
    "    n_epochs=50,\n",
    "    transfer_learning=True,\n",
    "    skip_compile=True,\n",
    "    model_path=\"apnet2_transfer_learning.pt\",\n",
    "    split_percent=0.8,\n",
    ")"
   ]
  },
  {
   "cell_type": "code",
   "execution_count": null,
   "metadata": {
    "jukit_cell_id": "KPOeFMBhWm"
   },
   "outputs": [],
   "source": [
    "# AP-Net2 IE\n",
    "apnet2_ies_predicted_transfer = ap2.predict_qcel_mols(\n",
    "    mols=df_plot['qcel_molecule'].tolist(),\n",
    "    batch_size=16,\n",
    ")\n",
    "df_plot['APNet2 transfer'] = np.sum(apnet2_ies_predicted_transfer, axis=1)\n",
    "df_plot['APNet2 transfer error'] = (df_plot['APNet2 transfer'] - df_plot['reference']).astype(float)\n",
    "\n",
    "error_statistics.violin_plot(\n",
    "    df_plot,\n",
    "    df_labels_and_columns={\n",
    "        \"HF/6-31G*\": \"HF/6-31G* error\",\n",
    "        # \"svwn/6-31G*\": \"svwn/6-31G* error\",\n",
    "        # \"PBE/6-31G*\": \"PBE/6-31G* error\",\n",
    "        \"SAPT0/aug-cc-pvdz\": \"SAPT0/aug-cc-pvdz error\",\n",
    "        \"APNet2\": \"APNet2 error\",\n",
    "        \"APNet2 transfer\": \"APNet2 transfer error\",\n",
    "    },\n",
    "    output_filename=\"S22-IE-AP2-tf.png\",\n",
    "    rcParams={},\n",
    "    usetex=False,\n",
    "    figure_size=(6, 4),\n",
    "    ylabel=r\"IE Error vs. CCSD(T)/CBS (kcal/mol)\",\n",
    ")"
   ]
  },
  {
   "cell_type": "markdown",
   "metadata": {},
   "source": [
    "![S22-IE_violin-AP2-tf.png](./S22-IE-AP2-tf_violin.png)"
   ]
  },
  {
   "cell_type": "markdown",
   "metadata": {
    "jukit_cell_id": "M3Q6tUC2AJ"
   },
   "source": [
    "## $\\Delta$ Models\n",
    "Another option available in QCMLForge is to train $\\Delta {\\rm APNet2}$ models \n",
    "to predict the difference between one level of theory and another. This\n",
    "example highlights learning how to go from our computed HF/6-31G* IEs\n",
    "to our CCSD(T)/CBS energies."
   ]
  },
  {
   "cell_type": "code",
   "execution_count": null,
   "metadata": {
    "jukit_cell_id": "ROLVxSHnj2"
   },
   "outputs": [],
   "source": [
    "from apnet_pt.pt_datasets.dapnet_ds import dapnet2_module_dataset_apnetStored\n",
    "\n",
    "delta_energies = df_plot['HF/6-31G* error'].tolist()\n",
    "\n",
    "# Only operates in pre-batched mode\n",
    "ds_dap2 = dapnet2_module_dataset_apnetStored(\n",
    "    root=\"data_dir\",\n",
    "    r_cut=5.0,\n",
    "    r_cut_im=8.0,\n",
    "    spec_type=None,\n",
    "    max_size=None,\n",
    "    force_reprocess=True,\n",
    "    batch_size=2,\n",
    "    num_devices=1,\n",
    "    skip_processed=False,\n",
    "    skip_compile=True,\n",
    "    print_level=2,\n",
    "    in_memory=True,\n",
    "    m1=\"HF/6-31G*\",\n",
    "    m2=\"CCSD(T)/CBS\",\n",
    "    qcel_molecules=df_plot['qcel_molecule'].tolist(),\n",
    "    energy_labels=delta_energies,\n",
    ")\n",
    "print(ds_dap2)"
   ]
  },
  {
   "cell_type": "code",
   "execution_count": null,
   "metadata": {
    "jukit_cell_id": "jfEVLnbL5w"
   },
   "outputs": [],
   "source": [
    "from apnet_pt.AtomPairwiseModels.dapnet2 import dAPNet2Model\n",
    "\n",
    "dap2 = dAPNet2Model(\n",
    "    atom_model=AtomModel().set_pretrained_model(model_id=0),\n",
    "    apnet2_model=APNet2Model().set_pretrained_model(model_id=0).set_return_hidden_states(True),\n",
    ")\n",
    "dap2.train(\n",
    "    ds_dap2,\n",
    "    n_epochs=50,\n",
    "    skip_compile=True,\n",
    "    split_percent=0.6,\n",
    ")"
   ]
  },
  {
   "cell_type": "code",
   "execution_count": null,
   "metadata": {
    "jukit_cell_id": "BbSVmmebsN"
   },
   "outputs": [],
   "source": [
    "dAPNet2_ies_predicted_transfer = dap2.predict_qcel_mols(\n",
    "    mols=df_plot['qcel_molecule'].tolist(),\n",
    "    batch_size=2,\n",
    ")\n",
    "df_plot['dAPNet2'] = dAPNet2_ies_predicted_transfer\n",
    "df_plot['HF/6-31G*-dAPNet2'] = df_plot['HF/6-31G*'] - df_plot['dAPNet2']\n",
    "print(df_plot[['dAPNet2', 'HF/6-31G*', 'HF/6-31G*-dAPNet2',  'reference']])\n",
    "df_plot['dAPNet2 error'] = (df_plot['HF/6-31G*-dAPNet2'] - df_plot['reference']).astype(float)\n",
    "\n",
    "error_statistics.violin_plot(\n",
    "    df_plot,\n",
    "    df_labels_and_columns={\n",
    "        \"HF/6-31G*\": \"HF/6-31G* error\",\n",
    "        # \"svwn/6-31G*\": \"svwn/6-31G* error\",\n",
    "        # \"PBE/6-31G*\": \"PBE/6-31G* error\",\n",
    "        \"SAPT0/aug-cc-pvdz\": \"SAPT0/aug-cc-pvdz error\",\n",
    "        \"APNet2\": \"APNet2 error\",\n",
    "        \"APNet2 transfer\": \"APNet2 transfer error\",\n",
    "        \"dAPNet2 HF/6-31G* to CCSD(T)/CBS\": \"dAPNet2 error\",\n",
    "    },\n",
    "    output_filename=\"S22-IE-AP2-dAP2.png\",\n",
    "    rcParams={},\n",
    "    usetex=False,\n",
    "    figure_size=(6, 4),\n",
    "    ylabel=r\"IE Error vs. CCSD(T)/CBS (kcal/mol)\",\n",
    ")"
   ]
  },
  {
   "cell_type": "code",
   "execution_count": null,
   "metadata": {
    "jukit_cell_id": "OVVcYRXWUA"
   },
   "outputs": [],
   "source": [
    "# Be careful with this for it can corrupt running status...\n",
    "# !ps aux | grep qcfractal | awk '{ print $2 }' | xargs kill -9"
   ]
  },
  {
   "cell_type": "markdown",
   "metadata": {},
   "source": [
    "![S22-IE_violin-AP2-dAP2.png](./S22-IE-AP2-dAP2_violin.png)"
   ]
  },
  {
   "cell_type": "markdown",
   "metadata": {
    "jukit_cell_id": "H2TTLmA061"
   },
   "source": [
    "# The end...\n",
    "\n",
    "This notebook has been designed to help demonstrate how QCArchive can be used to\n",
    "compute QM properties through cybershuttle, and then leverage that data for\n",
    "analysis or training AP-Net based models through QCMLForge. \n",
    "\n",
    "If you have any questions about this notebook or used packages, please feel\n",
    "free to reach out to me at awallace43@gatech.edu!"
   ]
  }
 ],
 "metadata": {
  "anaconda-cloud": {},
  "kernelspec": {
   "display_name": "Python 3",
   "language": "python",
   "name": "python3"
  },
  "language_info": {
   "codemirror_mode": {
    "name": "ipython",
    "version": 3
   },
   "file_extension": ".py",
   "mimetype": "text/x-python",
   "name": "python",
   "nbconvert_exporter": "python",
   "pygments_lexer": "ipython3",
   "version": "3.10.17"
  }
 },
 "nbformat": 4,
 "nbformat_minor": 4
}
