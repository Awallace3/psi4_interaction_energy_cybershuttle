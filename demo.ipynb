{
 "cells": [
  {
   "cell_type": "markdown",
   "metadata": {
    "jukit_cell_id": "tveJZTmZdq"
   },
   "source": [
    "# QCArchive+QCMLForge Demo with CyberShuttle\n",
    "\n",
    "The first half of this demo shows how to use QCArchive to setup a dataset\n",
    "and run computations with ease. The compute resource for this noteboook\n",
    "uses Cybershuttle; however, a purely local resource demo is available under\n",
    "`./demo_local.ipynb`.\n",
    "\n",
    "The second half of this demo shows how one can consume the generated data\n",
    "to train AP-Net models through QCMLForge. \n",
    "\n",
    "## How is this useful?\n",
    "Prior to using quantum mechanical (QM) methods for applications, often computational\n",
    "chemists will either consult previous studies of benchmarked methods on similar\n",
    "systems, or perform the benchmarking task themselves. Then after quantifying\n",
    "error, the level of theory that balances both expected error and is a reasonable\n",
    "computational cost will be selected for applying to novel system(s).\n",
    "\n",
    "The Sherrill research group has performed quite a few of these benchmarking\n",
    "studies particularly for studying intermolecular interaction energies. These\n",
    "interaction energies basically determine how attractive (or repulsive) molecules\n",
    "behave when brought close together. A more practical definition for an\n",
    "interaction energy (IE) is: \n",
    "\n",
    "$E_{\\rm IE} = E_{\\rm dimer} - E_{\\rm monomerA} - E_{\\rm monomerB}$.\n",
    "\n",
    "Hence, the interaction energy is defined as the energy difference between\n",
    "the dimer (when the two molecules are together) and the molecules on\n",
    "their own (monomerA and monomerB in isolation).\n",
    "\n",
    "To demonstrate how one might carryout the computational aspects of a\n",
    "benchmarking study, the present notebook will provide examples of managing\n",
    "datasets with QCArchive and running QM calculations prior to analyzing error\n",
    "statistics with respect to reference energies. The second half of the notebook\n",
    "provides examples on how you could then apply QM data towards training ML models\n",
    "through QCMLForge."
   ]
  },
  {
   "cell_type": "code",
   "execution_count": 10,
   "metadata": {
    "jukit_cell_id": "FHk2C2mAci"
   },
   "outputs": [
    {
     "name": "stderr",
     "output_type": "stream",
     "text": [
      "1597.45s - pydevd: Sending message related to process being replaced timed-out after 5 seconds\n"
     ]
    }
   ],
   "source": [
    "!pip install --force-reinstall -q \"airavata-python-sdk[notebook]\"\n",
    "import airavata_jupyter_magic"
   ]
  },
  {
   "cell_type": "code",
   "execution_count": 12,
   "metadata": {
    "jukit_cell_id": "VonilTFkTU"
   },
   "outputs": [
    {
     "data": {
      "application/vnd.jupyter.widget-view+json": {
       "model_id": "8cb8c2274f1b4e89bbb52ccb2e43145a",
       "version_major": 2,
       "version_minor": 0
      },
      "text/plain": [
       "Output()"
      ]
     },
     "metadata": {},
     "output_type": "display_data"
    },
    {
     "data": {
      "text/html": [
       "<pre style=\"white-space:pre;overflow-x:auto;line-height:normal;font-family:Menlo,'DejaVu Sans Mono',consolas,'Courier New',monospace\">Authenticated.\n",
       "</pre>\n"
      ],
      "text/plain": [
       "Authenticated.\n"
      ]
     },
     "metadata": {},
     "output_type": "display_data"
    },
    {
     "data": {
      "text/html": [
       "<pre style=\"white-space:pre;overflow-x:auto;line-height:normal;font-family:Menlo,'DejaVu Sans Mono',consolas,'Courier New',monospace\"></pre>\n"
      ],
      "text/plain": []
     },
     "metadata": {},
     "output_type": "display_data"
    },
    {
     "data": {
      "text/html": [
       "<pre style=\"white-space:pre;overflow-x:auto;line-height:normal;font-family:Menlo,'DejaVu Sans Mono',consolas,'Courier New',monospace\"></pre>\n"
      ],
      "text/plain": []
     },
     "metadata": {},
     "output_type": "display_data"
    }
   ],
   "source": [
    "%authenticate"
   ]
  },
  {
   "cell_type": "code",
   "execution_count": 13,
   "metadata": {
    "jukit_cell_id": "1sXw3fhOc3"
   },
   "outputs": [
    {
     "ename": "AssertionError",
     "evalue": "missing /additional_dependencies/modules section",
     "output_type": "error",
     "traceback": [
      "\u001b[0;31m---------------------------------------------------------------------------\u001b[0m",
      "\u001b[0;31mAssertionError\u001b[0m                            Traceback (most recent call last)",
      "Cell \u001b[0;32mIn[13], line 1\u001b[0m\n\u001b[0;32m----> 1\u001b[0m \u001b[43mget_ipython\u001b[49m\u001b[43m(\u001b[49m\u001b[43m)\u001b[49m\u001b[38;5;241;43m.\u001b[39;49m\u001b[43mrun_line_magic\u001b[49m\u001b[43m(\u001b[49m\u001b[38;5;124;43m'\u001b[39;49m\u001b[38;5;124;43mrequest_runtime\u001b[39;49m\u001b[38;5;124;43m'\u001b[39;49m\u001b[43m,\u001b[49m\u001b[43m \u001b[49m\u001b[38;5;124;43m'\u001b[39;49m\u001b[38;5;124;43mhpc_cpu --file=cybershuttle.yml --walltime=60 --use=expanse:shared\u001b[39;49m\u001b[38;5;124;43m'\u001b[39;49m\u001b[43m)\u001b[49m\n\u001b[1;32m      2\u001b[0m get_ipython()\u001b[38;5;241m.\u001b[39mrun_line_magic(\u001b[38;5;124m'\u001b[39m\u001b[38;5;124mswitch_runtime\u001b[39m\u001b[38;5;124m'\u001b[39m, \u001b[38;5;124m'\u001b[39m\u001b[38;5;124mhpc_cpu\u001b[39m\u001b[38;5;124m'\u001b[39m)\n",
      "File \u001b[0;32m/projects/cos-lab-cs207/ds/awallace43/conda_user/p4_qcml/lib/python3.10/site-packages/IPython/core/interactiveshell.py:2482\u001b[0m, in \u001b[0;36mInteractiveShell.run_line_magic\u001b[0;34m(self, magic_name, line, _stack_depth)\u001b[0m\n\u001b[1;32m   2480\u001b[0m     kwargs[\u001b[38;5;124m'\u001b[39m\u001b[38;5;124mlocal_ns\u001b[39m\u001b[38;5;124m'\u001b[39m] \u001b[38;5;241m=\u001b[39m \u001b[38;5;28mself\u001b[39m\u001b[38;5;241m.\u001b[39mget_local_scope(stack_depth)\n\u001b[1;32m   2481\u001b[0m \u001b[38;5;28;01mwith\u001b[39;00m \u001b[38;5;28mself\u001b[39m\u001b[38;5;241m.\u001b[39mbuiltin_trap:\n\u001b[0;32m-> 2482\u001b[0m     result \u001b[38;5;241m=\u001b[39m \u001b[43mfn\u001b[49m\u001b[43m(\u001b[49m\u001b[38;5;241;43m*\u001b[39;49m\u001b[43margs\u001b[49m\u001b[43m,\u001b[49m\u001b[43m \u001b[49m\u001b[38;5;241;43m*\u001b[39;49m\u001b[38;5;241;43m*\u001b[39;49m\u001b[43mkwargs\u001b[49m\u001b[43m)\u001b[49m\n\u001b[1;32m   2484\u001b[0m \u001b[38;5;66;03m# The code below prevents the output from being displayed\u001b[39;00m\n\u001b[1;32m   2485\u001b[0m \u001b[38;5;66;03m# when using magics with decorator @output_can_be_silenced\u001b[39;00m\n\u001b[1;32m   2486\u001b[0m \u001b[38;5;66;03m# when the last Python token in the expression is a ';'.\u001b[39;00m\n\u001b[1;32m   2487\u001b[0m \u001b[38;5;28;01mif\u001b[39;00m \u001b[38;5;28mgetattr\u001b[39m(fn, magic\u001b[38;5;241m.\u001b[39mMAGIC_OUTPUT_CAN_BE_SILENCED, \u001b[38;5;28;01mFalse\u001b[39;00m):\n",
      "File \u001b[0;32m/projects/cos-lab-cs207/ds/awallace43/conda_user/p4_qcml/lib/python3.10/site-packages/airavata_jupyter_magic/__init__.py:898\u001b[0m, in \u001b[0;36mrequest_runtime\u001b[0;34m(line)\u001b[0m\n\u001b[1;32m    896\u001b[0m     \u001b[38;5;28;01massert\u001b[39;00m args\u001b[38;5;241m.\u001b[39muse \u001b[38;5;129;01mis\u001b[39;00m \u001b[38;5;129;01mnot\u001b[39;00m \u001b[38;5;28;01mNone\u001b[39;00m\n\u001b[1;32m    897\u001b[0m     cluster, queue  \u001b[38;5;241m=\u001b[39m args\u001b[38;5;241m.\u001b[39muse\u001b[38;5;241m.\u001b[39msplit(\u001b[38;5;124m\"\u001b[39m\u001b[38;5;124m,\u001b[39m\u001b[38;5;124m\"\u001b[39m)[\u001b[38;5;241m0\u001b[39m]\u001b[38;5;241m.\u001b[39msplit(\u001b[38;5;124m\"\u001b[39m\u001b[38;5;124m:\u001b[39m\u001b[38;5;124m\"\u001b[39m, maxsplit\u001b[38;5;241m=\u001b[39m\u001b[38;5;241m1\u001b[39m) \u001b[38;5;66;03m# TODO replace with meta-scheduler\u001b[39;00m\n\u001b[0;32m--> 898\u001b[0m     \u001b[38;5;28;01mreturn\u001b[39;00m \u001b[43msubmit_agent_job\u001b[49m\u001b[43m(\u001b[49m\n\u001b[1;32m    899\u001b[0m \u001b[43m        \u001b[49m\u001b[43mrt_name\u001b[49m\u001b[38;5;241;43m=\u001b[39;49m\u001b[43mrt_name\u001b[49m\u001b[43m,\u001b[49m\n\u001b[1;32m    900\u001b[0m \u001b[43m        \u001b[49m\u001b[43maccess_token\u001b[49m\u001b[38;5;241;43m=\u001b[39;49m\u001b[43maccess_token\u001b[49m\u001b[43m,\u001b[49m\n\u001b[1;32m    901\u001b[0m \u001b[43m        \u001b[49m\u001b[43mapp_name\u001b[49m\u001b[38;5;241;43m=\u001b[39;49m\u001b[38;5;124;43m'\u001b[39;49m\u001b[38;5;124;43mCS_Agent\u001b[39;49m\u001b[38;5;124;43m'\u001b[39;49m\u001b[43m,\u001b[49m\n\u001b[1;32m    902\u001b[0m \u001b[43m        \u001b[49m\u001b[43mgateway_id\u001b[49m\u001b[38;5;241;43m=\u001b[39;49m\u001b[38;5;124;43m'\u001b[39;49m\u001b[38;5;124;43mdefault\u001b[39;49m\u001b[38;5;124;43m'\u001b[39;49m\u001b[43m,\u001b[49m\n\u001b[1;32m    903\u001b[0m \u001b[43m        \u001b[49m\u001b[43mwalltime\u001b[49m\u001b[38;5;241;43m=\u001b[39;49m\u001b[43margs\u001b[49m\u001b[38;5;241;43m.\u001b[39;49m\u001b[43mwalltime\u001b[49m\u001b[43m,\u001b[49m\n\u001b[1;32m    904\u001b[0m \u001b[43m        \u001b[49m\u001b[43mcluster\u001b[49m\u001b[38;5;241;43m=\u001b[39;49m\u001b[43mcluster\u001b[49m\u001b[43m,\u001b[49m\n\u001b[1;32m    905\u001b[0m \u001b[43m        \u001b[49m\u001b[43mqueue\u001b[49m\u001b[38;5;241;43m=\u001b[39;49m\u001b[43mqueue\u001b[49m\u001b[43m,\u001b[49m\n\u001b[1;32m    906\u001b[0m \u001b[43m        \u001b[49m\u001b[43mgroup\u001b[49m\u001b[38;5;241;43m=\u001b[39;49m\u001b[43margs\u001b[49m\u001b[38;5;241;43m.\u001b[39;49m\u001b[43mgroup\u001b[49m\u001b[43m,\u001b[49m\n\u001b[1;32m    907\u001b[0m \u001b[43m        \u001b[49m\u001b[43mfile\u001b[49m\u001b[38;5;241;43m=\u001b[39;49m\u001b[43margs\u001b[49m\u001b[38;5;241;43m.\u001b[39;49m\u001b[43mfile\u001b[49m\u001b[43m,\u001b[49m\n\u001b[1;32m    908\u001b[0m \u001b[43m    \u001b[49m\u001b[43m)\u001b[49m\n\u001b[1;32m    909\u001b[0m \u001b[38;5;28;01melse\u001b[39;00m:\n\u001b[1;32m    910\u001b[0m     \u001b[38;5;28;01massert\u001b[39;00m args\u001b[38;5;241m.\u001b[39mcluster \u001b[38;5;129;01mis\u001b[39;00m \u001b[38;5;129;01mnot\u001b[39;00m \u001b[38;5;28;01mNone\u001b[39;00m\n",
      "File \u001b[0;32m/projects/cos-lab-cs207/ds/awallace43/conda_user/p4_qcml/lib/python3.10/site-packages/airavata_jupyter_magic/__init__.py:327\u001b[0m, in \u001b[0;36msubmit_agent_job\u001b[0;34m(rt_name, access_token, app_name, gateway_id, walltime, cluster, queue, group, cpus, memory, gpus, gpu_memory, file)\u001b[0m\n\u001b[1;32m    325\u001b[0m \u001b[38;5;66;03m# validation: /additional_dependencies\u001b[39;00m\n\u001b[1;32m    326\u001b[0m \u001b[38;5;28;01massert\u001b[39;00m (additional_dependencies \u001b[38;5;241m:=\u001b[39m content\u001b[38;5;241m.\u001b[39mget(\u001b[38;5;124m\"\u001b[39m\u001b[38;5;124madditional_dependencies\u001b[39m\u001b[38;5;124m\"\u001b[39m, \u001b[38;5;28;01mNone\u001b[39;00m)) \u001b[38;5;129;01mis\u001b[39;00m \u001b[38;5;129;01mnot\u001b[39;00m \u001b[38;5;28;01mNone\u001b[39;00m, \u001b[38;5;124m\"\u001b[39m\u001b[38;5;124mmissing section: /additional_dependencies\u001b[39m\u001b[38;5;124m\"\u001b[39m\n\u001b[0;32m--> 327\u001b[0m \u001b[38;5;28;01massert\u001b[39;00m (modules \u001b[38;5;241m:=\u001b[39m additional_dependencies\u001b[38;5;241m.\u001b[39mget(\u001b[38;5;124m\"\u001b[39m\u001b[38;5;124mmodules\u001b[39m\u001b[38;5;124m\"\u001b[39m, \u001b[38;5;28;01mNone\u001b[39;00m)) \u001b[38;5;129;01mis\u001b[39;00m \u001b[38;5;129;01mnot\u001b[39;00m \u001b[38;5;28;01mNone\u001b[39;00m, \u001b[38;5;124m\"\u001b[39m\u001b[38;5;124mmissing /additional_dependencies/modules section\u001b[39m\u001b[38;5;124m\"\u001b[39m\n\u001b[1;32m    328\u001b[0m \u001b[38;5;28;01massert\u001b[39;00m (conda \u001b[38;5;241m:=\u001b[39m additional_dependencies\u001b[38;5;241m.\u001b[39mget(\u001b[38;5;124m\"\u001b[39m\u001b[38;5;124mconda\u001b[39m\u001b[38;5;124m\"\u001b[39m, \u001b[38;5;28;01mNone\u001b[39;00m)) \u001b[38;5;129;01mis\u001b[39;00m \u001b[38;5;129;01mnot\u001b[39;00m \u001b[38;5;28;01mNone\u001b[39;00m, \u001b[38;5;124m\"\u001b[39m\u001b[38;5;124mmissing /additional_dependencies/conda section\u001b[39m\u001b[38;5;124m\"\u001b[39m\n\u001b[1;32m    329\u001b[0m \u001b[38;5;28;01massert\u001b[39;00m (pip \u001b[38;5;241m:=\u001b[39m additional_dependencies\u001b[38;5;241m.\u001b[39mget(\u001b[38;5;124m\"\u001b[39m\u001b[38;5;124mpip\u001b[39m\u001b[38;5;124m\"\u001b[39m, \u001b[38;5;28;01mNone\u001b[39;00m)) \u001b[38;5;129;01mis\u001b[39;00m \u001b[38;5;129;01mnot\u001b[39;00m \u001b[38;5;28;01mNone\u001b[39;00m, \u001b[38;5;124m\"\u001b[39m\u001b[38;5;124mmissing /additional_dependencies/pip section\u001b[39m\u001b[38;5;124m\"\u001b[39m\n",
      "\u001b[0;31mAssertionError\u001b[0m: missing /additional_dependencies/modules section"
     ]
    }
   ],
   "source": [
    "%request_runtime hpc_cpu --file=cybershuttle.yml --walltime=60 --use=expanse:shared\n",
    "%switch_runtime hpc_cpu"
   ]
  },
  {
   "cell_type": "code",
   "execution_count": null,
   "metadata": {},
   "outputs": [],
   "source": [
    "%copy_data source=local:setup_qcfractal.py target=hpc_cpu:setup_qcfractal.py\n",
    "%copy_data source=local:__init__.py target=hpc_cpu:__init__.py\n",
    "%copy_data source=local:combined_df_subset_358.pkl target=hpc_cpu:combined_df_subset_358.pkl"
   ]
  },
  {
   "cell_type": "code",
   "execution_count": null,
   "metadata": {
    "jukit_cell_id": "sb2BSlStsm"
   },
   "outputs": [],
   "source": [
    "import psi4\n",
    "from pprint import pprint as pp\n",
    "import pandas as pd\n",
    "import numpy as np\n",
    "from qm_tools_aw import tools\n",
    "import matplotlib.pyplot as plt\n",
    "# QCElemental Imports\n",
    "from qcelemental.models import Molecule\n",
    "import qcelemental as qcel\n",
    "# Dataset Imports\n",
    "from qcportal import PortalClient\n",
    "from qcportal.singlepoint import SinglepointDatasetEntry, QCSpecification\n",
    "from qcportal.manybody import ManybodyDatasetEntry, ManybodySpecification\n",
    "from torch import manual_seed\n",
    "\n",
    "manual_seed(42)\n",
    "\n",
    "h2kcalmol = qcel.constants.hartree2kcalmol\n",
    "print('Imports')"
   ]
  },
  {
   "cell_type": "markdown",
   "metadata": {
    "jukit_cell_id": "78H3oHPXBB"
   },
   "source": [
    "# QCArchive Setup\n",
    "QCArchive uses a PostgreSQL database for storing QM data including geometries,\n",
    "energies, and properties. Furthermore, to save on compute resources, every job\n",
    "generates a unique hash allowing future computations to be able to query previous\n",
    "job results for avoiding re-computing calculations, unless specifically requested.\n",
    "\n",
    "The following function initializes the QCArchive DB and QCFractal server, allowing\n",
    "us to then start the services for interfacing them through python. The configurations\n",
    "below will operate on a remote node through cybershuttle."
   ]
  },
  {
   "cell_type": "code",
   "execution_count": null,
   "metadata": {
    "jukit_cell_id": "BVc6W6uOta"
   },
   "outputs": [],
   "source": [
    "from setup_qcfractal import setup_qcarchive_qcfractal\n",
    "import os\n",
    "\n",
    "# Update these if you request non-default resources from cybershuttle.yml\n",
    "max_workers = 3\n",
    "cores_per_worker = 8\n",
    "memory_per_worker = 16\n",
    "\n",
    "setup_qcarchive_qcfractal(\n",
    "    QCF_BASE_FOLDER=os.path.join(os.getcwd(), \"qcfractal\"),\n",
    "    start=False,\n",
    "    reset=False,\n",
    "    db_config={\n",
    "        \"name\": None,\n",
    "        \"enable_security\": \"false\",\n",
    "        \"allow_unauthenticated_read\": None,\n",
    "        \"logfile\": None,\n",
    "        \"loglevel\": None,\n",
    "        \"service_frequency\": 5,\n",
    "        \"max_active_services\": None,\n",
    "        \"heartbeat_frequency\": 60,\n",
    "        \"log_access\": None,\n",
    "        \"database\": {\n",
    "            \"base_folder\": None,\n",
    "            \"host\": None,\n",
    "            \"port\": 5433,\n",
    "            \"database_name\": \"qca\",\n",
    "            \"username\": None,\n",
    "            \"password\": None,\n",
    "            \"own\": None,\n",
    "        },\n",
    "        \"api\": {\n",
    "            \"host\": None,\n",
    "            \"port\": 7778,\n",
    "            \"secret_key\": None,\n",
    "            \"jwt_secret_key\": None,\n",
    "        },\n",
    "    },\n",
    "    resources_config={\n",
    "            \"update_frequency\": 5,\n",
    "            \"cores_per_worker\": cores_per_worker,\n",
    "            \"max_workers\": max_workers,\n",
    "            \"memory_per_worker\": memory_per_worker,\n",
    "    },\n",
    "    conda_env=None,\n",
    "    worker_sh=None,\n",
    ")"
   ]
  },
  {
   "cell_type": "code",
   "execution_count": null,
   "metadata": {
    "jukit_cell_id": "CwEhpqwLXX"
   },
   "outputs": [],
   "source": [
    "get_ipython().system = os.system\n",
    "!qcfractal-server --config=`pwd`/qcfractal/qcfractal_config.yaml start > qcfractal/qcf_server.log &"
   ]
  },
  {
   "cell_type": "code",
   "execution_count": null,
   "metadata": {
    "jukit_cell_id": "3HjtiyIuFg"
   },
   "outputs": [],
   "source": [
    "!qcfractal-compute-manager --config=`pwd`/qcfractal/resources.yml &"
   ]
  },
  {
   "cell_type": "code",
   "execution_count": 8,
   "metadata": {},
   "outputs": [
    {
     "ename": "NameError",
     "evalue": "name 'PortalClient' is not defined",
     "output_type": "error",
     "traceback": [
      "\u001b[0;31m---------------------------------------------------------------------------\u001b[0m",
      "\u001b[0;31mNameError\u001b[0m                                 Traceback (most recent call last)",
      "Cell \u001b[0;32mIn[8], line 2\u001b[0m\n\u001b[1;32m      1\u001b[0m \u001b[38;5;66;03m# Establish client connection\u001b[39;00m\n\u001b[0;32m----> 2\u001b[0m client \u001b[38;5;241m=\u001b[39m \u001b[43mPortalClient\u001b[49m(\u001b[38;5;124m\"\u001b[39m\u001b[38;5;124mhttp://localhost:7778\u001b[39m\u001b[38;5;124m\"\u001b[39m, verify\u001b[38;5;241m=\u001b[39m\u001b[38;5;28;01mFalse\u001b[39;00m)\n\u001b[1;32m      3\u001b[0m \u001b[38;5;28mprint\u001b[39m(client)\n",
      "\u001b[0;31mNameError\u001b[0m: name 'PortalClient' is not defined"
     ]
    }
   ],
   "source": [
    "# Establish client connection\n",
    "client = PortalClient(\"http://localhost:7778\", verify=False)\n",
    "print(client)"
   ]
  },
  {
   "cell_type": "markdown",
   "metadata": {
    "jukit_cell_id": "X31FadtbG5"
   },
   "source": [
    "# QCArchive single point example with Psi4\n",
    "\n",
    "QCArchive/QCFractal can be used to run several QM softwares, but the focus of\n",
    "the present notebook will highlight the popular, open-source Psi4 program. \n",
    "\n",
    "As a simple example, we can specify a water dimer geometry and then\n",
    "create a singlepoint energy entry into the database with the client."
   ]
  },
  {
   "cell_type": "code",
   "execution_count": null,
   "metadata": {
    "jukit_cell_id": "hMCmRgdGJ4"
   },
   "outputs": [],
   "source": [
    "# Running a single job\n",
    "mol = Molecule.from_data(\n",
    "    \"\"\"\n",
    "     0 1\n",
    "     O  -1.551007  -0.114520   0.000000\n",
    "     H  -1.934259   0.762503   0.000000\n",
    "     H  -0.599677   0.040712   0.000000\n",
    "     --\n",
    "     0 1\n",
    "     O   1.350625   0.111469   0.000000\n",
    "     H   1.680398  -0.373741  -0.758561\n",
    "     H   1.680398  -0.373741   0.758561\n",
    "\n",
    "     units angstrom\n",
    "     no_reorient\n",
    "     symmetry c1\n",
    "\"\"\"\n",
    ")\n",
    "\n",
    "client.add_singlepoints(\n",
    "    [mol],\n",
    "    \"psi4\",\n",
    "    driver=\"energy\",\n",
    "    method=\"b3lyp\",\n",
    "    basis=\"aug-cc-pvdz\",\n",
    "    keywords={\"scf_type\": \"df\", \"e_convergence\": 6, \"freeze_core\": True},\n",
    "    tag=\"local\",\n",
    ")\n"
   ]
  },
  {
   "cell_type": "markdown",
   "metadata": {},
   "source": [
    "## Query Results"
   ]
  },
  {
   "cell_type": "code",
   "execution_count": 11,
   "metadata": {},
   "outputs": [
    {
     "ename": "NameError",
     "evalue": "name 'client' is not defined",
     "output_type": "error",
     "traceback": [
      "\u001b[0;31m---------------------------------------------------------------------------\u001b[0m",
      "\u001b[0;31mNameError\u001b[0m                                 Traceback (most recent call last)",
      "Cell \u001b[0;32mIn[11], line 1\u001b[0m\n\u001b[0;32m----> 1\u001b[0m recs \u001b[38;5;241m=\u001b[39m \u001b[43mclient\u001b[49m\u001b[38;5;241m.\u001b[39mquery_records(\n\u001b[1;32m      2\u001b[0m     record_id\u001b[38;5;241m=\u001b[39m[\u001b[38;5;241m1\u001b[39m]\n\u001b[1;32m      3\u001b[0m )\n\u001b[1;32m      4\u001b[0m \u001b[38;5;28;01mfor\u001b[39;00m rec \u001b[38;5;129;01min\u001b[39;00m recs:\n\u001b[1;32m      5\u001b[0m     \u001b[38;5;28mprint\u001b[39m(rec\u001b[38;5;241m.\u001b[39mdict)\n",
      "\u001b[0;31mNameError\u001b[0m: name 'client' is not defined"
     ]
    }
   ],
   "source": [
    "recs = client.query_records(\n",
    "    record_id=[1]\n",
    ")\n",
    "for rec in recs:\n",
    "    print(rec.dict)\n",
    "    print(rec.properties['return_result'])"
   ]
  },
  {
   "cell_type": "markdown",
   "metadata": {
    "jukit_cell_id": "6DmD5wp1nB"
   },
   "source": [
    "# Dataset Example\n",
    "While one could use the above logic for all calculations, QCArchive provides\n",
    "dataset options to make managing data for a specific application substantially\n",
    "easier. \n",
    "\n",
    "Prior to creating the QCArchive datasets, we will first load in data from a \n",
    "recently submitted Sherrill work [Levels of SAPT II](https://chemrxiv.org/engage/chemrxiv/article-details/67fe885f6e70d6fb2e033804). To faciliate insertion\n",
    "into the DB, we will create QCElemental Molecule objects in the pickle file\n",
    "and extract specific columns to store as variables for usage below. "
   ]
  },
  {
   "cell_type": "code",
   "execution_count": null,
   "metadata": {
    "jukit_cell_id": "Z0wXrcgRq8"
   },
   "outputs": [],
   "source": [
    "# Creating a QCArchive Dataset...\n",
    "# Load in a dataset from a recent Sherrill work (Levels of SAPT II)\n",
    "df_LoS = pd.read_pickle(\"./combined_df_subset_358.pkl\")\n",
    "print(df_LoS[['Benchmark', 'SAPT2+3(CCD)DMP2 TOTAL ENERGY aqz', 'MP2 IE atz', 'SAPT0 TOTAL ENERGY adz' ]])\n",
    "\n",
    "# Limit to 100 molecules with maximum of 16 atoms to keep computational cost down\n",
    "df_LoS['size'] = df_LoS['atomic_numbers'].apply(lambda x: len(x))\n",
    "df_LoS = df_LoS[df_LoS['size'] <= 16]\n",
    "df_LoS = df_LoS.sample(100, random_state=42, axis=0).copy()\n",
    "# df_LoS = df_LoS.sample(50, random_state=42, axis=0).copy()\n",
    "df_LoS.reset_index(drop=True, inplace=True)\n",
    "print(df_LoS['size'].describe())\n",
    "\n",
    "# Create QCElemntal Molecules to generate the dataset\n",
    "def qcel_mols(row):\n",
    "    \"\"\"\n",
    "    Convert the row to a qcel molecule\n",
    "    \"\"\"\n",
    "    atomic_numbers = [row['atomic_numbers'][row['monAs']], row['atomic_numbers'][row['monBs']]]\n",
    "    coords = [row['coordinates'][row['monAs']], row['coordinates'][row['monBs']]]\n",
    "    cm = [\n",
    "        [row['monA_charge'], row['monA_multiplicity']],\n",
    "        [row['monB_charge'], row['monB_multiplicity']],\n",
    "     ]\n",
    "    return tools.convert_pos_carts_to_mol(atomic_numbers, coords, cm)\n",
    "df_LoS['qcel_molecule'] = df_LoS.apply(qcel_mols, axis=1)\n",
    "geoms = df_LoS['qcel_molecule'].tolist()\n",
    "ref_IEs = df_LoS['Benchmark'].tolist()\n",
    "sapt0_adz = (df_LoS['SAPT0 TOTAL ENERGY adz'] * h2kcalmol).tolist()"
   ]
  },
  {
   "cell_type": "markdown",
   "metadata": {
    "jukit_cell_id": "iwmcvViziS"
   },
   "source": [
    "## Singlepoint Dataset\n",
    "\n",
    "First, to demonstrate how you could use this data for singlepoint energies/properties like the water\n",
    "dimer example above, we will create a singlepoint dataset and slot in our geometry data. "
   ]
  },
  {
   "cell_type": "code",
   "execution_count": null,
   "metadata": {
    "jukit_cell_id": "i8ICwzPWaD"
   },
   "outputs": [],
   "source": [
    "# Create client dataset\n",
    "ds_name = 'LoS-singlepoint'\n",
    "client_datasets = [i['dataset_name'] for i in client.list_datasets()]\n",
    "# Check if dataset already exists, if not create a new one\n",
    "if ds_name not in client_datasets:\n",
    "    ds = client.add_dataset(\"singlepoint\", ds_name,\n",
    "                            f\"Dataset to contain {ds_name}\")\n",
    "    print(f\"Added {ds_name} as dataset\")\n",
    "    # Insert entries into dataset\n",
    "    entry_list = []\n",
    "    for idx, mol in enumerate(geoms):\n",
    "        extras = {\n",
    "            \"name\": 'LoS-' + str(idx),\n",
    "            \"idx\": idx,\n",
    "        }\n",
    "        mol = Molecule.from_data(mol.dict(), extras=extras)\n",
    "        ent = SinglepointDatasetEntry(name=extras['name'], molecule=mol)\n",
    "        entry_list.append(ent)\n",
    "    ds.add_entries(entry_list)\n",
    "    print(f\"Added {len(entry_list)} molecules to dataset\")\n",
    "else:\n",
    "    ds = client.get_dataset(\"singlepoint\", ds_name)\n",
    "    print(f\"Found {ds_name} dataset, using this instead\")\n",
    "\n",
    "print(ds)"
   ]
  },
  {
   "cell_type": "code",
   "execution_count": null,
   "metadata": {
    "jukit_cell_id": "7ZAOPlzuUX"
   },
   "outputs": [],
   "source": [
    "# Can delete the dataset if you want to start over. Need to know dataset_id\n",
    "# client.delete_dataset(dataset_id=ds.id, delete_records=True)"
   ]
  },
  {
   "cell_type": "markdown",
   "metadata": {},
   "source": [
    "# Create QCSpecification and submit computations\n",
    "Now that the dataset has been created with our molecular systems, we will\n",
    "specify a level of theory (method/basis set) for running our calculations. We\n",
    "will name our specification \"psi4/SAPT0/cc-pvdz\" to easily label this\n",
    "specification's level of theory and program. This name will be used later\n",
    "during data collection and analysis. Although many QM methods that use a\n",
    "singlepoint energy would return a total energy, SAPT is a specialized method\n",
    "that directly computes the interaction energy between our monomers."
   ]
  },
  {
   "cell_type": "code",
   "execution_count": null,
   "metadata": {
    "jukit_cell_id": "vMkm00fo00"
   },
   "outputs": [],
   "source": [
    "# SAPT0 Example\n",
    "method, basis = \"SAPT0\", \"cc-pvdz\"\n",
    "\n",
    "# Set the QCSpecification (QM interaction energy in our case)\n",
    "spec = QCSpecification(\n",
    "    program=\"psi4\",\n",
    "    driver=\"energy\",\n",
    "    method=method,\n",
    "    basis=basis,\n",
    "    keywords={\n",
    "        \"scf_type\": \"df\",\n",
    "    },\n",
    ")\n",
    "ds.add_specification(name=f\"psi4/{method}/{basis}\", specification=spec)"
   ]
  },
  {
   "cell_type": "code",
   "execution_count": null,
   "metadata": {
    "jukit_cell_id": "dwYb9dbQNI"
   },
   "outputs": [],
   "source": [
    "# Run the computations\n",
    "ds.submit()\n",
    "print(f\"Submitted {ds_name} dataset\")"
   ]
  },
  {
   "cell_type": "code",
   "execution_count": null,
   "metadata": {
    "jukit_cell_id": "2JMCNlehez"
   },
   "outputs": [],
   "source": [
    "# Check the status of the dataset - can repeatedly run this to see the progress\n",
    "ds.status()"
   ]
  },
  {
   "cell_type": "markdown",
   "metadata": {
    "jukit_cell_id": "kT14mJyNqJ"
   },
   "source": [
    "## Manybody Dataset - typical way to compute interaction energies with most QM methods\n",
    "\n",
    "While SAPT0 returns an interaction energy from a singlepoint energy, most other QM\n",
    "methods like HF, MP2, CCSD, or DFT would return a total dimer energy ($E_{\\rm dimer}$). To\n",
    "get QCArchive to run the energies of the dimer, monomerA, and monomerB and return the \n",
    "energy difference as above for $E_{\\rm IE}$, we can use the ManybodyDataset. The setup is\n",
    "similar to the singlepoint dataset above, but using different objects."
   ]
  },
  {
   "cell_type": "code",
   "execution_count": null,
   "metadata": {
    "jukit_cell_id": "g31JlHrgso"
   },
   "outputs": [],
   "source": [
    "# Create client dataset\n",
    "ds_name_mb = 'LoS-manybody'\n",
    "client_datasets = [i['dataset_name'] for i in client.list_datasets()]\n",
    "# Check if dataset already exists, if not create a new one\n",
    "if ds_name_mb not in client_datasets:\n",
    "    print(\"Setting up new dataset:\", ds_name_mb)\n",
    "    ds_mb = client.add_dataset(\"manybody\", ds_name_mb,\n",
    "                            f\"Dataset to contain {ds_name_mb}\")\n",
    "    print(f\"Added {ds_name_mb} as dataset\")\n",
    "    # Insert entries into dataset\n",
    "    entry_list = []\n",
    "    for idx, mol in enumerate(geoms):\n",
    "        ent = ManybodyDatasetEntry(name=f\"LoS-IE-{idx}\", initial_molecule=mol)\n",
    "        entry_list.append(ent)\n",
    "    ds_mb.add_entries(entry_list)\n",
    "    print(f\"Added {len(entry_list)} molecules to dataset\")\n",
    "else:\n",
    "    ds_mb = client.get_dataset(\"manybody\", ds_name_mb)\n",
    "    print(f\"Found {ds_name_mb} dataset, using this instead\")\n",
    "\n",
    "print(ds_mb)\n",
    "\n",
    "# Can delete the dataset if you want to start over. Need to know dataset_id\n",
    "# client.delete_dataset(dataset_id=2, delete_records=True)"
   ]
  },
  {
   "cell_type": "code",
   "execution_count": null,
   "metadata": {
    "jukit_cell_id": "bYERcUudd0"
   },
   "outputs": [],
   "source": [
    "ds_mb.status()"
   ]
  },
  {
   "cell_type": "markdown",
   "metadata": {},
   "source": [
    "# Specify level of theory for Manybody dataset\n",
    "Similar to above, we can iterate through different levels of theory, create\n",
    "QCSpecifications, and submit the dataset computations. The major difference here\n",
    "is that now the \"levels\" must be specified for the ManybodySpecification. These\n",
    "\"levels\" refer to what level of theory and options we want to run our dimer (2)\n",
    "and monomer (1) computations with. "
   ]
  },
  {
   "cell_type": "code",
   "execution_count": null,
   "metadata": {
    "jukit_cell_id": "gauw3VIjl9"
   },
   "outputs": [],
   "source": [
    "# Set multiple levels of theory - you can add/remove levels as you desire.\n",
    "# Computational scaling will get quite expensive with better methods and larger\n",
    "# basis sets\n",
    "\n",
    "methods = [\n",
    "    'hf', # 'svwn', # 'pbe', \n",
    "]\n",
    "basis_sets = [\n",
    "    '6-31g*'\n",
    "]\n",
    "\n",
    "for method in methods:\n",
    "    for basis in basis_sets:\n",
    "        # Set the QCSpecification (QM interaction energy in our case)\n",
    "        qc_spec_mb = QCSpecification(\n",
    "            program=\"psi4\",\n",
    "            driver=\"energy\",\n",
    "            method=method,\n",
    "            basis=basis,\n",
    "            keywords={\n",
    "                \"d_convergence\": 8,\n",
    "                \"scf_type\": \"df\",\n",
    "            },\n",
    "        )\n",
    "\n",
    "        spec_mb = ManybodySpecification(\n",
    "            program='qcmanybody',\n",
    "            bsse_correction=['cp'],\n",
    "            levels={\n",
    "                1: qc_spec_mb,\n",
    "                2: qc_spec_mb,\n",
    "            },\n",
    "        )\n",
    "        print(\"spec_mb\", spec_mb)\n",
    "\n",
    "        ds_mb.add_specification(name=f\"psi4/{method}/{basis}\", specification=spec_mb)\n",
    "\n",
    "        # Run the computations\n",
    "        ds_mb.submit()\n",
    "        print(f\"Submitted {ds_name} dataset\")"
   ]
  },
  {
   "cell_type": "markdown",
   "metadata": {},
   "source": [
    "# Dataset Status\n",
    "We can re-execute the following cell to see how many computations have completed and how many are running/waiting."
   ]
  },
  {
   "cell_type": "code",
   "execution_count": null,
   "metadata": {
    "jukit_cell_id": "qYukdPBXmi"
   },
   "outputs": [],
   "source": [
    "pp(ds.status())\n",
    "pp(ds_mb.status())"
   ]
  },
  {
   "cell_type": "code",
   "execution_count": null,
   "metadata": {},
   "outputs": [],
   "source": [
    "ds_mb.detailed_status()"
   ]
  },
  {
   "cell_type": "markdown",
   "metadata": {
    "jukit_cell_id": "xgdzc0Klhx"
   },
   "source": [
    "# Data Assembly\n",
    "\n",
    "NOTE: While you can execute the following blocks before all computations are\n",
    "complete, it is recommended to wait until all computations are complete to\n",
    "continue.\n",
    "\n",
    "QCArchive allows use to write functions that operate on each dataset entry to return exactly what information\n",
    "we want from every record through the `compile_values` method. The method returns a\n",
    "pandas dataframe containing our QCSpecification names and our specified columns for each entry \n",
    "in our assemble data functions. Here is the Singlepoint data assembly for SAPT calculations. "
   ]
  },
  {
   "cell_type": "code",
   "execution_count": null,
   "metadata": {
    "jukit_cell_id": "7RHL31QOoC"
   },
   "outputs": [],
   "source": [
    "# Singlepoint data assemble\n",
    "def assemble_singlepoint_data(record):\n",
    "    record_dict = record.dict()\n",
    "    qcvars = record_dict[\"properties\"]\n",
    "    sapt_energies = np.array([np.nan, np.nan, np.nan, np.nan, np.nan])\n",
    "    sapt_energies[0] = qcvars['sapt total energy']\n",
    "    sapt_energies[1] = qcvars['sapt elst energy']\n",
    "    sapt_energies[2] = qcvars['sapt exch energy']\n",
    "    sapt_energies[3] = qcvars['sapt ind energy']\n",
    "    sapt_energies[4] = qcvars['sapt disp energy']\n",
    "    return (\n",
    "        record.molecule,\n",
    "        record.molecule.atomic_numbers,\n",
    "        record.molecule.geometry * qcel.constants.bohr2angstroms,\n",
    "        int(record.molecule.molecular_charge),\n",
    "        record.molecule.molecular_multiplicity,\n",
    "        sapt_energies,\n",
    "    )\n",
    "\n",
    "def assemble_singlepoint_data_value_names():\n",
    "    return [\n",
    "        'qcel_molecule',\n",
    "        \"Z\",\n",
    "        \"R\",\n",
    "        \"TQ\",\n",
    "        \"molecular_multiplicity\",\n",
    "        \"SAPT Energies\",\n",
    "    ]\n",
    "\n",
    "df = ds.compile_values(\n",
    "    value_call=assemble_singlepoint_data,\n",
    "    value_names=assemble_singlepoint_data_value_names(),\n",
    "    unpack=True,\n",
    ")\n",
    "pp(df.columns.tolist())\n",
    "df_sapt0 = df['psi4/SAPT0/cc-pvdz']"
   ]
  },
  {
   "cell_type": "markdown",
   "metadata": {},
   "source": [
    "Below is the assemble data function for our Manybody dataset results:"
   ]
  },
  {
   "cell_type": "code",
   "execution_count": null,
   "metadata": {
    "jukit_cell_id": "CDD1QjxHpc"
   },
   "outputs": [],
   "source": [
    "def assemble_data(record):\n",
    "    record_dict = record.dict()\n",
    "    qcvars = record_dict[\"properties\"]\n",
    "    CP_IE = qcvars['results']['cp_corrected_interaction_energy'] * h2kcalmol\n",
    "    NOCP_IE = qcvars['results'].get('nocp_corrected_interaction_energy', np.nan) * h2kcalmol\n",
    "    return (\n",
    "    record.initial_molecule,\n",
    "    CP_IE,\n",
    "    NOCP_IE,\n",
    "    record.initial_molecule.atomic_numbers,\n",
    "    record.initial_molecule.geometry * qcel.constants.bohr2angstroms,\n",
    "    int(record.initial_molecule.molecular_charge),\n",
    "    record.initial_molecule.molecular_multiplicity,\n",
    "    )\n",
    "\n",
    "def assemble_data_value_names():\n",
    "    return [\n",
    "        'qcel_molecule',\n",
    "        \"CP_IE\",\n",
    "        \"NOCP_IE\",\n",
    "        \"Z\",\n",
    "        \"R\",\n",
    "        \"TQ\",\n",
    "        \"molecular_multiplicity\"\n",
    "    ]\n",
    "\n",
    "df_mb = ds_mb.compile_values(\n",
    "    value_call=assemble_data,\n",
    "    value_names=assemble_data_value_names(),\n",
    "    unpack=True,\n",
    ")\n",
    "\n",
    "pp(df_mb.columns.tolist())"
   ]
  },
  {
   "cell_type": "markdown",
   "metadata": {},
   "source": [
    "Now we can pull together this data for analyzing our results. Our group has some\n",
    "common plotting scripts operating on pandas Dataframes, so we will convert\n",
    "our computed data into a format that is compatable with these scripts."
   ]
  },
  {
   "cell_type": "code",
   "execution_count": null,
   "metadata": {
    "jukit_cell_id": "XT87RegBfm"
   },
   "outputs": [],
   "source": [
    "from cdsg_plot import error_statistics\n",
    "\n",
    "df_sapt0['sapt0 total energes'] = df_sapt0.apply(lambda x: x['SAPT Energies'][0] * h2kcalmol, axis=1)\n",
    "df_plot = pd.DataFrame(\n",
    "    {\n",
    "        \"qcel_molecule\": df_mb[\"psi4/pbe/6-31g*\"][\"qcel_molecule\"],\n",
    "        \"HF/6-31G*\": df_mb[\"psi4/hf/6-31g*\"][\"CP_IE\"],\n",
    "        'SAPT0/cc-pvdz': df_sapt0['sapt0 total energes'].values,\n",
    "        # \"svwn/6-31G*\": df_mb[\"psi4/svwn/6-31g*\"][\"CP_IE\"],\n",
    "        # \"PBE/6-31G*\": df_mb[\"psi4/pbe/6-31g*\"][\"CP_IE\"],\n",
    "    }\n",
    ")\n",
    "# print(df_plot)\n",
    "id = [int(i[7:]) for i in df_plot.index]\n",
    "df_plot['id'] = id\n",
    "df_plot.sort_values(by='id', inplace=True, ascending=True)\n",
    "df_plot['reference'] = ref_IEs\n",
    "df_plot['SAPT0/aug-cc-pvdz'] = sapt0_adz\n",
    "df_plot['HF/6-31G* error'] = (df_plot['HF/6-31G*'] - df_plot['reference']).astype(float)\n",
    "# df_plot['PBE/6-31G* error'] = (df_plot['PBE/6-31G*'] - df_plot['reference']).astype(float)\n",
    "# df_plot['svwn/6-31G* error'] = (df_plot['svwn/6-31G*'] - df_plot['reference']).astype(float)\n",
    "df_plot['SAPT0/cc-pvdz error'] = (df_plot['SAPT0/cc-pvdz'] - df_plot['reference']).astype(float)\n",
    "df_plot['SAPT0/aug-cc-pvdz error'] = (df_plot['SAPT0/aug-cc-pvdz'] - df_plot['reference']).astype(float)\n",
    "# print(df_plot[['HF/6-31G*', 'SAPT0/cc-pvdz', 'reference', \"SAPT0/aug-cc-pvdz\"]])\n",
    "df_plot = df_plot.dropna(subset=['qcel_molecule', 'HF/6-31G*', 'SAPT0/cc-pvdz', 'SAPT0/aug-cc-pvdz'])\n",
    "print(df_plot[['HF/6-31G* error', 'SAPT0/cc-pvdz error', \"SAPT0/aug-cc-pvdz error\"]].describe())"
   ]
  },
  {
   "cell_type": "markdown",
   "metadata": {
    "jukit_cell_id": "6ziYQ8PdtF"
   },
   "source": [
    "# Plotting the interaction energy errors\n",
    "The function below will plot violin plots of the error distributions of the\n",
    "approximate level of theory and our reference. For this dataset, the reference\n",
    "energies are estimated CCSD(T)/CBS interaction energies provided by the Levels\n",
    "of SAPT II Supplemental Information."
   ]
  },
  {
   "cell_type": "code",
   "execution_count": null,
   "metadata": {
    "jukit_cell_id": "dRiuyCtOh1"
   },
   "outputs": [],
   "source": [
    "error_statistics.violin_plot(\n",
    "    df_plot,\n",
    "    df_labels_and_columns={\n",
    "        \"HF/6-31G*\": \"HF/6-31G* error\",\n",
    "        # \"svwn/6-31G*\": \"svwn/6-31G* error\",\n",
    "        # \"PBE/6-31G*\": \"PBE/6-31G* error\",\n",
    "        \"SAPT0/cc-pvdz\": \"SAPT0/cc-pvdz error\",\n",
    "        \"SAPT0/aug-cc-pvdz\": \"SAPT0/aug-cc-pvdz error\",\n",
    "    },\n",
    "    output_filename=\"S22-IE.png\",\n",
    "    figure_size=(6, 6),\n",
    "    x_label_fontsize=16,\n",
    "    ylim=(-15, 15),\n",
    "    rcParams={},\n",
    "    usetex=False,\n",
    "    ylabel=r\"IE Error vs. CCSD(T)/CBS (kcal/mol)\",\n",
    ")"
   ]
  },
  {
   "cell_type": "markdown",
   "metadata": {},
   "source": [
    "![S22-IE_violin.png](./S22-IE_violin.png)"
   ]
  },
  {
   "cell_type": "markdown",
   "metadata": {
    "jukit_cell_id": "NoxyyvkpUK"
   },
   "source": [
    "# QCMLForge\n",
    "The previous sections conclude the benchmarking workflow; however, the remaining blocks in this\n",
    "notebook focus on using this QM data to train models and run inference to compare against QM methods. \n",
    "\n",
    "## Interaction energy ML model inference\n",
    "A specialized atom-pairwise neural network\n",
    "([AP-Net](https://pubs.rsc.org/en/content/articlehtml/2024/sc/d4sc01029a))\n",
    "architecture developed in the Sherrill group has been trained on 1.6 million\n",
    "dimers to predict SAPT0/aug-cc-pV(D+d)Z interaction energies. The model has been\n",
    "re-implemented and re-trained in PyTorch in QCMLForge for extending in the\n",
    "future. Below will take a pre-trained AP-Net2 model and predict energies on our\n",
    "current dimer dataset.  Note that the AP-Net2 architecture relies on first an\n",
    "AtomModel for predicting multipoles and intramolecular features, prior to more\n",
    "message passing neural networks for predicting SAPT component energies. As such,\n",
    "we must load pre-trained AtomModel weights and APNet2Model weights."
   ]
  },
  {
   "cell_type": "code",
   "execution_count": 14,
   "metadata": {
    "jukit_cell_id": "8jtfD3m3S4"
   },
   "outputs": [
    {
     "name": "stdout",
     "output_type": "stream",
     "text": [
      "running on the CPU\n",
      "running on the CPU\n",
      "self.dataset=None\n"
     ]
    },
    {
     "ename": "NameError",
     "evalue": "name 'df_plot' is not defined",
     "output_type": "error",
     "traceback": [
      "\u001b[0;31m---------------------------------------------------------------------------\u001b[0m",
      "\u001b[0;31mNameError\u001b[0m                                 Traceback (most recent call last)",
      "Cell \u001b[0;32mIn[14], line 8\u001b[0m\n\u001b[1;32m      6\u001b[0m ap2 \u001b[38;5;241m=\u001b[39m APNet2Model(atom_model\u001b[38;5;241m=\u001b[39matom_model\u001b[38;5;241m.\u001b[39mmodel)\u001b[38;5;241m.\u001b[39mset_pretrained_model(model_id\u001b[38;5;241m=\u001b[39m\u001b[38;5;241m0\u001b[39m)\n\u001b[1;32m      7\u001b[0m ap2\u001b[38;5;241m.\u001b[39matom_model \u001b[38;5;241m=\u001b[39m atom_model\u001b[38;5;241m.\u001b[39mmodel\n\u001b[0;32m----> 8\u001b[0m \u001b[38;5;28mprint\u001b[39m(\u001b[43mdf_plot\u001b[49m[\u001b[38;5;124m'\u001b[39m\u001b[38;5;124mqcel_molecule\u001b[39m\u001b[38;5;124m'\u001b[39m]\u001b[38;5;241m.\u001b[39mtolist())\n\u001b[1;32m      9\u001b[0m apnet2_ies_predicted \u001b[38;5;241m=\u001b[39m ap2\u001b[38;5;241m.\u001b[39mpredict_qcel_mols(\n\u001b[1;32m     10\u001b[0m     mols\u001b[38;5;241m=\u001b[39mdf_plot[\u001b[38;5;124m'\u001b[39m\u001b[38;5;124mqcel_molecule\u001b[39m\u001b[38;5;124m'\u001b[39m]\u001b[38;5;241m.\u001b[39mtolist(),\n\u001b[1;32m     11\u001b[0m     batch_size\u001b[38;5;241m=\u001b[39m\u001b[38;5;241m16\u001b[39m\n\u001b[1;32m     12\u001b[0m )\n",
      "\u001b[0;31mNameError\u001b[0m: name 'df_plot' is not defined"
     ]
    }
   ],
   "source": [
    "import apnet_pt\n",
    "from apnet_pt.AtomPairwiseModels.apnet2 import APNet2Model\n",
    "from apnet_pt.AtomModels.ap2_atom_model import AtomModel\n",
    "\n",
    "atom_model = AtomModel().set_pretrained_model(model_id=0)\n",
    "ap2 = APNet2Model(atom_model=atom_model.model).set_pretrained_model(model_id=0)\n",
    "ap2.atom_model = atom_model.model\n",
    "print(df_plot['qcel_molecule'].tolist())\n",
    "apnet2_ies_predicted = ap2.predict_qcel_mols(\n",
    "    mols=df_plot['qcel_molecule'].tolist(),\n",
    "    batch_size=16\n",
    ")"
   ]
  },
  {
   "cell_type": "code",
   "execution_count": null,
   "metadata": {
    "jukit_cell_id": "nxmLPrfAfx"
   },
   "outputs": [],
   "source": [
    "# AP-Net2 IE\n",
    "df_plot['APNet2'] = np.sum(apnet2_ies_predicted, axis=1)\n",
    "df_plot['APNet2 error'] = (df_plot['APNet2'] - df_plot['reference']).astype(float)\n",
    "#print(df_plot.sort_values(by='APNet2 error', ascending=True)[['APNet2', 'reference']])\n",
    "error_statistics.violin_plot(\n",
    "    df_plot,\n",
    "    df_labels_and_columns={\n",
    "        \"HF/6-31G*\": \"HF/6-31G* error\",\n",
    "        # \"svwn/6-31G*\": \"svwn/6-31G* error\",\n",
    "        # \"PBE/6-31G*\": \"PBE/6-31G* error\",\n",
    "        \"SAPT0/cc-pvdz\": \"SAPT0/cc-pvdz error\",\n",
    "        \"SAPT0/aug-cc-pvdz\": \"SAPT0/aug-cc-pvdz error\",\n",
    "        \"APNet2\": \"APNet2 error\",\n",
    "    },\n",
    "    output_filename=\"S22-IE-AP2.png\",\n",
    "    rcParams={},\n",
    "    usetex=False,\n",
    "    figure_size=(4, 4),\n",
    "    ylabel=r\"IE Error vs. CCSD(T)/CBS (kcal/mol)\",\n",
    ")\n",
    "plt.show()"
   ]
  },
  {
   "cell_type": "markdown",
   "metadata": {},
   "source": [
    "![S22-IE-AP2_violin.png](./S22-IE-AP2_violin.png)"
   ]
  },
  {
   "cell_type": "markdown",
   "metadata": {},
   "source": [
    "# Transfer Learning\n",
    "To demonstrate transfer learning, we can use our reference data to then tune our\n",
    "pre-trained SAPT0 model to predict the CCSD(T)/CBS energies. Then we will\n",
    "re-plot, evaluating the model performance. Note that in any application, you\n",
    "should certainly use much more data and careful train/test set selection than\n",
    "what is done in this notebook. This is purely meant for demonstraion purposes\n",
    "only."
   ]
  },
  {
   "cell_type": "code",
   "execution_count": 15,
   "metadata": {
    "jukit_cell_id": "XtMJQEokjd"
   },
   "outputs": [
    {
     "ename": "NameError",
     "evalue": "name 'df_plot' is not defined",
     "output_type": "error",
     "traceback": [
      "\u001b[0;31m---------------------------------------------------------------------------\u001b[0m",
      "\u001b[0;31mNameError\u001b[0m                                 Traceback (most recent call last)",
      "Cell \u001b[0;32mIn[15], line 9\u001b[0m\n\u001b[1;32m      1\u001b[0m \u001b[38;5;66;03m# Training models on new QM data: Transfer Learning\u001b[39;00m\n\u001b[1;32m      3\u001b[0m \u001b[38;5;28;01mfrom\u001b[39;00m\u001b[38;5;250m \u001b[39m\u001b[38;5;21;01mapnet_pt\u001b[39;00m\u001b[38;5;250m \u001b[39m\u001b[38;5;28;01mimport\u001b[39;00m pairwise_datasets\n\u001b[1;32m      5\u001b[0m ds2 \u001b[38;5;241m=\u001b[39m pairwise_datasets\u001b[38;5;241m.\u001b[39mapnet2_module_dataset(\n\u001b[1;32m      6\u001b[0m     root\u001b[38;5;241m=\u001b[39m\u001b[38;5;124m\"\u001b[39m\u001b[38;5;124mdata_dir\u001b[39m\u001b[38;5;124m\"\u001b[39m,\n\u001b[1;32m      7\u001b[0m     spec_type\u001b[38;5;241m=\u001b[39m\u001b[38;5;28;01mNone\u001b[39;00m,\n\u001b[1;32m      8\u001b[0m     atom_model\u001b[38;5;241m=\u001b[39matom_model,\n\u001b[0;32m----> 9\u001b[0m     qcel_molecules\u001b[38;5;241m=\u001b[39m\u001b[43mdf_plot\u001b[49m[\u001b[38;5;124m'\u001b[39m\u001b[38;5;124mqcel_molecule\u001b[39m\u001b[38;5;124m'\u001b[39m]\u001b[38;5;241m.\u001b[39mtolist(),\n\u001b[1;32m     10\u001b[0m     energy_labels\u001b[38;5;241m=\u001b[39m[np\u001b[38;5;241m.\u001b[39marray([i]) \u001b[38;5;28;01mfor\u001b[39;00m i \u001b[38;5;129;01min\u001b[39;00m df_plot[\u001b[38;5;124m'\u001b[39m\u001b[38;5;124mreference\u001b[39m\u001b[38;5;124m'\u001b[39m]\u001b[38;5;241m.\u001b[39mtolist()],\n\u001b[1;32m     11\u001b[0m     skip_compile\u001b[38;5;241m=\u001b[39m\u001b[38;5;28;01mTrue\u001b[39;00m,\n\u001b[1;32m     12\u001b[0m     force_reprocess\u001b[38;5;241m=\u001b[39m\u001b[38;5;28;01mTrue\u001b[39;00m,\n\u001b[1;32m     13\u001b[0m     atomic_batch_size\u001b[38;5;241m=\u001b[39m\u001b[38;5;241m8\u001b[39m,\n\u001b[1;32m     14\u001b[0m     prebatched\u001b[38;5;241m=\u001b[39m\u001b[38;5;28;01mFalse\u001b[39;00m,\n\u001b[1;32m     15\u001b[0m     in_memory\u001b[38;5;241m=\u001b[39m\u001b[38;5;28;01mTrue\u001b[39;00m,\n\u001b[1;32m     16\u001b[0m     batch_size\u001b[38;5;241m=\u001b[39m\u001b[38;5;241m4\u001b[39m,\n\u001b[1;32m     17\u001b[0m )\n\u001b[1;32m     18\u001b[0m \u001b[38;5;28mprint\u001b[39m(ds2)\n",
      "\u001b[0;31mNameError\u001b[0m: name 'df_plot' is not defined"
     ]
    }
   ],
   "source": [
    "# Training models on new QM data: Transfer Learning\n",
    "\n",
    "from apnet_pt import pairwise_datasets\n",
    "\n",
    "ds2 = pairwise_datasets.apnet2_module_dataset(\n",
    "    root=\"data_dir\",\n",
    "    spec_type=None,\n",
    "    atom_model=atom_model,\n",
    "    qcel_molecules=df_plot['qcel_molecule'].tolist(),\n",
    "    energy_labels=[np.array([i]) for i in df_plot['reference'].tolist()],\n",
    "    skip_compile=True,\n",
    "    force_reprocess=True,\n",
    "    atomic_batch_size=8,\n",
    "    prebatched=False,\n",
    "    in_memory=True,\n",
    "    batch_size=4,\n",
    ")\n",
    "print(ds2)"
   ]
  },
  {
   "cell_type": "code",
   "execution_count": null,
   "metadata": {
    "jukit_cell_id": "xXslqNQSRI"
   },
   "outputs": [],
   "source": [
    "# Transfer Learning APNet2 model on computed QM data\n",
    "ap2.train(\n",
    "    dataset=ds2,\n",
    "    n_epochs=50,\n",
    "    transfer_learning=True,\n",
    "    skip_compile=True,\n",
    "    model_path=\"apnet2_transfer_learning.pt\",\n",
    "    split_percent=0.8,\n",
    ")"
   ]
  },
  {
   "cell_type": "code",
   "execution_count": null,
   "metadata": {
    "jukit_cell_id": "KPOeFMBhWm"
   },
   "outputs": [],
   "source": [
    "# AP-Net2 IE\n",
    "apnet2_ies_predicted_transfer = ap2.predict_qcel_mols(\n",
    "    mols=df_plot['qcel_molecule'].tolist(),\n",
    "    batch_size=16,\n",
    ")\n",
    "df_plot['APNet2 transfer'] = np.sum(apnet2_ies_predicted_transfer, axis=1)\n",
    "df_plot['APNet2 transfer error'] = (df_plot['APNet2 transfer'] - df_plot['reference']).astype(float)\n",
    "\n",
    "error_statistics.violin_plot(\n",
    "    df_plot,\n",
    "    df_labels_and_columns={\n",
    "        \"HF/6-31G*\": \"HF/6-31G* error\",\n",
    "        # \"svwn/6-31G*\": \"svwn/6-31G* error\",\n",
    "        # \"PBE/6-31G*\": \"PBE/6-31G* error\",\n",
    "        \"SAPT0/aug-cc-pvdz\": \"SAPT0/aug-cc-pvdz error\",\n",
    "        \"APNet2\": \"APNet2 error\",\n",
    "        \"APNet2 transfer\": \"APNet2 transfer error\",\n",
    "    },\n",
    "    output_filename=\"S22-IE-AP2-tf.png\",\n",
    "    rcParams={},\n",
    "    usetex=False,\n",
    "    figure_size=(6, 4),\n",
    "    ylabel=r\"IE Error vs. CCSD(T)/CBS (kcal/mol)\",\n",
    ")"
   ]
  },
  {
   "cell_type": "markdown",
   "metadata": {},
   "source": [
    "![S22-IE_violin-AP2-tf.png](./S22-IE-AP2-tf_violin.png)"
   ]
  },
  {
   "cell_type": "markdown",
   "metadata": {
    "jukit_cell_id": "M3Q6tUC2AJ"
   },
   "source": [
    "## $\\Delta$ Models\n",
    "Another option available in QCMLForge is to train $\\Delta {\\rm APNet2}$ models \n",
    "to predict the difference between one level of theory and another. This\n",
    "example highlights learning how to go from our computed HF/6-31G* IEs\n",
    "to our CCSD(T)/CBS energies."
   ]
  },
  {
   "cell_type": "code",
   "execution_count": null,
   "metadata": {
    "jukit_cell_id": "ROLVxSHnj2"
   },
   "outputs": [],
   "source": [
    "from apnet_pt.pt_datasets.dapnet_ds import dapnet2_module_dataset_apnetStored\n",
    "\n",
    "delta_energies = df_plot['HF/6-31G* error'].tolist()\n",
    "\n",
    "# Only operates in pre-batched mode\n",
    "ds_dap2 = dapnet2_module_dataset_apnetStored(\n",
    "    root=\"data_dir\",\n",
    "    r_cut=5.0,\n",
    "    r_cut_im=8.0,\n",
    "    spec_type=None,\n",
    "    max_size=None,\n",
    "    force_reprocess=True,\n",
    "    batch_size=2,\n",
    "    num_devices=1,\n",
    "    skip_processed=False,\n",
    "    skip_compile=True,\n",
    "    print_level=2,\n",
    "    in_memory=True,\n",
    "    m1=\"HF/6-31G*\",\n",
    "    m2=\"CCSD(T)/CBS\",\n",
    "    qcel_molecules=df_plot['qcel_molecule'].tolist(),\n",
    "    energy_labels=delta_energies,\n",
    ")\n",
    "print(ds_dap2)"
   ]
  },
  {
   "cell_type": "code",
   "execution_count": null,
   "metadata": {
    "jukit_cell_id": "jfEVLnbL5w"
   },
   "outputs": [],
   "source": [
    "from apnet_pt.AtomPairwiseModels.dapnet2 import dAPNet2Model\n",
    "\n",
    "dap2 = dAPNet2Model(\n",
    "    atom_model=AtomModel().set_pretrained_model(model_id=0),\n",
    "    apnet2_model=APNet2Model().set_pretrained_model(model_id=0).set_return_hidden_states(True),\n",
    ")\n",
    "dap2.train(\n",
    "    ds_dap2,\n",
    "    n_epochs=50,\n",
    "    skip_compile=True,\n",
    "    split_percent=0.6,\n",
    ")"
   ]
  },
  {
   "cell_type": "code",
   "execution_count": null,
   "metadata": {
    "jukit_cell_id": "BbSVmmebsN"
   },
   "outputs": [],
   "source": [
    "dAPNet2_ies_predicted_transfer = dap2.predict_qcel_mols(\n",
    "    mols=df_plot['qcel_molecule'].tolist(),\n",
    "    batch_size=2,\n",
    ")\n",
    "df_plot['dAPNet2'] = dAPNet2_ies_predicted_transfer\n",
    "df_plot['HF/6-31G*-dAPNet2'] = df_plot['HF/6-31G*'] - df_plot['dAPNet2']\n",
    "print(df_plot[['dAPNet2', 'HF/6-31G*', 'HF/6-31G*-dAPNet2',  'reference']])\n",
    "df_plot['dAPNet2 error'] = (df_plot['HF/6-31G*-dAPNet2'] - df_plot['reference']).astype(float)\n",
    "\n",
    "error_statistics.violin_plot(\n",
    "    df_plot,\n",
    "    df_labels_and_columns={\n",
    "        \"HF/6-31G*\": \"HF/6-31G* error\",\n",
    "        # \"svwn/6-31G*\": \"svwn/6-31G* error\",\n",
    "        # \"PBE/6-31G*\": \"PBE/6-31G* error\",\n",
    "        \"SAPT0/aug-cc-pvdz\": \"SAPT0/aug-cc-pvdz error\",\n",
    "        \"APNet2\": \"APNet2 error\",\n",
    "        \"APNet2 transfer\": \"APNet2 transfer error\",\n",
    "        \"dAPNet2 HF/6-31G* to CCSD(T)/CBS\": \"dAPNet2 error\",\n",
    "    },\n",
    "    output_filename=\"S22-IE-AP2-dAP2.png\",\n",
    "    rcParams={},\n",
    "    usetex=False,\n",
    "    figure_size=(6, 4),\n",
    "    ylabel=r\"IE Error vs. CCSD(T)/CBS (kcal/mol)\",\n",
    ")"
   ]
  },
  {
   "cell_type": "code",
   "execution_count": null,
   "metadata": {
    "jukit_cell_id": "OVVcYRXWUA"
   },
   "outputs": [],
   "source": [
    "# Be careful with this for it can corrupt running status...\n",
    "# !ps aux | grep qcfractal | awk '{ print $2 }' | xargs kill -9"
   ]
  },
  {
   "cell_type": "markdown",
   "metadata": {},
   "source": [
    "![S22-IE_violin-AP2-dAP2.png](./S22-IE-AP2-dAP2_violin.png)"
   ]
  },
  {
   "cell_type": "markdown",
   "metadata": {
    "jukit_cell_id": "H2TTLmA061"
   },
   "source": [
    "# The end...\n",
    "\n",
    "This notebook has been designed to help demonstrate how QCArchive can be used to\n",
    "compute QM properties through cybershuttle, and then leverage that data for\n",
    "analysis or training AP-Net based models through QCMLForge. \n",
    "\n",
    "If you have any questions about this notebook or used packages, please feel\n",
    "free to reach out to me at awallace43@gatech.edu!"
   ]
  }
 ],
 "metadata": {
  "anaconda-cloud": {},
  "kernelspec": {
   "display_name": "p4_qcml",
   "language": "python",
   "name": "python3"
  },
  "language_info": {
   "codemirror_mode": {
    "name": "ipython",
    "version": 3
   },
   "file_extension": ".py",
   "mimetype": "text/x-python",
   "name": "python",
   "nbconvert_exporter": "python",
   "pygments_lexer": "ipython3",
   "version": "3.10.17"
  }
 },
 "nbformat": 4,
 "nbformat_minor": 4
}
