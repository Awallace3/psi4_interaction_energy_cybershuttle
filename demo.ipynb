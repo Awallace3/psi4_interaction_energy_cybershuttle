{
  "cells": [
    {
      "cell_type": "code",
      "metadata": {
        "jukit_cell_id": "sb2BSlStsm"
      },
      "source": [
        "import psi4\n",
        "from qcportal import PortalClient\n",
        "from pprint import pprint as pp\n",
        "from qcelemental.models import Molecule\n",
        "import qcelemental as qcel\n",
        "from qcportal.singlepoint import SinglepointDataset, SinglepointDatasetEntry, QCSpecification\n",
        "import pandas as pd\n",
        "import numpy as np\n",
        "\n",
        "# need manybodydataset\n",
        "from qcportal.manybody import ManybodyDataset, ManybodyDatasetEntry, ManybodyDatasetSpecification, ManybodySpecification\n",
        "from pprint import pprint as pp"
      ],
      "outputs": [],
      "execution_count": null
    },
    {
      "cell_type": "code",
      "metadata": {
        "jukit_cell_id": "BVc6W6uOta"
      },
      "source": [
        "from setup_qcfractal import setup_qcarchive_qcfractal\n",
        "import os\n",
        "\n",
        "setup_qcarchive_qcfractal(\n",
        "    QCF_BASE_FOLDER=os.path.join(os.getcwd(), \"qcfractal\"),\n",
        "    start=False,\n",
        "    reset=False,\n",
        "    db_config={\n",
        "        \"name\": None,\n",
        "        \"enable_security\": \"false\",\n",
        "        \"allow_unauthenticated_read\": None,\n",
        "        \"logfile\": None,\n",
        "        \"loglevel\": None,\n",
        "        \"service_frequency\": 10,\n",
        "        \"max_active_services\": None,\n",
        "        \"heartbeat_frequency\": None,\n",
        "        \"log_access\": None,\n",
        "        \"database\": {\n",
        "            \"base_folder\": None,\n",
        "            \"host\": None,\n",
        "            \"port\": 5432,\n",
        "            \"database_name\": \"qca\",\n",
        "            \"username\": None,\n",
        "            \"password\": None,\n",
        "            \"own\": None,\n",
        "        },\n",
        "        \"api\": {\n",
        "            \"host\": None,\n",
        "            \"port\": 7777,\n",
        "            \"secret_key\": None,\n",
        "            \"jwt_secret_key\": None,\n",
        "        },\n",
        "    },\n",
        "    resources_config={\n",
        "            \"update_frequency\": 5,\n",
        "            \"cores_per_worker\": 8,\n",
        "            \"max_workers\": 3,\n",
        "            \"memory_per_worker\": 20,\n",
        "    }\n",
        ")"
      ],
      "outputs": [
        {
          "output_type": "stream",
          "name": "stdout",
          "text": "/home/relativity64/gits/cybershuttle_demo/qcfractal\n\n--------------------------------------------------------------------------------\nPython executable:  /home/relativity64/miniconda3/envs/p4_qcml/bin/python\nQCFractal version:  0.59\nQCFractal alembic revision:  d5988aa750ae\npg_ctl path:  /home/relativity64/miniconda3/envs/p4_qcml/bin/pg_ctl\nPostgreSQL server version:  PostgreSQL 17.4 on x86_64-conda-linux-gnu, compiled by x86_64-conda-linux-gnu-cc (conda-forge gcc 13.3.0-2) 13.3.0, 64-bit\n--------------------------------------------------------------------------------\n\n\nDisplaying QCFractal configuration below\n--------------------------------------------------------------------------------\naccess_log_keep: 0\nallow_unauthenticated_read: true\napi:\n  extra_flask_options: null\n  extra_waitress_options: null\n  host: localhost\n  jwt_access_token_expires: 3600\n  jwt_refresh_token_expires: 86400\n  jwt_secret_key: 0SKZIRvzsGmFeZcprEEnSGiQz6N7Ah97-wwN_rsMJFk\n  num_threads_per_worker: 4\n  port: 7777\n  secret_key: FInY080LdV4ZZ_d6HZ6fFqBv5VIGyrQlicEPsUporYo\n  worker_timeout: 120\napi_limits:\n  add_molecules: 1000\n  add_records: 500\n  get_access_logs: 1000\n  get_dataset_entries: 2000\n  get_error_logs: 100\n  get_internal_jobs: 1000\n  get_managers: 1000\n  get_molecules: 1000\n  get_records: 1000\n  manager_tasks_claim: 200\n  manager_tasks_return: 10\nauto_reset:\n  compute_lost: 5\n  enabled: false\n  random_error: 5\n  unknown_error: 2\nbase_folder: /home/relativity64/gits/cybershuttle_demo/qcfractal\ndatabase:\n  base_folder: /home/relativity64/gits/cybershuttle_demo/qcfractal\n  data_directory: /home/relativity64/gits/cybershuttle_demo/qcfractal/postgres\n  database_name: qca\n  echo_sql: false\n  full_uri: null\n  host: localhost\n  logfile: /home/relativity64/gits/cybershuttle_demo/qcfractal/qcfractal_database.log\n  maintenance_db: postgres\n  own: true\n  password: jqTTyLsFzehG75eOFK-7a6TVfLskeXdW7Khe799LedE\n  pg_tool_dir: null\n  pool_size: 5\n  port: 5432\n  query: {}\n  username: qcfractal\nenable_security: false\ngeoip2_dir: /home/relativity64/gits/cybershuttle_demo/qcfractal/geoip2\ngeoip2_filename: GeoLite2-City.mmdb\nheartbeat_frequency: 1800\nheartbeat_frequency_jitter: 0\nheartbeat_max_missed: 5\nhide_internal_errors: true\nhomepage_directory: null\nhomepage_redirect_url: null\ninternal_job_keep: 0\ninternal_job_processes: 1\nlog_access: false\nlogfile: null\nloglevel: INFO\nmax_active_services: 20\nmaxmind_license_key: null\nname: QCFractal Server\ns3:\n  access_key_id: null\n  bucket_map:\n    dataset_attachment: dataset_attachment\n  enabled: false\n  endpoint_url: null\n  passthrough: false\n  secret_access_key: null\n  verify: true\nservice_frequency: 10\nstrict_queue_tags: false\ntemporary_dir: /tmp\n--------------------------------------------------------------------------------\n\nQCFractal setup complete\nTo start the server run:\n  qcfractal-server --config=/home/relativity64/gits/cybershuttle_demo/qcfractal/qcfractal_config.yaml start\nTo start the compute manager run:\n  qcfractal-compute-manager --config=/home/relativity64/gits/cybershuttle_demo/qcfractal/resources.yml\n"
        }
      ],
      "execution_count": 1
    },
    {
      "cell_type": "code",
      "metadata": {
        "jukit_cell_id": "CwEhpqwLXX"
      },
      "source": [
        "!qcfractal-server --config=`pwd`/qcfractal/qcfractal_config.yaml start > qcfractal_server.log & disown\n",
        "\n",
        "# NOTE kill server when finished by running:\n",
        "#     ps aux | grep qcfractal-server | awk '{ print $2 }'\n",
        "#     kill -9 <PID>"
      ],
      "outputs": [],
      "execution_count": null
    },
    {
      "cell_type": "code",
      "metadata": {
        "jukit_cell_id": "3HjtiyIuFg"
      },
      "source": [
        "!qcfractal-compute-manager --config=`pwd`/qcfractal/resources.yml > qcfractal_compute.log & disown\n",
        "# NOTE kill server when finished by running:;\n",
        "#    ps aux | grep qcfractal-server | awk '{ print $2 }'\n",
        "#    kill -9 <PID>"
      ],
      "outputs": [],
      "execution_count": null
    },
    {
      "cell_type": "code",
      "metadata": {
        "jukit_cell_id": "hMCmRgdGJ4"
      },
      "source": [
        "# Running a single job\n",
        "client = PortalClient(\"http://localhost:7777\", verify=False)\n",
        "# for rec in client.query_records():\n",
        "#     pp(rec)\n",
        "\n",
        "mol = Molecule.from_data(\n",
        "    \"\"\"\n",
        "     0 1\n",
        "     O  -1.551007  -0.114520   0.000000\n",
        "     H  -1.934259   0.762503   0.000000\n",
        "     H  -0.599677   0.040712   0.000000\n",
        "     --\n",
        "     0 1\n",
        "     O   1.350625   0.111469   0.000000\n",
        "     H   1.680398  -0.373741  -0.758561\n",
        "     H   1.680398  -0.373741   0.758561\n",
        "\n",
        "     units angstrom\n",
        "     no_reorient\n",
        "     symmetry c1\n",
        "\"\"\"\n",
        ")\n",
        "\n",
        "psi4.set_options(\n",
        "    {\"basis\": \"aug-cc-pvdz\", \"scf_type\": \"df\", \"e_convergence\": 6, \"freeze_core\": True}\n",
        ")\n",
        "\n",
        "client.add_singlepoints(\n",
        "    [mol],\n",
        "    \"psi4\",\n",
        "    driver=\"energy\",\n",
        "    method=\"b3lyp\",\n",
        "    basis=\"aug-cc-pvdz\",\n",
        "    keywords={\"scf_type\": \"df\", \"e_convergence\": 6, \"freeze_core\": True},\n",
        "    tag=\"local\",\n",
        ")\n",
        "\n",
        "# for rec in client.query_records():\n",
        "#     pp(rec.dict)\n",
        "#     pp(rec.error)"
      ],
      "outputs": [
        {
          "output_type": "stream",
          "name": "stdout",
          "text": "\n"
        },
        {
          "output_type": "execute_result",
          "execution_count": 2,
          "data": {
            "text/plain": "(InsertMetadata(error_description=None, errors=[], inserted_idx=[0], existing_idx=[]),\n [1])"
          },
          "metadata": {}
        }
      ],
      "execution_count": 2
    },
    {
      "cell_type": "code",
      "metadata": {
        "jukit_cell_id": "Z0wXrcgRq8"
      },
      "source": [
        "# Now create S22 Interaction Energy Dataset\n",
        "from s22 import geoms, ref_IEs\n",
        "\n",
        "assert len(geoms) == len(ref_IEs), \"Number of geometries and reference interaction energies do not match\"\n",
        "\n",
        "# geoms is a list of qcelemental Molecule objects that can be used to create a\n",
        "# QCArchive dataset\n",
        "print(len(geoms), geoms)"
      ],
      "outputs": [
        {
          "output_type": "stream",
          "name": "stdout",
          "text": "7 [Molecule(name='H4O2', formula='H4O2', hash='49ecd61'), Molecule(name='C2H4O4', formula='C2H4O4', hash='cb6a49d'), Molecule(name='C2H6N2O2', formula='C2H6N2O2', hash='b1ca3e5'), Molecule(name='C2H8', formula='C2H8', hash='67d7d29'), Molecule(name='C4H8', formula='C4H8', hash='47f28b2'), Molecule(name='C4H6', formula='C4H6', hash='2f8f067'), Molecule(name='C6H8O', formula='C6H8O', hash='22eeb90')]\n"
        }
      ],
      "execution_count": 3
    },
    {
      "cell_type": "code",
      "metadata": {
        "jukit_cell_id": "i8ICwzPWaD"
      },
      "source": [
        "# Create client dataset\n",
        "\n",
        "ds_name = 'S22-multipoles'\n",
        "\n",
        "try:\n",
        "    ds = client.add_dataset(\"singlepoint\", ds_name,\n",
        "                            f\"Dataset to contain {ds_name}\")\n",
        "    print(f\"Added {ds_name} as dataset\")\n",
        "    # Insert entries into dataset\n",
        "    entry_list = []\n",
        "    for idx, mol in enumerate(geoms):\n",
        "        extras = {\n",
        "            \"name\": 'S22-' + str(idx),\n",
        "            \"idx\": idx,\n",
        "        }\n",
        "        mol = Molecule.from_data(mol.dict(), extras=extras)\n",
        "        ent = SinglepointDatasetEntry(name=extras['name'], molecule=mol)\n",
        "        entry_list.append(ent)\n",
        "    ds.add_entries(entry_list)\n",
        "    print(f\"Added {len(entry_list)} molecules to dataset\")\n",
        "except Exception:\n",
        "    ds = client.get_dataset(\"singlepoint\", ds_name)\n",
        "    print(f\"Found {ds_name} dataset, using this instead\")\n",
        "    print(ds)"
      ],
      "outputs": [
        {
          "output_type": "stream",
          "name": "stdout",
          "text": "Found S22-multipoles dataset, using this instead\nid=1 dataset_type='singlepoint' name='S22-multipoles' description='Dataset to contain S22-multipoles' tagline='' tags=[] group='default' visibility=True provenance={} default_tag='*' default_priority=<PriorityEnum.normal: 1> owner_user=None owner_group=None metadata={} extras={} contributed_values_=None attachments_=None auto_fetch_missing=True\n"
        }
      ],
      "execution_count": 4
    },
    {
      "cell_type": "code",
      "metadata": {
        "jukit_cell_id": "dSW1A9HxYB"
      },
      "source": [
        "# Set the method and basis for lower requirements?\n",
        "method, basis = \"hf\", \"sto-3g\"\n",
        "\n",
        "# Set the QCSpecification (QM interaction energy in our case)\n",
        "spec = QCSpecification(\n",
        "    program=\"psi4\",\n",
        "    driver=\"energy\",\n",
        "    method=method,\n",
        "    basis=basis,\n",
        "    keywords={\n",
        "        \"d_convergence\": 8,\n",
        "        \"dft_radial_points\": 99,\n",
        "        \"dft_spherical_points\": 590,\n",
        "        \"e_convergence\": 10,\n",
        "        \"guess\": \"sad\",\n",
        "        \"mbis_d_convergence\": 9,\n",
        "        \"mbis_radial_points\": 99,\n",
        "        \"mbis_spherical_points\": 590,\n",
        "        \"scf_properties\": [\"mbis_charges\", \"MBIS_VOLUME_RATIOS\"],\n",
        "        \"scf_type\": \"df\",\n",
        "    },\n",
        "    protocols={\"wavefunction\": \"orbitals_and_eigenvalues\"},\n",
        ")\n",
        "ds.add_specification(name=f\"psi4/{method}/{basis}\", specification=spec)"
      ],
      "outputs": [
        {
          "output_type": "stream",
          "name": "stdout",
          "text": "\n"
        },
        {
          "output_type": "execute_result",
          "execution_count": 5,
          "data": {
            "text/plain": "InsertMetadata(error_description=None, errors=[], inserted_idx=[], existing_idx=[0])"
          },
          "metadata": {}
        }
      ],
      "execution_count": 5
    },
    {
      "cell_type": "code",
      "metadata": {
        "jukit_cell_id": "dwYb9dbQNI"
      },
      "source": [
        "# Run the computations\n",
        "ds.submit()\n",
        "print(f\"Submitted {ds_name} dataset\")"
      ],
      "outputs": [
        {
          "output_type": "stream",
          "name": "stdout",
          "text": "Submitted S22-multipoles dataset\n"
        }
      ],
      "execution_count": 6
    },
    {
      "cell_type": "code",
      "metadata": {
        "jukit_cell_id": "2JMCNlehez"
      },
      "source": [
        "# Check the status of the dataset - can repeatedly run this to see the progress\n",
        "ds.status()"
      ],
      "outputs": [
        {
          "output_type": "stream",
          "name": "stdout",
          "text": "\n"
        },
        {
          "output_type": "execute_result",
          "execution_count": 7,
          "data": {
            "text/plain": "{'psi4/hf/sto-3g': {<RecordStatusEnum.complete: 'complete'>: 7}}"
          },
          "metadata": {}
        }
      ],
      "execution_count": 7
    },
    {
      "cell_type": "code",
      "metadata": {
        "jukit_cell_id": "g31JlHrgso"
      },
      "source": [
        "# Create client dataset\n",
        "\n",
        "ds_name_mb = 'S22-manybody'\n",
        "\n",
        "try:\n",
        "    ds_mb = client.add_dataset(\"manybody\", ds_name_mb,\n",
        "                            f\"Dataset to contain {ds_name_mb}\")\n",
        "    print(f\"Added {ds_name_mb} as dataset\")\n",
        "except Exception:\n",
        "    ds_mb = client.get_dataset(\"manybody\", ds_name_mb)\n",
        "    print(f\"Found {ds_name_mb} dataset, using this instead\")\n",
        "    print(ds)\n",
        "\n",
        "# Insert entries into dataset\n",
        "\n",
        "entry_list = []\n",
        "for idx, mol in enumerate(geoms):\n",
        "    print(mol)\n",
        "    ent = ManybodyDatasetEntry(name=f\"S22-IE-{idx}\", initial_molecule=mol)\n",
        "    entry_list.append(ent)\n",
        "ds_mb.add_entries(entry_list)\n",
        "print(f\"Added {len(entry_list)} molecules to dataset\")\n",
        "\n",
        "# Set the method and basis for lower requirements?\n",
        "method, basis = \"hf\", \"sto-3g\"\n",
        "\n",
        "# Set the QCSpecification (QM interaction energy in our case)\n",
        "\n",
        "qc_spec_mb = QCSpecification(\n",
        "    program=\"psi4\",\n",
        "    driver=\"energy\",\n",
        "    method=method,\n",
        "    basis=basis,\n",
        "    keywords={\n",
        "        \"d_convergence\": 8,\n",
        "        \"scf_type\": \"df\",\n",
        "    },\n",
        ")\n",
        "\n",
        "spec_mb = ManybodySpecification(\n",
        "    program='qcmanybody',\n",
        "    bsse_correction=['cp', 'nocp'],\n",
        "    levels={\n",
        "        1: qc_spec_mb,\n",
        "        2: qc_spec_mb,\n",
        "    },\n",
        ")\n",
        "print(\"spec_mb\", spec_mb)\n",
        "\n",
        "ds_mb.add_specification(name=f\"psi4/{method}/{basis}\", specification=spec_mb)\n",
        "\n",
        "# Run the computations\n",
        "ds_mb.submit()\n",
        "print(f\"Submitted {ds_name} dataset\")\n",
        "\n",
        "# Check the status of the dataset - can repeatedly run this to see the progress\n",
        "ds_mb.status()"
      ],
      "outputs": [
        {
          "output_type": "stream",
          "name": "stdout",
          "text": "Found S22-manybody dataset, using this instead\nid=1 dataset_type='singlepoint' name='S22-multipoles' description='Dataset to contain S22-multipoles' tagline='' tags=[] group='default' visibility=True provenance={} default_tag='*' default_priority=<PriorityEnum.normal: 1> owner_user=None owner_group=None metadata={} extras={} contributed_values_=None attachments_=None auto_fetch_missing=True\nMolecule(name='H4O2', formula='H4O2', hash='49ecd61')\nMolecule(name='C2H4O4', formula='C2H4O4', hash='cb6a49d')\nMolecule(name='C2H6N2O2', formula='C2H6N2O2', hash='b1ca3e5')\nMolecule(name='C2H8', formula='C2H8', hash='67d7d29')\nMolecule(name='C4H8', formula='C4H8', hash='47f28b2')\nMolecule(name='C4H6', formula='C4H6', hash='2f8f067')\nMolecule(name='C6H8O', formula='C6H8O', hash='22eeb90')\nAdded 7 molecules to dataset\nspec_mb program='qcmanybody' levels={1: QCSpecification(program='psi4', driver=<SinglepointDriver.energy: 'energy'>, method='hf', basis='sto-3g', keywords={'d_convergence': 8, 'scf_type': 'df'}, protocols=AtomicResultProtocols(wavefunction=<WavefunctionProtocolEnum.none: 'none'>, stdout=True, error_correction=ErrorCorrectionProtocol(default_policy=True, policies=None), native_files=<NativeFilesProtocolEnum.none: 'none'>)), 2: QCSpecification(program='psi4', driver=<SinglepointDriver.energy: 'energy'>, method='hf', basis='sto-3g', keywords={'d_convergence': 8, 'scf_type': 'df'}, protocols=AtomicResultProtocols(wavefunction=<WavefunctionProtocolEnum.none: 'none'>, stdout=True, error_correction=ErrorCorrectionProtocol(default_policy=True, policies=None), native_files=<NativeFilesProtocolEnum.none: 'none'>))} bsse_correction=[<BSSECorrectionEnum.cp: 'cp'>, <BSSECorrectionEnum.nocp: 'nocp'>] keywords=ManybodyKeywords(return_total_data=False) protocols={}\nSubmitted S22-multipoles dataset\n"
        },
        {
          "output_type": "execute_result",
          "execution_count": 8,
          "data": {
            "text/plain": "{'psi4/pbe/6-31g*': {<RecordStatusEnum.complete: 'complete'>: 8},\n 'psi4/hf/6-31g*': {<RecordStatusEnum.complete: 'complete'>: 8},\n 'psi4/hf/sto-3g': {<RecordStatusEnum.complete: 'complete'>: 8},\n 'psi4/b3lyp/6-31g*': {<RecordStatusEnum.complete: 'complete'>: 8}}"
          },
          "metadata": {}
        }
      ],
      "execution_count": 8
    },
    {
      "cell_type": "code",
      "metadata": {
        "jukit_cell_id": "bYERcUudd0"
      },
      "source": [
        "ds_mb.status()"
      ],
      "outputs": [
        {
          "output_type": "stream",
          "name": "stdout",
          "text": "\n"
        },
        {
          "output_type": "execute_result",
          "execution_count": 9,
          "data": {
            "text/plain": "{'psi4/pbe/6-31g*': {<RecordStatusEnum.complete: 'complete'>: 8},\n 'psi4/hf/6-31g*': {<RecordStatusEnum.complete: 'complete'>: 8},\n 'psi4/hf/sto-3g': {<RecordStatusEnum.complete: 'complete'>: 8},\n 'psi4/b3lyp/6-31g*': {<RecordStatusEnum.complete: 'complete'>: 8}}"
          },
          "metadata": {}
        }
      ],
      "execution_count": 9
    },
    {
      "cell_type": "code",
      "metadata": {
        "jukit_cell_id": "gauw3VIjl9"
      },
      "source": [
        "# Want multiple levels of theory\n",
        "\n",
        "methods = [\n",
        "    'hf', 'pbe', 'b3lyp',\n",
        "]\n",
        "basis_sets = [\n",
        "    '6-31g*'\n",
        "]\n",
        "\n",
        "for method in methods:\n",
        "    for basis in basis_sets:\n",
        "        # Set the QCSpecification (QM interaction energy in our case)\n",
        "        qc_spec_mb = QCSpecification(\n",
        "            program=\"psi4\",\n",
        "            driver=\"energy\",\n",
        "            method=method,\n",
        "            basis=basis,\n",
        "            keywords={\n",
        "                \"d_convergence\": 8,\n",
        "                \"scf_type\": \"df\",\n",
        "            },\n",
        "        )\n",
        "\n",
        "        spec_mb = ManybodySpecification(\n",
        "            program='qcmanybody',\n",
        "            bsse_correction=['cp'],\n",
        "            levels={\n",
        "                1: qc_spec_mb,\n",
        "                2: qc_spec_mb,\n",
        "            },\n",
        "        )\n",
        "        print(\"spec_mb\", spec_mb)\n",
        "\n",
        "        ds_mb.add_specification(name=f\"psi4/{method}/{basis}\", specification=spec_mb)\n",
        "\n",
        "        # Run the computations\n",
        "        ds_mb.submit()\n",
        "        print(f\"Submitted {ds_name} dataset\")\n",
        "# Check the status of the dataset - can repeatedly run this to see the progress\n",
        "ds_mb.status()"
      ],
      "outputs": [
        {
          "output_type": "stream",
          "name": "stdout",
          "text": "spec_mb program='qcmanybody' levels={1: QCSpecification(program='psi4', driver=<SinglepointDriver.energy: 'energy'>, method='hf', basis='6-31g*', keywords={'d_convergence': 8, 'scf_type': 'df'}, protocols=AtomicResultProtocols(wavefunction=<WavefunctionProtocolEnum.none: 'none'>, stdout=True, error_correction=ErrorCorrectionProtocol(default_policy=True, policies=None), native_files=<NativeFilesProtocolEnum.none: 'none'>)), 2: QCSpecification(program='psi4', driver=<SinglepointDriver.energy: 'energy'>, method='hf', basis='6-31g*', keywords={'d_convergence': 8, 'scf_type': 'df'}, protocols=AtomicResultProtocols(wavefunction=<WavefunctionProtocolEnum.none: 'none'>, stdout=True, error_correction=ErrorCorrectionProtocol(default_policy=True, policies=None), native_files=<NativeFilesProtocolEnum.none: 'none'>))} bsse_correction=[<BSSECorrectionEnum.cp: 'cp'>] keywords=ManybodyKeywords(return_total_data=False) protocols={}\nSubmitted S22-multipoles dataset\nspec_mb program='qcmanybody' levels={1: QCSpecification(program='psi4', driver=<SinglepointDriver.energy: 'energy'>, method='pbe', basis='6-31g*', keywords={'d_convergence': 8, 'scf_type': 'df'}, protocols=AtomicResultProtocols(wavefunction=<WavefunctionProtocolEnum.none: 'none'>, stdout=True, error_correction=ErrorCorrectionProtocol(default_policy=True, policies=None), native_files=<NativeFilesProtocolEnum.none: 'none'>)), 2: QCSpecification(program='psi4', driver=<SinglepointDriver.energy: 'energy'>, method='pbe', basis='6-31g*', keywords={'d_convergence': 8, 'scf_type': 'df'}, protocols=AtomicResultProtocols(wavefunction=<WavefunctionProtocolEnum.none: 'none'>, stdout=True, error_correction=ErrorCorrectionProtocol(default_policy=True, policies=None), native_files=<NativeFilesProtocolEnum.none: 'none'>))} bsse_correction=[<BSSECorrectionEnum.cp: 'cp'>] keywords=ManybodyKeywords(return_total_data=False) protocols={}\nSubmitted S22-multipoles dataset\nspec_mb program='qcmanybody' levels={1: QCSpecification(program='psi4', driver=<SinglepointDriver.energy: 'energy'>, method='b3lyp', basis='6-31g*', keywords={'d_convergence': 8, 'scf_type': 'df'}, protocols=AtomicResultProtocols(wavefunction=<WavefunctionProtocolEnum.none: 'none'>, stdout=True, error_correction=ErrorCorrectionProtocol(default_policy=True, policies=None), native_files=<NativeFilesProtocolEnum.none: 'none'>)), 2: QCSpecification(program='psi4', driver=<SinglepointDriver.energy: 'energy'>, method='b3lyp', basis='6-31g*', keywords={'d_convergence': 8, 'scf_type': 'df'}, protocols=AtomicResultProtocols(wavefunction=<WavefunctionProtocolEnum.none: 'none'>, stdout=True, error_correction=ErrorCorrectionProtocol(default_policy=True, policies=None), native_files=<NativeFilesProtocolEnum.none: 'none'>))} bsse_correction=[<BSSECorrectionEnum.cp: 'cp'>] keywords=ManybodyKeywords(return_total_data=False) protocols={}\nSubmitted S22-multipoles dataset\n"
        },
        {
          "output_type": "execute_result",
          "execution_count": 10,
          "data": {
            "text/plain": "{'psi4/pbe/6-31g*': {<RecordStatusEnum.complete: 'complete'>: 8},\n 'psi4/hf/6-31g*': {<RecordStatusEnum.complete: 'complete'>: 8},\n 'psi4/hf/sto-3g': {<RecordStatusEnum.complete: 'complete'>: 8},\n 'psi4/b3lyp/6-31g*': {<RecordStatusEnum.complete: 'complete'>: 8}}"
          },
          "metadata": {}
        }
      ],
      "execution_count": 10
    },
    {
      "cell_type": "code",
      "metadata": {
        "jukit_cell_id": "qYukdPBXmi"
      },
      "source": [
        "pp(ds.status())\n",
        "pp(ds_mb.status())"
      ],
      "outputs": [
        {
          "output_type": "stream",
          "name": "stdout",
          "text": "{'psi4/hf/sto-3g': {<RecordStatusEnum.complete: 'complete'>: 7}}\n{'psi4/b3lyp/6-31g*': {<RecordStatusEnum.complete: 'complete'>: 7},\n 'psi4/hf/6-31g*': {<RecordStatusEnum.complete: 'complete'>: 7},\n 'psi4/hf/sto-3g': {<RecordStatusEnum.complete: 'complete'>: 7},\n 'psi4/pbe/6-31g*': {<RecordStatusEnum.complete: 'complete'>: 7}}\n"
        }
      ],
      "execution_count": 11
    },
    {
      "cell_type": "code",
      "metadata": {
        "jukit_cell_id": "ChCOdcBiXj"
      },
      "source": [
        "pp(ds)\n",
        "pp(ds_mb)\n",
        "pp(ds_mb.computed_properties)\n",
        "# client.delete_dataset(dataset_id=2, delete_records=True)"
      ],
      "outputs": [
        {
          "output_type": "stream",
          "name": "stdout",
          "text": "SinglepointDataset(id=1, dataset_type='singlepoint', name='S22-multipoles', description='Dataset to contain S22-multipoles', tagline='', tags=[], group='default', visibility=True, provenance={}, default_tag='*', default_priority=<PriorityEnum.normal: 1>, owner_user=None, owner_group=None, metadata={}, extras={}, contributed_values_=None, attachments_=None, auto_fetch_missing=True)\nManybodyDataset(id=3, dataset_type='manybody', name='S22-manybody', description='Dataset to contain S22-manybody', tagline='', tags=[], group='default', visibility=True, provenance={}, default_tag='*', default_priority=<PriorityEnum.normal: 1>, owner_user=None, owner_group=None, metadata={}, extras={}, contributed_values_=None, attachments_=None, auto_fetch_missing=True)\n{'psi4/b3lyp/6-31g*': ['results',\n                       'mc_results',\n                       'ret_energy',\n                       'energy_body_dict',\n                       'component_properties'],\n 'psi4/hf/6-31g*': ['results',\n                    'mc_results',\n                    'ret_energy',\n                    'energy_body_dict',\n                    'component_properties'],\n 'psi4/hf/sto-3g': ['results',\n                    'mc_results',\n                    'ret_energy',\n                    'energy_body_dict',\n                    'component_properties'],\n 'psi4/pbe/6-31g*': ['results',\n                     'mc_results',\n                     'ret_energy',\n                     'energy_body_dict',\n                     'component_properties']}\n"
        }
      ],
      "execution_count": 12
    },
    {
      "cell_type": "code",
      "metadata": {
        "jukit_cell_id": "7RHL31QOoC"
      },
      "source": [
        "# Multipole Molecule assemble\n",
        "def assemble_multipole_data(record):\n",
        "    record_dict = record.dict()\n",
        "    qcvars = record_dict[\"properties\"]\n",
        "    charges = qcvars[\"mbis charges\"]\n",
        "    dipoles = qcvars[\"mbis dipoles\"]\n",
        "    quadrupoles = qcvars[\"mbis quadrupoles\"]\n",
        "    level_of_theory = f\"{record_dict['specification']['method']}/{record_dict['specification']['basis']}\"\n",
        "\n",
        "    n = len(charges)\n",
        "\n",
        "    charges = np.reshape(charges, (n, 1))\n",
        "    dipoles = np.reshape(dipoles, (n, 3))\n",
        "    quad = np.reshape(quadrupoles, (n, 3, 3))\n",
        "\n",
        "    quad = [q[np.triu_indices(3)] for q in quad]\n",
        "    quadrupoles = np.array(quad)\n",
        "    multipoles = np.concatenate(\n",
        "        [charges, dipoles, quadrupoles], axis=1)\n",
        "    return (\n",
        "    record.molecule,\n",
        "    qcvars['mbis volume ratios'],\n",
        "    qcvars['mbis valence widths'],\n",
        "    qcvars['mbis radial moments <r^2>'],\n",
        "    qcvars['mbis radial moments <r^3>'],\n",
        "    qcvars['mbis radial moments <r^4>'],\n",
        "    record.molecule.atomic_numbers,\n",
        "    record.molecule.geometry * qcel.constants.bohr2angstroms,\n",
        "    multipoles,\n",
        "    int(record.molecule.molecular_charge),\n",
        "    record.molecule.molecular_multiplicity,\n",
        "    )\n",
        "\n",
        "def assemble_multipole_data_value_names():\n",
        "    return [\n",
        "        'qcel_molecule',\n",
        "        \"volume ratios\",\n",
        "        \"valence widths\",\n",
        "        \"radial moments <r^2>\",\n",
        "        \"radial moments <r^3>\",\n",
        "        \"radial moments <r^4>\",\n",
        "        \"Z\",\n",
        "        \"R\",\n",
        "        \"cartesian_multipoles\",\n",
        "        \"TQ\",\n",
        "        \"molecular_multiplicity\"\n",
        "    ]\n",
        "\n",
        "df = ds.compile_values(\n",
        "    value_call=assemble_multipole_data,\n",
        "    value_names=assemble_multipole_data_value_names(),\n",
        "    unpack=True,\n",
        ")\n",
        "print(df)\n",
        "pp(df.columns.tolist())\n",
        "print(df['psi4/hf/sto-3g'])\n",
        "pp(df['psi4/hf/sto-3g'].columns.tolist())\n",
        "df_hf_sto3g = df['psi4/hf/sto-3g']\n",
        "print(df_hf_sto3g.columns.tolist())\n",
        "print(df_hf_sto3g)"
      ],
      "outputs": [
        {
          "output_type": "stream",
          "name": "stdout",
          "text": "specification                                     psi4/hf/sto-3g  ...                       \n                                                   qcel_molecule  ... molecular_multiplicity\nentry                                                             ...                       \nS22-0          Molecule(name='H4O2', formula='H4O2', hash='49...  ...                      1\nS22-1          Molecule(name='C2H4O4', formula='C2H4O4', hash...  ...                      1\nS22-2          Molecule(name='C2H6N2O2', formula='C2H6N2O2', ...  ...                      1\nS22-3          Molecule(name='C2H8', formula='C2H8', hash='67...  ...                      1\nS22-4          Molecule(name='C4H8', formula='C4H8', hash='47...  ...                      1\nS22-5          Molecule(name='C4H6', formula='C4H6', hash='2f...  ...                      1\nS22-6          Molecule(name='C6H8O', formula='C6H8O', hash='...  ...                      1\n\n[7 rows x 11 columns]\n[('psi4/hf/sto-3g', 'qcel_molecule'),\n ('psi4/hf/sto-3g', 'volume ratios'),\n ('psi4/hf/sto-3g', 'valence widths'),\n ('psi4/hf/sto-3g', 'radial moments <r^2>'),\n ('psi4/hf/sto-3g', 'radial moments <r^3>'),\n ('psi4/hf/sto-3g', 'radial moments <r^4>'),\n ('psi4/hf/sto-3g', 'Z'),\n ('psi4/hf/sto-3g', 'R'),\n ('psi4/hf/sto-3g', 'cartesian_multipoles'),\n ('psi4/hf/sto-3g', 'TQ'),\n ('psi4/hf/sto-3g', 'molecular_multiplicity')]\n                                           qcel_molecule  ... molecular_multiplicity\nentry                                                     ...                       \nS22-0  Molecule(name='H4O2', formula='H4O2', hash='49...  ...                      1\nS22-1  Molecule(name='C2H4O4', formula='C2H4O4', hash...  ...                      1\nS22-2  Molecule(name='C2H6N2O2', formula='C2H6N2O2', ...  ...                      1\nS22-3  Molecule(name='C2H8', formula='C2H8', hash='67...  ...                      1\nS22-4  Molecule(name='C4H8', formula='C4H8', hash='47...  ...                      1\nS22-5  Molecule(name='C4H6', formula='C4H6', hash='2f...  ...                      1\nS22-6  Molecule(name='C6H8O', formula='C6H8O', hash='...  ...                      1\n\n[7 rows x 11 columns]\n['qcel_molecule',\n 'volume ratios',\n 'valence widths',\n 'radial moments <r^2>',\n 'radial moments <r^3>',\n 'radial moments <r^4>',\n 'Z',\n 'R',\n 'cartesian_multipoles',\n 'TQ',\n 'molecular_multiplicity']\n['qcel_molecule', 'volume ratios', 'valence widths', 'radial moments <r^2>', 'radial moments <r^3>', 'radial moments <r^4>', 'Z', 'R', 'cartesian_multipoles', 'TQ', 'molecular_multiplicity']\n                                           qcel_molecule  ... molecular_multiplicity\nentry                                                     ...                       \nS22-0  Molecule(name='H4O2', formula='H4O2', hash='49...  ...                      1\nS22-1  Molecule(name='C2H4O4', formula='C2H4O4', hash...  ...                      1\nS22-2  Molecule(name='C2H6N2O2', formula='C2H6N2O2', ...  ...                      1\nS22-3  Molecule(name='C2H8', formula='C2H8', hash='67...  ...                      1\nS22-4  Molecule(name='C4H8', formula='C4H8', hash='47...  ...                      1\nS22-5  Molecule(name='C4H6', formula='C4H6', hash='2f...  ...                      1\nS22-6  Molecule(name='C6H8O', formula='C6H8O', hash='...  ...                      1\n\n[7 rows x 11 columns]\n"
        }
      ],
      "execution_count": 13
    },
    {
      "cell_type": "code",
      "metadata": {
        "jukit_cell_id": "CDD1QjxHpc"
      },
      "source": [
        "h2kcalmol = qcel.constants.hartree2kcalmol\n",
        "\n",
        "def assemble_data(record):\n",
        "    record_dict = record.dict()\n",
        "    qcvars = record_dict[\"properties\"]\n",
        "    level_of_theory = f\"{record_dict['specification']['levels'][2]['method']}/{record_dict['specification']['levels'][2]['basis']}\"\n",
        "    CP_IE = qcvars['results']['cp_corrected_interaction_energy'] * h2kcalmol\n",
        "    NOCP_IE = qcvars['results'].get('nocp_corrected_interaction_energy', np.nan) * h2kcalmol\n",
        "    return (\n",
        "    record.initial_molecule,\n",
        "    CP_IE,\n",
        "    NOCP_IE,\n",
        "    record.initial_molecule.atomic_numbers,\n",
        "    record.initial_molecule.geometry * qcel.constants.bohr2angstroms,\n",
        "    int(record.initial_molecule.molecular_charge),\n",
        "    record.initial_molecule.molecular_multiplicity,\n",
        "    )\n",
        "\n",
        "def assemble_data_value_names():\n",
        "    return [\n",
        "        'qcel_molecule',\n",
        "        \"CP_IE\",\n",
        "        \"NOCP_IE\",\n",
        "        \"Z\",\n",
        "        \"R\",\n",
        "        \"TQ\",\n",
        "        \"molecular_multiplicity\"\n",
        "    ]\n",
        "\n",
        "df_mb = ds_mb.compile_values(\n",
        "    value_call=assemble_data,\n",
        "    value_names=assemble_data_value_names(),\n",
        "    unpack=True,\n",
        ")\n",
        "\n",
        "print(df_mb)"
      ],
      "outputs": [
        {
          "output_type": "stream",
          "name": "stdout",
          "text": "specification                                  psi4/b3lyp/6-31g*  ...        psi4/pbe/6-31g*\n                                                   qcel_molecule  ... molecular_multiplicity\nentry                                                             ...                       \nS22-IE-0       Molecule(name='H4O2', formula='H4O2', hash='49...  ...                      1\nS22-IE-1       Molecule(name='C2H4O4', formula='C2H4O4', hash...  ...                      1\nS22-IE-2       Molecule(name='C2H6N2O2', formula='C2H6N2O2', ...  ...                      1\nS22-IE-3       Molecule(name='C2H8', formula='C2H8', hash='67...  ...                      1\nS22-IE-4       Molecule(name='C4H8', formula='C4H8', hash='47...  ...                      1\nS22-IE-5       Molecule(name='C4H6', formula='C4H6', hash='2f...  ...                      1\nS22-IE-6       Molecule(name='C6H8O', formula='C6H8O', hash='...  ...                      1\n\n[7 rows x 28 columns]\n"
        }
      ],
      "execution_count": 14
    },
    {
      "cell_type": "code",
      "metadata": {
        "jukit_cell_id": "XT87RegBfm"
      },
      "source": [
        "from cdsg_plot import error_statistics\n",
        "\n",
        "pp(df_mb.columns.tolist())\n",
        "\n",
        "df_plot = pd.DataFrame(\n",
        "    {\n",
        "        \"HF/6-31G*\": df_mb[\"psi4/hf/6-31g*\"][\"CP_IE\"],\n",
        "        \"PBE/6-31G*\": df_mb[\"psi4/pbe/6-31g*\"][\"CP_IE\"],\n",
        "        \"B3LYP/6-31G*\": df_mb[\"psi4/b3lyp/6-31g*\"][\"CP_IE\"],\n",
        "        'reference': ref_IEs,\n",
        "    }\n",
        ")\n",
        "df_plot['HF/6-31G* error'] = (df_plot['HF/6-31G*'] - df_plot['reference']).astype(float)\n",
        "df_plot['PBE/6-31G* error'] = (df_plot['PBE/6-31G*'] - df_plot['reference']).astype(float)\n",
        "df_plot['B3LYP/6-31G* error'] = (df_plot['B3LYP/6-31G*'] - df_plot['reference']).astype(float)\n",
        "pd.set_option('display.max_rows', None)\n",
        "print(df_plot)\n",
        "print(df_plot[['HF/6-31G* error', 'PBE/6-31G* error', 'B3LYP/6-31G* error']].describe())"
      ],
      "outputs": [
        {
          "output_type": "stream",
          "name": "stdout",
          "text": "[('psi4/b3lyp/6-31g*', 'qcel_molecule'),\n ('psi4/hf/6-31g*', 'qcel_molecule'),\n ('psi4/hf/sto-3g', 'qcel_molecule'),\n ('psi4/pbe/6-31g*', 'qcel_molecule'),\n ('psi4/b3lyp/6-31g*', 'CP_IE'),\n ('psi4/hf/6-31g*', 'CP_IE'),\n ('psi4/hf/sto-3g', 'CP_IE'),\n ('psi4/pbe/6-31g*', 'CP_IE'),\n ('psi4/b3lyp/6-31g*', 'NOCP_IE'),\n ('psi4/hf/6-31g*', 'NOCP_IE'),\n ('psi4/hf/sto-3g', 'NOCP_IE'),\n ('psi4/pbe/6-31g*', 'NOCP_IE'),\n ('psi4/b3lyp/6-31g*', 'Z'),\n ('psi4/hf/6-31g*', 'Z'),\n ('psi4/hf/sto-3g', 'Z'),\n ('psi4/pbe/6-31g*', 'Z'),\n ('psi4/b3lyp/6-31g*', 'R'),\n ('psi4/hf/6-31g*', 'R'),\n ('psi4/hf/sto-3g', 'R'),\n ('psi4/pbe/6-31g*', 'R'),\n ('psi4/b3lyp/6-31g*', 'TQ'),\n ('psi4/hf/6-31g*', 'TQ'),\n ('psi4/hf/sto-3g', 'TQ'),\n ('psi4/pbe/6-31g*', 'TQ'),\n ('psi4/b3lyp/6-31g*', 'molecular_multiplicity'),\n ('psi4/hf/6-31g*', 'molecular_multiplicity'),\n ('psi4/hf/sto-3g', 'molecular_multiplicity'),\n ('psi4/pbe/6-31g*', 'molecular_multiplicity')]\n          HF/6-31G*  ... B3LYP/6-31G* error\nentry                ...                   \nS22-IE-0  -4.732204  ...          -0.707122\nS22-IE-1 -14.796822  ...           1.539959\nS22-IE-2 -12.508805  ...           1.645191\nS22-IE-3   0.377882  ...           0.967166\nS22-IE-4     0.8211  ...           1.895775\nS22-IE-5  -0.656053  ...           0.504545\nS22-IE-6  -1.436454  ...           1.662273\n\n[7 rows x 7 columns]\n       HF/6-31G* error  ...  B3LYP/6-31G* error\ncount         7.000000  ...            7.000000\nmean          1.948949  ...            1.072541\nstd           1.409288  ...            0.919495\nmin           0.256796  ...           -0.707122\n25%           0.872414  ...            0.735855\n50%           1.838546  ...            1.539959\n75%           2.923148  ...            1.653732\nmax           3.956178  ...            1.895775\n\n[8 rows x 3 columns]\n"
        }
      ],
      "execution_count": 15
    },
    {
      "cell_type": "code",
      "metadata": {
        "jukit_cell_id": "dRiuyCtOh1"
      },
      "source": [
        "error_statistics.violin_plot(\n",
        "    df_plot,\n",
        "    df_labels_and_columns={\n",
        "        \"HF/6-31G*\": \"HF/6-31G* error\",\n",
        "        \"PBE/6-31G*\": \"PBE/6-31G* error\",\n",
        "        \"B3LYP/6-31G*\": \"B3LYP/6-31G* error\",\n",
        "    },\n",
        "    output_filename=\"S22-IE.png\",\n",
        ")"
      ],
      "outputs": [
        {
          "output_type": "stream",
          "name": "stdout",
          "text": "Plotting S22-IE.png\nS22-IE_violin.png\n"
        },
        {
          "data": {
            "image/png": "[encoded data removed]"
          },
          "metadata": {},
          "output_type": "display_data"
        },
        {
          "output_type": "stream",
          "name": "stdout",
          "text": "\n"
        }
      ],
      "execution_count": 16
    },
    {
      "cell_type": "markdown",
      "metadata": {
        "jukit_cell_id": "fLqWKAJRoW"
      },
      "source": [
        "![S22-IE_violin.png](./S22-IE_violin.png)"
      ]
    },
    {
      "cell_type": "code",
      "metadata": {
        "jukit_cell_id": "8jtfD3m3S4"
      },
      "source": [
        "import apnet_pt\n",
        "\n",
        "predicted_charges, predicted_dipoles, predicted_quadruples = apnet_pt.pretrained_models.atom_model_predict(\n",
        "    mols=df_hf_sto3g['qcel_molecule'].tolist(),\n",
        "    compile=False,\n",
        ")\n",
        "# Printing out predicted multipoles from pre-trained models\n",
        "print(df_hf_sto3g['qcel_molecule'][0])\n",
        "print(f\"{predicted_charges[0] = }\")\n",
        "print(f\"{predicted_dipoles[0] = }\")\n",
        "print(f\"{predicted_quadruples[0] = }\")\n",
        "\n",
        "apnet2_ies_predicted = apnet_pt.pretrained_models.apnet2_model_predict(\n",
        "    mols=df_hf_sto3g['qcel_molecule'].tolist(),\n",
        "    compile=False,\n",
        ")\n",
        "# [[total, eletrostatic, induction, exchange, dispersion]]\n",
        "print(apnet2_ies_predicted[0])"
      ],
      "outputs": [
        {
          "output_type": "stream",
          "name": "stdout",
          "text": "running on the CPU\nProcessing mols...\nPredicting...\nMolecule(name='H4O2', formula='H4O2', hash='49ecd61')\npredicted_charges[0] = array([-0.95283076,  0.45856825,  0.49334572, -0.95172626,  0.47632145,\n        0.47632145,  0.86688643, -0.7309992 , -0.72585131,  0.03317133])\npredicted_dipoles[0] = array([[-9.75742400e-02, -1.85982034e-01, -1.24914944e-04],\n       [-1.97453320e-02,  1.53486252e-02, -1.24914944e-04],\n       [ 3.24593186e-02, -6.55426905e-03, -1.24914944e-04],\n       [-9.90069687e-02,  1.83372027e-01, -1.24914944e-04],\n       [ 3.64050195e-03, -3.50120366e-03, -2.72325382e-02],\n       [ 3.64050195e-03, -3.50120366e-03,  2.69827038e-02],\n       [ 9.75668684e-02,  4.67144623e-02, -1.24914944e-04],\n       [-6.69152766e-02,  9.00079831e-02, -1.24914944e-04],\n       [ 4.63282704e-02, -1.24836354e-01, -1.24914944e-04],\n       [-1.08750165e-01, -5.67434207e-03, -1.24914944e-04]])\npredicted_quadruples[0] = array([[[ 1.06339702e-01, -3.75307128e-02,  1.02771819e-04],\n        [-3.75307128e-02,  5.74036479e-02,  1.02771819e-04],\n        [ 1.02771819e-04,  1.02771819e-04, -1.63743362e-01]],\n\n       [[ 3.30397179e-03, -2.07313634e-03,  1.02771819e-04],\n        [-2.07313634e-03,  1.05763515e-03,  1.02771819e-04],\n        [ 1.02771819e-04,  1.02771819e-04, -4.36160718e-03]],\n\n       [[ 5.00324967e-03, -3.33180279e-04,  1.02771819e-04],\n        [-3.33180279e-04, -1.28226799e-03,  1.02771819e-04],\n        [ 1.02771819e-04,  1.02771819e-04, -3.72098163e-03]],\n\n       [[-1.40521768e-02, -1.19758396e-01,  1.02771819e-04],\n        [-1.19758396e-01,  1.04534169e-01,  1.02771819e-04],\n        [ 1.02771819e-04,  1.02771819e-04, -9.04819917e-02]],\n\n       [[-1.53518480e-03, -1.56582147e-03, -3.90722230e-04],\n        [-1.56582147e-03, -5.73992101e-04,  1.71103142e-03],\n        [-3.90722230e-04,  1.71103142e-03,  2.10917692e-03]],\n\n       [[-1.53518480e-03, -1.56582147e-03,  5.96265867e-04],\n        [-1.56582147e-03, -5.73992101e-04, -1.50548480e-03],\n        [ 5.96265867e-04, -1.50548480e-03,  2.10917692e-03]],\n\n       [[-1.14025149e-01,  1.23489782e-02,  1.02771819e-04],\n        [ 1.23489782e-02, -6.22888356e-02,  1.02771819e-04],\n        [ 1.02771819e-04,  1.02771819e-04,  1.76313984e-01]],\n\n       [[ 1.08189091e-02,  2.16260049e-02,  1.02771819e-04],\n        [ 2.16260049e-02,  1.24833498e-02,  1.02771819e-04],\n        [ 1.02771819e-04,  1.02771819e-04, -2.33022577e-02]],\n\n       [[-5.28908916e-02, -4.62559350e-03,  1.02771819e-04],\n        [-4.62559350e-03, -1.71019547e-02,  1.02771819e-04],\n        [ 1.02771819e-04,  1.02771819e-04,  6.99928500e-02]],\n\n       [[ 1.68525828e-03,  2.17953809e-03,  1.02771819e-04],\n        [ 2.17953809e-03,  2.36926368e-03,  1.02771819e-04],\n        [ 1.02771819e-04,  1.02771819e-04, -4.05452191e-03]]])\nrunning on the CPU\nLoading pre-trained AtomMPNN model from /home/relativity64/miniconda3/envs/p4_qcml/lib/python3.12/site-packages/apnet_pt/models/am_ensemble/am_0.pt\nLoading pre-trained APNet2_MPNN model from /home/relativity64/miniconda3/envs/p4_qcml/lib/python3.12/site-packages/apnet_pt/models/ap2_ensemble/ap2_0.pt\nself.dataset=None\nProcessing mols...\n[-4.55745428 -7.66127796  7.09941607 -2.21276546 -1.78282692]\n"
        }
      ],
      "execution_count": 17
    },
    {
      "cell_type": "code",
      "metadata": {
        "jukit_cell_id": "nxmLPrfAfx"
      },
      "source": [
        "# AP-Net2 IE\n",
        "df_plot['APNet2'] = apnet2_ies_predicted[:, 0]\n",
        "df_plot['APNet2 error'] = (df_plot['APNet2'] - df_plot['reference']).astype(float)\n",
        "error_statistics.violin_plot(\n",
        "    df_plot,\n",
        "    df_labels_and_columns={\n",
        "        \"HF/6-31G*\": \"HF/6-31G* error\",\n",
        "        \"PBE/6-31G*\": \"PBE/6-31G* error\",\n",
        "        \"B3LYP/6-31G*\": \"B3LYP/6-31G* error\",\n",
        "        \"APNet2\": \"APNet2 error\",\n",
        "    },\n",
        "    output_filename=\"S22-IE-AP2.png\",\n",
        ")"
      ],
      "outputs": [
        {
          "output_type": "stream",
          "name": "stdout",
          "text": "Plotting S22-IE-AP2.png\nS22-IE-AP2_violin.png\n"
        },
        {
          "data": {
            "image/png": "[encoded data removed]"
          },
          "metadata": {},
          "output_type": "display_data"
        },
        {
          "output_type": "stream",
          "name": "stdout",
          "text": "\n"
        }
      ],
      "execution_count": 18
    },
    {
      "cell_type": "markdown",
      "metadata": {
        "jukit_cell_id": "SO9JL7ZN86"
      },
      "source": [
        "![S22-IE-AP2_violin.png](./S22-IE-AP2_violin.png)"
      ]
    },
    {
      "cell_type": "code",
      "metadata": {
        "jukit_cell_id": "OVVcYRXWUA"
      },
      "source": [
        "# Be careful with this for it can corrupt running status...\n",
        "# !ps aux | grep qcfractal | awk '{ print $2 }' | xargs kill -9"
      ],
      "outputs": [],
      "execution_count": null
    },
    {
      "cell_type": "code",
      "metadata": {
        "jukit_cell_id": "5HSrFMKRJh"
      },
      "source": [],
      "outputs": [],
      "execution_count": null
    }
  ],
  "metadata": {
    "anaconda-cloud": {},
    "kernelspec": {
      "display_name": "python",
      "language": "python",
      "name": "python3"
    }
  },
  "nbformat": 4,
  "nbformat_minor": 4
}