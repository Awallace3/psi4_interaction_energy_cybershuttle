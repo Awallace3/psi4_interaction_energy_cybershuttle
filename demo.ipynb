{
 "cells": [
  {
   "cell_type": "markdown",
   "metadata": {
    "jukit_cell_id": "tveJZTmZdq"
   },
   "source": [
    "# QCArchive+QCMLForge Demo with CyberShuttle\n",
    "\n",
    "The first half of this demo shows how to use QCArchive to setup a dataset\n",
    "and run computations with ease. The compute resource for this noteboook\n",
    "uses Cybershuttle; however, a purely local resource demo is available under\n",
    "`./demo_local.ipynb`.\n",
    "\n",
    "The second half of this demo shows how one can consume the generated data\n",
    "to train AP-Net models through QCMLForge. \n",
    "\n",
    "## How is this useful?\n",
    "Prior to using quantum mechanical methods for specific applications, often\n",
    "computational chemists will either consult previous studies of benchmarked\n",
    "methods on systems similar to the systems of interest, or perform the\n",
    "benchmarking task themselves. Then after knowing how much error to expect,\n",
    "the level of theory that is the most inexpensive, but still within reasonable\n",
    "error estimates will be selected for scaling up to novel system(s).\n",
    "\n",
    "The Sherrill research group has developed a reputation for using quantum\n",
    "mechanical (QM) methods to study intermolecular interaction energies to basically\n",
    "determine how attractive (or repulsive) molecules behave when brought close\n",
    "together. Before applying QM methods to novel systems, oftentimes these\n",
    "methods need to be benchmarked to better understand what methods should be\n",
    "used for studying particular systems. As such, the Sherrill group has performed\n",
    "many benchmarking studies on interaction energies over the years to investigate\n",
    "what methods (HF, MP2, CCSD, CCSD(T), DFT, SAPT, etc.) give reliable interaction\n",
    "energies that can be used in various downstream applications. The first half of \n",
    "this notebook demonstrates how one can easily perform such benchmarking tasks through\n",
    "QCFractal/QCArchive/Cybershuttle software. "
   ]
  },
  {
   "cell_type": "code",
   "execution_count": 1,
   "metadata": {
    "jukit_cell_id": "FHk2C2mAci"
   },
   "outputs": [
    {
     "name": "stdout",
     "output_type": "stream",
     "text": [
      "\u001b[33m  DEPRECATION: Building 'pysftp' using the legacy setup.py bdist_wheel mechanism, which will be removed in a future version. pip 25.3 will enforce this behaviour change. A possible replacement is to use the standardized build interface by setting the `--use-pep517` option, (possibly combined with `--no-build-isolation`), or adding a `pyproject.toml` file to the source tree of 'pysftp'. Discussion can be found at https://github.com/pypa/pip/issues/6334\u001b[0m\u001b[33m\n",
      "\u001b[0m\u001b[33m  DEPRECATION: Building 'thrift' using the legacy setup.py bdist_wheel mechanism, which will be removed in a future version. pip 25.3 will enforce this behaviour change. A possible replacement is to use the standardized build interface by setting the `--use-pep517` option, (possibly combined with `--no-build-isolation`), or adding a `pyproject.toml` file to the source tree of 'thrift'. Discussion can be found at https://github.com/pypa/pip/issues/6334\u001b[0m\u001b[33m\n",
      "\u001b[0m\u001b[33m  DEPRECATION: Building 'thrift_connector' using the legacy setup.py bdist_wheel mechanism, which will be removed in a future version. pip 25.3 will enforce this behaviour change. A possible replacement is to use the standardized build interface by setting the `--use-pep517` option, (possibly combined with `--no-build-isolation`), or adding a `pyproject.toml` file to the source tree of 'thrift_connector'. Discussion can be found at https://github.com/pypa/pip/issues/6334\u001b[0m\u001b[33m\n",
      "\u001b[0m\n",
      "Loaded airavata_jupyter_magic (2.0.12) \n",
      "(current runtime = local)\n",
      "\n",
      "  %authenticate                      -- Authenticate to access high-performance runtimes.\n",
      "  %request_runtime <rt> [args]       -- Request a runtime named <rt> with configuration <args>. Call multiple times to request multiple runtimes.\n",
      "  %restart_runtime <rt>              -- Restart runtime <rt>. Run this if you install new dependencies or if the runtime hangs.\n",
      "  %stop_runtime <rt>                 -- Stop runtime <rt> when no longer needed.\n",
      "  %switch_runtime <rt>               -- Switch active runtime to <rt>. All subsequent executions will use this runtime.\n",
      "  %%run_on <rt>                      -- Force a cell to always execute on <rt>, regardless of the active runtime.\n",
      "  %stat_runtime <rt>                 -- Show the status of runtime <rt>.\n",
      "  %copy_data <r1:file1> <r2:file2>   -- Copy <file1> in <r1> to <file2> in <r2>.\n",
      "\n"
     ]
    }
   ],
   "source": [
    "!pip install --force-reinstall -q \"airavata-python-sdk[notebook]\"\n",
    "import airavata_jupyter_magic"
   ]
  },
  {
   "cell_type": "code",
   "execution_count": 2,
   "metadata": {
    "jukit_cell_id": "VonilTFkTU"
   },
   "outputs": [
    {
     "data": {
      "application/vnd.jupyter.widget-view+json": {
       "model_id": "59073e8f50ca48b18b859635218b259a",
       "version_major": 2,
       "version_minor": 0
      },
      "text/plain": [
       "Output()"
      ]
     },
     "metadata": {},
     "output_type": "display_data"
    },
    {
     "data": {
      "text/html": [
       "<pre style=\"white-space:pre;overflow-x:auto;line-height:normal;font-family:Menlo,'DejaVu Sans Mono',consolas,'Courier New',monospace\">Authenticated.\n",
       "</pre>\n"
      ],
      "text/plain": [
       "Authenticated.\n"
      ]
     },
     "metadata": {},
     "output_type": "display_data"
    },
    {
     "data": {
      "text/html": [
       "<pre style=\"white-space:pre;overflow-x:auto;line-height:normal;font-family:Menlo,'DejaVu Sans Mono',consolas,'Courier New',monospace\"></pre>\n"
      ],
      "text/plain": []
     },
     "metadata": {},
     "output_type": "display_data"
    },
    {
     "data": {
      "text/html": [
       "<pre style=\"white-space:pre;overflow-x:auto;line-height:normal;font-family:Menlo,'DejaVu Sans Mono',consolas,'Courier New',monospace\"></pre>\n"
      ],
      "text/plain": []
     },
     "metadata": {},
     "output_type": "display_data"
    }
   ],
   "source": [
    "%authenticate"
   ]
  },
  {
   "cell_type": "code",
   "execution_count": null,
   "metadata": {
    "jukit_cell_id": "1sXw3fhOc3"
   },
   "outputs": [
    {
     "name": "stdout",
     "output_type": "stream",
     "text": [
      "Requesting runtime=hpc_cpu\n",
      "cpuCount: 32\n",
      "experimentName: CS_Agent\n",
      "group: Default\n",
      "libraries:\n",
      "- numpy=2.2.5\n",
      "- pandas=2.2.3\n",
      "- pip\n",
      "- psycopg2=2.9.9\n",
      "- postgresql=17.4\n",
      "- pytest\n",
      "- python=3.10\n",
      "- psi4=1.9.1\n",
      "- pytorch-cpu=2.5.1\n",
      "- jupyter=1.1.1\n",
      "- requests\n",
      "- setuptools\n",
      "- torchaudio=2.5.1\n",
      "- torchvision=0.20.1\n",
      "- pytorch_geometric=2.6.1\n",
      "- pytorch_scatter=2.1.2=cpu*\n",
      "- pytorch-minimize=0.0.2\n",
      "- matplotlib=3.10.1\n",
      "- pydantic=1\n",
      "- scipy=1.15.*\n",
      "- tqdm\n",
      "memory: 64000\n",
      "mounts:\n",
      "- cybershuttle-reference:/cybershuttle_data/cybershuttle-reference\n",
      "nodeCount: 1\n",
      "pip:\n",
      "- cdsg-tools==0.0.2\n",
      "- qm-tools-aw==1.4.5\n",
      "- qcmlforge==0.0.6\n",
      "- qcfractal==0.59\n",
      "- qcmanybody\n",
      "- qcfractalcompute==0.59\n",
      "queue: shared\n",
      "remoteCluster: expanse\n",
      "wallTime: 60\n",
      "\n",
      "Requested runtime=hpc_cpu. state=CONFIGURING_WORKSPACE\n",
      "Switched to runtime=hpc_cpu.\n"
     ]
    }
   ],
   "source": [
    "%request_runtime hpc_cpu --file=cybershuttle.yml --walltime=60 --use=expanse:shared\n",
    "%wait_for_runtime hpc_cpu\n",
    "%switch_runtime hpc_cpu"
   ]
  },
  {
   "cell_type": "code",
   "execution_count": 4,
   "metadata": {},
   "outputs": [
    {
     "name": "stdout",
     "output_type": "stream",
     "text": [
      "Copying from local:setup_qcfractal.py to hpc_cpu:setup_qcfractal.py\n",
      "Pushing local:setup_qcfractal.py to remote:setup_qcfractal.py\n",
      "[200] Uploaded local:setup_qcfractal.py to remote:setup_qcfractal.py\n",
      "Copying from local:__init__.py to hpc_cpu:__init__.py\n",
      "Pushing local:__init__.py to remote:__init__.py\n",
      "[200] Uploaded local:__init__.py to remote:__init__.py\n",
      "Copying from local:combined_df_subset_358.pkl to hpc_cpu:combined_df_subset_358.pkl\n",
      "Pushing local:combined_df_subset_358.pkl to remote:combined_df_subset_358.pkl\n",
      "[200] Uploaded local:combined_df_subset_358.pkl to remote:combined_df_subset_358.pkl\n"
     ]
    }
   ],
   "source": [
    "%copy_data source=local:setup_qcfractal.py target=hpc_cpu:setup_qcfractal.py\n",
    "%copy_data source=local:__init__.py target=hpc_cpu:__init__.py\n",
    "%copy_data source=local:combined_df_subset_358.pkl target=hpc_cpu:combined_df_subset_358.pkl"
   ]
  },
  {
   "cell_type": "code",
   "execution_count": 106,
   "metadata": {
    "jukit_cell_id": "sb2BSlStsm"
   },
   "outputs": [
    {
     "name": "stdout",
     "output_type": "stream",
     "text": [
      "\u001b[2K\u001b[32m⠧\u001b[0m Connecting to=hpc_cpu... status=CONNECTED\n",
      "\u001b[1A\u001b[2K\u001b[2J\u001b[HImports\n"
     ]
    }
   ],
   "source": [
    "import psi4\n",
    "from pprint import pprint as pp\n",
    "import pandas as pd\n",
    "import numpy as np\n",
    "from qm_tools_aw import tools\n",
    "import matplotlib.pyplot as plt\n",
    "# QCElemental Imports\n",
    "from qcelemental.models import Molecule\n",
    "import qcelemental as qcel\n",
    "# Dataset Imports\n",
    "from qcportal import PortalClient\n",
    "from qcportal.singlepoint import SinglepointDatasetEntry, QCSpecification\n",
    "from qcportal.manybody import ManybodyDatasetEntry, ManybodySpecification\n",
    "from torch import manual_seed\n",
    "\n",
    "manual_seed(42)\n",
    "\n",
    "h2kcalmol = qcel.constants.hartree2kcalmol\n",
    "print('Imports')"
   ]
  },
  {
   "cell_type": "markdown",
   "metadata": {
    "jukit_cell_id": "78H3oHPXBB"
   },
   "source": [
    "# QCArchive Setup"
   ]
  },
  {
   "cell_type": "code",
   "execution_count": 7,
   "metadata": {
    "jukit_cell_id": "BVc6W6uOta"
   },
   "outputs": [
    {
     "name": "stdout",
     "output_type": "stream",
     "text": [
      "\u001b[2K\u001b[32m⠧\u001b[0m Connecting to=hpc_cpu... status=CONNECTED\n",
      "\u001b[1A\u001b[2K\u001b[2J\u001b[H/workspace/qcfractal\n",
      "--------------------------------------------------------------------------------\n",
      "Python executable:  /dev/shm/cybershuttle/envs/18dccede/bin/python3.10\n",
      "QCFractal version:  0.59\n",
      "QCFractal alembic revision:  d5988aa750ae\n",
      "pg_ctl path:  /dev/shm/cybershuttle/envs/18dccede/bin/pg_ctl\n",
      "PostgreSQL server version:  PostgreSQL 17.4 on x86_64-conda-linux-gnu, compiled by x86_64-conda-linux-gnu-cc (conda-forge gcc 13.3.0-2) 13.3.0, 64-bit\n",
      "--------------------------------------------------------------------------------\n",
      "\n",
      "\n",
      "Displaying QCFractal configuration below\n",
      "--------------------------------------------------------------------------------\n",
      "access_log_keep: 0\n",
      "allow_unauthenticated_read: true\n",
      "api:\n",
      "  extra_flask_options: null\n",
      "  extra_waitress_options: null\n",
      "  host: localhost\n",
      "  jwt_access_token_expires: 3600\n",
      "  jwt_refresh_token_expires: 86400\n",
      "  jwt_secret_key: kKQrB4Hsms_waPwy70QsGftZz_64HqR9VLItMkFA7rU\n",
      "  num_threads_per_worker: 4\n",
      "  port: 7778\n",
      "  secret_key: iaMlrdX6x_TQtt8dm7Vpc1BQnc-N5g2CywIE9Lw_Uwo\n",
      "  worker_timeout: 120\n",
      "api_limits:\n",
      "  add_molecules: 1000\n",
      "  add_records: 500\n",
      "  get_access_logs: 1000\n",
      "  get_dataset_entries: 2000\n",
      "  get_error_logs: 100\n",
      "  get_internal_jobs: 1000\n",
      "  get_managers: 1000\n",
      "  get_molecules: 1000\n",
      "  get_records: 1000\n",
      "  manager_tasks_claim: 200\n",
      "  manager_tasks_return: 10\n",
      "auto_reset:\n",
      "  compute_lost: 5\n",
      "  enabled: false\n",
      "  random_error: 5\n",
      "  unknown_error: 2\n",
      "base_folder: /workspace/qcfractal\n",
      "database:\n",
      "  base_folder: /workspace/qcfractal\n",
      "  data_directory: /workspace/qcfractal/postgres\n",
      "  database_name: qca\n",
      "  echo_sql: false\n",
      "  full_uri: null\n",
      "  host: localhost\n",
      "  logfile: /workspace/qcfractal/qcfractal_database.log\n",
      "  maintenance_db: postgres\n",
      "  own: true\n",
      "  password: EAkGpMUJakIHuMkp02EWEgVM8KIUaWqJiHBcujebTfg\n",
      "  pg_tool_dir: null\n",
      "  pool_size: 5\n",
      "  port: 5433\n",
      "  query: {}\n",
      "  username: qcfractal\n",
      "enable_security: false\n",
      "geoip2_dir: /workspace/qcfractal/geoip2\n",
      "geoip2_filename: GeoLite2-City.mmdb\n",
      "heartbeat_frequency: 60\n",
      "heartbeat_frequency_jitter: 0\n",
      "heartbeat_max_missed: 5\n",
      "hide_internal_errors: true\n",
      "homepage_directory: null\n",
      "homepage_redirect_url: null\n",
      "internal_job_keep: 0\n",
      "internal_job_processes: 1\n",
      "log_access: false\n",
      "logfile: null\n",
      "loglevel: INFO\n",
      "max_active_services: 20\n",
      "maxmind_license_key: null\n",
      "name: QCFractal Server\n",
      "s3:\n",
      "  access_key_id: null\n",
      "  bucket_map:\n",
      "    dataset_attachment: dataset_attachment\n",
      "  enabled: false\n",
      "  endpoint_url: null\n",
      "  passthrough: false\n",
      "  secret_access_key: null\n",
      "  verify: true\n",
      "service_frequency: 5\n",
      "strict_queue_tags: false\n",
      "temporary_dir: /scratch/tmp\n",
      "--------------------------------------------------------------------------------\n",
      "\n",
      "QCFractal setup complete\n",
      "To start the server run:\n",
      "  qcfractal-server --config=/workspace/qcfractal/qcfractal_config.yaml start\n",
      "To start the compute manager run:\n",
      "  qcfractal-compute-manager --config=/workspace/qcfractal/resources.yml\n"
     ]
    }
   ],
   "source": [
    "from setup_qcfractal import setup_qcarchive_qcfractal\n",
    "import os\n",
    "\n",
    "# Update these if you request non-default resources from cybershuttle.yml\n",
    "max_workers = 3\n",
    "cores_per_worker = 8\n",
    "memory_per_worker = 16\n",
    "\n",
    "setup_qcarchive_qcfractal(\n",
    "    QCF_BASE_FOLDER=os.path.join(os.getcwd(), \"qcfractal\"),\n",
    "    start=False,\n",
    "    reset=False,\n",
    "    db_config={\n",
    "        \"name\": None,\n",
    "        \"enable_security\": \"false\",\n",
    "        \"allow_unauthenticated_read\": None,\n",
    "        \"logfile\": None,\n",
    "        \"loglevel\": None,\n",
    "        \"service_frequency\": 5,\n",
    "        \"max_active_services\": None,\n",
    "        \"heartbeat_frequency\": 60,\n",
    "        \"log_access\": None,\n",
    "        \"database\": {\n",
    "            \"base_folder\": None,\n",
    "            \"host\": None,\n",
    "            \"port\": 5433,\n",
    "            \"database_name\": \"qca\",\n",
    "            \"username\": None,\n",
    "            \"password\": None,\n",
    "            \"own\": None,\n",
    "        },\n",
    "        \"api\": {\n",
    "            \"host\": None,\n",
    "            \"port\": 7778,\n",
    "            \"secret_key\": None,\n",
    "            \"jwt_secret_key\": None,\n",
    "        },\n",
    "    },\n",
    "    resources_config={\n",
    "            \"update_frequency\": 5,\n",
    "            \"cores_per_worker\": cores_per_worker,\n",
    "            \"max_workers\": max_workers,\n",
    "            \"memory_per_worker\": memory_per_worker,\n",
    "    },\n",
    "    conda_env=None,\n",
    "    worker_sh=None,\n",
    ")"
   ]
  },
  {
   "cell_type": "code",
   "execution_count": 8,
   "metadata": {
    "jukit_cell_id": "CwEhpqwLXX"
   },
   "outputs": [
    {
     "name": "stdout",
     "output_type": "stream",
     "text": [
      "\u001b[2K\u001b[32m⠧\u001b[0m Connecting to=hpc_cpu... status=CONNECTED\n",
      "\u001b[1A\u001b[2K\u001b[2J\u001b[H0\n"
     ]
    }
   ],
   "source": [
    "get_ipython().system = os.system\n",
    "!qcfractal-server --config=`pwd`/qcfractal/qcfractal_config.yaml start > qcfractal/qcf_server.log &"
   ]
  },
  {
   "cell_type": "code",
   "execution_count": 9,
   "metadata": {
    "jukit_cell_id": "3HjtiyIuFg"
   },
   "outputs": [
    {
     "name": "stdout",
     "output_type": "stream",
     "text": [
      "\u001b[2K\u001b[32m⠧\u001b[0m Connecting to=hpc_cpu... status=CONNECTED\n",
      "\u001b[1A\u001b[2K\u001b[2J\u001b[H0\n"
     ]
    }
   ],
   "source": [
    "!qcfractal-compute-manager --config=`pwd`/qcfractal/resources.yml &"
   ]
  },
  {
   "cell_type": "markdown",
   "metadata": {
    "jukit_cell_id": "X31FadtbG5"
   },
   "source": [
    "# QCArchive single point example"
   ]
  },
  {
   "cell_type": "code",
   "execution_count": 10,
   "metadata": {},
   "outputs": [
    {
     "name": "stdout",
     "output_type": "stream",
     "text": [
      "\u001b[2K\u001b[32m⠧\u001b[0m Connecting to=hpc_cpu... status=CONNECTED\n",
      "\u001b[1A\u001b[2K\u001b[2J\u001b[H[2025-05-01 07:17:27 PDT]     INFO: qcfractalcompute.config: Reading configuration data from /workspace/qcfractal/resources.yml\n"
     ]
    }
   ],
   "source": [
    "# Establish client connection\n",
    "client = PortalClient(\"http://localhost:7778\", verify=False)"
   ]
  },
  {
   "cell_type": "code",
   "execution_count": 16,
   "metadata": {
    "jukit_cell_id": "hMCmRgdGJ4"
   },
   "outputs": [
    {
     "name": "stdout",
     "output_type": "stream",
     "text": [
      "\u001b[2K\u001b[32m⠧\u001b[0m Connecting to=hpc_cpu... status=CONNECTED\n",
      "\u001b[1A\u001b[2K\u001b[2J\u001b[H<bound method BaseModel.dict of SinglepointRecord(id=1, record_type='singlepoint', is_service=False, properties={'pe energy': 0.0, 'scf dipole': [1.0144337612148102, 0.030397167953601256, 4.72047227695338e-12], 'calcinfo_nmo': 82, 'dft xc energy': -15.093933325834776, 'return_energy': -152.8965873433082, 'return_result': -152.8965873433082, 'scf_xc_energy': -15.093933325834776, 'calcinfo_natom': 6, 'calcinfo_nbeta': 10, 'current dipole': [1.0144337612148102, 0.030397167953601256, 4.72047227695338e-12], 'current energy': -152.8965873433082, 'return_hessian': None, 'scf_iterations': 8, 'calcinfo_nalpha': 10, 'calcinfo_nbasis': 82, 'dft vv10 energy': 0.0, 'return_gradient': None, 'dft total energy': -152.8965873433082, 'scf_total_energy': -152.8965873433082, 'scf_dipole_moment': [1.0144337612148102, 0.030397167953601256, 4.72047227695338e-12], 'scf_total_hessian': None, 'scf total energies': [-152.1832917902241, -152.54809853364756, -151.78477048281337, -152.89584149375614, -152.89589353340784, -152.8965718707635, -152.8965866974082, -152.89658733874973, -152.8965873433082], 'scf_total_gradient': None, 'dd solvation energy': 0.0, 'grid electrons beta': 10.000001013223189, 'one-electron energy': -282.4847235690834, 'two-electron energy': 108.01922155474662, 'grid electrons alpha': 10.000001013223189, 'grid electrons total': 20.000002026446378, 'scf iteration energy': -152.8965873433082, 'xc grid total points': 132401.0, 'xc grid radial points': 75.0, 'pcm polarization energy': 0.0, 'scf_one_electron_energy': -282.4847235690834, 'scf_two_electron_energy': 108.01922155474662, 'current reference energy': -152.8965873433082, 'nuclear_repulsion_energy': 36.66284799686338, 'xc grid spherical points': 302.0, 'dft functional total energy': -152.8965873433082}, extras={}, status=<RecordStatusEnum.complete: 'complete'>, manager_name='theoryfs-exp-3-33-c5434d68-c99e-4364-a35e-16b49914067c', created_on=datetime.datetime(2025, 5, 1, 7, 17, 35, 42406, tzinfo=datetime.timezone(datetime.timedelta(days=-1, seconds=61200))), modified_on=datetime.datetime(2025, 5, 1, 7, 17, 44, 713468, tzinfo=datetime.timezone(datetime.timedelta(days=-1, seconds=61200))), owner_user=None, owner_group=None, compute_history_=None, task_=None, service_=None, comments_=None, native_files_=None, specification=QCSpecification(program='psi4', driver=<SinglepointDriver.energy: 'energy'>, method='b3lyp', basis='aug-cc-pvdz', keywords={'scf_type': 'df', 'freeze_core': True, 'e_convergence': 6}, protocols=AtomicResultProtocols(wavefunction=<WavefunctionProtocolEnum.none: 'none'>, stdout=True, error_correction=ErrorCorrectionProtocol(default_policy=True, policies=None), native_files=<NativeFilesProtocolEnum.none: 'none'>)), molecule_id=1, molecule_=None, wavefunction_=None)>\n",
      "-152.8965873433082\n"
     ]
    }
   ],
   "source": [
    "# Running a single job\n",
    "client = PortalClient(\"http://localhost:7778\", verify=False)\n",
    "mol = Molecule.from_data(\n",
    "    \"\"\"\n",
    "     0 1\n",
    "     O  -1.551007  -0.114520   0.000000\n",
    "     H  -1.934259   0.762503   0.000000\n",
    "     H  -0.599677   0.040712   0.000000\n",
    "     --\n",
    "     0 1\n",
    "     O   1.350625   0.111469   0.000000\n",
    "     H   1.680398  -0.373741  -0.758561\n",
    "     H   1.680398  -0.373741   0.758561\n",
    "\n",
    "     units angstrom\n",
    "     no_reorient\n",
    "     symmetry c1\n",
    "\"\"\"\n",
    ")\n",
    "\n",
    "psi4.set_options(\n",
    "    {\"basis\": \"aug-cc-pvdz\", \"scf_type\": \"df\", \"e_convergence\": 6, \"freeze_core\": True}\n",
    ")\n",
    "\n",
    "client.add_singlepoints(\n",
    "    [mol],\n",
    "    \"psi4\",\n",
    "    driver=\"energy\",\n",
    "    method=\"b3lyp\",\n",
    "    basis=\"aug-cc-pvdz\",\n",
    "    keywords={\"scf_type\": \"df\", \"e_convergence\": 6, \"freeze_core\": True},\n",
    "    tag=\"local\",\n",
    ")\n",
    "recs = client.query_records(\n",
    "    record_id=[1]\n",
    ")\n",
    "for rec in recs:\n",
    "    print(rec.dict)\n",
    "    print(rec.properties['return_result'])\n",
    "\n",
    "# Can print records\n",
    "# for rec in client.query_records():\n",
    "#     pp(rec.dict)\n",
    "#     pp(rec.error)"
   ]
  },
  {
   "cell_type": "markdown",
   "metadata": {
    "jukit_cell_id": "6DmD5wp1nB"
   },
   "source": [
    "# QCArchive dataset examples"
   ]
  },
  {
   "cell_type": "code",
   "execution_count": null,
   "metadata": {
    "jukit_cell_id": "Z0wXrcgRq8"
   },
   "outputs": [
    {
     "name": "stdout",
     "output_type": "stream",
     "text": [
      "\u001b[2K\u001b[32m⠧\u001b[0m Connecting to=hpc_cpu... status=CONNECTED\n",
      "\u001b[1A\u001b[2K\u001b[2J\u001b[HBenchmark SAPT2+3(CCD)DMP2 TOTAL ENERGY aqz  MP2 IE atz  \\\n",
      "0      -10.248                         -0.016681   -0.015629   \n",
      "1      -15.245                         -0.024763   -0.023012   \n",
      "2       -3.517                         -0.005637   -0.005608   \n",
      "3       -0.127                         -0.000187   -0.000194   \n",
      "4       -8.990                         -0.014655   -0.013687   \n",
      "..         ...                               ...         ...   \n",
      "353     -4.390                         -0.007196   -0.006835   \n",
      "354     -1.130                         -0.001489   -0.002395   \n",
      "355     -0.260                         -0.000432   -0.000450   \n",
      "356     -5.740                         -0.009198   -0.008974   \n",
      "357     -3.120                         -0.004909   -0.005518   \n",
      "\n",
      "     SAPT0 TOTAL ENERGY adz  \n",
      "0                 -0.018254  \n",
      "1                 -0.027620  \n",
      "2                 -0.005920  \n",
      "3                 -0.000192  \n",
      "4                 -0.016209  \n",
      "..                      ...  \n",
      "353               -0.008013  \n",
      "354               -0.002090  \n",
      "355               -0.000503  \n",
      "356               -0.009757  \n",
      "357               -0.005630  \n",
      "\n",
      "[358 rows x 4 columns]\n",
      "count    150.000000\n",
      "mean      11.680000\n",
      "std        2.929416\n",
      "min        3.000000\n",
      "25%       10.000000\n",
      "50%       12.000000\n",
      "75%       14.000000\n",
      "max       16.000000\n",
      "Name: size, dtype: float64\n"
     ]
    }
   ],
   "source": [
    "# Creating a QCArchive Dataset...\n",
    "# Load in a dataset from a recent Sherrill work (Levels of SAPT II)\n",
    "df_LoS = pd.read_pickle(\"./combined_df_subset_358.pkl\")\n",
    "print(df_LoS[['Benchmark', 'SAPT2+3(CCD)DMP2 TOTAL ENERGY aqz', 'MP2 IE atz', 'SAPT0 TOTAL ENERGY adz' ]])\n",
    "\n",
    "# Limit to 100 molecules with maximum of 16 atoms to keep computational cost down\n",
    "df_LoS['size'] = df_LoS['atomic_numbers'].apply(lambda x: len(x))\n",
    "df_LoS = df_LoS[df_LoS['size'] <= 16]\n",
    "df_LoS = df_LoS.sample(100, random_state=42, axis=0).copy()\n",
    "# df_LoS = df_LoS.sample(50, random_state=42, axis=0).copy()\n",
    "df_LoS.reset_index(drop=True, inplace=True)\n",
    "print(df_LoS['size'].describe())\n",
    "\n",
    "# Create QCElemntal Molecules to generate the dataset\n",
    "def qcel_mols(row):\n",
    "    \"\"\"\n",
    "    Convert the row to a qcel molecule\n",
    "    \"\"\"\n",
    "    atomic_numbers = [row['atomic_numbers'][row['monAs']], row['atomic_numbers'][row['monBs']]]\n",
    "    coords = [row['coordinates'][row['monAs']], row['coordinates'][row['monBs']]]\n",
    "    cm = [\n",
    "        [row['monA_charge'], row['monA_multiplicity']],\n",
    "        [row['monB_charge'], row['monB_multiplicity']],\n",
    "     ]\n",
    "    return tools.convert_pos_carts_to_mol(atomic_numbers, coords, cm)\n",
    "df_LoS['qcel_molecule'] = df_LoS.apply(qcel_mols, axis=1)\n",
    "geoms = df_LoS['qcel_molecule'].tolist()\n",
    "ref_IEs = df_LoS['Benchmark'].tolist()\n",
    "sapt0_adz = (df_LoS['SAPT0 TOTAL ENERGY adz'] * h2kcalmol).tolist()"
   ]
  },
  {
   "cell_type": "markdown",
   "metadata": {
    "jukit_cell_id": "iwmcvViziS"
   },
   "source": [
    "## Singlepoint Dataset"
   ]
  },
  {
   "cell_type": "code",
   "execution_count": 18,
   "metadata": {
    "jukit_cell_id": "i8ICwzPWaD"
   },
   "outputs": [
    {
     "name": "stdout",
     "output_type": "stream",
     "text": [
      "\u001b[2K\u001b[32m⠇\u001b[0m Connecting to=hpc_cpu... status=CONNECTED\n",
      "\u001b[1A\u001b[2K\u001b[2J\u001b[HAdded S22-singlepoint as dataset\n",
      "Added 150 molecules to dataset\n",
      "id=1 dataset_type='singlepoint' name='S22-singlepoint' description='Dataset to contain S22-singlepoint' tagline='' tags=[] group='default' visibility=True provenance={} default_tag='*' default_priority=<PriorityEnum.normal: 1> owner_user=None owner_group=None metadata={} extras={} contributed_values_=None attachments_=None auto_fetch_missing=True\n"
     ]
    }
   ],
   "source": [
    "# Create client dataset\n",
    "\n",
    "ds_name = 'S22-singlepoint'\n",
    "client_datasets = [i['dataset_name'] for i in client.list_datasets()]\n",
    "# Check if dataset already exists, if not create a new one\n",
    "if ds_name not in client_datasets:\n",
    "    ds = client.add_dataset(\"singlepoint\", ds_name,\n",
    "                            f\"Dataset to contain {ds_name}\")\n",
    "    print(f\"Added {ds_name} as dataset\")\n",
    "    # Insert entries into dataset\n",
    "    entry_list = []\n",
    "    for idx, mol in enumerate(geoms):\n",
    "        extras = {\n",
    "            \"name\": 'S22-' + str(idx),\n",
    "            \"idx\": idx,\n",
    "        }\n",
    "        mol = Molecule.from_data(mol.dict(), extras=extras)\n",
    "        ent = SinglepointDatasetEntry(name=extras['name'], molecule=mol)\n",
    "        entry_list.append(ent)\n",
    "    ds.add_entries(entry_list)\n",
    "    print(f\"Added {len(entry_list)} molecules to dataset\")\n",
    "else:\n",
    "    ds = client.get_dataset(\"singlepoint\", ds_name)\n",
    "    print(f\"Found {ds_name} dataset, using this instead\")\n",
    "\n",
    "print(ds)"
   ]
  },
  {
   "cell_type": "code",
   "execution_count": 19,
   "metadata": {
    "jukit_cell_id": "7ZAOPlzuUX"
   },
   "outputs": [
    {
     "name": "stdout",
     "output_type": "stream",
     "text": [
      "\u001b[2K\u001b[32m⠧\u001b[0m Connecting to=hpc_cpu... status=CONNECTED\n",
      "\u001b[1A\u001b[2K\u001b[2J\u001b[H"
     ]
    }
   ],
   "source": [
    "# Can delete the dataset if you want to start over. Need to know dataset_id\n",
    "# client.delete_dataset(dataset_id=ds.id, delete_records=True)"
   ]
  },
  {
   "cell_type": "code",
   "execution_count": 20,
   "metadata": {
    "jukit_cell_id": "vMkm00fo00"
   },
   "outputs": [
    {
     "name": "stdout",
     "output_type": "stream",
     "text": [
      "\u001b[2K\u001b[32m⠧\u001b[0m Connecting to=hpc_cpu... status=CONNECTED\n",
      "\u001b[1A\u001b[2K\u001b[2J\u001b[HInsertMetadata(error_description=None, errors=[], inserted_idx=[0], existing_idx=[])\n"
     ]
    }
   ],
   "source": [
    "# SAPT0 Example\n",
    "method, basis = \"SAPT0\", \"cc-pvdz\"\n",
    "\n",
    "# Set the QCSpecification (QM interaction energy in our case)\n",
    "spec = QCSpecification(\n",
    "    program=\"psi4\",\n",
    "    driver=\"energy\",\n",
    "    method=method,\n",
    "    basis=basis,\n",
    "    keywords={\n",
    "        \"scf_type\": \"df\",\n",
    "    },\n",
    ")\n",
    "ds.add_specification(name=f\"psi4/{method}/{basis}\", specification=spec)"
   ]
  },
  {
   "cell_type": "code",
   "execution_count": 21,
   "metadata": {
    "jukit_cell_id": "dwYb9dbQNI"
   },
   "outputs": [
    {
     "name": "stdout",
     "output_type": "stream",
     "text": [
      "\u001b[2K\u001b[32m⠧\u001b[0m Connecting to=hpc_cpu... status=CONNECTED\n",
      "\u001b[1A\u001b[2K\u001b[2J\u001b[HSubmitted S22-singlepoint dataset\n"
     ]
    }
   ],
   "source": [
    "# Run the computations\n",
    "ds.submit()\n",
    "print(f\"Submitted {ds_name} dataset\")"
   ]
  },
  {
   "cell_type": "code",
   "execution_count": 22,
   "metadata": {
    "jukit_cell_id": "2JMCNlehez"
   },
   "outputs": [
    {
     "name": "stdout",
     "output_type": "stream",
     "text": [
      "\u001b[2K\u001b[32m⠧\u001b[0m Connecting to=hpc_cpu... status=CONNECTED\n",
      "\u001b[1A\u001b[2K\u001b[2J\u001b[H{'psi4/SAPT0/cc-pvdz': {<RecordStatusEnum.waiting: 'waiting'>: 150}}\n"
     ]
    }
   ],
   "source": [
    "# Check the status of the dataset - can repeatedly run this to see the progress\n",
    "ds.status()"
   ]
  },
  {
   "cell_type": "markdown",
   "metadata": {
    "jukit_cell_id": "kT14mJyNqJ"
   },
   "source": [
    "## Manybody Dataset"
   ]
  },
  {
   "cell_type": "code",
   "execution_count": 23,
   "metadata": {
    "jukit_cell_id": "g31JlHrgso"
   },
   "outputs": [
    {
     "name": "stdout",
     "output_type": "stream",
     "text": [
      "\u001b[2K\u001b[32m⠧\u001b[0m Connecting to=hpc_cpu... status=CONNECTED\n",
      "\u001b[1A\u001b[2K\u001b[2J\u001b[HSetting up new dataset: S22-manybody\n",
      "Added S22-manybody as dataset\n",
      "Added 150 molecules to dataset\n",
      "id=2 dataset_type='manybody' name='S22-manybody' description='Dataset to contain S22-manybody' tagline='' tags=[] group='default' visibility=True provenance={} default_tag='*' default_priority=<PriorityEnum.normal: 1> owner_user=None owner_group=None metadata={} extras={} contributed_values_=None attachments_=None auto_fetch_missing=True\n"
     ]
    }
   ],
   "source": [
    "# Create client dataset\n",
    "ds_name_mb = 'S22-manybody'\n",
    "client_datasets = [i['dataset_name'] for i in client.list_datasets()]\n",
    "# Check if dataset already exists, if not create a new one\n",
    "if ds_name_mb not in client_datasets:\n",
    "    print(\"Setting up new dataset:\", ds_name_mb)\n",
    "    ds_mb = client.add_dataset(\"manybody\", ds_name_mb,\n",
    "                            f\"Dataset to contain {ds_name_mb}\")\n",
    "    print(f\"Added {ds_name_mb} as dataset\")\n",
    "    # Insert entries into dataset\n",
    "    entry_list = []\n",
    "    for idx, mol in enumerate(geoms):\n",
    "        ent = ManybodyDatasetEntry(name=f\"S22-IE-{idx}\", initial_molecule=mol)\n",
    "        entry_list.append(ent)\n",
    "    ds_mb.add_entries(entry_list)\n",
    "    print(f\"Added {len(entry_list)} molecules to dataset\")\n",
    "else:\n",
    "    ds_mb = client.get_dataset(\"manybody\", ds_name_mb)\n",
    "    print(f\"Found {ds_name_mb} dataset, using this instead\")\n",
    "\n",
    "print(ds_mb)\n",
    "\n",
    "# Can delete the dataset if you want to start over. Need to know dataset_id\n",
    "# client.delete_dataset(dataset_id=2, delete_records=True)"
   ]
  },
  {
   "cell_type": "code",
   "execution_count": 24,
   "metadata": {
    "jukit_cell_id": "bYERcUudd0"
   },
   "outputs": [
    {
     "name": "stdout",
     "output_type": "stream",
     "text": [
      "\u001b[2K\u001b[32m⠧\u001b[0m Connecting to=hpc_cpu... status=CONNECTED\n",
      "\u001b[1A\u001b[2K\u001b[2J\u001b[H{}\n"
     ]
    }
   ],
   "source": [
    "ds_mb.status()"
   ]
  },
  {
   "cell_type": "code",
   "execution_count": null,
   "metadata": {
    "jukit_cell_id": "gauw3VIjl9"
   },
   "outputs": [
    {
     "name": "stdout",
     "output_type": "stream",
     "text": [
      "\u001b[2K\u001b[32m⠧\u001b[0m Connecting to=hpc_cpu... status=CONNECTED\n",
      "\u001b[1A\u001b[2K\u001b[2J\u001b[Hspec_mb program='qcmanybody' levels={1: QCSpecification(program='psi4', driver=<SinglepointDriver.energy: 'energy'>, method='hf', basis='6-31g*', keywords={'d_convergence': 8, 'scf_type': 'df'}, protocols=AtomicResultProtocols(wavefunction=<WavefunctionProtocolEnum.none: 'none'>, stdout=True, error_correction=ErrorCorrectionProtocol(default_policy=True, policies=None), native_files=<NativeFilesProtocolEnum.none: 'none'>)), 2: QCSpecification(program='psi4', driver=<SinglepointDriver.energy: 'energy'>, method='hf', basis='6-31g*', keywords={'d_convergence': 8, 'scf_type': 'df'}, protocols=AtomicResultProtocols(wavefunction=<WavefunctionProtocolEnum.none: 'none'>, stdout=True, error_correction=ErrorCorrectionProtocol(default_policy=True, policies=None), native_files=<NativeFilesProtocolEnum.none: 'none'>))} bsse_correction=[<BSSECorrectionEnum.cp: 'cp'>] keywords=ManybodyKeywords(return_total_data=False) protocols={}\n",
      "Submitted S22-singlepoint dataset\n",
      "spec_mb program='qcmanybody' levels={1: QCSpecification(program='psi4', driver=<SinglepointDriver.energy: 'energy'>, method='pbe', basis='6-31g*', keywords={'d_convergence': 8, 'scf_type': 'df'}, protocols=AtomicResultProtocols(wavefunction=<WavefunctionProtocolEnum.none: 'none'>, stdout=True, error_correction=ErrorCorrectionProtocol(default_policy=True, policies=None), native_files=<NativeFilesProtocolEnum.none: 'none'>)), 2: QCSpecification(program='psi4', driver=<SinglepointDriver.energy: 'energy'>, method='pbe', basis='6-31g*', keywords={'d_convergence': 8, 'scf_type': 'df'}, protocols=AtomicResultProtocols(wavefunction=<WavefunctionProtocolEnum.none: 'none'>, stdout=True, error_correction=ErrorCorrectionProtocol(default_policy=True, policies=None), native_files=<NativeFilesProtocolEnum.none: 'none'>))} bsse_correction=[<BSSECorrectionEnum.cp: 'cp'>] keywords=ManybodyKeywords(return_total_data=False) protocols={}\n",
      "Submitted S22-singlepoint dataset\n",
      "spec_mb program='qcmanybody' levels={1: QCSpecification(program='psi4', driver=<SinglepointDriver.energy: 'energy'>, method='svwn', basis='6-31g*', keywords={'d_convergence': 8, 'scf_type': 'df'}, protocols=AtomicResultProtocols(wavefunction=<WavefunctionProtocolEnum.none: 'none'>, stdout=True, error_correction=ErrorCorrectionProtocol(default_policy=True, policies=None), native_files=<NativeFilesProtocolEnum.none: 'none'>)), 2: QCSpecification(program='psi4', driver=<SinglepointDriver.energy: 'energy'>, method='svwn', basis='6-31g*', keywords={'d_convergence': 8, 'scf_type': 'df'}, protocols=AtomicResultProtocols(wavefunction=<WavefunctionProtocolEnum.none: 'none'>, stdout=True, error_correction=ErrorCorrectionProtocol(default_policy=True, policies=None), native_files=<NativeFilesProtocolEnum.none: 'none'>))} bsse_correction=[<BSSECorrectionEnum.cp: 'cp'>] keywords=ManybodyKeywords(return_total_data=False) protocols={}\n",
      "Submitted S22-singlepoint dataset\n",
      "{'psi4/hf/6-31g*': {<RecordStatusEnum.waiting: 'waiting'>: 150},\n",
      " 'psi4/pbe/6-31g*': {<RecordStatusEnum.waiting: 'waiting'>: 150},\n",
      " 'psi4/svwn/6-31g*': {<RecordStatusEnum.waiting: 'waiting'>: 150}}\n"
     ]
    }
   ],
   "source": [
    "# Set multiple levels of theory - you can add/remove levels as you desire.\n",
    "# Computational scaling will get quite expensive with better methods and larger\n",
    "# basis sets\n",
    "\n",
    "methods = [\n",
    "    'hf', # 'svwn', # 'pbe', \n",
    "]\n",
    "basis_sets = [\n",
    "    '6-31g*'\n",
    "]\n",
    "\n",
    "for method in methods:\n",
    "    for basis in basis_sets:\n",
    "        # Set the QCSpecification (QM interaction energy in our case)\n",
    "        qc_spec_mb = QCSpecification(\n",
    "            program=\"psi4\",\n",
    "            driver=\"energy\",\n",
    "            method=method,\n",
    "            basis=basis,\n",
    "            keywords={\n",
    "                \"d_convergence\": 8,\n",
    "                \"scf_type\": \"df\",\n",
    "            },\n",
    "        )\n",
    "\n",
    "        spec_mb = ManybodySpecification(\n",
    "            program='qcmanybody',\n",
    "            bsse_correction=['cp'],\n",
    "            levels={\n",
    "                1: qc_spec_mb,\n",
    "                2: qc_spec_mb,\n",
    "            },\n",
    "        )\n",
    "        print(\"spec_mb\", spec_mb)\n",
    "\n",
    "        ds_mb.add_specification(name=f\"psi4/{method}/{basis}\", specification=spec_mb)\n",
    "\n",
    "        # Run the computations\n",
    "        ds_mb.submit()\n",
    "        print(f\"Submitted {ds_name} dataset\")\n",
    "# Check the status of the dataset - can repeatedly run this to see the progress\n",
    "ds_mb.status()"
   ]
  },
  {
   "cell_type": "code",
   "execution_count": 104,
   "metadata": {
    "jukit_cell_id": "qYukdPBXmi"
   },
   "outputs": [
    {
     "name": "stdout",
     "output_type": "stream",
     "text": [
      "\u001b[2K\u001b[32m⠧\u001b[0m Connecting to=hpc_cpu... status=CONNECTED\n",
      "\u001b[1A\u001b[2K\u001b[2J\u001b[H{'psi4/SAPT0/cc-pvdz': {<RecordStatusEnum.complete: 'complete'>: 150}}\n",
      "{'psi4/hf/6-31g*': {<RecordStatusEnum.complete: 'complete'>: 150},\n",
      " 'psi4/pbe/6-31g*': {<RecordStatusEnum.complete: 'complete'>: 150},\n",
      " 'psi4/svwn/6-31g*': {<RecordStatusEnum.complete: 'complete'>: 150}}\n"
     ]
    }
   ],
   "source": [
    "pp(ds.status())\n",
    "pp(ds_mb.status())"
   ]
  },
  {
   "cell_type": "code",
   "execution_count": 64,
   "metadata": {},
   "outputs": [
    {
     "name": "stdout",
     "output_type": "stream",
     "text": [
      "\u001b[2K\u001b[32m⠧\u001b[0m Connecting to=hpc_cpu... status=CONNECTED\n",
      "\u001b[1A\u001b[2K\u001b[2J\u001b[H[('S22-IE-11', 'psi4/hf/6-31g*', <RecordStatusEnum.complete: 'complete'>),\n",
      " ('S22-IE-3', 'psi4/hf/6-31g*', <RecordStatusEnum.complete: 'complete'>),\n",
      " ('S22-IE-16', 'psi4/hf/6-31g*', <RecordStatusEnum.complete: 'complete'>),\n",
      " ('S22-IE-62', 'psi4/hf/6-31g*', <RecordStatusEnum.complete: 'complete'>),\n",
      " ('S22-IE-35', 'psi4/hf/6-31g*', <RecordStatusEnum.complete: 'complete'>),\n",
      " ('S22-IE-32', 'psi4/hf/6-31g*', <RecordStatusEnum.waiting: 'waiting'>),\n",
      " ('S22-IE-37', 'psi4/hf/6-31g*', <RecordStatusEnum.waiting: 'waiting'>),\n",
      " ('S22-IE-68', 'psi4/hf/6-31g*', <RecordStatusEnum.waiting: 'waiting'>),\n",
      " ('S22-IE-10', 'psi4/hf/6-31g*', <RecordStatusEnum.waiting: 'waiting'>),\n",
      " ('S22-IE-39', 'psi4/hf/6-31g*', <RecordStatusEnum.waiting: 'waiting'>),\n",
      " ('S22-IE-121', 'psi4/hf/6-31g*', <RecordStatusEnum.waiting: 'waiting'>),\n",
      " ('S22-IE-105', 'psi4/hf/6-31g*', <RecordStatusEnum.waiting: 'waiting'>),\n",
      " ('S22-IE-58', 'psi4/hf/6-31g*', <RecordStatusEnum.waiting: 'waiting'>),\n",
      " ('S22-IE-75', 'psi4/hf/6-31g*', <RecordStatusEnum.waiting: 'waiting'>),\n",
      " ('S22-IE-6', 'psi4/hf/6-31g*', <RecordStatusEnum.waiting: 'waiting'>),\n",
      " ('S22-IE-116', 'psi4/hf/6-31g*', <RecordStatusEnum.waiting: 'waiting'>),\n",
      " ('S22-IE-26', 'psi4/hf/6-31g*', <RecordStatusEnum.waiting: 'waiting'>),\n",
      " ('S22-IE-22', 'psi4/hf/6-31g*', <RecordStatusEnum.waiting: 'waiting'>),\n",
      " ('S22-IE-133', 'psi4/hf/6-31g*', <RecordStatusEnum.waiting: 'waiting'>),\n",
      " ('S22-IE-127', 'psi4/hf/6-31g*', <RecordStatusEnum.waiting: 'waiting'>),\n",
      " ('S22-IE-99', 'psi4/hf/6-31g*', <RecordStatusEnum.waiting: 'waiting'>),\n",
      " ('S22-IE-38', 'psi4/hf/6-31g*', <RecordStatusEnum.waiting: 'waiting'>),\n",
      " ('S22-IE-62', 'psi4/pbe/6-31g*', <RecordStatusEnum.waiting: 'waiting'>),\n",
      " ('S22-IE-12', 'psi4/pbe/6-31g*', <RecordStatusEnum.waiting: 'waiting'>),\n",
      " ('S22-IE-82', 'psi4/pbe/6-31g*', <RecordStatusEnum.waiting: 'waiting'>),\n",
      " ('S22-IE-61', 'psi4/pbe/6-31g*', <RecordStatusEnum.waiting: 'waiting'>),\n",
      " ('S22-IE-129', 'psi4/pbe/6-31g*', <RecordStatusEnum.waiting: 'waiting'>),\n",
      " ('S22-IE-97', 'psi4/pbe/6-31g*', <RecordStatusEnum.waiting: 'waiting'>),\n",
      " ('S22-IE-134', 'psi4/pbe/6-31g*', <RecordStatusEnum.waiting: 'waiting'>),\n",
      " ('S22-IE-109', 'psi4/pbe/6-31g*', <RecordStatusEnum.waiting: 'waiting'>),\n",
      " ('S22-IE-59', 'psi4/pbe/6-31g*', <RecordStatusEnum.waiting: 'waiting'>),\n",
      " ('S22-IE-16', 'psi4/pbe/6-31g*', <RecordStatusEnum.waiting: 'waiting'>),\n",
      " ('S22-IE-131', 'psi4/pbe/6-31g*', <RecordStatusEnum.waiting: 'waiting'>),\n",
      " ('S22-IE-138', 'psi4/pbe/6-31g*', <RecordStatusEnum.waiting: 'waiting'>),\n",
      " ('S22-IE-149', 'psi4/pbe/6-31g*', <RecordStatusEnum.waiting: 'waiting'>),\n",
      " ('S22-IE-107', 'psi4/pbe/6-31g*', <RecordStatusEnum.waiting: 'waiting'>),\n",
      " ('S22-IE-65', 'psi4/pbe/6-31g*', <RecordStatusEnum.waiting: 'waiting'>),\n",
      " ('S22-IE-64', 'psi4/pbe/6-31g*', <RecordStatusEnum.waiting: 'waiting'>),\n",
      " ('S22-IE-114', 'psi4/pbe/6-31g*', <RecordStatusEnum.waiting: 'waiting'>),\n",
      " ('S22-IE-73', 'psi4/pbe/6-31g*', <RecordStatusEnum.waiting: 'waiting'>),\n",
      " ('S22-IE-7', 'psi4/pbe/6-31g*', <RecordStatusEnum.waiting: 'waiting'>),\n",
      " ('S22-IE-28', 'psi4/pbe/6-31g*', <RecordStatusEnum.waiting: 'waiting'>),\n",
      " ('S22-IE-45', 'psi4/pbe/6-31g*', <RecordStatusEnum.waiting: 'waiting'>),\n",
      " ('S22-IE-42', 'psi4/pbe/6-31g*', <RecordStatusEnum.waiting: 'waiting'>),\n",
      " ('S22-IE-25', 'psi4/pbe/6-31g*', <RecordStatusEnum.waiting: 'waiting'>),\n",
      " ('S22-IE-98', 'psi4/pbe/6-31g*', <RecordStatusEnum.waiting: 'waiting'>),\n",
      " ('S22-IE-125', 'psi4/pbe/6-31g*', <RecordStatusEnum.waiting: 'waiting'>),\n",
      " ('S22-IE-84', 'psi4/pbe/6-31g*', <RecordStatusEnum.waiting: 'waiting'>),\n",
      " ('S22-IE-91', 'psi4/pbe/6-31g*', <RecordStatusEnum.waiting: 'waiting'>),\n",
      " ('S22-IE-85', 'psi4/pbe/6-31g*', <RecordStatusEnum.waiting: 'waiting'>),\n",
      " ('S22-IE-88', 'psi4/pbe/6-31g*', <RecordStatusEnum.waiting: 'waiting'>),\n",
      " ('S22-IE-147', 'psi4/pbe/6-31g*', <RecordStatusEnum.waiting: 'waiting'>),\n",
      " ('S22-IE-104', 'psi4/pbe/6-31g*', <RecordStatusEnum.waiting: 'waiting'>),\n",
      " ('S22-IE-55', 'psi4/pbe/6-31g*', <RecordStatusEnum.waiting: 'waiting'>),\n",
      " ('S22-IE-86', 'psi4/pbe/6-31g*', <RecordStatusEnum.waiting: 'waiting'>),\n",
      " ('S22-IE-119', 'psi4/pbe/6-31g*', <RecordStatusEnum.waiting: 'waiting'>),\n",
      " ('S22-IE-34', 'psi4/pbe/6-31g*', <RecordStatusEnum.waiting: 'waiting'>),\n",
      " ('S22-IE-115', 'psi4/pbe/6-31g*', <RecordStatusEnum.waiting: 'waiting'>),\n",
      " ('S22-IE-9', 'psi4/pbe/6-31g*', <RecordStatusEnum.waiting: 'waiting'>),\n",
      " ('S22-IE-2', 'psi4/pbe/6-31g*', <RecordStatusEnum.waiting: 'waiting'>),\n",
      " ('S22-IE-32', 'psi4/pbe/6-31g*', <RecordStatusEnum.waiting: 'waiting'>),\n",
      " ('S22-IE-37', 'psi4/pbe/6-31g*', <RecordStatusEnum.waiting: 'waiting'>),\n",
      " ('S22-IE-68', 'psi4/pbe/6-31g*', <RecordStatusEnum.waiting: 'waiting'>),\n",
      " ('S22-IE-39', 'psi4/pbe/6-31g*', <RecordStatusEnum.waiting: 'waiting'>),\n",
      " ('S22-IE-47', 'psi4/pbe/6-31g*', <RecordStatusEnum.waiting: 'waiting'>),\n",
      " ('S22-IE-80', 'psi4/pbe/6-31g*', <RecordStatusEnum.waiting: 'waiting'>),\n",
      " ('S22-IE-105', 'psi4/pbe/6-31g*', <RecordStatusEnum.waiting: 'waiting'>),\n",
      " ('S22-IE-46', 'psi4/pbe/6-31g*', <RecordStatusEnum.waiting: 'waiting'>),\n",
      " ('S22-IE-58', 'psi4/pbe/6-31g*', <RecordStatusEnum.waiting: 'waiting'>),\n",
      " ('S22-IE-75', 'psi4/pbe/6-31g*', <RecordStatusEnum.waiting: 'waiting'>),\n",
      " ('S22-IE-6', 'psi4/pbe/6-31g*', <RecordStatusEnum.waiting: 'waiting'>),\n",
      " ('S22-IE-116', 'psi4/pbe/6-31g*', <RecordStatusEnum.waiting: 'waiting'>),\n",
      " ('S22-IE-25', 'psi4/hf/6-31g*', <RecordStatusEnum.running: 'running'>),\n",
      " ('S22-IE-56', 'psi4/hf/6-31g*', <RecordStatusEnum.running: 'running'>),\n",
      " ('S22-IE-63', 'psi4/hf/6-31g*', <RecordStatusEnum.running: 'running'>),\n",
      " ('S22-IE-91', 'psi4/hf/6-31g*', <RecordStatusEnum.running: 'running'>),\n",
      " ('S22-IE-85', 'psi4/hf/6-31g*', <RecordStatusEnum.running: 'running'>),\n",
      " ('S22-IE-88', 'psi4/hf/6-31g*', <RecordStatusEnum.running: 'running'>),\n",
      " ('S22-IE-147', 'psi4/hf/6-31g*', <RecordStatusEnum.running: 'running'>),\n",
      " ('S22-IE-104', 'psi4/hf/6-31g*', <RecordStatusEnum.running: 'running'>),\n",
      " ('S22-IE-55', 'psi4/hf/6-31g*', <RecordStatusEnum.running: 'running'>),\n",
      " ('S22-IE-74', 'psi4/hf/6-31g*', <RecordStatusEnum.running: 'running'>),\n",
      " ('S22-IE-86', 'psi4/hf/6-31g*', <RecordStatusEnum.running: 'running'>),\n",
      " ('S22-IE-29', 'psi4/hf/6-31g*', <RecordStatusEnum.running: 'running'>),\n",
      " ('S22-IE-19', 'psi4/hf/6-31g*', <RecordStatusEnum.running: 'running'>),\n",
      " ('S22-IE-119', 'psi4/hf/6-31g*', <RecordStatusEnum.running: 'running'>),\n",
      " ('S22-IE-115', 'psi4/hf/6-31g*', <RecordStatusEnum.running: 'running'>),\n",
      " ('S22-IE-9', 'psi4/hf/6-31g*', <RecordStatusEnum.running: 'running'>),\n",
      " ('S22-IE-2', 'psi4/hf/6-31g*', <RecordStatusEnum.running: 'running'>),\n",
      " ('S22-IE-26', 'psi4/pbe/6-31g*', <RecordStatusEnum.waiting: 'waiting'>),\n",
      " ('S22-IE-22', 'psi4/pbe/6-31g*', <RecordStatusEnum.waiting: 'waiting'>),\n",
      " ('S22-IE-133', 'psi4/pbe/6-31g*', <RecordStatusEnum.waiting: 'waiting'>),\n",
      " ('S22-IE-117', 'psi4/pbe/6-31g*', <RecordStatusEnum.waiting: 'waiting'>),\n",
      " ('S22-IE-56', 'psi4/pbe/6-31g*', <RecordStatusEnum.waiting: 'waiting'>),\n",
      " ('S22-IE-38', 'psi4/pbe/6-31g*', <RecordStatusEnum.waiting: 'waiting'>),\n",
      " ('S22-IE-63', 'psi4/pbe/6-31g*', <RecordStatusEnum.waiting: 'waiting'>),\n",
      " ('S22-IE-148', 'psi4/pbe/6-31g*', <RecordStatusEnum.waiting: 'waiting'>),\n",
      " ('S22-IE-140', 'psi4/pbe/6-31g*', <RecordStatusEnum.waiting: 'waiting'>),\n",
      " ('S22-IE-90', 'psi4/pbe/6-31g*', <RecordStatusEnum.waiting: 'waiting'>),\n",
      " ('S22-IE-27', 'psi4/pbe/6-31g*', <RecordStatusEnum.waiting: 'waiting'>),\n",
      " ('S22-IE-24', 'psi4/pbe/6-31g*', <RecordStatusEnum.waiting: 'waiting'>),\n",
      " ('S22-IE-103', 'psi4/pbe/6-31g*', <RecordStatusEnum.waiting: 'waiting'>),\n",
      " ('S22-IE-123', 'psi4/pbe/6-31g*', <RecordStatusEnum.waiting: 'waiting'>),\n",
      " ('S22-IE-110', 'psi4/pbe/6-31g*', <RecordStatusEnum.waiting: 'waiting'>),\n",
      " ('S22-IE-74', 'psi4/pbe/6-31g*', <RecordStatusEnum.waiting: 'waiting'>),\n",
      " ('S22-IE-29', 'psi4/pbe/6-31g*', <RecordStatusEnum.waiting: 'waiting'>),\n",
      " ('S22-IE-54', 'psi4/pbe/6-31g*', <RecordStatusEnum.waiting: 'waiting'>),\n",
      " ('S22-IE-19', 'psi4/pbe/6-31g*', <RecordStatusEnum.waiting: 'waiting'>),\n",
      " ('S22-IE-128', 'psi4/pbe/6-31g*', <RecordStatusEnum.waiting: 'waiting'>),\n",
      " ('S22-IE-36', 'psi4/pbe/6-31g*', <RecordStatusEnum.waiting: 'waiting'>),\n",
      " ('S22-IE-113', 'psi4/pbe/6-31g*', <RecordStatusEnum.waiting: 'waiting'>),\n",
      " ('S22-IE-13', 'psi4/pbe/6-31g*', <RecordStatusEnum.waiting: 'waiting'>),\n",
      " ('S22-IE-108', 'psi4/pbe/6-31g*', <RecordStatusEnum.waiting: 'waiting'>),\n",
      " ('S22-IE-120', 'psi4/pbe/6-31g*', <RecordStatusEnum.waiting: 'waiting'>),\n",
      " ('S22-IE-4', 'psi4/pbe/6-31g*', <RecordStatusEnum.waiting: 'waiting'>),\n",
      " ('S22-IE-145', 'psi4/pbe/6-31g*', <RecordStatusEnum.waiting: 'waiting'>),\n",
      " ('S22-IE-10', 'psi4/pbe/6-31g*', <RecordStatusEnum.waiting: 'waiting'>),\n",
      " ('S22-IE-66', 'psi4/pbe/6-31g*', <RecordStatusEnum.waiting: 'waiting'>),\n",
      " ('S22-IE-100', 'psi4/pbe/6-31g*', <RecordStatusEnum.waiting: 'waiting'>),\n",
      " ('S22-IE-132', 'psi4/pbe/6-31g*', <RecordStatusEnum.waiting: 'waiting'>),\n",
      " ('S22-IE-121', 'psi4/pbe/6-31g*', <RecordStatusEnum.waiting: 'waiting'>),\n",
      " ('S22-IE-69', 'psi4/pbe/6-31g*', <RecordStatusEnum.waiting: 'waiting'>),\n",
      " ('S22-IE-135', 'psi4/pbe/6-31g*', <RecordStatusEnum.waiting: 'waiting'>),\n",
      " ('S22-IE-67', 'psi4/pbe/6-31g*', <RecordStatusEnum.waiting: 'waiting'>),\n",
      " ('S22-IE-53', 'psi4/pbe/6-31g*', <RecordStatusEnum.waiting: 'waiting'>),\n",
      " ('S22-IE-41', 'psi4/pbe/6-31g*', <RecordStatusEnum.waiting: 'waiting'>),\n",
      " ('S22-IE-1', 'psi4/pbe/6-31g*', <RecordStatusEnum.waiting: 'waiting'>),\n",
      " ('S22-IE-127', 'psi4/pbe/6-31g*', <RecordStatusEnum.waiting: 'waiting'>),\n",
      " ('S22-IE-30', 'psi4/pbe/6-31g*', <RecordStatusEnum.waiting: 'waiting'>),\n",
      " ('S22-IE-99', 'psi4/pbe/6-31g*', <RecordStatusEnum.waiting: 'waiting'>),\n",
      " ('S22-IE-71', 'psi4/pbe/6-31g*', <RecordStatusEnum.waiting: 'waiting'>),\n",
      " ('S22-IE-0', 'psi4/pbe/6-31g*', <RecordStatusEnum.waiting: 'waiting'>),\n",
      " ('S22-IE-49', 'psi4/pbe/6-31g*', <RecordStatusEnum.waiting: 'waiting'>),\n",
      " ('S22-IE-43', 'psi4/pbe/6-31g*', <RecordStatusEnum.waiting: 'waiting'>),\n",
      " ('S22-IE-122', 'psi4/pbe/6-31g*', <RecordStatusEnum.waiting: 'waiting'>),\n",
      " ('S22-IE-44', 'psi4/pbe/6-31g*', <RecordStatusEnum.waiting: 'waiting'>),\n",
      " ('S22-IE-18', 'psi4/pbe/6-31g*', <RecordStatusEnum.waiting: 'waiting'>),\n",
      " ('S22-IE-11', 'psi4/pbe/6-31g*', <RecordStatusEnum.waiting: 'waiting'>),\n",
      " ('S22-IE-77', 'psi4/pbe/6-31g*', <RecordStatusEnum.waiting: 'waiting'>),\n",
      " ('S22-IE-78', 'psi4/pbe/6-31g*', <RecordStatusEnum.waiting: 'waiting'>),\n",
      " ('S22-IE-146', 'psi4/pbe/6-31g*', <RecordStatusEnum.waiting: 'waiting'>),\n",
      " ('S22-IE-51', 'psi4/pbe/6-31g*', <RecordStatusEnum.waiting: 'waiting'>),\n",
      " ('S22-IE-144', 'psi4/pbe/6-31g*', <RecordStatusEnum.waiting: 'waiting'>),\n",
      " ('S22-IE-57', 'psi4/pbe/6-31g*', <RecordStatusEnum.waiting: 'waiting'>),\n",
      " ('S22-IE-102', 'psi4/pbe/6-31g*', <RecordStatusEnum.waiting: 'waiting'>),\n",
      " ('S22-IE-40', 'psi4/pbe/6-31g*', <RecordStatusEnum.waiting: 'waiting'>),\n",
      " ('S22-IE-5', 'psi4/pbe/6-31g*', <RecordStatusEnum.waiting: 'waiting'>),\n",
      " ('S22-IE-118', 'psi4/pbe/6-31g*', <RecordStatusEnum.waiting: 'waiting'>),\n",
      " ('S22-IE-15', 'psi4/pbe/6-31g*', <RecordStatusEnum.waiting: 'waiting'>),\n",
      " ('S22-IE-111', 'psi4/pbe/6-31g*', <RecordStatusEnum.waiting: 'waiting'>),\n",
      " ('S22-IE-21', 'psi4/pbe/6-31g*', <RecordStatusEnum.waiting: 'waiting'>),\n",
      " ('S22-IE-76', 'psi4/pbe/6-31g*', <RecordStatusEnum.waiting: 'waiting'>),\n",
      " ('S22-IE-112', 'psi4/pbe/6-31g*', <RecordStatusEnum.waiting: 'waiting'>),\n",
      " ('S22-IE-60', 'psi4/pbe/6-31g*', <RecordStatusEnum.waiting: 'waiting'>),\n",
      " ('S22-IE-33', 'psi4/pbe/6-31g*', <RecordStatusEnum.waiting: 'waiting'>),\n",
      " ('S22-IE-101', 'psi4/pbe/6-31g*', <RecordStatusEnum.waiting: 'waiting'>),\n",
      " ('S22-IE-141', 'psi4/pbe/6-31g*', <RecordStatusEnum.waiting: 'waiting'>),\n",
      " ('S22-IE-72', 'psi4/pbe/6-31g*', <RecordStatusEnum.waiting: 'waiting'>),\n",
      " ('S22-IE-81', 'psi4/pbe/6-31g*', <RecordStatusEnum.waiting: 'waiting'>),\n",
      " ('S22-IE-106', 'psi4/pbe/6-31g*', <RecordStatusEnum.waiting: 'waiting'>),\n",
      " ('S22-IE-95', 'psi4/pbe/6-31g*', <RecordStatusEnum.waiting: 'waiting'>),\n",
      " ('S22-IE-130', 'psi4/pbe/6-31g*', <RecordStatusEnum.waiting: 'waiting'>),\n",
      " ('S22-IE-17', 'psi4/pbe/6-31g*', <RecordStatusEnum.waiting: 'waiting'>),\n",
      " ('S22-IE-48', 'psi4/pbe/6-31g*', <RecordStatusEnum.waiting: 'waiting'>),\n",
      " ('S22-IE-93', 'psi4/pbe/6-31g*', <RecordStatusEnum.waiting: 'waiting'>),\n",
      " ('S22-IE-20', 'psi4/pbe/6-31g*', <RecordStatusEnum.waiting: 'waiting'>),\n",
      " ('S22-IE-50', 'psi4/pbe/6-31g*', <RecordStatusEnum.waiting: 'waiting'>),\n",
      " ('S22-IE-35', 'psi4/pbe/6-31g*', <RecordStatusEnum.waiting: 'waiting'>),\n",
      " ('S22-IE-137', 'psi4/pbe/6-31g*', <RecordStatusEnum.waiting: 'waiting'>),\n",
      " ('S22-IE-136', 'psi4/pbe/6-31g*', <RecordStatusEnum.waiting: 'waiting'>),\n",
      " ('S22-IE-8', 'psi4/pbe/6-31g*', <RecordStatusEnum.waiting: 'waiting'>),\n",
      " ('S22-IE-89', 'psi4/pbe/6-31g*', <RecordStatusEnum.waiting: 'waiting'>),\n",
      " ('S22-IE-23', 'psi4/pbe/6-31g*', <RecordStatusEnum.waiting: 'waiting'>),\n",
      " ('S22-IE-126', 'psi4/pbe/6-31g*', <RecordStatusEnum.waiting: 'waiting'>),\n",
      " ('S22-IE-79', 'psi4/pbe/6-31g*', <RecordStatusEnum.waiting: 'waiting'>),\n",
      " ('S22-IE-142', 'psi4/pbe/6-31g*', <RecordStatusEnum.waiting: 'waiting'>),\n",
      " ('S22-IE-52', 'psi4/pbe/6-31g*', <RecordStatusEnum.waiting: 'waiting'>),\n",
      " ('S22-IE-14', 'psi4/pbe/6-31g*', <RecordStatusEnum.waiting: 'waiting'>),\n",
      " ('S22-IE-139', 'psi4/pbe/6-31g*', <RecordStatusEnum.waiting: 'waiting'>),\n",
      " ('S22-IE-83', 'psi4/pbe/6-31g*', <RecordStatusEnum.waiting: 'waiting'>),\n",
      " ('S22-IE-92', 'psi4/pbe/6-31g*', <RecordStatusEnum.waiting: 'waiting'>),\n",
      " ('S22-IE-143', 'psi4/pbe/6-31g*', <RecordStatusEnum.waiting: 'waiting'>),\n",
      " ('S22-IE-96', 'psi4/pbe/6-31g*', <RecordStatusEnum.waiting: 'waiting'>),\n",
      " ('S22-IE-3', 'psi4/pbe/6-31g*', <RecordStatusEnum.waiting: 'waiting'>),\n",
      " ('S22-IE-124', 'psi4/pbe/6-31g*', <RecordStatusEnum.waiting: 'waiting'>),\n",
      " ('S22-IE-87', 'psi4/pbe/6-31g*', <RecordStatusEnum.waiting: 'waiting'>),\n",
      " ('S22-IE-70', 'psi4/pbe/6-31g*', <RecordStatusEnum.waiting: 'waiting'>),\n",
      " ('S22-IE-94', 'psi4/pbe/6-31g*', <RecordStatusEnum.waiting: 'waiting'>),\n",
      " ('S22-IE-31', 'psi4/pbe/6-31g*', <RecordStatusEnum.waiting: 'waiting'>),\n",
      " ('S22-IE-133', 'psi4/svwn/6-31g*', <RecordStatusEnum.waiting: 'waiting'>),\n",
      " ('S22-IE-117', 'psi4/svwn/6-31g*', <RecordStatusEnum.waiting: 'waiting'>),\n",
      " ('S22-IE-56', 'psi4/svwn/6-31g*', <RecordStatusEnum.waiting: 'waiting'>),\n",
      " ('S22-IE-38', 'psi4/svwn/6-31g*', <RecordStatusEnum.waiting: 'waiting'>),\n",
      " ('S22-IE-63', 'psi4/svwn/6-31g*', <RecordStatusEnum.waiting: 'waiting'>),\n",
      " ('S22-IE-148', 'psi4/svwn/6-31g*', <RecordStatusEnum.waiting: 'waiting'>),\n",
      " ('S22-IE-140', 'psi4/svwn/6-31g*', <RecordStatusEnum.waiting: 'waiting'>),\n",
      " ('S22-IE-90', 'psi4/svwn/6-31g*', <RecordStatusEnum.waiting: 'waiting'>),\n",
      " ('S22-IE-27', 'psi4/svwn/6-31g*', <RecordStatusEnum.waiting: 'waiting'>),\n",
      " ('S22-IE-24', 'psi4/svwn/6-31g*', <RecordStatusEnum.waiting: 'waiting'>),\n",
      " ('S22-IE-103', 'psi4/svwn/6-31g*', <RecordStatusEnum.waiting: 'waiting'>),\n",
      " ('S22-IE-123', 'psi4/svwn/6-31g*', <RecordStatusEnum.waiting: 'waiting'>),\n",
      " ('S22-IE-110', 'psi4/svwn/6-31g*', <RecordStatusEnum.waiting: 'waiting'>),\n",
      " ('S22-IE-74', 'psi4/svwn/6-31g*', <RecordStatusEnum.waiting: 'waiting'>),\n",
      " ('S22-IE-29', 'psi4/svwn/6-31g*', <RecordStatusEnum.waiting: 'waiting'>),\n",
      " ('S22-IE-54', 'psi4/svwn/6-31g*', <RecordStatusEnum.waiting: 'waiting'>),\n",
      " ('S22-IE-128', 'psi4/svwn/6-31g*', <RecordStatusEnum.waiting: 'waiting'>),\n",
      " ('S22-IE-36', 'psi4/svwn/6-31g*', <RecordStatusEnum.waiting: 'waiting'>),\n",
      " ('S22-IE-113', 'psi4/svwn/6-31g*', <RecordStatusEnum.waiting: 'waiting'>),\n",
      " ('S22-IE-13', 'psi4/svwn/6-31g*', <RecordStatusEnum.waiting: 'waiting'>),\n",
      " ('S22-IE-108', 'psi4/svwn/6-31g*', <RecordStatusEnum.waiting: 'waiting'>),\n",
      " ('S22-IE-120', 'psi4/svwn/6-31g*', <RecordStatusEnum.waiting: 'waiting'>),\n",
      " ('S22-IE-4', 'psi4/svwn/6-31g*', <RecordStatusEnum.waiting: 'waiting'>),\n",
      " ('S22-IE-145', 'psi4/svwn/6-31g*', <RecordStatusEnum.waiting: 'waiting'>),\n",
      " ('S22-IE-66', 'psi4/svwn/6-31g*', <RecordStatusEnum.waiting: 'waiting'>),\n",
      " ('S22-IE-100', 'psi4/svwn/6-31g*', <RecordStatusEnum.waiting: 'waiting'>),\n",
      " ('S22-IE-132', 'psi4/svwn/6-31g*', <RecordStatusEnum.waiting: 'waiting'>),\n",
      " ('S22-IE-121', 'psi4/svwn/6-31g*', <RecordStatusEnum.waiting: 'waiting'>),\n",
      " ('S22-IE-69', 'psi4/svwn/6-31g*', <RecordStatusEnum.waiting: 'waiting'>),\n",
      " ('S22-IE-135', 'psi4/svwn/6-31g*', <RecordStatusEnum.waiting: 'waiting'>),\n",
      " ('S22-IE-67', 'psi4/svwn/6-31g*', <RecordStatusEnum.waiting: 'waiting'>),\n",
      " ('S22-IE-53', 'psi4/svwn/6-31g*', <RecordStatusEnum.waiting: 'waiting'>),\n",
      " ('S22-IE-41', 'psi4/svwn/6-31g*', <RecordStatusEnum.waiting: 'waiting'>),\n",
      " ('S22-IE-1', 'psi4/svwn/6-31g*', <RecordStatusEnum.waiting: 'waiting'>),\n",
      " ('S22-IE-20', 'psi4/svwn/6-31g*', <RecordStatusEnum.waiting: 'waiting'>),\n",
      " ('S22-IE-50', 'psi4/svwn/6-31g*', <RecordStatusEnum.waiting: 'waiting'>),\n",
      " ('S22-IE-127', 'psi4/svwn/6-31g*', <RecordStatusEnum.waiting: 'waiting'>),\n",
      " ('S22-IE-30', 'psi4/svwn/6-31g*', <RecordStatusEnum.waiting: 'waiting'>),\n",
      " ('S22-IE-99', 'psi4/svwn/6-31g*', <RecordStatusEnum.waiting: 'waiting'>),\n",
      " ('S22-IE-71', 'psi4/svwn/6-31g*', <RecordStatusEnum.waiting: 'waiting'>),\n",
      " ('S22-IE-0', 'psi4/svwn/6-31g*', <RecordStatusEnum.waiting: 'waiting'>),\n",
      " ('S22-IE-49', 'psi4/svwn/6-31g*', <RecordStatusEnum.waiting: 'waiting'>),\n",
      " ('S22-IE-43', 'psi4/svwn/6-31g*', <RecordStatusEnum.waiting: 'waiting'>),\n",
      " ('S22-IE-122', 'psi4/svwn/6-31g*', <RecordStatusEnum.waiting: 'waiting'>),\n",
      " ('S22-IE-44', 'psi4/svwn/6-31g*', <RecordStatusEnum.waiting: 'waiting'>),\n",
      " ('S22-IE-18', 'psi4/svwn/6-31g*', <RecordStatusEnum.waiting: 'waiting'>),\n",
      " ('S22-IE-11', 'psi4/svwn/6-31g*', <RecordStatusEnum.waiting: 'waiting'>),\n",
      " ('S22-IE-77', 'psi4/svwn/6-31g*', <RecordStatusEnum.waiting: 'waiting'>),\n",
      " ('S22-IE-78', 'psi4/svwn/6-31g*', <RecordStatusEnum.waiting: 'waiting'>),\n",
      " ('S22-IE-146', 'psi4/svwn/6-31g*', <RecordStatusEnum.waiting: 'waiting'>),\n",
      " ('S22-IE-51', 'psi4/svwn/6-31g*', <RecordStatusEnum.waiting: 'waiting'>),\n",
      " ('S22-IE-144', 'psi4/svwn/6-31g*', <RecordStatusEnum.waiting: 'waiting'>),\n",
      " ('S22-IE-57', 'psi4/svwn/6-31g*', <RecordStatusEnum.waiting: 'waiting'>),\n",
      " ('S22-IE-102', 'psi4/svwn/6-31g*', <RecordStatusEnum.waiting: 'waiting'>),\n",
      " ('S22-IE-40', 'psi4/svwn/6-31g*', <RecordStatusEnum.waiting: 'waiting'>),\n",
      " ('S22-IE-5', 'psi4/svwn/6-31g*', <RecordStatusEnum.waiting: 'waiting'>),\n",
      " ('S22-IE-118', 'psi4/svwn/6-31g*', <RecordStatusEnum.waiting: 'waiting'>),\n",
      " ('S22-IE-15', 'psi4/svwn/6-31g*', <RecordStatusEnum.waiting: 'waiting'>),\n",
      " ('S22-IE-111', 'psi4/svwn/6-31g*', <RecordStatusEnum.waiting: 'waiting'>),\n",
      " ('S22-IE-21', 'psi4/svwn/6-31g*', <RecordStatusEnum.waiting: 'waiting'>),\n",
      " ('S22-IE-76', 'psi4/svwn/6-31g*', <RecordStatusEnum.waiting: 'waiting'>),\n",
      " ('S22-IE-112', 'psi4/svwn/6-31g*', <RecordStatusEnum.waiting: 'waiting'>),\n",
      " ('S22-IE-60', 'psi4/svwn/6-31g*', <RecordStatusEnum.waiting: 'waiting'>),\n",
      " ('S22-IE-33', 'psi4/svwn/6-31g*', <RecordStatusEnum.waiting: 'waiting'>),\n",
      " ('S22-IE-101', 'psi4/svwn/6-31g*', <RecordStatusEnum.waiting: 'waiting'>),\n",
      " ('S22-IE-141', 'psi4/svwn/6-31g*', <RecordStatusEnum.waiting: 'waiting'>),\n",
      " ('S22-IE-72', 'psi4/svwn/6-31g*', <RecordStatusEnum.waiting: 'waiting'>),\n",
      " ('S22-IE-81', 'psi4/svwn/6-31g*', <RecordStatusEnum.waiting: 'waiting'>),\n",
      " ('S22-IE-106', 'psi4/svwn/6-31g*', <RecordStatusEnum.waiting: 'waiting'>),\n",
      " ('S22-IE-95', 'psi4/svwn/6-31g*', <RecordStatusEnum.waiting: 'waiting'>),\n",
      " ('S22-IE-130', 'psi4/svwn/6-31g*', <RecordStatusEnum.waiting: 'waiting'>),\n",
      " ('S22-IE-17', 'psi4/svwn/6-31g*', <RecordStatusEnum.waiting: 'waiting'>),\n",
      " ('S22-IE-48', 'psi4/svwn/6-31g*', <RecordStatusEnum.waiting: 'waiting'>),\n",
      " ('S22-IE-93', 'psi4/svwn/6-31g*', <RecordStatusEnum.waiting: 'waiting'>),\n",
      " ('S22-IE-35', 'psi4/svwn/6-31g*', <RecordStatusEnum.waiting: 'waiting'>),\n",
      " ('S22-IE-137', 'psi4/svwn/6-31g*', <RecordStatusEnum.waiting: 'waiting'>),\n",
      " ('S22-IE-136', 'psi4/svwn/6-31g*', <RecordStatusEnum.waiting: 'waiting'>),\n",
      " ('S22-IE-8', 'psi4/svwn/6-31g*', <RecordStatusEnum.waiting: 'waiting'>),\n",
      " ('S22-IE-89', 'psi4/svwn/6-31g*', <RecordStatusEnum.waiting: 'waiting'>),\n",
      " ('S22-IE-23', 'psi4/svwn/6-31g*', <RecordStatusEnum.waiting: 'waiting'>),\n",
      " ('S22-IE-126', 'psi4/svwn/6-31g*', <RecordStatusEnum.waiting: 'waiting'>),\n",
      " ('S22-IE-79', 'psi4/svwn/6-31g*', <RecordStatusEnum.waiting: 'waiting'>),\n",
      " ('S22-IE-142', 'psi4/svwn/6-31g*', <RecordStatusEnum.waiting: 'waiting'>),\n",
      " ('S22-IE-98', 'psi4/svwn/6-31g*', <RecordStatusEnum.waiting: 'waiting'>),\n",
      " ('S22-IE-52', 'psi4/svwn/6-31g*', <RecordStatusEnum.waiting: 'waiting'>),\n",
      " ('S22-IE-125', 'psi4/svwn/6-31g*', <RecordStatusEnum.waiting: 'waiting'>),\n",
      " ('S22-IE-14', 'psi4/svwn/6-31g*', <RecordStatusEnum.waiting: 'waiting'>),\n",
      " ('S22-IE-139', 'psi4/svwn/6-31g*', <RecordStatusEnum.waiting: 'waiting'>),\n",
      " ('S22-IE-83', 'psi4/svwn/6-31g*', <RecordStatusEnum.waiting: 'waiting'>),\n",
      " ('S22-IE-92', 'psi4/svwn/6-31g*', <RecordStatusEnum.waiting: 'waiting'>),\n",
      " ('S22-IE-143', 'psi4/svwn/6-31g*', <RecordStatusEnum.waiting: 'waiting'>),\n",
      " ('S22-IE-96', 'psi4/svwn/6-31g*', <RecordStatusEnum.waiting: 'waiting'>),\n",
      " ('S22-IE-3', 'psi4/svwn/6-31g*', <RecordStatusEnum.waiting: 'waiting'>),\n",
      " ('S22-IE-124', 'psi4/svwn/6-31g*', <RecordStatusEnum.waiting: 'waiting'>),\n",
      " ('S22-IE-87', 'psi4/svwn/6-31g*', <RecordStatusEnum.waiting: 'waiting'>),\n",
      " ('S22-IE-70', 'psi4/svwn/6-31g*', <RecordStatusEnum.waiting: 'waiting'>),\n",
      " ('S22-IE-94', 'psi4/svwn/6-31g*', <RecordStatusEnum.waiting: 'waiting'>),\n",
      " ('S22-IE-31', 'psi4/svwn/6-31g*', <RecordStatusEnum.waiting: 'waiting'>),\n",
      " ('S22-IE-62', 'psi4/svwn/6-31g*', <RecordStatusEnum.waiting: 'waiting'>),\n",
      " ('S22-IE-12', 'psi4/svwn/6-31g*', <RecordStatusEnum.waiting: 'waiting'>),\n",
      " ('S22-IE-82', 'psi4/svwn/6-31g*', <RecordStatusEnum.waiting: 'waiting'>),\n",
      " ('S22-IE-61', 'psi4/svwn/6-31g*', <RecordStatusEnum.waiting: 'waiting'>),\n",
      " ('S22-IE-129', 'psi4/svwn/6-31g*', <RecordStatusEnum.waiting: 'waiting'>),\n",
      " ('S22-IE-97', 'psi4/svwn/6-31g*', <RecordStatusEnum.waiting: 'waiting'>),\n",
      " ('S22-IE-134', 'psi4/svwn/6-31g*', <RecordStatusEnum.waiting: 'waiting'>),\n",
      " ('S22-IE-109', 'psi4/svwn/6-31g*', <RecordStatusEnum.waiting: 'waiting'>),\n",
      " ('S22-IE-59', 'psi4/svwn/6-31g*', <RecordStatusEnum.waiting: 'waiting'>),\n",
      " ('S22-IE-16', 'psi4/svwn/6-31g*', <RecordStatusEnum.waiting: 'waiting'>),\n",
      " ('S22-IE-131', 'psi4/svwn/6-31g*', <RecordStatusEnum.waiting: 'waiting'>),\n",
      " ('S22-IE-138', 'psi4/svwn/6-31g*', <RecordStatusEnum.waiting: 'waiting'>),\n",
      " ('S22-IE-149', 'psi4/svwn/6-31g*', <RecordStatusEnum.waiting: 'waiting'>),\n",
      " ('S22-IE-107', 'psi4/svwn/6-31g*', <RecordStatusEnum.waiting: 'waiting'>),\n",
      " ('S22-IE-65', 'psi4/svwn/6-31g*', <RecordStatusEnum.waiting: 'waiting'>),\n",
      " ('S22-IE-64', 'psi4/svwn/6-31g*', <RecordStatusEnum.waiting: 'waiting'>),\n",
      " ('S22-IE-114', 'psi4/svwn/6-31g*', <RecordStatusEnum.waiting: 'waiting'>),\n",
      " ('S22-IE-73', 'psi4/svwn/6-31g*', <RecordStatusEnum.waiting: 'waiting'>),\n",
      " ('S22-IE-7', 'psi4/svwn/6-31g*', <RecordStatusEnum.waiting: 'waiting'>),\n",
      " ('S22-IE-28', 'psi4/svwn/6-31g*', <RecordStatusEnum.waiting: 'waiting'>),\n",
      " ('S22-IE-45', 'psi4/svwn/6-31g*', <RecordStatusEnum.waiting: 'waiting'>),\n",
      " ('S22-IE-42', 'psi4/svwn/6-31g*', <RecordStatusEnum.waiting: 'waiting'>),\n",
      " ('S22-IE-25', 'psi4/svwn/6-31g*', <RecordStatusEnum.waiting: 'waiting'>),\n",
      " ('S22-IE-84', 'psi4/svwn/6-31g*', <RecordStatusEnum.waiting: 'waiting'>),\n",
      " ('S22-IE-91', 'psi4/svwn/6-31g*', <RecordStatusEnum.waiting: 'waiting'>),\n",
      " ('S22-IE-85', 'psi4/svwn/6-31g*', <RecordStatusEnum.waiting: 'waiting'>),\n",
      " ('S22-IE-88', 'psi4/svwn/6-31g*', <RecordStatusEnum.waiting: 'waiting'>),\n",
      " ('S22-IE-147', 'psi4/svwn/6-31g*', <RecordStatusEnum.waiting: 'waiting'>),\n",
      " ('S22-IE-104', 'psi4/svwn/6-31g*', <RecordStatusEnum.waiting: 'waiting'>),\n",
      " ('S22-IE-55', 'psi4/svwn/6-31g*', <RecordStatusEnum.waiting: 'waiting'>),\n",
      " ('S22-IE-86', 'psi4/svwn/6-31g*', <RecordStatusEnum.waiting: 'waiting'>),\n",
      " ('S22-IE-19', 'psi4/svwn/6-31g*', <RecordStatusEnum.waiting: 'waiting'>),\n",
      " ('S22-IE-119', 'psi4/svwn/6-31g*', <RecordStatusEnum.waiting: 'waiting'>),\n",
      " ('S22-IE-34', 'psi4/svwn/6-31g*', <RecordStatusEnum.waiting: 'waiting'>),\n",
      " ('S22-IE-115', 'psi4/svwn/6-31g*', <RecordStatusEnum.waiting: 'waiting'>),\n",
      " ('S22-IE-9', 'psi4/svwn/6-31g*', <RecordStatusEnum.waiting: 'waiting'>),\n",
      " ('S22-IE-2', 'psi4/svwn/6-31g*', <RecordStatusEnum.waiting: 'waiting'>),\n",
      " ('S22-IE-32', 'psi4/svwn/6-31g*', <RecordStatusEnum.waiting: 'waiting'>),\n",
      " ('S22-IE-37', 'psi4/svwn/6-31g*', <RecordStatusEnum.waiting: 'waiting'>),\n",
      " ('S22-IE-68', 'psi4/svwn/6-31g*', <RecordStatusEnum.waiting: 'waiting'>),\n",
      " ('S22-IE-10', 'psi4/svwn/6-31g*', <RecordStatusEnum.waiting: 'waiting'>),\n",
      " ('S22-IE-39', 'psi4/svwn/6-31g*', <RecordStatusEnum.waiting: 'waiting'>),\n",
      " ('S22-IE-47', 'psi4/svwn/6-31g*', <RecordStatusEnum.waiting: 'waiting'>),\n",
      " ('S22-IE-80', 'psi4/svwn/6-31g*', <RecordStatusEnum.waiting: 'waiting'>),\n",
      " ('S22-IE-105', 'psi4/svwn/6-31g*', <RecordStatusEnum.waiting: 'waiting'>),\n",
      " ('S22-IE-46', 'psi4/svwn/6-31g*', <RecordStatusEnum.waiting: 'waiting'>),\n",
      " ('S22-IE-58', 'psi4/svwn/6-31g*', <RecordStatusEnum.waiting: 'waiting'>),\n",
      " ('S22-IE-75', 'psi4/svwn/6-31g*', <RecordStatusEnum.waiting: 'waiting'>),\n",
      " ('S22-IE-6', 'psi4/svwn/6-31g*', <RecordStatusEnum.waiting: 'waiting'>),\n",
      " ('S22-IE-116', 'psi4/svwn/6-31g*', <RecordStatusEnum.waiting: 'waiting'>),\n",
      " ('S22-IE-26', 'psi4/svwn/6-31g*', <RecordStatusEnum.waiting: 'waiting'>),\n",
      " ('S22-IE-22', 'psi4/svwn/6-31g*', <RecordStatusEnum.waiting: 'waiting'>),\n",
      " ('S22-IE-43', 'psi4/hf/6-31g*', <RecordStatusEnum.complete: 'complete'>),\n",
      " ('S22-IE-44', 'psi4/hf/6-31g*', <RecordStatusEnum.complete: 'complete'>),\n",
      " ('S22-IE-18', 'psi4/hf/6-31g*', <RecordStatusEnum.complete: 'complete'>),\n",
      " ('S22-IE-79', 'psi4/hf/6-31g*', <RecordStatusEnum.complete: 'complete'>),\n",
      " ('S22-IE-148', 'psi4/hf/6-31g*', <RecordStatusEnum.complete: 'complete'>),\n",
      " ('S22-IE-77', 'psi4/hf/6-31g*', <RecordStatusEnum.complete: 'complete'>),\n",
      " ('S22-IE-140', 'psi4/hf/6-31g*', <RecordStatusEnum.complete: 'complete'>),\n",
      " ('S22-IE-14', 'psi4/hf/6-31g*', <RecordStatusEnum.complete: 'complete'>),\n",
      " ('S22-IE-90', 'psi4/hf/6-31g*', <RecordStatusEnum.complete: 'complete'>),\n",
      " ('S22-IE-125', 'psi4/hf/6-31g*', <RecordStatusEnum.complete: 'complete'>),\n",
      " ('S22-IE-27', 'psi4/hf/6-31g*', <RecordStatusEnum.complete: 'complete'>),\n",
      " ('S22-IE-139', 'psi4/hf/6-31g*', <RecordStatusEnum.complete: 'complete'>),\n",
      " ('S22-IE-146', 'psi4/hf/6-31g*', <RecordStatusEnum.complete: 'complete'>),\n",
      " ('S22-IE-144', 'psi4/hf/6-31g*', <RecordStatusEnum.complete: 'complete'>),\n",
      " ('S22-IE-24', 'psi4/hf/6-31g*', <RecordStatusEnum.complete: 'complete'>),\n",
      " ('S22-IE-57', 'psi4/hf/6-31g*', <RecordStatusEnum.complete: 'complete'>),\n",
      " ('S22-IE-103', 'psi4/hf/6-31g*', <RecordStatusEnum.complete: 'complete'>),\n",
      " ('S22-IE-102', 'psi4/hf/6-31g*', <RecordStatusEnum.complete: 'complete'>),\n",
      " ('S22-IE-40', 'psi4/hf/6-31g*', <RecordStatusEnum.complete: 'complete'>),\n",
      " ('S22-IE-113', 'psi4/hf/6-31g*', <RecordStatusEnum.complete: 'complete'>),\n",
      " ('S22-IE-123', 'psi4/hf/6-31g*', <RecordStatusEnum.complete: 'complete'>),\n",
      " ('S22-IE-78', 'psi4/hf/6-31g*', <RecordStatusEnum.complete: 'complete'>),\n",
      " ('S22-IE-118', 'psi4/hf/6-31g*', <RecordStatusEnum.complete: 'complete'>),\n",
      " ('S22-IE-51', 'psi4/hf/6-31g*', <RecordStatusEnum.complete: 'complete'>),\n",
      " ('S22-IE-36', 'psi4/hf/6-31g*', <RecordStatusEnum.complete: 'complete'>),\n",
      " ('S22-IE-5', 'psi4/hf/6-31g*', <RecordStatusEnum.complete: 'complete'>),\n",
      " ('S22-IE-110', 'psi4/hf/6-31g*', <RecordStatusEnum.complete: 'complete'>),\n",
      " ('S22-IE-54', 'psi4/hf/6-31g*', <RecordStatusEnum.complete: 'complete'>),\n",
      " ('S22-IE-128', 'psi4/hf/6-31g*', <RecordStatusEnum.complete: 'complete'>),\n",
      " ('S22-IE-13', 'psi4/hf/6-31g*', <RecordStatusEnum.complete: 'complete'>),\n",
      " ('S22-IE-108', 'psi4/hf/6-31g*', <RecordStatusEnum.complete: 'complete'>),\n",
      " ('S22-IE-120', 'psi4/hf/6-31g*', <RecordStatusEnum.complete: 'complete'>),\n",
      " ('S22-IE-15', 'psi4/hf/6-31g*', <RecordStatusEnum.complete: 'complete'>),\n",
      " ('S22-IE-21', 'psi4/hf/6-31g*', <RecordStatusEnum.complete: 'complete'>),\n",
      " ('S22-IE-111', 'psi4/hf/6-31g*', <RecordStatusEnum.complete: 'complete'>),\n",
      " ('S22-IE-83', 'psi4/hf/6-31g*', <RecordStatusEnum.complete: 'complete'>),\n",
      " ('S22-IE-4', 'psi4/hf/6-31g*', <RecordStatusEnum.complete: 'complete'>),\n",
      " ('S22-IE-76', 'psi4/hf/6-31g*', <RecordStatusEnum.complete: 'complete'>),\n",
      " ('S22-IE-145', 'psi4/hf/6-31g*', <RecordStatusEnum.complete: 'complete'>),\n",
      " ('S22-IE-92', 'psi4/hf/6-31g*', <RecordStatusEnum.complete: 'complete'>),\n",
      " ('S22-IE-112', 'psi4/hf/6-31g*', <RecordStatusEnum.complete: 'complete'>),\n",
      " ('S22-IE-100', 'psi4/hf/6-31g*', <RecordStatusEnum.complete: 'complete'>),\n",
      " ('S22-IE-132', 'psi4/hf/6-31g*', <RecordStatusEnum.complete: 'complete'>),\n",
      " ('S22-IE-1', 'psi4/hf/6-31g*', <RecordStatusEnum.complete: 'complete'>),\n",
      " ('S22-IE-60', 'psi4/hf/6-31g*', <RecordStatusEnum.complete: 'complete'>),\n",
      " ('S22-IE-143', 'psi4/hf/6-31g*', <RecordStatusEnum.complete: 'complete'>),\n",
      " ('S22-IE-66', 'psi4/hf/6-31g*', <RecordStatusEnum.complete: 'complete'>),\n",
      " ('S22-IE-69', 'psi4/hf/6-31g*', <RecordStatusEnum.complete: 'complete'>),\n",
      " ('S22-IE-67', 'psi4/hf/6-31g*', <RecordStatusEnum.complete: 'complete'>),\n",
      " ('S22-IE-30', 'psi4/hf/6-31g*', <RecordStatusEnum.complete: 'complete'>),\n",
      " ('S22-IE-135', 'psi4/hf/6-31g*', <RecordStatusEnum.complete: 'complete'>),\n",
      " ('S22-IE-96', 'psi4/hf/6-31g*', <RecordStatusEnum.complete: 'complete'>),\n",
      " ('S22-IE-53', 'psi4/hf/6-31g*', <RecordStatusEnum.complete: 'complete'>),\n",
      " ('S22-IE-41', 'psi4/hf/6-31g*', <RecordStatusEnum.complete: 'complete'>),\n",
      " ('S22-IE-124', 'psi4/hf/6-31g*', <RecordStatusEnum.complete: 'complete'>),\n",
      " ('S22-IE-20', 'psi4/hf/6-31g*', <RecordStatusEnum.complete: 'complete'>),\n",
      " ('S22-IE-12', 'psi4/hf/6-31g*', <RecordStatusEnum.complete: 'complete'>),\n",
      " ('S22-IE-33', 'psi4/hf/6-31g*', <RecordStatusEnum.complete: 'complete'>),\n",
      " ('S22-IE-50', 'psi4/hf/6-31g*', <RecordStatusEnum.complete: 'complete'>),\n",
      " ('S22-IE-141', 'psi4/hf/6-31g*', <RecordStatusEnum.complete: 'complete'>),\n",
      " ('S22-IE-71', 'psi4/hf/6-31g*', <RecordStatusEnum.complete: 'complete'>),\n",
      " ('S22-IE-0', 'psi4/hf/6-31g*', <RecordStatusEnum.complete: 'complete'>),\n",
      " ('S22-IE-49', 'psi4/hf/6-31g*', <RecordStatusEnum.complete: 'complete'>),\n",
      " ('S22-IE-122', 'psi4/hf/6-31g*', <RecordStatusEnum.complete: 'complete'>),\n",
      " ('S22-IE-87', 'psi4/hf/6-31g*', <RecordStatusEnum.complete: 'complete'>),\n",
      " ('S22-IE-94', 'psi4/hf/6-31g*', <RecordStatusEnum.complete: 'complete'>),\n",
      " ('S22-IE-101', 'psi4/hf/6-31g*', <RecordStatusEnum.complete: 'complete'>),\n",
      " ('S22-IE-81', 'psi4/hf/6-31g*', <RecordStatusEnum.complete: 'complete'>),\n",
      " ('S22-IE-70', 'psi4/hf/6-31g*', <RecordStatusEnum.complete: 'complete'>),\n",
      " ('S22-IE-72', 'psi4/hf/6-31g*', <RecordStatusEnum.complete: 'complete'>),\n",
      " ('S22-IE-106', 'psi4/hf/6-31g*', <RecordStatusEnum.complete: 'complete'>),\n",
      " ('S22-IE-95', 'psi4/hf/6-31g*', <RecordStatusEnum.complete: 'complete'>),\n",
      " ('S22-IE-17', 'psi4/hf/6-31g*', <RecordStatusEnum.complete: 'complete'>),\n",
      " ('S22-IE-31', 'psi4/hf/6-31g*', <RecordStatusEnum.complete: 'complete'>),\n",
      " ('S22-IE-130', 'psi4/hf/6-31g*', <RecordStatusEnum.complete: 'complete'>),\n",
      " ('S22-IE-34', 'psi4/hf/6-31g*', <RecordStatusEnum.complete: 'complete'>),\n",
      " ('S22-IE-48', 'psi4/hf/6-31g*', <RecordStatusEnum.complete: 'complete'>),\n",
      " ('S22-IE-61', 'psi4/hf/6-31g*', <RecordStatusEnum.complete: 'complete'>),\n",
      " ('S22-IE-149', 'psi4/hf/6-31g*', <RecordStatusEnum.complete: 'complete'>),\n",
      " ('S22-IE-82', 'psi4/hf/6-31g*', <RecordStatusEnum.complete: 'complete'>),\n",
      " ('S22-IE-93', 'psi4/hf/6-31g*', <RecordStatusEnum.complete: 'complete'>),\n",
      " ('S22-IE-107', 'psi4/hf/6-31g*', <RecordStatusEnum.complete: 'complete'>),\n",
      " ('S22-IE-129', 'psi4/hf/6-31g*', <RecordStatusEnum.complete: 'complete'>),\n",
      " ('S22-IE-97', 'psi4/hf/6-31g*', <RecordStatusEnum.complete: 'complete'>),\n",
      " ('S22-IE-137', 'psi4/hf/6-31g*', <RecordStatusEnum.complete: 'complete'>),\n",
      " ('S22-IE-89', 'psi4/hf/6-31g*', <RecordStatusEnum.complete: 'complete'>),\n",
      " ('S22-IE-23', 'psi4/hf/6-31g*', <RecordStatusEnum.complete: 'complete'>),\n",
      " ('S22-IE-136', 'psi4/hf/6-31g*', <RecordStatusEnum.complete: 'complete'>),\n",
      " ('S22-IE-8', 'psi4/hf/6-31g*', <RecordStatusEnum.complete: 'complete'>),\n",
      " ('S22-IE-126', 'psi4/hf/6-31g*', <RecordStatusEnum.complete: 'complete'>),\n",
      " ('S22-IE-142', 'psi4/hf/6-31g*', <RecordStatusEnum.complete: 'complete'>),\n",
      " ('S22-IE-80', 'psi4/hf/6-31g*', <RecordStatusEnum.complete: 'complete'>),\n",
      " ('S22-IE-98', 'psi4/hf/6-31g*', <RecordStatusEnum.complete: 'complete'>),\n",
      " ('S22-IE-134', 'psi4/hf/6-31g*', <RecordStatusEnum.complete: 'complete'>),\n",
      " ('S22-IE-52', 'psi4/hf/6-31g*', <RecordStatusEnum.complete: 'complete'>),\n",
      " ('S22-IE-109', 'psi4/hf/6-31g*', <RecordStatusEnum.complete: 'complete'>),\n",
      " ('S22-IE-59', 'psi4/hf/6-31g*', <RecordStatusEnum.complete: 'complete'>),\n",
      " ('S22-IE-131', 'psi4/hf/6-31g*', <RecordStatusEnum.complete: 'complete'>),\n",
      " ('S22-IE-47', 'psi4/hf/6-31g*', <RecordStatusEnum.complete: 'complete'>),\n",
      " ('S22-IE-84', 'psi4/hf/6-31g*', <RecordStatusEnum.running: 'running'>),\n",
      " ('S22-IE-138', 'psi4/hf/6-31g*', <RecordStatusEnum.complete: 'complete'>),\n",
      " ('S22-IE-46', 'psi4/hf/6-31g*', <RecordStatusEnum.complete: 'complete'>),\n",
      " ('S22-IE-114', 'psi4/hf/6-31g*', <RecordStatusEnum.complete: 'complete'>),\n",
      " ('S22-IE-73', 'psi4/hf/6-31g*', <RecordStatusEnum.complete: 'complete'>),\n",
      " ('S22-IE-45', 'psi4/hf/6-31g*', <RecordStatusEnum.complete: 'complete'>),\n",
      " ('S22-IE-65', 'psi4/hf/6-31g*', <RecordStatusEnum.complete: 'complete'>),\n",
      " ('S22-IE-64', 'psi4/hf/6-31g*', <RecordStatusEnum.complete: 'complete'>),\n",
      " ('S22-IE-7', 'psi4/hf/6-31g*', <RecordStatusEnum.complete: 'complete'>),\n",
      " ('S22-IE-28', 'psi4/hf/6-31g*', <RecordStatusEnum.complete: 'complete'>),\n",
      " ('S22-IE-42', 'psi4/hf/6-31g*', <RecordStatusEnum.complete: 'complete'>),\n",
      " ('S22-IE-117', 'psi4/hf/6-31g*', <RecordStatusEnum.complete: 'complete'>)]\n"
     ]
    }
   ],
   "source": [
    "ds_mb.detailed_status()"
   ]
  },
  {
   "cell_type": "code",
   "execution_count": null,
   "metadata": {
    "jukit_cell_id": "ChCOdcBiXj"
   },
   "outputs": [],
   "source": [
    "pp(ds)\n",
    "pp(ds_mb)\n",
    "pp(ds_mb.computed_properties)"
   ]
  },
  {
   "cell_type": "markdown",
   "metadata": {
    "jukit_cell_id": "xgdzc0Klhx"
   },
   "source": [
    "# Data Assembly\n",
    "\n",
    "While you can execute the following blocks before all computations are complete, it is recommended to wait until all computations are complete to continue."
   ]
  },
  {
   "cell_type": "code",
   "execution_count": 75,
   "metadata": {
    "jukit_cell_id": "7RHL31QOoC"
   },
   "outputs": [
    {
     "name": "stdout",
     "output_type": "stream",
     "text": [
      "\u001b[2K\u001b[32m⠧\u001b[0m Connecting to=hpc_cpu... status=CONNECTED\n",
      "\u001b[1A\u001b[2K\u001b[2J\u001b[H[('psi4/SAPT0/cc-pvdz', 'qcel_molecule'),\n",
      " ('psi4/SAPT0/cc-pvdz', 'Z'),\n",
      " ('psi4/SAPT0/cc-pvdz', 'R'),\n",
      " ('psi4/SAPT0/cc-pvdz', 'TQ'),\n",
      " ('psi4/SAPT0/cc-pvdz', 'molecular_multiplicity'),\n",
      " ('psi4/SAPT0/cc-pvdz', 'SAPT Energies')]\n"
     ]
    }
   ],
   "source": [
    "# Singlepoint data assemble\n",
    "def assemble_singlepoint_data(record):\n",
    "    record_dict = record.dict()\n",
    "    qcvars = record_dict[\"properties\"]\n",
    "    sapt_energies = np.array([np.nan, np.nan, np.nan, np.nan, np.nan])\n",
    "    sapt_energies[0] = qcvars['sapt total energy']\n",
    "    sapt_energies[1] = qcvars['sapt elst energy']\n",
    "    sapt_energies[2] = qcvars['sapt exch energy']\n",
    "    sapt_energies[3] = qcvars['sapt ind energy']\n",
    "    sapt_energies[4] = qcvars['sapt disp energy']\n",
    "    return (\n",
    "        record.molecule,\n",
    "        record.molecule.atomic_numbers,\n",
    "        record.molecule.geometry * qcel.constants.bohr2angstroms,\n",
    "        int(record.molecule.molecular_charge),\n",
    "        record.molecule.molecular_multiplicity,\n",
    "        sapt_energies,\n",
    "    )\n",
    "\n",
    "def assemble_singlepoint_data_value_names():\n",
    "    return [\n",
    "        'qcel_molecule',\n",
    "        \"Z\",\n",
    "        \"R\",\n",
    "        \"TQ\",\n",
    "        \"molecular_multiplicity\",\n",
    "        \"SAPT Energies\",\n",
    "    ]\n",
    "\n",
    "df = ds.compile_values(\n",
    "    value_call=assemble_singlepoint_data,\n",
    "    value_names=assemble_singlepoint_data_value_names(),\n",
    "    unpack=True,\n",
    ")\n",
    "pp(df.columns.tolist())\n",
    "df_sapt0 = df['psi4/SAPT0/cc-pvdz']"
   ]
  },
  {
   "cell_type": "code",
   "execution_count": 76,
   "metadata": {
    "jukit_cell_id": "CDD1QjxHpc"
   },
   "outputs": [
    {
     "name": "stdout",
     "output_type": "stream",
     "text": [
      "\u001b[2K\u001b[32m⠧\u001b[0m Connecting to=hpc_cpu... status=CONNECTED\n",
      "\u001b[1A\u001b[2K\u001b[2J\u001b[H[('psi4/hf/6-31g*', 'qcel_molecule'),\n",
      " ('psi4/pbe/6-31g*', 'qcel_molecule'),\n",
      " ('psi4/hf/6-31g*', 'CP_IE'),\n",
      " ('psi4/pbe/6-31g*', 'CP_IE'),\n",
      " ('psi4/hf/6-31g*', 'NOCP_IE'),\n",
      " ('psi4/pbe/6-31g*', 'NOCP_IE'),\n",
      " ('psi4/hf/6-31g*', 'Z'),\n",
      " ('psi4/pbe/6-31g*', 'Z'),\n",
      " ('psi4/hf/6-31g*', 'R'),\n",
      " ('psi4/pbe/6-31g*', 'R'),\n",
      " ('psi4/hf/6-31g*', 'TQ'),\n",
      " ('psi4/pbe/6-31g*', 'TQ'),\n",
      " ('psi4/hf/6-31g*', 'molecular_multiplicity'),\n",
      " ('psi4/pbe/6-31g*', 'molecular_multiplicity')]\n"
     ]
    }
   ],
   "source": [
    "def assemble_data(record):\n",
    "    record_dict = record.dict()\n",
    "    qcvars = record_dict[\"properties\"]\n",
    "    CP_IE = qcvars['results']['cp_corrected_interaction_energy'] * h2kcalmol\n",
    "    NOCP_IE = qcvars['results'].get('nocp_corrected_interaction_energy', np.nan) * h2kcalmol\n",
    "    return (\n",
    "    record.initial_molecule,\n",
    "    CP_IE,\n",
    "    NOCP_IE,\n",
    "    record.initial_molecule.atomic_numbers,\n",
    "    record.initial_molecule.geometry * qcel.constants.bohr2angstroms,\n",
    "    int(record.initial_molecule.molecular_charge),\n",
    "    record.initial_molecule.molecular_multiplicity,\n",
    "    )\n",
    "\n",
    "def assemble_data_value_names():\n",
    "    return [\n",
    "        'qcel_molecule',\n",
    "        \"CP_IE\",\n",
    "        \"NOCP_IE\",\n",
    "        \"Z\",\n",
    "        \"R\",\n",
    "        \"TQ\",\n",
    "        \"molecular_multiplicity\"\n",
    "    ]\n",
    "\n",
    "df_mb = ds_mb.compile_values(\n",
    "    value_call=assemble_data,\n",
    "    value_names=assemble_data_value_names(),\n",
    "    unpack=True,\n",
    ")\n",
    "\n",
    "pp(df_mb.columns.tolist())"
   ]
  },
  {
   "cell_type": "code",
   "execution_count": 86,
   "metadata": {
    "jukit_cell_id": "XT87RegBfm"
   },
   "outputs": [
    {
     "name": "stdout",
     "output_type": "stream",
     "text": [
      "\u001b[2K\u001b[32m⠇\u001b[0m Connecting to=hpc_cpu... status=CONNECTED\n",
      "\u001b[1A\u001b[2K\u001b[2J\u001b[HHF/6-31G* error  SAPT0/cc-pvdz error  SAPT0/aug-cc-pvdz error\n",
      "count        86.000000            86.000000                86.000000\n",
      "mean          1.800908            -0.355842                -1.253967\n",
      "std           2.245827             1.064127                 1.733738\n",
      "min          -1.051059            -3.507544                -6.354809\n",
      "25%           0.149398            -0.431914                -1.593823\n",
      "50%           1.064267            -0.019710                -0.481430\n",
      "75%           2.435488             0.253241                -0.197608\n",
      "max           9.469009             1.198256                 0.220561\n"
     ]
    }
   ],
   "source": [
    "from cdsg_plot import error_statistics\n",
    "\n",
    "df_sapt0['sapt0 total energes'] = df_sapt0.apply(lambda x: x['SAPT Energies'][0] * h2kcalmol, axis=1)\n",
    "df_plot = pd.DataFrame(\n",
    "    {\n",
    "        \"qcel_molecule\": df_mb[\"psi4/pbe/6-31g*\"][\"qcel_molecule\"],\n",
    "        \"HF/6-31G*\": df_mb[\"psi4/hf/6-31g*\"][\"CP_IE\"],\n",
    "        'SAPT0/cc-pvdz': df_sapt0['sapt0 total energes'].values,\n",
    "        # \"svwn/6-31G*\": df_mb[\"psi4/svwn/6-31g*\"][\"CP_IE\"],\n",
    "        # \"PBE/6-31G*\": df_mb[\"psi4/pbe/6-31g*\"][\"CP_IE\"],\n",
    "    }\n",
    ")\n",
    "# print(df_plot)\n",
    "id = [int(i[7:]) for i in df_plot.index]\n",
    "df_plot['id'] = id\n",
    "df_plot.sort_values(by='id', inplace=True, ascending=True)\n",
    "df_plot['reference'] = ref_IEs\n",
    "df_plot['SAPT0/aug-cc-pvdz'] = sapt0_adz\n",
    "df_plot['HF/6-31G* error'] = (df_plot['HF/6-31G*'] - df_plot['reference']).astype(float)\n",
    "# df_plot['PBE/6-31G* error'] = (df_plot['PBE/6-31G*'] - df_plot['reference']).astype(float)\n",
    "# df_plot['svwn/6-31G* error'] = (df_plot['svwn/6-31G*'] - df_plot['reference']).astype(float)\n",
    "df_plot['SAPT0/cc-pvdz error'] = (df_plot['SAPT0/cc-pvdz'] - df_plot['reference']).astype(float)\n",
    "df_plot['SAPT0/aug-cc-pvdz error'] = (df_plot['SAPT0/aug-cc-pvdz'] - df_plot['reference']).astype(float)\n",
    "# print(df_plot[['HF/6-31G*', 'SAPT0/cc-pvdz', 'reference', \"SAPT0/aug-cc-pvdz\"]])\n",
    "df_plot = df_plot.dropna(subset=['qcel_molecule', 'HF/6-31G*', 'SAPT0/cc-pvdz', 'SAPT0/aug-cc-pvdz'])\n",
    "print(df_plot[['HF/6-31G* error', 'SAPT0/cc-pvdz error', \"SAPT0/aug-cc-pvdz error\"]].describe())"
   ]
  },
  {
   "cell_type": "markdown",
   "metadata": {
    "jukit_cell_id": "6ziYQ8PdtF"
   },
   "source": [
    "# Plotting the interaction energy errors"
   ]
  },
  {
   "cell_type": "code",
   "execution_count": 87,
   "metadata": {
    "jukit_cell_id": "dRiuyCtOh1"
   },
   "outputs": [
    {
     "name": "stdout",
     "output_type": "stream",
     "text": [
      "\u001b[2K\u001b[32m⠧\u001b[0m Connecting to=hpc_cpu... status=CONNECTED\n",
      "\u001b[1A\u001b[2K\u001b[2J\u001b[HPlotting S22-IE.png\n",
      "(-15, 15)\n",
      "lower_bound = -15, upper_bound = 20, inc = 5\n",
      "S22-IE_violin.png\n"
     ]
    }
   ],
   "source": [
    "error_statistics.violin_plot(\n",
    "    df_plot,\n",
    "    df_labels_and_columns={\n",
    "        \"HF/6-31G*\": \"HF/6-31G* error\",\n",
    "        # \"svwn/6-31G*\": \"svwn/6-31G* error\",\n",
    "        # \"PBE/6-31G*\": \"PBE/6-31G* error\",\n",
    "        \"SAPT0/cc-pvdz\": \"SAPT0/cc-pvdz error\",\n",
    "        \"SAPT0/aug-cc-pvdz\": \"SAPT0/aug-cc-pvdz error\",\n",
    "    },\n",
    "    output_filename=\"S22-IE.png\",\n",
    "    figure_size=(6, 6),\n",
    "    x_label_fontsize=16,\n",
    "    ylim=(-15, 15),\n",
    "    rcParams={},\n",
    "    usetex=False,\n",
    "    ylabel=r\"IE Error vs. CCSD(T)/CBS (kcal/mol)\",\n",
    ")"
   ]
  },
  {
   "cell_type": "markdown",
   "metadata": {},
   "source": [
    "![S22-IE_violin.png](./S22-IE_violin.png)"
   ]
  },
  {
   "cell_type": "markdown",
   "metadata": {
    "jukit_cell_id": "NoxyyvkpUK"
   },
   "source": [
    "# QCMLForge\n",
    "\n",
    "## AP-Net2 inference"
   ]
  },
  {
   "cell_type": "code",
   "execution_count": 88,
   "metadata": {
    "jukit_cell_id": "8jtfD3m3S4"
   },
   "outputs": [
    {
     "name": "stdout",
     "output_type": "stream",
     "text": [
      "\u001b[2K\u001b[32m⠧\u001b[0m Connecting to=hpc_cpu... status=CONNECTED\n",
      "\u001b[1A\u001b[2K\u001b[2J\u001b[Hrunning on the CPU\n",
      "running on the CPU\n",
      "self.dataset=None\n",
      "[Molecule(name='C3H9NO2', formula='C3H9NO2', hash='8682f32'), Molecule(name='C4H8O4', formula='C4H8O4', hash='35b6c18'), Molecule(name='H4O2', formula='H4O2', hash='80c4390'), Molecule(name='C2H6N2O2', formula='C2H6N2O2', hash='084885d'), Molecule(name='C2H4O4', formula='C2H4O4', hash='f55cc2e'), Molecule(name='CH7NO', formula='CH7NO', hash='682fa43'), Molecule(name='C2H10N2', formula='C2H10N2', hash='9f0ed39'), Molecule(name='C6H8O', formula='C6H8O', hash='849097c'), Molecule(name='CH6O2', formula='CH6O2', hash='5d8f9aa'), Molecule(name='CH6O2', formula='CH6O2', hash='b6e3eb7'), Molecule(name='C5H7NO', formula='C5H7NO', hash='2e03c23'), Molecule(name='C2H5NO3', formula='C2H5NO3', hash='fd88297'), Molecule(name='C2H10N2', formula='C2H10N2', hash='0777887'), Molecule(name='C2H8O2', formula='C2H8O2', hash='9bc507d'), Molecule(name='C2H10N2', formula='C2H10N2', hash='19bb134'), Molecule(name='C2H7N3O', formula='C2H7N3O', hash='bedfd94'), Molecule(name='C2H6N2O2', formula='C2H6N2O2', hash='dbda4c9'), Molecule(name='CH6O2', formula='CH6O2', hash='71a4794'), Molecule(name='C2H6N2O2', formula='C2H6N2O2', hash='0292d0f'), Molecule(name='C2H6N2O2', formula='C2H6N2O2', hash='8605e82'), Molecule(name='C2H6N2O2', formula='C2H6N2O2', hash='b051b23'), Molecule(name='C3H9NO2', formula='C3H9NO2', hash='49087b5'), Molecule(name='CH6O2', formula='CH6O2', hash='b3fc637'), Molecule(name='C2H5NO3', formula='C2H5NO3', hash='d35fb75'), Molecule(name='C2H8N4', formula='C2H8N4', hash='b6e736d'), Molecule(name='C7H7N', formula='C7H7N', hash='d9e8595'), Molecule(name='C4H4', formula='C4H4', hash='9c2b063'), Molecule(name='CH7NO', formula='CH7NO', hash='2d30678'), Molecule(name='C2H8N4', formula='C2H8N4', hash='1947adc'), Molecule(name='C2H7N3O', formula='C2H7N3O', hash='eb10a85'), Molecule(name='H4O2', formula='H4O2', hash='be8ff8c'), Molecule(name='ClH3N', formula='ClH3N-', hash='62173eb'), Molecule(name='C2H4O4', formula='C2H4O4', hash='c33d54a'), Molecule(name='CH6O2', formula='CH6O2', hash='bab5595'), Molecule(name='C2H6N2O2', formula='C2H6N2O2', hash='4db5772'), Molecule(name='C2H8O2', formula='C2H8O2', hash='00fc289'), Molecule(name='C2H8N4', formula='C2H8N4', hash='50e5f50'), Molecule(name='C2H4O4', formula='C2H4O4', hash='fda27a3'), Molecule(name='C3H9NO2', formula='C3H9NO2', hash='4fda6a5'), Molecule(name='C2H6N2O2', formula='C2H6N2O2', hash='deda652'), Molecule(name='C2H8N4', formula='C2H8N4', hash='3ab93e9'), Molecule(name='C2H4O4', formula='C2H4O4', hash='97216f2'), Molecule(name='C2H8O2', formula='C2H8O2', hash='03aec4e'), Molecule(name='C2H9NO', formula='C2H9NO', hash='989d436'), Molecule(name='C2H6N2O2', formula='C2H6N2O2', hash='0cd3584'), Molecule(name='C2H10N2', formula='C2H10N2', hash='41b57f8'), Molecule(name='C2H4O4', formula='C2H4O4', hash='03f500d'), Molecule(name='C6H8O', formula='C6H8O', hash='88261c2'), Molecule(name='C2H7N3O', formula='C2H7N3O', hash='3b66b47'), Molecule(name='H4NS', formula='H4NS-', hash='a29f60b'), Molecule(name='C3H9NO2', formula='C3H9NO2', hash='a0735ab'), Molecule(name='C2H6N2O2', formula='C2H6N2O2', hash='e302ae6'), Molecule(name='C7H7N', formula='C7H7N', hash='ca8b493'), Molecule(name='C2H9NO', formula='C2H9NO', hash='9af7c0c'), Molecule(name='CH6O2', formula='CH6O2', hash='ceda15d'), Molecule(name='C2H4O4', formula='C2H4O4', hash='3740a0f'), Molecule(name='C3H9NO2', formula='C3H9NO2', hash='63917a6'), Molecule(name='H4NO', formula='H4NO-', hash='6588354'), Molecule(name='C6H8O', formula='C6H8O', hash='5808877'), Molecule(name='CH6O2', formula='CH6O2', hash='a490c2a'), Molecule(name='H3OS', formula='H3OS-', hash='65697c6'), Molecule(name='C2H9NO', formula='C2H9NO', hash='61bc429'), Molecule(name='FHN3', formula='FHN3-', hash='ab2f7fe'), Molecule(name='C2H4O', formula='C2H4O', hash='41fd6fc'), Molecule(name='C2H8N4', formula='C2H8N4', hash='a1c1bed'), Molecule(name='C2H5NO3', formula='C2H5NO3', hash='d8a101e'), Molecule(name='C2H7N3O', formula='C2H7N3O', hash='21d3964'), Molecule(name='C2H6N2O2', formula='C2H6N2O2', hash='97e077f'), Molecule(name='C4H8O4', formula='C4H8O4', hash='9ebabb8'), Molecule(name='C2H8O2', formula='C2H8O2', hash='2d8688b'), Molecule(name='C2H7N3O', formula='C2H7N3O', hash='3fe6c79'), Molecule(name='CH7NO', formula='CH7NO', hash='d4a752a'), Molecule(name='H4O2', formula='H4O2', hash='b74b0fe'), Molecule(name='H2N3S', formula='H2N3S-', hash='d81d64f'), Molecule(name='C2H6N2O2', formula='C2H6N2O2', hash='4f9051d'), Molecule(name='CH7NO', formula='CH7NO', hash='4cfa334'), Molecule(name='C4H4', formula='C4H4', hash='89fa30e'), Molecule(name='C2H6N2O2', formula='C2H6N2O2', hash='6c43052'), Molecule(name='C2H9NO', formula='C2H9NO', hash='0510fae'), Molecule(name='ClH2O', formula='ClH2O-', hash='f2d5817'), Molecule(name='CH6O2', formula='CH6O2', hash='e3e6c0f'), Molecule(name='C2H4O', formula='C2H4O', hash='bb9fe48'), Molecule(name='C2H6N2O2', formula='C2H6N2O2', hash='0cdb8ad'), Molecule(name='C3H9NO2', formula='C3H9NO2', hash='9e22159'), Molecule(name='C2H9NO', formula='C2H9NO', hash='a3012b6'), Molecule(name='C2H6N2O2', formula='C2H6N2O2', hash='04f75c4')]\n"
     ]
    }
   ],
   "source": [
    "import apnet_pt\n",
    "from apnet_pt.AtomPairwiseModels.apnet2 import APNet2Model\n",
    "from apnet_pt.AtomModels.ap2_atom_model import AtomModel\n",
    "\n",
    "atom_model = AtomModel().set_pretrained_model(model_id=0)\n",
    "ap2 = APNet2Model(atom_model=atom_model.model).set_pretrained_model(model_id=0)\n",
    "ap2.atom_model = atom_model.model\n",
    "print(df_plot['qcel_molecule'].tolist())\n",
    "apnet2_ies_predicted = ap2.predict_qcel_mols(\n",
    "    mols=df_plot['qcel_molecule'].tolist(),\n",
    "    batch_size=16\n",
    ")"
   ]
  },
  {
   "cell_type": "code",
   "execution_count": 108,
   "metadata": {
    "jukit_cell_id": "nxmLPrfAfx"
   },
   "outputs": [
    {
     "name": "stdout",
     "output_type": "stream",
     "text": [
      "\u001b[2K\u001b[32m⠇\u001b[0m Connecting to=hpc_cpu... status=CONNECTED\n",
      "\u001b[1A\u001b[2K\u001b[2J\u001b[HPlotting S22-IE-AP2.png\n",
      "S22-IE-AP2_violin.png\n"
     ]
    }
   ],
   "source": [
    "# AP-Net2 IE\n",
    "df_plot['APNet2'] = np.sum(apnet2_ies_predicted, axis=1)\n",
    "df_plot['APNet2 error'] = (df_plot['APNet2'] - df_plot['reference']).astype(float)\n",
    "#print(df_plot.sort_values(by='APNet2 error', ascending=True)[['APNet2', 'reference']])\n",
    "error_statistics.violin_plot(\n",
    "    df_plot,\n",
    "    df_labels_and_columns={\n",
    "        \"HF/6-31G*\": \"HF/6-31G* error\",\n",
    "        # \"svwn/6-31G*\": \"svwn/6-31G* error\",\n",
    "        # \"PBE/6-31G*\": \"PBE/6-31G* error\",\n",
    "        \"SAPT0/cc-pvdz\": \"SAPT0/cc-pvdz error\",\n",
    "        \"SAPT0/aug-cc-pvdz\": \"SAPT0/aug-cc-pvdz error\",\n",
    "        \"APNet2\": \"APNet2 error\",\n",
    "    },\n",
    "    output_filename=\"S22-IE-AP2.png\",\n",
    "    rcParams={},\n",
    "    usetex=False,\n",
    "    figure_size=(4, 4),\n",
    "    ylabel=r\"IE Error vs. CCSD(T)/CBS (kcal/mol)\",\n",
    ")\n",
    "plt.show()"
   ]
  },
  {
   "cell_type": "markdown",
   "metadata": {},
   "source": [
    "![S22-IE-AP2_violin.png](./S22-IE-AP2_violin.png)"
   ]
  },
  {
   "cell_type": "code",
   "execution_count": 91,
   "metadata": {
    "jukit_cell_id": "XtMJQEokjd"
   },
   "outputs": [
    {
     "name": "stdout",
     "output_type": "stream",
     "text": [
      "\u001b[2K\u001b[32m⠧\u001b[0m Connecting to=hpc_cpu... status=CONNECTED\n",
      "\u001b[1A\u001b[2K\u001b[2J\u001b[HReceived 86 QCElemental molecules with energy labels\n",
      "Processing directly from provided QCElemental molecules...\n",
      "Processing 86 dimers from provided QCElemental molecules...\n",
      "Creating data objects...\n",
      "len(RAs)=86, self.atomic_batch_size=8, self.batch_size=4\n",
      "0/86, 0.04s, 0.04s\n",
      "8/86, 0.03s, 0.07s\n"
     ]
    },
    {
     "data": {
      "text/html": [
       "\n",
       "                    <div style=\"\n",
       "                        color: #a71d5d;\n",
       "                        background-color: #fdd;\n",
       "                        border: 1px solid #a71d5d;\n",
       "                        padding: 5px;\n",
       "                        border-radius: 5px;\n",
       "                        font-family: Consolas, 'Courier New', monospace;\n",
       "                        white-space: pre-wrap;\n",
       "                    \">\n",
       "                        Processing...\n",
       "                    </div>\n",
       "                    "
      ],
      "text/plain": [
       "<IPython.core.display.HTML object>"
      ]
     },
     "metadata": {},
     "output_type": "display_data"
    },
    {
     "name": "stdout",
     "output_type": "stream",
     "text": [
      "16/86, 0.03s, 0.10s\n",
      "24/86, 0.03s, 0.13s\n",
      "32/86, 0.03s, 0.16s\n",
      "40/86, 0.03s, 0.19s\n",
      "48/86, 0.03s, 0.22s\n",
      "56/86, 0.03s, 0.25s\n",
      "64/86, 0.03s, 0.28s\n",
      "72/86, 0.02s, 0.31s\n",
      "80/86, 0.03s, 0.33s\n",
      "Processing directly from provided QCElemental molecules...\n",
      "Processing 86 dimers from provided QCElemental molecules...\n",
      "Creating data objects...\n",
      "len(RAs)=86, self.atomic_batch_size=8, self.batch_size=4\n",
      "0/86, 0.03s, 0.03s\n",
      "8/86, 0.03s, 0.07s\n"
     ]
    },
    {
     "data": {
      "text/html": [
       "\n",
       "                    <div style=\"\n",
       "                        color: #a71d5d;\n",
       "                        background-color: #fdd;\n",
       "                        border: 1px solid #a71d5d;\n",
       "                        padding: 5px;\n",
       "                        border-radius: 5px;\n",
       "                        font-family: Consolas, 'Courier New', monospace;\n",
       "                        white-space: pre-wrap;\n",
       "                    \">\n",
       "                        Done!\n",
       "Processing...\n",
       "                    </div>\n",
       "                    "
      ],
      "text/plain": [
       "<IPython.core.display.HTML object>"
      ]
     },
     "metadata": {},
     "output_type": "display_data"
    },
    {
     "name": "stdout",
     "output_type": "stream",
     "text": [
      "16/86, 0.03s, 0.10s\n",
      "24/86, 0.03s, 0.13s\n",
      "32/86, 0.03s, 0.16s\n",
      "40/86, 0.03s, 0.19s\n",
      "48/86, 0.03s, 0.23s\n",
      "56/86, 0.03s, 0.26s\n",
      "64/86, 0.03s, 0.29s\n",
      "72/86, 0.03s, 0.32s\n",
      "80/86, 0.03s, 0.34s\n",
      "self.root='data_dir', self.spec_type=None, self.in_memory=True\n",
      "apnet2_module_dataset(86)\n"
     ]
    },
    {
     "data": {
      "text/html": [
       "\n",
       "                    <div style=\"\n",
       "                        color: #a71d5d;\n",
       "                        background-color: #fdd;\n",
       "                        border: 1px solid #a71d5d;\n",
       "                        padding: 5px;\n",
       "                        border-radius: 5px;\n",
       "                        font-family: Consolas, 'Courier New', monospace;\n",
       "                        white-space: pre-wrap;\n",
       "                    \">\n",
       "                        Done!\n",
       "                    </div>\n",
       "                    "
      ],
      "text/plain": [
       "<IPython.core.display.HTML object>"
      ]
     },
     "metadata": {},
     "output_type": "display_data"
    }
   ],
   "source": [
    "# Training models on new QM data: Transfer Learning\n",
    "\n",
    "from apnet_pt import pairwise_datasets\n",
    "\n",
    "ds2 = pairwise_datasets.apnet2_module_dataset(\n",
    "    root=\"data_dir\",\n",
    "    spec_type=None,\n",
    "    atom_model=atom_model,\n",
    "    qcel_molecules=df_plot['qcel_molecule'].tolist(),\n",
    "    energy_labels=[np.array([i]) for i in df_plot['reference'].tolist()],\n",
    "    skip_compile=True,\n",
    "    force_reprocess=True,\n",
    "    atomic_batch_size=8,\n",
    "    prebatched=False,\n",
    "    in_memory=True,\n",
    "    batch_size=4,\n",
    ")\n",
    "print(ds2)"
   ]
  },
  {
   "cell_type": "markdown",
   "metadata": {
    "jukit_cell_id": "4wjE6QG52G"
   },
   "source": [
    "## Transfer Learning"
   ]
  },
  {
   "cell_type": "code",
   "execution_count": 92,
   "metadata": {
    "jukit_cell_id": "xXslqNQSRI"
   },
   "outputs": [
    {
     "name": "stdout",
     "output_type": "stream",
     "text": [
      "\u001b[2K\u001b[32m⠧\u001b[0m Connecting to=hpc_cpu... status=CONNECTED\n",
      "\u001b[1A\u001b[2K\u001b[2J\u001b[HSaving training results to...\n",
      "apnet2_transfer_learning.pt\n",
      "~~ Training APNet2Model ~~\n",
      "Training on 68 samples, Testing on 18 samples\n",
      "\n",
      "Network Hyperparameters:\n",
      "self.model.n_message=3\n",
      "self.model.n_neuron=128\n",
      "self.model.n_embed=8\n",
      "self.model.n_rbf=8\n",
      "self.model.r_cut=5.0\n",
      "self.model.r_cut_im=8.0\n",
      "Training Hyperparameters:\n",
      "n_epochs=50\n",
      "lr=0.0005\n",
      "lr_decay=None\n",
      "batch_size=4\n",
      "Running single-process training\n",
      "Total\n",
      "(Pre-training) (0.93   s)  MAE:   1.607/1.275\n",
      "EPOCH:    0 (1.04   s)  MAE:   2.208/0.895   *\n",
      "EPOCH:    1 (0.99   s)  MAE:   1.030/0.731   *\n",
      "EPOCH:    2 (0.99   s)  MAE:   0.631/0.731   *\n",
      "EPOCH:    3 (0.99   s)  MAE:   0.490/0.718\n",
      "EPOCH:    4 (0.97   s)  MAE:   0.388/0.665\n",
      "EPOCH:    5 (0.99   s)  MAE:   1.010/0.878\n",
      "EPOCH:    6 (0.96   s)  MAE:   0.742/0.721\n",
      "EPOCH:    7 (1.14   s)  MAE:   0.774/0.619   *\n",
      "EPOCH:    8 (1.02   s)  MAE:   0.923/0.865\n",
      "EPOCH:    9 (1.00   s)  MAE:   0.679/0.645\n",
      "EPOCH:   10 (0.99   s)  MAE:   0.636/0.460\n",
      "EPOCH:   11 (0.95   s)  MAE:   0.488/0.784\n",
      "EPOCH:   12 (0.93   s)  MAE:   0.460/0.694\n",
      "EPOCH:   13 (0.95   s)  MAE:   0.438/0.483\n",
      "EPOCH:   14 (1.04   s)  MAE:   0.532/0.633\n",
      "EPOCH:   15 (1.10   s)  MAE:   0.732/0.285   *\n",
      "EPOCH:   16 (1.18   s)  MAE:   0.502/0.417\n",
      "EPOCH:   17 (1.06   s)  MAE:   0.326/0.603\n",
      "EPOCH:   18 (0.91   s)  MAE:   0.220/0.490\n",
      "EPOCH:   19 (0.96   s)  MAE:   0.247/0.481\n",
      "EPOCH:   20 (0.93   s)  MAE:   0.309/0.557\n",
      "EPOCH:   21 (0.96   s)  MAE:   0.190/0.697\n",
      "EPOCH:   22 (0.97   s)  MAE:   0.294/0.835\n",
      "EPOCH:   23 (1.07   s)  MAE:   0.543/0.960\n",
      "EPOCH:   24 (1.02   s)  MAE:   0.527/0.362\n",
      "EPOCH:   25 (1.01   s)  MAE:   0.451/0.553\n",
      "EPOCH:   26 (1.02   s)  MAE:   0.446/0.540\n",
      "EPOCH:   27 (1.05   s)  MAE:   0.429/0.899\n",
      "EPOCH:   28 (1.07   s)  MAE:   0.248/0.496\n",
      "EPOCH:   29 (0.99   s)  MAE:   0.230/0.506\n",
      "EPOCH:   30 (0.98   s)  MAE:   0.235/0.531\n",
      "EPOCH:   31 (0.97   s)  MAE:   0.218/0.703\n",
      "EPOCH:   32 (0.94   s)  MAE:   0.221/0.630\n",
      "EPOCH:   33 (1.03   s)  MAE:   0.166/0.467\n",
      "EPOCH:   34 (1.00   s)  MAE:   0.155/0.450\n",
      "EPOCH:   35 (0.95   s)  MAE:   0.217/0.453\n",
      "EPOCH:   36 (0.92   s)  MAE:   0.547/0.603\n",
      "EPOCH:   37 (1.05   s)  MAE:   0.586/0.587\n",
      "EPOCH:   38 (1.09   s)  MAE:   0.858/1.106\n",
      "EPOCH:   39 (0.94   s)  MAE:   1.341/1.375\n",
      "EPOCH:   40 (0.94   s)  MAE:   1.439/0.998\n",
      "EPOCH:   41 (0.95   s)  MAE:   0.937/0.539\n",
      "EPOCH:   42 (1.02   s)  MAE:   0.677/1.062\n",
      "EPOCH:   43 (1.00   s)  MAE:   0.669/0.544\n",
      "EPOCH:   44 (0.94   s)  MAE:   0.529/0.532\n",
      "EPOCH:   45 (1.00   s)  MAE:   0.332/0.497\n",
      "EPOCH:   46 (1.02   s)  MAE:   0.201/0.535\n",
      "EPOCH:   47 (1.01   s)  MAE:   0.202/0.485\n",
      "EPOCH:   48 (0.96   s)  MAE:   0.153/0.467\n",
      "EPOCH:   49 (1.02   s)  MAE:   0.214/0.475\n"
     ]
    }
   ],
   "source": [
    "# Transfer Learning APNet2 model on computed QM data\n",
    "ap2.train(\n",
    "    dataset=ds2,\n",
    "    n_epochs=50,\n",
    "    transfer_learning=True,\n",
    "    skip_compile=True,\n",
    "    model_path=\"apnet2_transfer_learning.pt\",\n",
    "    split_percent=0.8,\n",
    ")"
   ]
  },
  {
   "cell_type": "code",
   "execution_count": 93,
   "metadata": {
    "jukit_cell_id": "KPOeFMBhWm"
   },
   "outputs": [
    {
     "name": "stdout",
     "output_type": "stream",
     "text": [
      "\u001b[2K\u001b[32m⠧\u001b[0m Connecting to=hpc_cpu... status=CONNECTED\n",
      "\u001b[1A\u001b[2K\u001b[2J\u001b[HPlotting S22-IE-AP2-tf.png\n",
      "S22-IE-AP2-tf_violin.png\n"
     ]
    }
   ],
   "source": [
    "# AP-Net2 IE\n",
    "apnet2_ies_predicted_transfer = ap2.predict_qcel_mols(\n",
    "    mols=df_plot['qcel_molecule'].tolist(),\n",
    "    batch_size=16,\n",
    ")\n",
    "df_plot['APNet2 transfer'] = np.sum(apnet2_ies_predicted_transfer, axis=1)\n",
    "df_plot['APNet2 transfer error'] = (df_plot['APNet2 transfer'] - df_plot['reference']).astype(float)\n",
    "\n",
    "error_statistics.violin_plot(\n",
    "    df_plot,\n",
    "    df_labels_and_columns={\n",
    "        \"HF/6-31G*\": \"HF/6-31G* error\",\n",
    "        # \"svwn/6-31G*\": \"svwn/6-31G* error\",\n",
    "        # \"PBE/6-31G*\": \"PBE/6-31G* error\",\n",
    "        \"SAPT0/aug-cc-pvdz\": \"SAPT0/aug-cc-pvdz error\",\n",
    "        \"APNet2\": \"APNet2 error\",\n",
    "        \"APNet2 transfer\": \"APNet2 transfer error\",\n",
    "    },\n",
    "    output_filename=\"S22-IE-AP2-tf.png\",\n",
    "    rcParams={},\n",
    "    usetex=False,\n",
    "    figure_size=(6, 4),\n",
    "    ylabel=r\"IE Error vs. CCSD(T)/CBS (kcal/mol)\",\n",
    ")"
   ]
  },
  {
   "cell_type": "markdown",
   "metadata": {},
   "source": [
    "![S22-IE_violin-AP2-tf.png](./S22-IE-AP2-tf_violin.png)"
   ]
  },
  {
   "cell_type": "markdown",
   "metadata": {
    "jukit_cell_id": "M3Q6tUC2AJ"
   },
   "source": [
    "## $\\Delta$AP-Net2"
   ]
  },
  {
   "cell_type": "code",
   "execution_count": 94,
   "metadata": {
    "jukit_cell_id": "ROLVxSHnj2"
   },
   "outputs": [
    {
     "name": "stdout",
     "output_type": "stream",
     "text": [
      "\u001b[2K\u001b[32m⠧\u001b[0m Connecting to=hpc_cpu... status=CONNECTED\n",
      "\u001b[1A\u001b[2K\u001b[2J\u001b[HReceived 86 QCElemental molecules with energy labels\n",
      "running on the CPU\n",
      "running on the CPU\n",
      "Loading pre-trained APNet2_MPNN model from /dev/shm/cybershuttle/envs/18dccede/lib/python3.10/site-packages/apnet_pt/models/ap2_ensemble/ap2_0.pt\n",
      "self.dataset=None\n",
      "raw_path: data_dir/raw/splinter_spec1.pkl\n",
      "Loading dimers...\n",
      "Creating data objects...\n",
      "len(qcel_mols)=86, self.batch_size=2\n"
     ]
    },
    {
     "data": {
      "text/html": [
       "\n",
       "                    <div style=\"\n",
       "                        color: #a71d5d;\n",
       "                        background-color: #fdd;\n",
       "                        border: 1px solid #a71d5d;\n",
       "                        padding: 5px;\n",
       "                        border-radius: 5px;\n",
       "                        font-family: Consolas, 'Courier New', monospace;\n",
       "                        white-space: pre-wrap;\n",
       "                    \">\n",
       "                        Processing...\n",
       "                    </div>\n",
       "                    "
      ],
      "text/plain": [
       "<IPython.core.display.HTML object>"
      ]
     },
     "metadata": {},
     "output_type": "display_data"
    },
    {
     "data": {
      "text/html": [
       "\n",
       "                    <div style=\"\n",
       "                        color: #a71d5d;\n",
       "                        background-color: #fdd;\n",
       "                        border: 1px solid #a71d5d;\n",
       "                        padding: 5px;\n",
       "                        border-radius: 5px;\n",
       "                        font-family: Consolas, 'Courier New', monospace;\n",
       "                        white-space: pre-wrap;\n",
       "                    \">\n",
       "                        Done!\n",
       "Processing...\n",
       "                    </div>\n",
       "                    "
      ],
      "text/plain": [
       "<IPython.core.display.HTML object>"
      ]
     },
     "metadata": {},
     "output_type": "display_data"
    },
    {
     "name": "stdout",
     "output_type": "stream",
     "text": [
      "raw_path: data_dir/raw/splinter_spec1.pkl\n",
      "Loading dimers...\n",
      "Creating data objects...\n",
      "len(qcel_mols)=86, self.batch_size=2\n",
      "self.root='data_dir', self.spec_type=None, self.in_memory=True\n",
      "raw_path: data_dir/raw/splinter_spec1.pkl\n",
      "Loading dimers...\n",
      "Saving to data_dir/processed_delta/targets_HF6-31G_to_CCSD_LP_T_RP_CBS.pt\n",
      "dapnet2_module_dataset_apnetStored(43)\n"
     ]
    },
    {
     "data": {
      "text/html": [
       "\n",
       "                    <div style=\"\n",
       "                        color: #a71d5d;\n",
       "                        background-color: #fdd;\n",
       "                        border: 1px solid #a71d5d;\n",
       "                        padding: 5px;\n",
       "                        border-radius: 5px;\n",
       "                        font-family: Consolas, 'Courier New', monospace;\n",
       "                        white-space: pre-wrap;\n",
       "                    \">\n",
       "                        Done!\n",
       "                    </div>\n",
       "                    "
      ],
      "text/plain": [
       "<IPython.core.display.HTML object>"
      ]
     },
     "metadata": {},
     "output_type": "display_data"
    }
   ],
   "source": [
    "from apnet_pt.pt_datasets.dapnet_ds import dapnet2_module_dataset_apnetStored\n",
    "\n",
    "delta_energies = df_plot['HF/6-31G* error'].tolist()\n",
    "\n",
    "# Only operates in pre-batched mode\n",
    "ds_dap2 = dapnet2_module_dataset_apnetStored(\n",
    "    root=\"data_dir\",\n",
    "    r_cut=5.0,\n",
    "    r_cut_im=8.0,\n",
    "    spec_type=None,\n",
    "    max_size=None,\n",
    "    force_reprocess=True,\n",
    "    batch_size=2,\n",
    "    num_devices=1,\n",
    "    skip_processed=False,\n",
    "    skip_compile=True,\n",
    "    print_level=2,\n",
    "    in_memory=True,\n",
    "    m1=\"HF/6-31G*\",\n",
    "    m2=\"CCSD(T)/CBS\",\n",
    "    qcel_molecules=df_plot['qcel_molecule'].tolist(),\n",
    "    energy_labels=delta_energies,\n",
    ")\n",
    "print(ds_dap2)"
   ]
  },
  {
   "cell_type": "code",
   "execution_count": null,
   "metadata": {
    "jukit_cell_id": "jfEVLnbL5w"
   },
   "outputs": [],
   "source": [
    "from apnet_pt.AtomPairwiseModels.dapnet2 import dAPNet2Model\n",
    "\n",
    "dap2 = dAPNet2Model(\n",
    "    atom_model=AtomModel().set_pretrained_model(model_id=0),\n",
    "    apnet2_model=APNet2Model().set_pretrained_model(model_id=0).set_return_hidden_states(True),\n",
    ")\n",
    "dap2.train(\n",
    "    ds_dap2,\n",
    "    n_epochs=50,\n",
    "    skip_compile=True,\n",
    "    split_percent=0.6,\n",
    ")"
   ]
  },
  {
   "cell_type": "code",
   "execution_count": null,
   "metadata": {
    "jukit_cell_id": "BbSVmmebsN"
   },
   "outputs": [],
   "source": [
    "dAPNet2_ies_predicted_transfer = dap2.predict_qcel_mols(\n",
    "    mols=df_plot['qcel_molecule'].tolist(),\n",
    "    batch_size=2,\n",
    ")\n",
    "df_plot['dAPNet2'] = dAPNet2_ies_predicted_transfer\n",
    "df_plot['HF/6-31G*-dAPNet2'] = df_plot['HF/6-31G*'] - df_plot['dAPNet2']\n",
    "print(df_plot[['dAPNet2', 'HF/6-31G*', 'HF/6-31G*-dAPNet2',  'reference']])\n",
    "df_plot['dAPNet2 error'] = (df_plot['HF/6-31G*-dAPNet2'] - df_plot['reference']).astype(float)\n",
    "\n",
    "error_statistics.violin_plot(\n",
    "    df_plot,\n",
    "    df_labels_and_columns={\n",
    "        \"HF/6-31G*\": \"HF/6-31G* error\",\n",
    "        # \"svwn/6-31G*\": \"svwn/6-31G* error\",\n",
    "        # \"PBE/6-31G*\": \"PBE/6-31G* error\",\n",
    "        \"SAPT0/aug-cc-pvdz\": \"SAPT0/aug-cc-pvdz error\",\n",
    "        \"APNet2\": \"APNet2 error\",\n",
    "        \"APNet2 transfer\": \"APNet2 transfer error\",\n",
    "        \"dAPNet2 HF/6-31G* to CCSD(T)/CBS\": \"dAPNet2 error\",\n",
    "    },\n",
    "    output_filename=\"S22-IE-AP2-dAP2.png\",\n",
    "    rcParams={},\n",
    "    usetex=False,\n",
    "    figure_size=(6, 4),\n",
    "    ylabel=r\"IE Error vs. CCSD(T)/CBS (kcal/mol)\",\n",
    ")"
   ]
  },
  {
   "cell_type": "code",
   "execution_count": null,
   "metadata": {
    "jukit_cell_id": "OVVcYRXWUA"
   },
   "outputs": [],
   "source": [
    "# Be careful with this for it can corrupt running status...\n",
    "# !ps aux | grep qcfractal | awk '{ print $2 }' | xargs kill -9"
   ]
  },
  {
   "cell_type": "markdown",
   "metadata": {},
   "source": [
    "![S22-IE_violin-AP2-dAP2.png](./S22-IE-AP2-dAP2_violin.png)"
   ]
  },
  {
   "cell_type": "markdown",
   "metadata": {
    "jukit_cell_id": "H2TTLmA061"
   },
   "source": [
    "# The end..."
   ]
  },
  {
   "cell_type": "code",
   "execution_count": null,
   "metadata": {
    "jukit_cell_id": "ULuCE0r8ED"
   },
   "outputs": [],
   "source": []
  }
 ],
 "metadata": {
  "anaconda-cloud": {},
  "kernelspec": {
   "display_name": "p4_qcml",
   "language": "python",
   "name": "python3"
  },
  "language_info": {
   "codemirror_mode": {
    "name": "ipython",
    "version": 3
   },
   "file_extension": ".py",
   "mimetype": "text/x-python",
   "name": "python",
   "nbconvert_exporter": "python",
   "pygments_lexer": "ipython3",
   "version": "3.10.17"
  }
 },
 "nbformat": 4,
 "nbformat_minor": 4
}
