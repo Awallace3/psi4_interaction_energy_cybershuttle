{
 "cells": [
  {
   "cell_type": "code",
   "execution_count": null,
   "metadata": {
    "jukit_cell_id": "FHk2C2mAci"
   },
   "outputs": [
    {
     "name": "stdout",
     "output_type": "stream",
     "text": [
      "\u001b[33m  DEPRECATION: Building 'pysftp' using the legacy setup.py bdist_wheel mechanism, which will be removed in a future version. pip 25.3 will enforce this behaviour change. A possible replacement is to use the standardized build interface by setting the `--use-pep517` option, (possibly combined with `--no-build-isolation`), or adding a `pyproject.toml` file to the source tree of 'pysftp'. Discussion can be found at https://github.com/pypa/pip/issues/6334\u001b[0m\u001b[33m\n",
      "\u001b[0m\u001b[33m  DEPRECATION: Building 'thrift' using the legacy setup.py bdist_wheel mechanism, which will be removed in a future version. pip 25.3 will enforce this behaviour change. A possible replacement is to use the standardized build interface by setting the `--use-pep517` option, (possibly combined with `--no-build-isolation`), or adding a `pyproject.toml` file to the source tree of 'thrift'. Discussion can be found at https://github.com/pypa/pip/issues/6334\u001b[0m\u001b[33m\n",
      "\u001b[0m\u001b[33m  DEPRECATION: Building 'thrift_connector' using the legacy setup.py bdist_wheel mechanism, which will be removed in a future version. pip 25.3 will enforce this behaviour change. A possible replacement is to use the standardized build interface by setting the `--use-pep517` option, (possibly combined with `--no-build-isolation`), or adding a `pyproject.toml` file to the source tree of 'thrift_connector'. Discussion can be found at https://github.com/pypa/pip/issues/6334\u001b[0m\u001b[33m\n",
      "\u001b[0m"
     ]
    }
   ],
   "source": [
    "#pip install --force-reinstall -q \"airavata-python-sdk[notebook]\"\n",
    "import airavata_jupyter_magic"
   ]
  },
  {
   "cell_type": "code",
   "execution_count": 2,
   "metadata": {
    "jukit_cell_id": "VonilTFkTU"
   },
   "outputs": [
    {
     "data": {
      "application/vnd.jupyter.widget-view+json": {
       "model_id": "f24d6ca081b7441d9de611b000e4b0cb",
       "version_major": 2,
       "version_minor": 0
      },
      "text/plain": [
       "Output()"
      ]
     },
     "metadata": {},
     "output_type": "display_data"
    },
    {
     "data": {
      "text/html": [
       "<pre style=\"white-space:pre;overflow-x:auto;line-height:normal;font-family:Menlo,'DejaVu Sans Mono',consolas,'Courier New',monospace\">Authenticated.\n",
       "</pre>\n"
      ],
      "text/plain": [
       "Authenticated.\n"
      ]
     },
     "metadata": {},
     "output_type": "display_data"
    },
    {
     "data": {
      "text/html": [
       "<pre style=\"white-space:pre;overflow-x:auto;line-height:normal;font-family:Menlo,'DejaVu Sans Mono',consolas,'Courier New',monospace\"></pre>\n"
      ],
      "text/plain": []
     },
     "metadata": {},
     "output_type": "display_data"
    },
    {
     "data": {
      "text/html": [
       "<pre style=\"white-space:pre;overflow-x:auto;line-height:normal;font-family:Menlo,'DejaVu Sans Mono',consolas,'Courier New',monospace\"></pre>\n"
      ],
      "text/plain": []
     },
     "metadata": {},
     "output_type": "display_data"
    }
   ],
   "source": [
    "%authenticate"
   ]
  },
  {
   "cell_type": "code",
   "execution_count": 3,
   "metadata": {
    "jukit_cell_id": "1sXw3fhOc3"
   },
   "outputs": [
    {
     "name": "stdout",
     "output_type": "stream",
     "text": [
      "Requesting runtime=hpc_cpu\n",
      "cpuCount: 4\n",
      "experimentName: CS_Agent\n",
      "group: Default\n",
      "libraries:\n",
      "- numpy=2.2.5\n",
      "- pandas=2.2.3\n",
      "- pip\n",
      "- psycopg2=2.9.9\n",
      "- postgresql=17.4\n",
      "- pytest\n",
      "- python=3.10\n",
      "- psi4=1.9.1\n",
      "- pytorch-cpu=2.5.1\n",
      "- jupyter=1.1.1\n",
      "- requests\n",
      "- setuptools\n",
      "- torchaudio=2.5.1\n",
      "- torchvision=0.20.1\n",
      "- pytorch_geometric=2.6.1\n",
      "- pytorch_scatter=2.1.2=cpu*\n",
      "- pytorch-minimize=0.0.2\n",
      "- matplotlib=3.10.1\n",
      "- pydantic=1\n",
      "- scipy=1.15.*\n",
      "- tqdm\n",
      "memory: 8000\n",
      "mounts:\n",
      "- cybershuttle-reference:/cybershuttle_data/cybershuttle-reference\n",
      "nodeCount: 1\n",
      "pip:\n",
      "- cdsg-tools==0.0.2\n",
      "- qm-tools-aw==1.4.5\n",
      "- qcmlforge==0.0.6\n",
      "- qcfractal==0.59\n",
      "- qcmanybody\n",
      "- qcfractalcompute==0.59\n",
      "queue: shared\n",
      "remoteCluster: expanse\n",
      "wallTime: 60\n",
      "\n",
      "Requested runtime=hpc_cpu. state=CONFIGURING_WORKSPACE\n",
      "Switched to runtime=hpc_cpu.\n"
     ]
    }
   ],
   "source": [
    "%request_runtime hpc_cpu --file=cybershuttle.yml --walltime=60 --use=expanse:shared\n",
    "%switch_runtime hpc_cpu"
   ]
  },
  {
   "cell_type": "code",
   "execution_count": 10,
   "metadata": {},
   "outputs": [
    {
     "name": "stdout",
     "output_type": "stream",
     "text": [
      "apnet2_transfer_learning.pt  __init__.py            README.md\n",
      "combined_df_subset_358.pkl   LICENSE                \u001b[0m\u001b[01;35mS22-IE-AP2-dAP2_violin.png\u001b[0m\n",
      "cybershuttle.yml             main.py                \u001b[01;35mS22-IE-AP2_violin.png\u001b[0m\n",
      "\u001b[01;34mdata_dir\u001b[0m/                    \u001b[01;34mog_qcfractal\u001b[0m/          \u001b[01;35mS22-IE_violin.png\u001b[0m\n",
      "demo.html                    \u001b[01;34mparsl_run_dir\u001b[0m/         s22.py\n",
      "demo.ipynb                   \u001b[01;34m__pycache__\u001b[0m/           setup_qcfractal.py\n",
      "demo_og.py                   \u001b[01;34mqcfractal\u001b[0m/             timer.dat\n",
      "demo.py                      qcfractal_compute.log  \u001b[01;34mtmp\u001b[0m/\n",
      "environment.yml              qcfractal_server.log\n",
      "[Errno 2] No such file or directory: '/workspace'\n",
      "/home/amwalla3/gits/cybershuttle_demo\n",
      "apnet2_transfer_learning.pt  __init__.py            README.md\n",
      "combined_df_subset_358.pkl   LICENSE                \u001b[0m\u001b[01;35mS22-IE-AP2-dAP2_violin.png\u001b[0m\n",
      "cybershuttle.yml             main.py                \u001b[01;35mS22-IE-AP2_violin.png\u001b[0m\n",
      "\u001b[01;34mdata_dir\u001b[0m/                    \u001b[01;34mog_qcfractal\u001b[0m/          \u001b[01;35mS22-IE_violin.png\u001b[0m\n",
      "demo.html                    \u001b[01;34mparsl_run_dir\u001b[0m/         s22.py\n",
      "demo.ipynb                   \u001b[01;34m__pycache__\u001b[0m/           setup_qcfractal.py\n",
      "demo_og.py                   \u001b[01;34mqcfractal\u001b[0m/             timer.dat\n",
      "demo.py                      qcfractal_compute.log  \u001b[01;34mtmp\u001b[0m/\n",
      "environment.yml              qcfractal_server.log\n",
      "Copying from local:setup_qcfractal.py to hpc_cpu:setup_qcfractal.py\n",
      "Pushing local:setup_qcfractal.py to remote:setup_qcfractal.py\n",
      "[200] Uploaded local:setup_qcfractal.py to remote:setup_qcfractal.py\n",
      "Copying from local:__init__.py to hpc_cpu:__init__.py\n",
      "Pushing local:__init__.py to remote:__init__.py\n",
      "[200] Uploaded local:__init__.py to remote:__init__.py\n"
     ]
    }
   ],
   "source": [
    "%ls\n",
    "%cd /workspace\n",
    "%ls\n",
    "%copy_data source=local:setup_qcfractal.py target=hpc_cpu:setup_qcfractal.py\n",
    "%copy_data source=local:__init__.py target=hpc_cpu:__init__.py"
   ]
  },
  {
   "cell_type": "markdown",
   "metadata": {
    "jukit_cell_id": "tveJZTmZdq"
   },
   "source": [
    "# QCArchive+QCMLForge Demo with CyberShuttle\n",
    "\n",
    "The first half of this demo shows how to use QCArchive to setup a dataset\n",
    "and run computations with ease. The compute resource can be local or\n",
    "through CyberShuttle. \n",
    "\n",
    "The second half of this demo shows how one can consume the generated data\n",
    "to train AP-Net2 and dAPNet2 models through QCMLForge. "
   ]
  },
  {
   "cell_type": "code",
   "execution_count": 11,
   "metadata": {
    "jukit_cell_id": "sb2BSlStsm"
   },
   "outputs": [
    {
     "name": "stdout",
     "output_type": "stream",
     "text": [
      "\u001b[2K\u001b[32m⠸\u001b[0m Connecting to=hpc_cpu... status=CONNECTED\n",
      "\u001b[1A\u001b[2K\u001b[2J\u001b[HImports\n"
     ]
    }
   ],
   "source": [
    "import psi4\n",
    "from pprint import pprint as pp\n",
    "import pandas as pd\n",
    "import numpy as np\n",
    "import re\n",
    "from qm_tools_aw import tools\n",
    "from pprint import pprint as pp\n",
    "# QCElemental Imports\n",
    "from qcelemental.models import Molecule\n",
    "import qcelemental as qcel\n",
    "# Dataset Imports\n",
    "from qcportal import PortalClient\n",
    "from qcportal.singlepoint import SinglepointDataset, SinglepointDatasetEntry, QCSpecification\n",
    "from qcportal.manybody import ManybodyDataset, ManybodyDatasetEntry, ManybodyDatasetSpecification, ManybodySpecification\n",
    "from torch import manual_seed\n",
    "\n",
    "manual_seed(42)\n",
    "\n",
    "h2kcalmol = qcel.constants.hartree2kcalmol\n",
    "print('Imports')"
   ]
  },
  {
   "cell_type": "markdown",
   "metadata": {
    "jukit_cell_id": "78H3oHPXBB"
   },
   "source": [
    "# QCArchive Setup"
   ]
  },
  {
   "cell_type": "code",
   "execution_count": 44,
   "metadata": {
    "jukit_cell_id": "BVc6W6uOta"
   },
   "outputs": [
    {
     "name": "stdout",
     "output_type": "stream",
     "text": [
      "\u001b[2K\u001b[32m⠸\u001b[0m Connecting to=hpc_cpu... status=CONNECTED\n",
      "\u001b[1A\u001b[2K\u001b[2J\u001b[H/workspace/qcfractal\n",
      "--------------------------------------------------------------------------------\n",
      "Python executable:  /dev/shm/cybershuttle/envs/18dccede/bin/python3.10\n",
      "QCFractal version:  0.59\n",
      "QCFractal alembic revision:  d5988aa750ae\n",
      "pg_ctl path:  /dev/shm/cybershuttle/envs/18dccede/bin/pg_ctl\n",
      "PostgreSQL server version:  PostgreSQL 17.4 on x86_64-conda-linux-gnu, compiled by x86_64-conda-linux-gnu-cc (conda-forge gcc 13.3.0-2) 13.3.0, 64-bit\n",
      "--------------------------------------------------------------------------------\n",
      "\n",
      "\n",
      "Displaying QCFractal configuration below\n",
      "--------------------------------------------------------------------------------\n",
      "access_log_keep: 0\n",
      "allow_unauthenticated_read: true\n",
      "api:\n",
      "  extra_flask_options: null\n",
      "  extra_waitress_options: null\n",
      "  host: localhost\n",
      "  jwt_access_token_expires: 3600\n",
      "  jwt_refresh_token_expires: 86400\n",
      "  jwt_secret_key: RN9XzOjFK-P6ooyfcQ3ZBJZvzq4IGrMeyrb3fBqw2vE\n",
      "  num_threads_per_worker: 4\n",
      "  port: 7778\n",
      "  secret_key: ZD5tixbij_cWvOPhzVuh4EeQUsB45tKgrPo_EoocLis\n",
      "  worker_timeout: 120\n",
      "api_limits:\n",
      "  add_molecules: 1000\n",
      "  add_records: 500\n",
      "  get_access_logs: 1000\n",
      "  get_dataset_entries: 2000\n",
      "  get_error_logs: 100\n",
      "  get_internal_jobs: 1000\n",
      "  get_managers: 1000\n",
      "  get_molecules: 1000\n",
      "  get_records: 1000\n",
      "  manager_tasks_claim: 200\n",
      "  manager_tasks_return: 10\n",
      "auto_reset:\n",
      "  compute_lost: 5\n",
      "  enabled: false\n",
      "  random_error: 5\n",
      "  unknown_error: 2\n",
      "base_folder: /workspace/qcfractal\n",
      "database:\n",
      "  base_folder: /workspace/qcfractal\n",
      "  data_directory: /workspace/qcfractal/postgres\n",
      "  database_name: qca\n",
      "  echo_sql: false\n",
      "  full_uri: null\n",
      "  host: localhost\n",
      "  logfile: /workspace/qcfractal/qcfractal_database.log\n",
      "  maintenance_db: postgres\n",
      "  own: true\n",
      "  password: p_YtMjd54ICu5bO64t_5PkOETThnxoeeHyU5YiHw_ZU\n",
      "  pg_tool_dir: null\n",
      "  pool_size: 5\n",
      "  port: 5433\n",
      "  query: {}\n",
      "  username: qcfractal\n",
      "enable_security: false\n",
      "geoip2_dir: /workspace/qcfractal/geoip2\n",
      "geoip2_filename: GeoLite2-City.mmdb\n",
      "heartbeat_frequency: 60\n",
      "heartbeat_frequency_jitter: 0\n",
      "heartbeat_max_missed: 5\n",
      "hide_internal_errors: true\n",
      "homepage_directory: null\n",
      "homepage_redirect_url: null\n",
      "internal_job_keep: 0\n",
      "internal_job_processes: 1\n",
      "log_access: false\n",
      "logfile: null\n",
      "loglevel: INFO\n",
      "max_active_services: 20\n",
      "maxmind_license_key: null\n",
      "name: QCFractal Server\n",
      "s3:\n",
      "  access_key_id: null\n",
      "  bucket_map:\n",
      "    dataset_attachment: dataset_attachment\n",
      "  enabled: false\n",
      "  endpoint_url: null\n",
      "  passthrough: false\n",
      "  secret_access_key: null\n",
      "  verify: true\n",
      "service_frequency: 5\n",
      "strict_queue_tags: false\n",
      "temporary_dir: /scratch/tmp\n",
      "--------------------------------------------------------------------------------\n",
      "\n",
      "QCFractal setup complete\n",
      "To start the server run:\n",
      "  qcfractal-server --config=/workspace/qcfractal/qcfractal_config.yaml start\n",
      "To start the compute manager run:\n",
      "  qcfractal-compute-manager --config=/workspace/qcfractal/resources.yml\n"
     ]
    }
   ],
   "source": [
    "from setup_qcfractal import setup_qcarchive_qcfractal\n",
    "import os\n",
    "\n",
    "setup_qcarchive_qcfractal(\n",
    "    QCF_BASE_FOLDER=os.path.join(os.getcwd(), \"qcfractal\"),\n",
    "    start=False,\n",
    "    reset=False,\n",
    "    db_config={\n",
    "        \"name\": None,\n",
    "        \"enable_security\": \"false\",\n",
    "        \"allow_unauthenticated_read\": None,\n",
    "        \"logfile\": None,\n",
    "        \"loglevel\": None,\n",
    "        \"service_frequency\": 5,\n",
    "        \"max_active_services\": None,\n",
    "        \"heartbeat_frequency\": 60,\n",
    "        \"log_access\": None,\n",
    "        \"database\": {\n",
    "            \"base_folder\": None,\n",
    "            \"host\": None,\n",
    "            \"port\": 5433,\n",
    "            \"database_name\": \"qca\",\n",
    "            \"username\": None,\n",
    "            \"password\": None,\n",
    "            \"own\": None,\n",
    "        },\n",
    "        \"api\": {\n",
    "            \"host\": None,\n",
    "            \"port\": 7778,\n",
    "            \"secret_key\": None,\n",
    "            \"jwt_secret_key\": None,\n",
    "        },\n",
    "    },\n",
    "    resources_config={\n",
    "            \"update_frequency\": 5,\n",
    "            \"cores_per_worker\": 8,\n",
    "            \"max_workers\": 3,\n",
    "            \"memory_per_worker\": 20,\n",
    "    }\n",
    ")"
   ]
  },
  {
   "cell_type": "code",
   "execution_count": 45,
   "metadata": {},
   "outputs": [
    {
     "name": "stdout",
     "output_type": "stream",
     "text": [
      "\u001b[2K\u001b[32m⠙\u001b[0m Connecting to=hpc_cpu... status=CONNECTED\n",
      "\u001b[1A\u001b[2K\u001b[2J\u001b[Hpg_ctl (PostgreSQL) 17.4\n",
      "postgres\n",
      "qcfractal_config.yaml\n",
      "qcfractal_database.log\n",
      "resources.yml\n",
      "worker.sh\n"
     ]
    }
   ],
   "source": [
    "%%bash\n",
    "pg_ctl --version\n",
    "ls /workspace/qcfractal\n",
    "#pg_ctl -D /workspace/qcfractal/postgres stop -m immediate"
   ]
  },
  {
   "cell_type": "code",
   "execution_count": 47,
   "metadata": {
    "jukit_cell_id": "CwEhpqwLXX"
   },
   "outputs": [
    {
     "name": "stdout",
     "output_type": "stream",
     "text": [
      "\u001b[2K\u001b[32m⠇\u001b[0m Connecting to=hpc_cpu... status=CONNECTED\n",
      "\u001b[1A\u001b[2K\u001b[2J\u001b[H0\n"
     ]
    }
   ],
   "source": [
    "get_ipython().system = os.system\n",
    "!qcfractal-server --config=`pwd`/qcfractal/qcfractal_config.yaml start &"
   ]
  },
  {
   "cell_type": "code",
   "execution_count": 48,
   "metadata": {
    "jukit_cell_id": "3HjtiyIuFg"
   },
   "outputs": [
    {
     "name": "stdout",
     "output_type": "stream",
     "text": [
      "\u001b[2K\u001b[32m⠸\u001b[0m Connecting to=hpc_cpu... status=CONNECTED\n",
      "\u001b[1A\u001b[2K\u001b[2J\u001b[H[2025-04-30 14:43:40 PDT] (MainProcess     )     INFO: qcfractal.qcfractal_server_cli: Checking the PostgreSQL connection...\n",
      "[2025-04-30 14:43:40 PDT] (MainProcess     )     INFO: PostgresHarness: /dev/shm/cybershuttle/envs/18dccede/bin\n",
      "\n",
      "[2025-04-30 14:43:40 PDT] (MainProcess     )     INFO: PostgresHarness: Using Postgres tools found via pg_config located in /dev/shm/cybershuttle/envs/18dccede/bin\n",
      "[2025-04-30 14:43:40 PDT] (MainProcess     )     INFO: PostgresHarness: pg_ctl (PostgreSQL) 17.4\n",
      "\n",
      "[2025-04-30 14:43:40 PDT] (MainProcess     )     INFO: PostgresHarness: Postgresql version found: pg_ctl (PostgreSQL) 17.4\n",
      "[2025-04-30 14:43:40 PDT] (MainProcess     )     INFO: PostgresHarness: Starting the PostgreSQL instance\n",
      "0\n"
     ]
    }
   ],
   "source": [
    "!qcfractal-compute-manager --config=`pwd`/qcfractal/resources.yml &"
   ]
  },
  {
   "cell_type": "code",
   "execution_count": null,
   "metadata": {
    "jukit_cell_id": "2gmdKuBAuk"
   },
   "outputs": [],
   "source": [
    "# NOTE kill server when finished by removing the # and executing:\n",
    "# !ps aux | grep qcfractal | awk '{ print $2 }' | xargs kill -9"
   ]
  },
  {
   "cell_type": "code",
   "execution_count": null,
   "metadata": {},
   "outputs": [],
   "source": [
    "!qcfractal-server --config=`pwd`/qcfractal/qcfractal_config.yaml init-db\n",
    "!qcfractal-server --config=`pwd`/qcfractal/qcfractal_config.yaml --help\n",
    "!qcfractal-server --config=`pwd`/qcfractal/qcfractal_config.yaml start"
   ]
  },
  {
   "cell_type": "code",
   "execution_count": 34,
   "metadata": {},
   "outputs": [
    {
     "name": "stdout",
     "output_type": "stream",
     "text": [
      "\u001b[2K\u001b[32m⠸\u001b[0m Connecting to=hpc_cpu... status=CONNECTED\n",
      "\u001b[1A\u001b[2K\u001b[2J\u001b[H77571 postgres\n",
      "77574 postgres\n",
      "77575 postgres\n",
      "77577 postgres\n",
      "77578 postgres\n",
      "77579 postgres\n"
     ]
    }
   ],
   "source": [
    "%%bash\n",
    "for pid in /proc/[0-9]*; do\n",
    "    echo \"${pid##*/}\" `cat ${pid}/comm` >> procs.txt\n",
    "done\n",
    "grep -e 'postgres' ./procs.txt"
   ]
  },
  {
   "cell_type": "code",
   "execution_count": 33,
   "metadata": {},
   "outputs": [
    {
     "name": "stdout",
     "output_type": "stream",
     "text": [
      "\u001b[2K\u001b[32m⠏\u001b[0m Connecting to=hpc_cpu... status=CONNECTED\n",
      "\u001b[1A\u001b[2K\u001b[2J\u001b[Hxargs: kill: No such file or directory\n"
     ]
    }
   ],
   "source": [
    "!grep -e 'postgres' ./procs.txt | awk '{ print $1 }' | xargs kill -9"
   ]
  },
  {
   "cell_type": "code",
   "execution_count": 20,
   "metadata": {},
   "outputs": [
    {
     "name": "stdout",
     "output_type": "stream",
     "text": [
      "\u001b[2K\u001b[32m⠙\u001b[0m Connecting to=hpc_cpu... status=CONNECTED\n",
      "\u001b[1A\u001b[2K\u001b[2J\u001b[Hqcfractal_config.yaml\n",
      "cat: ./qcfractal/qcfractal_database.log: No such file or directory\n",
      "/bin/bash: line 1: top: command not found\n"
     ]
    }
   ],
   "source": [
    "!ls qcfractal/\n",
    "!cat ./qcfractal/qcfractal_database.log\n",
    "!pidof qcfractal-server\n",
    "!pidof postgresql\n",
    "!top -b -n 1"
   ]
  },
  {
   "cell_type": "markdown",
   "metadata": {
    "jukit_cell_id": "X31FadtbG5"
   },
   "source": [
    "# QCArchive single point example"
   ]
  },
  {
   "cell_type": "code",
   "execution_count": null,
   "metadata": {},
   "outputs": [],
   "source": [
    "# Establish client connection\n",
    "client = PortalClient(\"http://localhost:7778\", verify=False)"
   ]
  },
  {
   "cell_type": "code",
   "execution_count": null,
   "metadata": {
    "jukit_cell_id": "hMCmRgdGJ4"
   },
   "outputs": [
    {
     "name": "stdout",
     "output_type": "stream",
     "text": [
      "\u001b[2K\u001b[32m⠸\u001b[0m Connecting to=hpc_cpu... status=CONNECTED\n",
      "\u001b[1A\u001b[2K\u001b[2J\u001b[H"
     ]
    }
   ],
   "source": [
    "# Running a single job\n",
    "client = PortalClient(\"http://localhost:7778\", verify=False)\n",
    "mol = Molecule.from_data(\n",
    "    \"\"\"\n",
    "     0 1\n",
    "     O  -1.551007  -0.114520   0.000000\n",
    "     H  -1.934259   0.762503   0.000000\n",
    "     H  -0.599677   0.040712   0.000000\n",
    "     --\n",
    "     0 1\n",
    "     O   1.350625   0.111469   0.000000\n",
    "     H   1.680398  -0.373741  -0.758561\n",
    "     H   1.680398  -0.373741   0.758561\n",
    "\n",
    "     units angstrom\n",
    "     no_reorient\n",
    "     symmetry c1\n",
    "\"\"\"\n",
    ")\n",
    "\n",
    "psi4.set_options(\n",
    "    {\"basis\": \"aug-cc-pvdz\", \"scf_type\": \"df\", \"e_convergence\": 6, \"freeze_core\": True}\n",
    ")\n",
    "\n",
    "client.add_singlepoints(\n",
    "    [mol],\n",
    "    \"psi4\",\n",
    "    driver=\"energy\",\n",
    "    method=\"b3lyp\",\n",
    "    basis=\"aug-cc-pvdz\",\n",
    "    keywords={\"scf_type\": \"df\", \"e_convergence\": 6, \"freeze_core\": True},\n",
    "    tag=\"local\",\n",
    ")\n",
    "\n",
    "# Can print records\n",
    "# for rec in client.query_records():\n",
    "#     pp(rec.dict)\n",
    "#     pp(rec.error)"
   ]
  },
  {
   "cell_type": "markdown",
   "metadata": {
    "jukit_cell_id": "6DmD5wp1nB"
   },
   "source": [
    "# QCArchive dataset examples"
   ]
  },
  {
   "cell_type": "code",
   "execution_count": null,
   "metadata": {
    "jukit_cell_id": "Z0wXrcgRq8"
   },
   "outputs": [],
   "source": [
    "# Creating a QCArchive Dataset...\n",
    "# Load in a dataset from a recent Sherrill work (Levels of SAPT II)\n",
    "df_LoS = pd.read_pickle(\"./combined_df_subset_358.pkl\")\n",
    "print(df_LoS[['Benchmark', 'SAPT2+3(CCD)DMP2 TOTAL ENERGY aqz', 'MP2 IE atz', 'SAPT0 TOTAL ENERGY adz' ]])\n",
    "\n",
    "# Limit to 100 molecules with maximum of 16 atoms to keep computational cost down\n",
    "df_LoS['size'] = df_LoS['atomic_numbers'].apply(lambda x: len(x))\n",
    "df_LoS = df_LoS[df_LoS['size'] <= 16]\n",
    "df_LoS = df_LoS.sample(200, random_state=42, axis=0).copy()\n",
    "df_LoS.reset_index(drop=True, inplace=True)\n",
    "print(df_LoS['size'].describe())\n",
    "\n",
    "# Create QCElemntal Molecules to generate the dataset\n",
    "def qcel_mols(row):\n",
    "    \"\"\"\n",
    "    Convert the row to a qcel molecule\n",
    "    \"\"\"\n",
    "    atomic_numbers = [row['atomic_numbers'][row['monAs']], row['atomic_numbers'][row['monBs']]]\n",
    "    coords = [row['coordinates'][row['monAs']], row['coordinates'][row['monBs']]]\n",
    "    cm = [\n",
    "        [row['monA_charge'], row['monA_multiplicity']],\n",
    "        [row['monB_charge'], row['monB_multiplicity']],\n",
    "     ]\n",
    "    return tools.convert_pos_carts_to_mol(atomic_numbers, coords, cm)\n",
    "df_LoS['qcel_molecule'] = df_LoS.apply(qcel_mols, axis=1)\n",
    "geoms = df_LoS['qcel_molecule'].tolist()\n",
    "ref_IEs = df_LoS['Benchmark'].tolist()\n",
    "sapt0_adz = (df_LoS['SAPT0 TOTAL ENERGY adz'] * h2kcalmol).tolist()"
   ]
  },
  {
   "cell_type": "markdown",
   "metadata": {
    "jukit_cell_id": "iwmcvViziS"
   },
   "source": [
    "## Singlepoint Dataset"
   ]
  },
  {
   "cell_type": "code",
   "execution_count": null,
   "metadata": {
    "jukit_cell_id": "i8ICwzPWaD"
   },
   "outputs": [],
   "source": [
    "# Create client dataset\n",
    "\n",
    "ds_name = 'S22-singlepoint'\n",
    "client_datasets = [i['dataset_name'] for i in client.list_datasets()]\n",
    "# Check if dataset already exists, if not create a new one\n",
    "if ds_name not in client_datasets:\n",
    "    ds = client.add_dataset(\"singlepoint\", ds_name,\n",
    "                            f\"Dataset to contain {ds_name}\")\n",
    "    print(f\"Added {ds_name} as dataset\")\n",
    "    # Insert entries into dataset\n",
    "    entry_list = []\n",
    "    for idx, mol in enumerate(geoms):\n",
    "        extras = {\n",
    "            \"name\": 'S22-' + str(idx),\n",
    "            \"idx\": idx,\n",
    "        }\n",
    "        mol = Molecule.from_data(mol.dict(), extras=extras)\n",
    "        ent = SinglepointDatasetEntry(name=extras['name'], molecule=mol)\n",
    "        entry_list.append(ent)\n",
    "    ds.add_entries(entry_list)\n",
    "    print(f\"Added {len(entry_list)} molecules to dataset\")\n",
    "else:\n",
    "    ds = client.get_dataset(\"singlepoint\", ds_name)\n",
    "    print(f\"Found {ds_name} dataset, using this instead\")\n",
    "\n",
    "print(ds)"
   ]
  },
  {
   "cell_type": "code",
   "execution_count": null,
   "metadata": {
    "jukit_cell_id": "7ZAOPlzuUX"
   },
   "outputs": [],
   "source": [
    "# Can delete the dataset if you want to start over. Need to know dataset_id\n",
    "# client.delete_dataset(dataset_id=ds.id, delete_records=True)"
   ]
  },
  {
   "cell_type": "code",
   "execution_count": null,
   "metadata": {
    "jukit_cell_id": "dSW1A9HxYB"
   },
   "outputs": [],
   "source": [
    "# Multipole Example\n",
    "# method, basis = \"hf\", \"sto-3g\"\n",
    "#\n",
    "# # Set the QCSpecification (QM interaction energy in our case)\n",
    "# spec = QCSpecification(\n",
    "#     program=\"psi4\",\n",
    "#     driver=\"energy\",\n",
    "#     method=method,\n",
    "#     basis=basis,\n",
    "#     keywords={\n",
    "#         \"d_convergence\": 8,\n",
    "#         \"dft_radial_points\": 99,\n",
    "#         \"dft_spherical_points\": 590,\n",
    "#         \"e_convergence\": 10,\n",
    "#         \"guess\": \"sad\",\n",
    "#         \"mbis_d_convergence\": 9,\n",
    "#         \"mbis_radial_points\": 99,\n",
    "#         \"mbis_spherical_points\": 590,\n",
    "#         \"scf_properties\": [\"mbis_charges\", \"MBIS_VOLUME_RATIOS\"],\n",
    "#         \"scf_type\": \"df\",\n",
    "#     },\n",
    "#     protocols={\"wavefunction\": \"orbitals_and_eigenvalues\"},\n",
    "# )\n",
    "# ds.add_specification(name=f\"psi4/{method}/{basis}\", specification=spec)"
   ]
  },
  {
   "cell_type": "code",
   "execution_count": null,
   "metadata": {
    "jukit_cell_id": "vMkm00fo00"
   },
   "outputs": [],
   "source": [
    "# SAPT0 Example\n",
    "method, basis = \"SAPT0\", \"cc-pvdz\"\n",
    "\n",
    "# Set the QCSpecification (QM interaction energy in our case)\n",
    "spec = QCSpecification(\n",
    "    program=\"psi4\",\n",
    "    driver=\"energy\",\n",
    "    method=method,\n",
    "    basis=basis,\n",
    "    keywords={\n",
    "        \"scf_type\": \"df\",\n",
    "    },\n",
    ")\n",
    "ds.add_specification(name=f\"psi4/{method}/{basis}\", specification=spec)"
   ]
  },
  {
   "cell_type": "code",
   "execution_count": null,
   "metadata": {
    "jukit_cell_id": "dwYb9dbQNI"
   },
   "outputs": [],
   "source": [
    "# Run the computations\n",
    "ds.submit()\n",
    "print(f\"Submitted {ds_name} dataset\")"
   ]
  },
  {
   "cell_type": "code",
   "execution_count": null,
   "metadata": {
    "jukit_cell_id": "2JMCNlehez"
   },
   "outputs": [],
   "source": [
    "# Check the status of the dataset - can repeatedly run this to see the progress\n",
    "ds.status()"
   ]
  },
  {
   "cell_type": "markdown",
   "metadata": {
    "jukit_cell_id": "kT14mJyNqJ"
   },
   "source": [
    "## Manybody Dataset"
   ]
  },
  {
   "cell_type": "code",
   "execution_count": null,
   "metadata": {
    "jukit_cell_id": "g31JlHrgso"
   },
   "outputs": [],
   "source": [
    "# Create client dataset\n",
    "ds_name_mb = 'S22-manybody'\n",
    "client_datasets = [i['dataset_name'] for i in client.list_datasets()]\n",
    "# Check if dataset already exists, if not create a new one\n",
    "if ds_name_mb not in client_datasets:\n",
    "    print(\"Setting up new dataset:\", ds_name_mb)\n",
    "    ds_mb = client.add_dataset(\"manybody\", ds_name_mb,\n",
    "                            f\"Dataset to contain {ds_name_mb}\")\n",
    "    print(f\"Added {ds_name_mb} as dataset\")\n",
    "    # Insert entries into dataset\n",
    "    entry_list = []\n",
    "    for idx, mol in enumerate(geoms):\n",
    "        ent = ManybodyDatasetEntry(name=f\"S22-IE-{idx}\", initial_molecule=mol)\n",
    "        entry_list.append(ent)\n",
    "    ds_mb.add_entries(entry_list)\n",
    "    print(f\"Added {len(entry_list)} molecules to dataset\")\n",
    "else:\n",
    "    ds_mb = client.get_dataset(\"manybody\", ds_name_mb)\n",
    "    print(f\"Found {ds_name_mb} dataset, using this instead\")\n",
    "\n",
    "print(ds_mb)\n",
    "\n",
    "# Can delete the dataset if you want to start over. Need to know dataset_id\n",
    "# client.delete_dataset(dataset_id=2, delete_records=True)"
   ]
  },
  {
   "cell_type": "code",
   "execution_count": null,
   "metadata": {
    "jukit_cell_id": "bYERcUudd0"
   },
   "outputs": [],
   "source": [
    "ds_mb.status()"
   ]
  },
  {
   "cell_type": "code",
   "execution_count": null,
   "metadata": {
    "jukit_cell_id": "gauw3VIjl9"
   },
   "outputs": [],
   "source": [
    "# Set multiple levels of theory - you can add/remove levels as you desire.\n",
    "# Computational scaling will get quite expensive with better methods and larger\n",
    "# basis sets\n",
    "\n",
    "methods = [\n",
    "    'hf', 'pbe',\n",
    "]\n",
    "basis_sets = [\n",
    "    '6-31g*'\n",
    "]\n",
    "\n",
    "for method in methods:\n",
    "    for basis in basis_sets:\n",
    "        # Set the QCSpecification (QM interaction energy in our case)\n",
    "        qc_spec_mb = QCSpecification(\n",
    "            program=\"psi4\",\n",
    "            driver=\"energy\",\n",
    "            method=method,\n",
    "            basis=basis,\n",
    "            keywords={\n",
    "                \"d_convergence\": 8,\n",
    "                \"scf_type\": \"df\",\n",
    "            },\n",
    "        )\n",
    "\n",
    "        spec_mb = ManybodySpecification(\n",
    "            program='qcmanybody',\n",
    "            bsse_correction=['cp'],\n",
    "            levels={\n",
    "                1: qc_spec_mb,\n",
    "                2: qc_spec_mb,\n",
    "            },\n",
    "        )\n",
    "        print(\"spec_mb\", spec_mb)\n",
    "\n",
    "        ds_mb.add_specification(name=f\"psi4/{method}/{basis}\", specification=spec_mb)\n",
    "\n",
    "        # Run the computations\n",
    "        ds_mb.submit()\n",
    "        print(f\"Submitted {ds_name} dataset\")\n",
    "# Check the status of the dataset - can repeatedly run this to see the progress\n",
    "ds_mb.status()"
   ]
  },
  {
   "cell_type": "code",
   "execution_count": null,
   "metadata": {
    "jukit_cell_id": "qYukdPBXmi"
   },
   "outputs": [],
   "source": [
    "pp(ds.status())\n",
    "pp(ds_mb.status())"
   ]
  },
  {
   "cell_type": "code",
   "execution_count": null,
   "metadata": {
    "jukit_cell_id": "ChCOdcBiXj"
   },
   "outputs": [],
   "source": [
    "pp(ds)\n",
    "pp(ds_mb)\n",
    "pp(ds_mb.computed_properties)"
   ]
  },
  {
   "cell_type": "markdown",
   "metadata": {
    "jukit_cell_id": "xgdzc0Klhx"
   },
   "source": [
    "# Data Assembly\n",
    "\n",
    "While you can execute the following blocks before all computations are complete, it is recommended to wait until all computations are complete to continue."
   ]
  },
  {
   "cell_type": "code",
   "execution_count": null,
   "metadata": {
    "jukit_cell_id": "7RHL31QOoC"
   },
   "outputs": [],
   "source": [
    "# Singlepoint data assemble\n",
    "def assemble_singlepoint_data(record):\n",
    "    record_dict = record.dict()\n",
    "    qcvars = record_dict[\"properties\"]\n",
    "    level_of_theory = f\"{record_dict['specification']['method']}/{record_dict['specification']['basis']}\"\n",
    "    sapt_energies = np.array([np.nan, np.nan, np.nan, np.nan, np.nan])\n",
    "    if \"mbis charges\" in qcvars:\n",
    "        charges = qcvars[\"mbis charges\"]\n",
    "        dipoles = qcvars[\"mbis dipoles\"]\n",
    "        quadrupoles = qcvars[\"mbis quadrupoles\"]\n",
    "        n = len(charges)\n",
    "        charges = np.reshape(charges, (n, 1))\n",
    "        dipoles = np.reshape(dipoles, (n, 3))\n",
    "        quad = np.reshape(quadrupoles, (n, 3, 3))\n",
    "\n",
    "        quad = [q[np.triu_indices(3)] for q in quad]\n",
    "        quadrupoles = np.array(quad)\n",
    "        multipoles = np.concatenate(\n",
    "            [charges, dipoles, quadrupoles], axis=1)\n",
    "        return (\n",
    "        record.molecule,\n",
    "        qcvars['mbis volume ratios'],\n",
    "        qcvars['mbis valence widths'],\n",
    "        qcvars['mbis radial moments <r^2>'],\n",
    "        qcvars['mbis radial moments <r^3>'],\n",
    "        qcvars['mbis radial moments <r^4>'],\n",
    "        record.molecule.atomic_numbers,\n",
    "        record.molecule.geometry * qcel.constants.bohr2angstroms,\n",
    "        multipoles,\n",
    "        int(record.molecule.molecular_charge),\n",
    "        record.molecule.molecular_multiplicity,\n",
    "        sapt_energies,\n",
    "        )\n",
    "    else:\n",
    "        sapt_energies[0] = qcvars['sapt total energy']\n",
    "        sapt_energies[1] = qcvars['sapt elst energy']\n",
    "        sapt_energies[2] = qcvars['sapt exch energy']\n",
    "        sapt_energies[3] = qcvars['sapt ind energy']\n",
    "        sapt_energies[4] = qcvars['sapt disp energy']\n",
    "        return (\n",
    "        record.molecule,\n",
    "        None,\n",
    "        None,\n",
    "        None,\n",
    "        None,\n",
    "        None,\n",
    "        record.molecule.atomic_numbers,\n",
    "        record.molecule.geometry * qcel.constants.bohr2angstroms,\n",
    "        None,\n",
    "        int(record.molecule.molecular_charge),\n",
    "        record.molecule.molecular_multiplicity,\n",
    "        sapt_energies,\n",
    "        )\n",
    "\n",
    "\n",
    "\n",
    "\n",
    "def assemble_singlepoint_data_value_names():\n",
    "    return [\n",
    "        'qcel_molecule',\n",
    "        \"volume ratios\",\n",
    "        \"valence widths\",\n",
    "        \"radial moments <r^2>\",\n",
    "        \"radial moments <r^3>\",\n",
    "        \"radial moments <r^4>\",\n",
    "        \"Z\",\n",
    "        \"R\",\n",
    "        \"cartesian_multipoles\",\n",
    "        \"TQ\",\n",
    "        \"molecular_multiplicity\",\n",
    "        \"SAPT Energies\"\n",
    "    ]\n",
    "\n",
    "df = ds.compile_values(\n",
    "    value_call=assemble_singlepoint_data,\n",
    "    value_names=assemble_singlepoint_data_value_names(),\n",
    "    unpack=True,\n",
    ")\n",
    "pp(df.columns.tolist())\n",
    "df_sapt0 = df['psi4/SAPT0/cc-pvdz']"
   ]
  },
  {
   "cell_type": "code",
   "execution_count": null,
   "metadata": {
    "jukit_cell_id": "CDD1QjxHpc"
   },
   "outputs": [],
   "source": [
    "def assemble_data(record):\n",
    "    record_dict = record.dict()\n",
    "    qcvars = record_dict[\"properties\"]\n",
    "    level_of_theory = f\"{record_dict['specification']['levels'][2]['method']}/{record_dict['specification']['levels'][2]['basis']}\"\n",
    "    CP_IE = qcvars['results']['cp_corrected_interaction_energy'] * h2kcalmol\n",
    "    NOCP_IE = qcvars['results'].get('nocp_corrected_interaction_energy', np.nan) * h2kcalmol\n",
    "    return (\n",
    "    record.initial_molecule,\n",
    "    CP_IE,\n",
    "    NOCP_IE,\n",
    "    record.initial_molecule.atomic_numbers,\n",
    "    record.initial_molecule.geometry * qcel.constants.bohr2angstroms,\n",
    "    int(record.initial_molecule.molecular_charge),\n",
    "    record.initial_molecule.molecular_multiplicity,\n",
    "    )\n",
    "\n",
    "def assemble_data_value_names():\n",
    "    return [\n",
    "        'qcel_molecule',\n",
    "        \"CP_IE\",\n",
    "        \"NOCP_IE\",\n",
    "        \"Z\",\n",
    "        \"R\",\n",
    "        \"TQ\",\n",
    "        \"molecular_multiplicity\"\n",
    "    ]\n",
    "\n",
    "df_mb = ds_mb.compile_values(\n",
    "    value_call=assemble_data,\n",
    "    value_names=assemble_data_value_names(),\n",
    "    unpack=True,\n",
    ")\n",
    "\n",
    "pp(df_mb.columns.tolist())"
   ]
  },
  {
   "cell_type": "code",
   "execution_count": null,
   "metadata": {
    "jukit_cell_id": "XT87RegBfm"
   },
   "outputs": [],
   "source": [
    "from cdsg_plot import error_statistics\n",
    "\n",
    "df_sapt0['sapt0 total energes'] = df_sapt0['SAPT Energies'].apply(lambda x: x[0] * h2kcalmol)\n",
    "df_plot = pd.DataFrame(\n",
    "    {\n",
    "        \"qcel_molecule\": df_mb[\"psi4/pbe/6-31g*\"][\"qcel_molecule\"],\n",
    "        \"HF/6-31G*\": df_mb[\"psi4/hf/6-31g*\"][\"CP_IE\"],\n",
    "        \"PBE/6-31G*\": df_mb[\"psi4/pbe/6-31g*\"][\"CP_IE\"],\n",
    "        'SAPT0/cc-pvdz': df_sapt0['sapt0 total energes'].values,\n",
    "    }\n",
    ")\n",
    "print(df_plot)\n",
    "id = [int(i[7:]) for i in df_plot.index]\n",
    "df_plot['id'] = id\n",
    "df_plot.sort_values(by='id', inplace=True, ascending=True)\n",
    "df_plot['reference'] = ref_IEs\n",
    "df_plot['SAPT0/aug-cc-pvdz'] = sapt0_adz\n",
    "df_plot['HF/6-31G* error'] = (df_plot['HF/6-31G*'] - df_plot['reference']).astype(float)\n",
    "df_plot['PBE/6-31G* error'] = (df_plot['PBE/6-31G*'] - df_plot['reference']).astype(float)\n",
    "df_plot['SAPT0/cc-pvdz error'] = (df_plot['SAPT0/cc-pvdz'] - df_plot['reference']).astype(float)\n",
    "df_plot['SAPT0/aug-cc-pvdz error'] = (df_plot['SAPT0/aug-cc-pvdz'] - df_plot['reference']).astype(float)\n",
    "pd.set_option('display.max_rows', None)\n",
    "print(df_plot[['PBE/6-31G*', 'SAPT0/cc-pvdz', 'reference', \"SAPT0/aug-cc-pvdz\"]])\n",
    "print(df_plot[['PBE/6-31G* error', 'SAPT0/cc-pvdz error', \"SAPT0/aug-cc-pvdz error\"]].describe())"
   ]
  },
  {
   "cell_type": "markdown",
   "metadata": {
    "jukit_cell_id": "6ziYQ8PdtF"
   },
   "source": [
    "# Plotting the interaction energy errors"
   ]
  },
  {
   "cell_type": "code",
   "execution_count": null,
   "metadata": {
    "jukit_cell_id": "dRiuyCtOh1"
   },
   "outputs": [],
   "source": [
    "error_statistics.violin_plot(\n",
    "    df_plot,\n",
    "    df_labels_and_columns={\n",
    "        \"HF/6-31G*\": \"HF/6-31G* error\",\n",
    "        \"PBE/6-31G*\": \"PBE/6-31G* error\",\n",
    "        # \"B3LYP/6-31G*\": \"B3LYP/6-31G* error\",\n",
    "        \"SAPT0/cc-pvdz\": \"SAPT0/cc-pvdz error\",\n",
    "        \"SAPT0/aug-cc-pvdz\": \"SAPT0/aug-cc-pvdz error\",\n",
    "    },\n",
    "    output_filename=\"S22-IE.png\",\n",
    "    figure_size=(6, 6),\n",
    "    x_label_fontsize=16,\n",
    "    ylim=(-15, 15),\n",
    "    rcParams={},\n",
    "    usetex=False,\n",
    "    ylabel=r\"IE Error vs. CCSD(T)/CBS (kcal/mol)\",\n",
    ")"
   ]
  },
  {
   "cell_type": "markdown",
   "metadata": {
    "jukit_cell_id": "NoxyyvkpUK"
   },
   "source": [
    "# QCMLForge\n",
    "\n",
    "## AP-Net2 inference"
   ]
  },
  {
   "cell_type": "code",
   "execution_count": null,
   "metadata": {
    "jukit_cell_id": "8jtfD3m3S4"
   },
   "outputs": [],
   "source": [
    "import apnet_pt\n",
    "from apnet_pt.AtomPairwiseModels.apnet2 import APNet2Model\n",
    "from apnet_pt.AtomModels.ap2_atom_model import AtomModel\n",
    "\n",
    "atom_model = AtomModel().set_pretrained_model(model_id=0)\n",
    "ap2 = APNet2Model(atom_model=atom_model.model).set_pretrained_model(model_id=0)\n",
    "ap2.atom_model = atom_model.model\n",
    "apnet2_ies_predicted = ap2.predict_qcel_mols(\n",
    "    mols=df_plot['qcel_molecule'].tolist(),\n",
    "    batch_size=16\n",
    ")"
   ]
  },
  {
   "cell_type": "code",
   "execution_count": null,
   "metadata": {
    "jukit_cell_id": "nxmLPrfAfx"
   },
   "outputs": [],
   "source": [
    "# AP-Net2 IE\n",
    "df_plot['APNet2'] = np.sum(apnet2_ies_predicted, axis=1)\n",
    "df_plot['APNet2 error'] = (df_plot['APNet2'] - df_plot['reference']).astype(float)\n",
    "print(df_plot.sort_values(by='APNet2 error', ascending=True)[['APNet2', 'reference']])\n",
    "error_statistics.violin_plot(\n",
    "    df_plot,\n",
    "    df_labels_and_columns={\n",
    "        \"HF/6-31G*\": \"HF/6-31G* error\",\n",
    "        \"PBE/6-31G*\": \"PBE/6-31G* error\",\n",
    "        \"SAPT0/cc-pvdz\": \"SAPT0/cc-pvdz error\",\n",
    "        \"SAPT0/aug-cc-pvdz\": \"SAPT0/aug-cc-pvdz error\",\n",
    "        \"APNet2\": \"APNet2 error\",\n",
    "    },\n",
    "    output_filename=\"S22-IE-AP2.png\",\n",
    "    rcParams={},\n",
    "    usetex=False,\n",
    "    figure_size=(4, 4),\n",
    "    ylabel=r\"IE Error vs. CCSD(T)/CBS (kcal/mol)\",\n",
    ")"
   ]
  },
  {
   "cell_type": "code",
   "execution_count": null,
   "metadata": {
    "jukit_cell_id": "XtMJQEokjd"
   },
   "outputs": [],
   "source": [
    "# Training models on new QM data: Transfer Learning\n",
    "\n",
    "from apnet_pt import pairwise_datasets\n",
    "\n",
    "ds2 = pairwise_datasets.apnet2_module_dataset(\n",
    "    root=\"data_dir\",\n",
    "    spec_type=None,\n",
    "    atom_model=atom_model,\n",
    "    qcel_molecules=df_plot['qcel_molecule'].tolist(),\n",
    "    energy_labels=[np.array([i]) for i in df_plot['reference'].tolist()],\n",
    "    skip_compile=True,\n",
    "    force_reprocess=True,\n",
    "    atomic_batch_size=8,\n",
    "    prebatched=False,\n",
    "    in_memory=True,\n",
    "    batch_size=4,\n",
    ")\n",
    "print(ds2)"
   ]
  },
  {
   "cell_type": "markdown",
   "metadata": {
    "jukit_cell_id": "4wjE6QG52G"
   },
   "source": [
    "## Transfer Learning"
   ]
  },
  {
   "cell_type": "code",
   "execution_count": null,
   "metadata": {
    "jukit_cell_id": "xXslqNQSRI"
   },
   "outputs": [],
   "source": [
    "# Transfer Learning APNet2 model on computed QM data\n",
    "ap2.train(\n",
    "    dataset=ds2,\n",
    "    n_epochs=50,\n",
    "    transfer_learning=True,\n",
    "    skip_compile=True,\n",
    "    model_path=\"apnet2_transfer_learning.pt\",\n",
    "    split_percent=0.8,\n",
    ")"
   ]
  },
  {
   "cell_type": "code",
   "execution_count": null,
   "metadata": {
    "jukit_cell_id": "KPOeFMBhWm"
   },
   "outputs": [],
   "source": [
    "# AP-Net2 IE\n",
    "apnet2_ies_predicted_transfer = ap2.predict_qcel_mols(\n",
    "    mols=df_plot['qcel_molecule'].tolist(),\n",
    "    batch_size=16,\n",
    ")\n",
    "df_plot['APNet2 transfer'] = np.sum(apnet2_ies_predicted_transfer, axis=1)\n",
    "df_plot['APNet2 transfer error'] = (df_plot['APNet2 transfer'] - df_plot['reference']).astype(float)\n",
    "\n",
    "error_statistics.violin_plot(\n",
    "    df_plot,\n",
    "    df_labels_and_columns={\n",
    "        \"HF/6-31G*\": \"HF/6-31G* error\",\n",
    "        \"PBE/6-31G*\": \"PBE/6-31G* error\",\n",
    "        \"SAPT0/aug-cc-pvdz\": \"SAPT0/aug-cc-pvdz error\",\n",
    "        \"APNet2\": \"APNet2 error\",\n",
    "        \"APNet2 transfer\": \"APNet2 transfer error\",\n",
    "    },\n",
    "    output_filename=\"S22-IE-AP2.png\",\n",
    "    rcParams={},\n",
    "    usetex=False,\n",
    "    figure_size=(6, 4),\n",
    "    ylabel=r\"IE Error vs. CCSD(T)/CBS (kcal/mol)\",\n",
    ")"
   ]
  },
  {
   "cell_type": "markdown",
   "metadata": {
    "jukit_cell_id": "M3Q6tUC2AJ"
   },
   "source": [
    "## $\\Delta$AP-Net2"
   ]
  },
  {
   "cell_type": "code",
   "execution_count": null,
   "metadata": {
    "jukit_cell_id": "ROLVxSHnj2"
   },
   "outputs": [],
   "source": [
    "from apnet_pt.pt_datasets.dapnet_ds import dapnet2_module_dataset_apnetStored\n",
    "\n",
    "delta_energies = df_plot['HF/6-31G* error'].tolist()\n",
    "\n",
    "# Only operates in pre-batched mode\n",
    "ds = dapnet2_module_dataset_apnetStored(\n",
    "    root=\"data_dir\",\n",
    "    r_cut=5.0,\n",
    "    r_cut_im=8.0,\n",
    "    spec_type=None,\n",
    "    max_size=None,\n",
    "    force_reprocess=True,\n",
    "    batch_size=2,\n",
    "    num_devices=1,\n",
    "    skip_processed=False,\n",
    "    skip_compile=True,\n",
    "    print_level=2,\n",
    "    in_memory=True,\n",
    "    m1=\"HF/6-31G*\",\n",
    "    m2=\"CCSD(T)/CBS\",\n",
    "    qcel_molecules=df_plot['qcel_molecule'].tolist(),\n",
    "    energy_labels=delta_energies,\n",
    ")\n",
    "print(ds)"
   ]
  },
  {
   "cell_type": "code",
   "execution_count": null,
   "metadata": {
    "jukit_cell_id": "jfEVLnbL5w"
   },
   "outputs": [],
   "source": [
    "from apnet_pt.AtomPairwiseModels.dapnet2 import dAPNet2Model\n",
    "\n",
    "dap2 = dAPNet2Model(\n",
    "    atom_model=AtomModel().set_pretrained_model(model_id=0),\n",
    "    apnet2_model=APNet2Model().set_pretrained_model(model_id=0).set_return_hidden_states(True),\n",
    ")\n",
    "dap2.train(\n",
    "    ds,\n",
    "    n_epochs=50,\n",
    "    skip_compile=True,\n",
    "    split_percent=0.6,\n",
    ")"
   ]
  },
  {
   "cell_type": "code",
   "execution_count": null,
   "metadata": {
    "jukit_cell_id": "BbSVmmebsN"
   },
   "outputs": [],
   "source": [
    "dAPNet2_ies_predicted_transfer = dap2.predict_qcel_mols(\n",
    "    mols=df_plot['qcel_molecule'].tolist(),\n",
    "    batch_size=2,\n",
    ")\n",
    "df_plot['dAPNet2'] = dAPNet2_ies_predicted_transfer\n",
    "df_plot['HF/6-31G*-dAPNet2'] = df_plot['HF/6-31G*'] - df_plot['dAPNet2']\n",
    "print(df_plot[['dAPNet2', 'HF/6-31G*', 'HF/6-31G*-dAPNet2',  'reference']])\n",
    "df_plot['dAPNet2 error'] = (df_plot['HF/6-31G*-dAPNet2'] - df_plot['reference']).astype(float)\n",
    "\n",
    "error_statistics.violin_plot(\n",
    "    df_plot,\n",
    "    df_labels_and_columns={\n",
    "        \"HF/6-31G*\": \"HF/6-31G* error\",\n",
    "        \"PBE/6-31G*\": \"PBE/6-31G* error\",\n",
    "        \"SAPT0/aug-cc-pvdz\": \"SAPT0/aug-cc-pvdz error\",\n",
    "        \"APNet2\": \"APNet2 error\",\n",
    "        \"APNet2 transfer\": \"APNet2 transfer error\",\n",
    "        \"dAPNet2 HF/6-31G* to CCSD(T)/CBS\": \"dAPNet2 error\",\n",
    "    },\n",
    "    output_filename=\"S22-IE-AP2-dAP2.png\",\n",
    "    rcParams={},\n",
    "    usetex=False,\n",
    "    figure_size=(6, 4),\n",
    "    ylabel=r\"IE Error vs. CCSD(T)/CBS (kcal/mol)\",\n",
    ")"
   ]
  },
  {
   "cell_type": "code",
   "execution_count": null,
   "metadata": {
    "jukit_cell_id": "OVVcYRXWUA"
   },
   "outputs": [],
   "source": [
    "# Be careful with this for it can corrupt running status...\n",
    "# !ps aux | grep qcfractal | awk '{ print $2 }' | xargs kill -9"
   ]
  },
  {
   "cell_type": "markdown",
   "metadata": {
    "jukit_cell_id": "H2TTLmA061"
   },
   "source": [
    "# The end..."
   ]
  },
  {
   "cell_type": "code",
   "execution_count": null,
   "metadata": {
    "jukit_cell_id": "ULuCE0r8ED"
   },
   "outputs": [],
   "source": []
  }
 ],
 "metadata": {
  "anaconda-cloud": {},
  "kernelspec": {
   "display_name": "p4_qcml",
   "language": "python",
   "name": "python3"
  },
  "language_info": {
   "codemirror_mode": {
    "name": "ipython",
    "version": 3
   },
   "file_extension": ".py",
   "mimetype": "text/x-python",
   "name": "python",
   "nbconvert_exporter": "python",
   "pygments_lexer": "ipython3",
   "version": "3.10.17"
  }
 },
 "nbformat": 4,
 "nbformat_minor": 4
}
