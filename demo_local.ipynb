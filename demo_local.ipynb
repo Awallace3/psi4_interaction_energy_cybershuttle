{
 "cells": [
  {
   "cell_type": "markdown",
   "metadata": {
    "jukit_cell_id": "tveJZTmZdq"
   },
   "source": [
    "# QCArchive+QCMLForge Demo with CyberShuttle\n",
    "\n",
    "The first half of this demo shows how to use QCArchive to setup a dataset\n",
    "and run computations with ease. The compute resource for this noteboook\n",
    "uses Cybershuttle; however, a purely local resource demo is available under\n",
    "`./demo_local.ipynb`.\n",
    "\n",
    "The second half of this demo shows how one can consume the generated data\n",
    "to train AP-Net models through QCMLForge. \n",
    "\n",
    "## How is this useful?\n",
    "Prior to using quantum mechanical (QM) methods for applications, often computational\n",
    "chemists will either consult previous studies of benchmarked methods on similar\n",
    "systems, or perform the benchmarking task themselves. Then after quantifying\n",
    "error, the level of theory that balances both expected error and is a reasonable\n",
    "computational cost will be selected for applying to novel system(s).\n",
    "\n",
    "The Sherrill research group has performed quite a few of these benchmarking\n",
    "studies particularly for studying intermolecular interaction energies. These\n",
    "interaction energies basically determine how attractive (or repulsive) molecules\n",
    "behave when brought close together. A more practical definition for an\n",
    "interaction energy (IE) is: \n",
    "\n",
    "$E_{\\rm IE} = E_{\\rm dimer} - E_{\\rm monomerA} - E_{\\rm monomerB}$.\n",
    "\n",
    "Hence, the interaction energy is defined as the energy difference between\n",
    "the dimer (when the two molecules are together) and the molecules on\n",
    "their own (monomerA and monomerB in isolation).\n",
    "\n",
    "To demonstrate how one might carryout the computational aspects of a\n",
    "benchmarking study, the present notebook will provide examples of managing\n",
    "datasets with QCArchive and running QM calculations prior to analyzing error\n",
    "statistics with respect to reference energies. The second half of the notebook\n",
    "provides examples on how you could then apply QM data towards training ML models\n",
    "through QCMLForge."
   ]
  },
  {
   "cell_type": "code",
   "execution_count": 1,
   "metadata": {
    "jukit_cell_id": "sb2BSlStsm"
   },
   "outputs": [
    {
     "name": "stdout",
     "output_type": "stream",
     "text": [
      "Imports\n"
     ]
    }
   ],
   "source": [
    "import psi4\n",
    "from pprint import pprint as pp\n",
    "import pandas as pd\n",
    "import numpy as np\n",
    "from qm_tools_aw import tools\n",
    "import matplotlib.pyplot as plt\n",
    "# QCElemental Imports\n",
    "from qcelemental.models import Molecule\n",
    "import qcelemental as qcel\n",
    "# Dataset Imports\n",
    "from qcportal import PortalClient\n",
    "from qcportal.singlepoint import SinglepointDatasetEntry, QCSpecification\n",
    "from qcportal.manybody import ManybodyDatasetEntry, ManybodySpecification\n",
    "from torch import manual_seed\n",
    "\n",
    "manual_seed(42)\n",
    "\n",
    "h2kcalmol = qcel.constants.hartree2kcalmol\n",
    "print('Imports')"
   ]
  },
  {
   "cell_type": "markdown",
   "metadata": {
    "jukit_cell_id": "78H3oHPXBB"
   },
   "source": [
    "# QCArchive Setup\n",
    "QCArchive uses a PostgreSQL database for storing QM data including geometries,\n",
    "energies, and properties. Furthermore, to save on compute resources, every job\n",
    "generates a unique hash allowing future computations to be able to query previous\n",
    "job results for avoiding re-computing calculations, unless specifically requested.\n",
    "\n",
    "The following function initializes the QCArchive DB and QCFractal server, allowing\n",
    "us to then start the services for interfacing them through python. The configurations\n",
    "below will operate on a remote node through cybershuttle."
   ]
  },
  {
   "cell_type": "code",
   "execution_count": 14,
   "metadata": {
    "jukit_cell_id": "BVc6W6uOta"
   },
   "outputs": [
    {
     "name": "stdout",
     "output_type": "stream",
     "text": [
      "/home/amwalla3/gits/cybershuttle_demo/qcfractal\n",
      "/home/amwalla3/gits/cybershuttle_demo/qcfractal/postgres\n",
      "\n",
      "--------------------------------------------------------------------------------\n",
      "Python executable:  /home/amwalla3/miniconda3/envs/p4_qcml/bin/python\n",
      "QCFractal version:  0.59\n",
      "QCFractal alembic revision:  d5988aa750ae\n",
      "pg_ctl path:  /home/amwalla3/miniconda3/envs/p4_qcml/bin/pg_ctl\n",
      "PostgreSQL server version:  PostgreSQL 17.4 on x86_64-conda-linux-gnu, compiled by x86_64-conda-linux-gnu-cc (conda-forge gcc 13.3.0-2) 13.3.0, 64-bit\n",
      "--------------------------------------------------------------------------------\n",
      "\n",
      "\n",
      "Displaying QCFractal configuration below\n",
      "--------------------------------------------------------------------------------\n",
      "access_log_keep: 0\n",
      "allow_unauthenticated_read: true\n",
      "api:\n",
      "  extra_flask_options: null\n",
      "  extra_waitress_options: null\n",
      "  host: localhost\n",
      "  jwt_access_token_expires: 3600\n",
      "  jwt_refresh_token_expires: 86400\n",
      "  jwt_secret_key: M7u-bxfJMAopCfzJNXjIW9HFHd4R3Txgn_iNcYT8ik8\n",
      "  num_threads_per_worker: 4\n",
      "  port: 7778\n",
      "  secret_key: vXjUJQgBn_lqOpfh1JWBE3BE6zhunsym0RHT15JjEl0\n",
      "  worker_timeout: 120\n",
      "api_limits:\n",
      "  add_molecules: 1000\n",
      "  add_records: 500\n",
      "  get_access_logs: 1000\n",
      "  get_dataset_entries: 2000\n",
      "  get_error_logs: 100\n",
      "  get_internal_jobs: 1000\n",
      "  get_managers: 1000\n",
      "  get_molecules: 1000\n",
      "  get_records: 1000\n",
      "  manager_tasks_claim: 200\n",
      "  manager_tasks_return: 10\n",
      "auto_reset:\n",
      "  compute_lost: 5\n",
      "  enabled: false\n",
      "  random_error: 5\n",
      "  unknown_error: 2\n",
      "base_folder: /home/amwalla3/gits/cybershuttle_demo/qcfractal\n",
      "database:\n",
      "  base_folder: /home/amwalla3/gits/cybershuttle_demo/qcfractal\n",
      "  data_directory: /home/amwalla3/gits/cybershuttle_demo/qcfractal/postgres\n",
      "  database_name: qca\n",
      "  echo_sql: false\n",
      "  full_uri: null\n",
      "  host: localhost\n",
      "  logfile: /home/amwalla3/gits/cybershuttle_demo/qcfractal/qcfractal_database.log\n",
      "  maintenance_db: postgres\n",
      "  own: true\n",
      "  password: jCX1KdN7KPAHpuQ-H9XXMJHEV8GXsT7JUS29ebjgWQc\n",
      "  pg_tool_dir: null\n",
      "  pool_size: 5\n",
      "  port: 5433\n",
      "  query: {}\n",
      "  username: qcfractal\n",
      "enable_security: false\n",
      "geoip2_dir: /home/amwalla3/gits/cybershuttle_demo/qcfractal/geoip2\n",
      "geoip2_filename: GeoLite2-City.mmdb\n",
      "heartbeat_frequency: 60\n",
      "heartbeat_frequency_jitter: 0\n",
      "heartbeat_max_missed: 5\n",
      "hide_internal_errors: true\n",
      "homepage_directory: null\n",
      "homepage_redirect_url: null\n",
      "internal_job_keep: 0\n",
      "internal_job_processes: 1\n",
      "log_access: false\n",
      "logfile: null\n",
      "loglevel: INFO\n",
      "max_active_services: 20\n",
      "maxmind_license_key: null\n",
      "name: QCFractal Server\n",
      "s3:\n",
      "  access_key_id: null\n",
      "  bucket_map:\n",
      "    dataset_attachment: dataset_attachment\n",
      "  enabled: false\n",
      "  endpoint_url: null\n",
      "  passthrough: false\n",
      "  secret_access_key: null\n",
      "  verify: true\n",
      "service_frequency: 5\n",
      "strict_queue_tags: false\n",
      "temporary_dir: /tmp\n",
      "--------------------------------------------------------------------------------\n",
      "\n",
      "QCFractal setup complete\n",
      "To start the server run:\n",
      "  qcfractal-server --config=/home/amwalla3/gits/cybershuttle_demo/qcfractal/qcfractal_config.yaml start\n",
      "To start the compute manager run:\n",
      "  qcfractal-compute-manager --config=/home/amwalla3/gits/cybershuttle_demo/qcfractal/resources.yml\n"
     ]
    }
   ],
   "source": [
    "from qcmlforge import qca\n",
    "import os\n",
    "\n",
    "# Update these if you request non-default resources from cybershuttle.yml\n",
    "max_workers = 2\n",
    "cores_per_worker = 8\n",
    "memory_per_worker = 16\n",
    "\n",
    "qca.setup_qcarchive_qcfractal(\n",
    "    QCF_BASE_FOLDER=os.path.join(os.getcwd(), \"qcfractal\"),\n",
    "    start=False,\n",
    "    reset=False,\n",
    "    db_config={\n",
    "        \"name\": None,\n",
    "        \"enable_security\": \"false\",\n",
    "        \"allow_unauthenticated_read\": None,\n",
    "        \"logfile\": None,\n",
    "        \"loglevel\": None,\n",
    "        \"service_frequency\": 5,\n",
    "        \"max_active_services\": None,\n",
    "        \"heartbeat_frequency\": 60,\n",
    "        \"log_access\": None,\n",
    "        \"database\": {\n",
    "            \"base_folder\": None,\n",
    "            \"host\": None,\n",
    "            \"port\": 5433,\n",
    "            \"database_name\": \"qca\",\n",
    "            \"username\": None,\n",
    "            \"password\": None,\n",
    "            \"own\": None,\n",
    "        },\n",
    "        \"api\": {\n",
    "            \"host\": None,\n",
    "            \"port\": 7778,\n",
    "            \"secret_key\": None,\n",
    "            \"jwt_secret_key\": None,\n",
    "        },\n",
    "    },\n",
    "    resources_config={\n",
    "            \"update_frequency\": 5,\n",
    "            \"cores_per_worker\": cores_per_worker,\n",
    "            \"max_workers\": max_workers,\n",
    "            \"memory_per_worker\": memory_per_worker,\n",
    "    },\n",
    "    conda_env=None,\n",
    "    worker_sh=None,\n",
    ")"
   ]
  },
  {
   "cell_type": "code",
   "execution_count": 15,
   "metadata": {
    "jukit_cell_id": "CwEhpqwLXX"
   },
   "outputs": [
    {
     "data": {
      "text/plain": [
       "0"
      ]
     },
     "execution_count": 15,
     "metadata": {},
     "output_type": "execute_result"
    }
   ],
   "source": [
    "get_ipython().system = os.system\n",
    "!qcfractal-server --config=`pwd`/qcfractal/qcfractal_config.yaml start > qcfractal/qcf_server.log &"
   ]
  },
  {
   "cell_type": "code",
   "execution_count": 16,
   "metadata": {
    "jukit_cell_id": "3HjtiyIuFg"
   },
   "outputs": [
    {
     "data": {
      "text/plain": [
       "0"
      ]
     },
     "execution_count": 16,
     "metadata": {},
     "output_type": "execute_result"
    },
    {
     "name": "stdout",
     "output_type": "stream",
     "text": [
      "[2025-05-07 08:45:58 EDT]     INFO: qcfractalcompute.config: Reading configuration data from /home/amwalla3/gits/cybershuttle_demo/qcfractal/resources.yml\n",
      "**********\n",
      "Logging to file /home/amwalla3/gits/cybershuttle_demo/qcfractal/qcfractal-manager.log, logging level INFO\n",
      "**********\n"
     ]
    }
   ],
   "source": [
    "!qcfractal-compute-manager --config=`pwd`/qcfractal/resources.yml &"
   ]
  },
  {
   "cell_type": "code",
   "execution_count": 2,
   "metadata": {},
   "outputs": [
    {
     "name": "stdout",
     "output_type": "stream",
     "text": [
      "PortalClient(server_name='QCFractal Server', address='http://localhost:7778/', username='None')\n"
     ]
    }
   ],
   "source": [
    "# Establish client connection\n",
    "client = PortalClient(\"http://localhost:7778\", verify=False)\n",
    "print(client)"
   ]
  },
  {
   "cell_type": "markdown",
   "metadata": {
    "jukit_cell_id": "X31FadtbG5"
   },
   "source": [
    "# QCArchive single point example with Psi4\n",
    "\n",
    "QCArchive/QCFractal can be used to run several QM softwares, but the focus of\n",
    "the present notebook will highlight the popular, open-source Psi4 program. \n",
    "\n",
    "As a simple example, we can specify a water dimer geometry and then\n",
    "create a singlepoint energy entry into the database with the client."
   ]
  },
  {
   "cell_type": "code",
   "execution_count": 3,
   "metadata": {
    "jukit_cell_id": "hMCmRgdGJ4"
   },
   "outputs": [
    {
     "data": {
      "text/plain": [
       "(InsertMetadata(error_description=None, errors=[], inserted_idx=[], existing_idx=[0]),\n",
       " [1])"
      ]
     },
     "execution_count": 3,
     "metadata": {},
     "output_type": "execute_result"
    }
   ],
   "source": [
    "# Running a single job\n",
    "mol = Molecule.from_data(\n",
    "    \"\"\"\n",
    "     0 1\n",
    "     O  -1.551007  -0.114520   0.000000\n",
    "     H  -1.934259   0.762503   0.000000\n",
    "     H  -0.599677   0.040712   0.000000\n",
    "     --\n",
    "     0 1\n",
    "     O   1.350625   0.111469   0.000000\n",
    "     H   1.680398  -0.373741  -0.758561\n",
    "     H   1.680398  -0.373741   0.758561\n",
    "\n",
    "     units angstrom\n",
    "     no_reorient\n",
    "     symmetry c1\n",
    "\"\"\"\n",
    ")\n",
    "\n",
    "client.add_singlepoints(\n",
    "    [mol],\n",
    "    \"psi4\",\n",
    "    driver=\"energy\",\n",
    "    method=\"b3lyp\",\n",
    "    basis=\"aug-cc-pvdz\",\n",
    "    keywords={\"scf_type\": \"df\", \"e_convergence\": 6, \"freeze_core\": True},\n",
    "    tag=\"local\",\n",
    ")\n"
   ]
  },
  {
   "cell_type": "markdown",
   "metadata": {},
   "source": [
    "## Query Results"
   ]
  },
  {
   "cell_type": "code",
   "execution_count": 4,
   "metadata": {},
   "outputs": [
    {
     "name": "stdout",
     "output_type": "stream",
     "text": [
      "<qcportal.record_models.RecordQueryIterator object at 0x770e0830af20>\n",
      "RecordStatusEnum.complete\n",
      "<SinglepointRecord id=1 status=complete>\n",
      "<bound method BaseModel.dict of SinglepointRecord(id=1, record_type='singlepoint', is_service=False, properties={'pe energy': 0.0, 'scf dipole': [1.014433761214748, 0.03039716795360614, 4.741514255876544e-12], 'calcinfo_nmo': 82, 'dft xc energy': -15.093933325834762, 'return_energy': -152.89658734330817, 'return_result': -152.89658734330817, 'scf_xc_energy': -15.093933325834762, 'calcinfo_natom': 6, 'calcinfo_nbeta': 10, 'current dipole': [1.014433761214748, 0.03039716795360614, 4.741514255876544e-12], 'current energy': -152.89658734330817, 'return_hessian': None, 'scf_iterations': 8, 'calcinfo_nalpha': 10, 'calcinfo_nbasis': 82, 'dft vv10 energy': 0.0, 'return_gradient': None, 'dft total energy': -152.89658734330817, 'scf_total_energy': -152.89658734330817, 'scf_dipole_moment': [1.014433761214748, 0.03039716795360614, 4.741514255876544e-12], 'scf_total_hessian': None, 'scf total energies': [-152.18329179022413, -152.54809853364753, -151.7847704828133, -152.89584149375625, -152.89589353340784, -152.8965718707635, -152.8965866974081, -152.89658733874973, -152.89658734330817], 'scf_total_gradient': None, 'dd solvation energy': 0.0, 'grid electrons beta': 10.000001013223184, 'one-electron energy': -282.4847235690832, 'two-electron energy': 108.01922155474642, 'grid electrons alpha': 10.000001013223184, 'grid electrons total': 20.000002026446367, 'scf iteration energy': -152.89658734330817, 'xc grid total points': 132401.0, 'xc grid radial points': 75.0, 'pcm polarization energy': 0.0, 'scf_one_electron_energy': -282.4847235690832, 'scf_two_electron_energy': 108.01922155474642, 'current reference energy': -152.89658734330817, 'nuclear_repulsion_energy': 36.66284799686338, 'xc grid spherical points': 302.0, 'dft functional total energy': -152.89658734330817}, extras={}, status=<RecordStatusEnum.complete: 'complete'>, manager_name='theoryfs-archlinux-7d1ce43f-cc00-4c11-9df1-ffc2ffb6221e', created_on=datetime.datetime(2025, 5, 7, 8, 46, 5, 701640, tzinfo=datetime.timezone(datetime.timedelta(days=-1, seconds=72000))), modified_on=datetime.datetime(2025, 5, 7, 8, 46, 13, 773823, tzinfo=datetime.timezone(datetime.timedelta(days=-1, seconds=72000))), owner_user=None, owner_group=None, compute_history_=None, task_=None, service_=None, comments_=None, native_files_=None, specification=QCSpecification(program='psi4', driver=<SinglepointDriver.energy: 'energy'>, method='b3lyp', basis='aug-cc-pvdz', keywords={'scf_type': 'df', 'freeze_core': True, 'e_convergence': 6}, protocols=AtomicResultProtocols(wavefunction=<WavefunctionProtocolEnum.none: 'none'>, stdout=True, error_correction=ErrorCorrectionProtocol(default_policy=True, policies=None), native_files=<NativeFilesProtocolEnum.none: 'none'>)), molecule_id=1, molecule_=None, wavefunction_=None)>\n",
      "-152.89658734330817\n"
     ]
    }
   ],
   "source": [
    "recs = client.query_records(\n",
    "    record_id=[1]\n",
    ")\n",
    "print(recs)\n",
    "for rec in recs:\n",
    "    print(rec.status)\n",
    "    print(rec)\n",
    "    print(rec.dict)\n",
    "    print(rec.properties['return_result'])"
   ]
  },
  {
   "cell_type": "markdown",
   "metadata": {
    "jukit_cell_id": "6DmD5wp1nB"
   },
   "source": [
    "# Dataset Example\n",
    "While one could use the above logic for all calculations, QCArchive provides\n",
    "dataset options to make managing data for a specific application substantially\n",
    "easier. \n",
    "\n",
    "Prior to creating the QCArchive datasets, we will first load in data from a \n",
    "recently submitted Sherrill work [Levels of SAPT II](https://chemrxiv.org/engage/chemrxiv/article-details/67fe885f6e70d6fb2e033804). To faciliate insertion\n",
    "into the DB, we will create QCElemental Molecule objects in the pickle file\n",
    "and extract specific columns to store as variables for usage below. "
   ]
  },
  {
   "cell_type": "code",
   "execution_count": 5,
   "metadata": {
    "jukit_cell_id": "Z0wXrcgRq8"
   },
   "outputs": [
    {
     "name": "stdout",
     "output_type": "stream",
     "text": [
      "     Benchmark SAPT2+3(CCD)DMP2 TOTAL ENERGY aqz  MP2 IE atz  \\\n",
      "0      -10.248                         -0.016681   -0.015629   \n",
      "1      -15.245                         -0.024763   -0.023012   \n",
      "2       -3.517                         -0.005637   -0.005608   \n",
      "3       -0.127                         -0.000187   -0.000194   \n",
      "4       -8.990                         -0.014655   -0.013687   \n",
      "..         ...                               ...         ...   \n",
      "353     -4.390                         -0.007196   -0.006835   \n",
      "354     -1.130                         -0.001489   -0.002395   \n",
      "355     -0.260                         -0.000432   -0.000450   \n",
      "356     -5.740                         -0.009198   -0.008974   \n",
      "357     -3.120                         -0.004909   -0.005518   \n",
      "\n",
      "     SAPT0 TOTAL ENERGY adz  \n",
      "0                 -0.018254  \n",
      "1                 -0.027620  \n",
      "2                 -0.005920  \n",
      "3                 -0.000192  \n",
      "4                 -0.016209  \n",
      "..                      ...  \n",
      "353               -0.008013  \n",
      "354               -0.002090  \n",
      "355               -0.000503  \n",
      "356               -0.009757  \n",
      "357               -0.005630  \n",
      "\n",
      "[358 rows x 4 columns]\n",
      "count    100.000000\n",
      "mean      11.970000\n",
      "std        2.750409\n",
      "min        3.000000\n",
      "25%       10.000000\n",
      "50%       12.000000\n",
      "75%       14.000000\n",
      "max       16.000000\n",
      "Name: size, dtype: float64\n"
     ]
    }
   ],
   "source": [
    "# Creating a QCArchive Dataset...\n",
    "# Load in a dataset from a recent Sherrill work (Levels of SAPT II)\n",
    "df_LoS = pd.read_pickle(\"./combined_df_subset_358.pkl\")\n",
    "print(df_LoS[['Benchmark', 'SAPT2+3(CCD)DMP2 TOTAL ENERGY aqz', 'MP2 IE atz', 'SAPT0 TOTAL ENERGY adz' ]])\n",
    "\n",
    "# Limit to 100 molecules with maximum of 16 atoms to keep computational cost down\n",
    "df_LoS['size'] = df_LoS['atomic_numbers'].apply(lambda x: len(x))\n",
    "df_LoS = df_LoS[df_LoS['size'] <= 16]\n",
    "df_LoS = df_LoS.sample(100, random_state=42, axis=0).copy()\n",
    "# df_LoS = df_LoS.sample(50, random_state=42, axis=0).copy()\n",
    "df_LoS.reset_index(drop=True, inplace=True)\n",
    "print(df_LoS['size'].describe())\n",
    "\n",
    "# Create QCElemntal Molecules to generate the dataset\n",
    "def qcel_mols(row):\n",
    "    \"\"\"\n",
    "    Convert the row to a qcel molecule\n",
    "    \"\"\"\n",
    "    atomic_numbers = [row['atomic_numbers'][row['monAs']], row['atomic_numbers'][row['monBs']]]\n",
    "    coords = [row['coordinates'][row['monAs']], row['coordinates'][row['monBs']]]\n",
    "    cm = [\n",
    "        [row['monA_charge'], row['monA_multiplicity']],\n",
    "        [row['monB_charge'], row['monB_multiplicity']],\n",
    "     ]\n",
    "    return tools.convert_pos_carts_to_mol(atomic_numbers, coords, cm)\n",
    "df_LoS['qcel_molecule'] = df_LoS.apply(qcel_mols, axis=1)\n",
    "geoms = df_LoS['qcel_molecule'].tolist()\n",
    "ref_IEs = df_LoS['Benchmark'].tolist()\n",
    "sapt0_adz = (df_LoS['SAPT0 TOTAL ENERGY adz'] * h2kcalmol).tolist()"
   ]
  },
  {
   "cell_type": "markdown",
   "metadata": {
    "jukit_cell_id": "iwmcvViziS"
   },
   "source": [
    "## Singlepoint Dataset\n",
    "\n",
    "First, to demonstrate how you could use this data for singlepoint energies/properties like the water\n",
    "dimer example above, we will create a singlepoint dataset and slot in our geometry data. "
   ]
  },
  {
   "cell_type": "code",
   "execution_count": 6,
   "metadata": {
    "jukit_cell_id": "i8ICwzPWaD"
   },
   "outputs": [
    {
     "name": "stdout",
     "output_type": "stream",
     "text": [
      "Found LoS-singlepoint dataset, using this instead\n",
      "id=1 dataset_type='singlepoint' name='LoS-singlepoint' description='Dataset to contain LoS-singlepoint' tagline='' tags=[] group='default' visibility=True provenance={} default_tag='*' default_priority=<PriorityEnum.normal: 1> owner_user=None owner_group=None metadata={} extras={} contributed_values_=None attachments_=None auto_fetch_missing=True\n"
     ]
    }
   ],
   "source": [
    "# Create client dataset\n",
    "ds_name = 'LoS-singlepoint'\n",
    "client_datasets = [i['dataset_name'] for i in client.list_datasets()]\n",
    "# Check if dataset already exists, if not create a new one\n",
    "if ds_name not in client_datasets:\n",
    "    ds = client.add_dataset(\"singlepoint\", ds_name,\n",
    "                            f\"Dataset to contain {ds_name}\")\n",
    "    print(f\"Added {ds_name} as dataset\")\n",
    "    # Insert entries into dataset\n",
    "    entry_list = []\n",
    "    for idx, mol in enumerate(geoms):\n",
    "        extras = {\n",
    "            \"name\": 'LoS-' + str(idx),\n",
    "            \"idx\": idx,\n",
    "        }\n",
    "        mol = Molecule.from_data(mol.dict(), extras=extras)\n",
    "        ent = SinglepointDatasetEntry(name=extras['name'], molecule=mol)\n",
    "        entry_list.append(ent)\n",
    "    ds.add_entries(entry_list)\n",
    "    print(f\"Added {len(entry_list)} molecules to dataset\")\n",
    "else:\n",
    "    ds = client.get_dataset(\"singlepoint\", ds_name)\n",
    "    print(f\"Found {ds_name} dataset, using this instead\")\n",
    "\n",
    "print(ds)"
   ]
  },
  {
   "cell_type": "code",
   "execution_count": 7,
   "metadata": {
    "jukit_cell_id": "7ZAOPlzuUX"
   },
   "outputs": [],
   "source": [
    "# Can delete the dataset if you want to start over. Need to know dataset_id\n",
    "# client.delete_dataset(dataset_id=ds.id, delete_records=True)"
   ]
  },
  {
   "cell_type": "markdown",
   "metadata": {},
   "source": [
    "# Create QCSpecification and submit computations\n",
    "Now that the dataset has been created with our molecular systems, we will\n",
    "specify a level of theory (method/basis set) for running our calculations. We\n",
    "will name our specification \"psi4/SAPT0/cc-pvdz\" to easily label this\n",
    "specification's level of theory and program. This name will be used later\n",
    "during data collection and analysis. Although many QM methods that use a\n",
    "singlepoint energy would return a total energy, SAPT is a specialized method\n",
    "that directly computes the interaction energy between our monomers."
   ]
  },
  {
   "cell_type": "code",
   "execution_count": 8,
   "metadata": {
    "jukit_cell_id": "vMkm00fo00"
   },
   "outputs": [
    {
     "data": {
      "text/plain": [
       "InsertMetadata(error_description=None, errors=[], inserted_idx=[], existing_idx=[0])"
      ]
     },
     "execution_count": 8,
     "metadata": {},
     "output_type": "execute_result"
    }
   ],
   "source": [
    "# SAPT0 Example\n",
    "method, basis = \"SAPT0\", \"cc-pvdz\"\n",
    "\n",
    "# Set the QCSpecification (QM interaction energy in our case)\n",
    "spec = QCSpecification(\n",
    "    program=\"psi4\",\n",
    "    driver=\"energy\",\n",
    "    method=method,\n",
    "    basis=basis,\n",
    "    keywords={\n",
    "        \"scf_type\": \"df\",\n",
    "    },\n",
    ")\n",
    "ds.add_specification(name=f\"psi4/{method}/{basis}\", specification=spec)"
   ]
  },
  {
   "cell_type": "code",
   "execution_count": 9,
   "metadata": {
    "jukit_cell_id": "dwYb9dbQNI"
   },
   "outputs": [
    {
     "name": "stdout",
     "output_type": "stream",
     "text": [
      "Submitted LoS-singlepoint dataset\n"
     ]
    }
   ],
   "source": [
    "# Run the computations\n",
    "ds.submit()\n",
    "print(f\"Submitted {ds_name} dataset\")"
   ]
  },
  {
   "cell_type": "code",
   "execution_count": 10,
   "metadata": {
    "jukit_cell_id": "2JMCNlehez"
   },
   "outputs": [
    {
     "data": {
      "text/plain": [
       "{'psi4/SAPT0/cc-pvdz': {<RecordStatusEnum.complete: 'complete'>: 100}}"
      ]
     },
     "execution_count": 10,
     "metadata": {},
     "output_type": "execute_result"
    }
   ],
   "source": [
    "# Check the status of the dataset - can repeatedly run this to see the progress\n",
    "ds.status()"
   ]
  },
  {
   "cell_type": "markdown",
   "metadata": {
    "jukit_cell_id": "kT14mJyNqJ"
   },
   "source": [
    "## Manybody Dataset - typical way to compute interaction energies with most QM methods\n",
    "\n",
    "While SAPT0 returns an interaction energy from a singlepoint energy, most other QM\n",
    "methods like HF, MP2, CCSD, or DFT would return a total dimer energy ($E_{\\rm dimer}$). To\n",
    "get QCArchive to run the energies of the dimer, monomerA, and monomerB and return the \n",
    "energy difference as above for $E_{\\rm IE}$, we can use the ManybodyDataset. The setup is\n",
    "similar to the singlepoint dataset above, but using different objects."
   ]
  },
  {
   "cell_type": "code",
   "execution_count": 11,
   "metadata": {
    "jukit_cell_id": "g31JlHrgso"
   },
   "outputs": [
    {
     "name": "stdout",
     "output_type": "stream",
     "text": [
      "Found LoS-manybody dataset, using this instead\n",
      "id=2 dataset_type='manybody' name='LoS-manybody' description='Dataset to contain LoS-manybody' tagline='' tags=[] group='default' visibility=True provenance={} default_tag='*' default_priority=<PriorityEnum.normal: 1> owner_user=None owner_group=None metadata={} extras={} contributed_values_=None attachments_=None auto_fetch_missing=True\n"
     ]
    }
   ],
   "source": [
    "# Create client dataset\n",
    "ds_name_mb = 'LoS-manybody'\n",
    "client_datasets = [i['dataset_name'] for i in client.list_datasets()]\n",
    "# Check if dataset already exists, if not create a new one\n",
    "if ds_name_mb not in client_datasets:\n",
    "    print(\"Setting up new dataset:\", ds_name_mb)\n",
    "    ds_mb = client.add_dataset(\"manybody\", ds_name_mb,\n",
    "                            f\"Dataset to contain {ds_name_mb}\")\n",
    "    print(f\"Added {ds_name_mb} as dataset\")\n",
    "    # Insert entries into dataset\n",
    "    entry_list = []\n",
    "    for idx, mol in enumerate(geoms):\n",
    "        ent = ManybodyDatasetEntry(name=f\"LoS-IE-{idx}\", initial_molecule=mol)\n",
    "        entry_list.append(ent)\n",
    "    ds_mb.add_entries(entry_list)\n",
    "    print(f\"Added {len(entry_list)} molecules to dataset\")\n",
    "else:\n",
    "    ds_mb = client.get_dataset(\"manybody\", ds_name_mb)\n",
    "    print(f\"Found {ds_name_mb} dataset, using this instead\")\n",
    "\n",
    "print(ds_mb)\n",
    "\n",
    "# Can delete the dataset if you want to start over. Need to know dataset_id\n",
    "# client.delete_dataset(dataset_id=2, delete_records=True)"
   ]
  },
  {
   "cell_type": "code",
   "execution_count": 12,
   "metadata": {
    "jukit_cell_id": "bYERcUudd0"
   },
   "outputs": [
    {
     "data": {
      "text/plain": [
       "{'psi4/hf/6-31g*': {<RecordStatusEnum.complete: 'complete'>: 100}}"
      ]
     },
     "execution_count": 12,
     "metadata": {},
     "output_type": "execute_result"
    }
   ],
   "source": [
    "ds_mb.status()"
   ]
  },
  {
   "cell_type": "markdown",
   "metadata": {},
   "source": [
    "# Specify level of theory for Manybody dataset\n",
    "Similar to above, we can iterate through different levels of theory, create\n",
    "QCSpecifications, and submit the dataset computations. The major difference here\n",
    "is that now the \"levels\" must be specified for the ManybodySpecification. These\n",
    "\"levels\" refer to what level of theory and options we want to run our dimer (2)\n",
    "and monomer (1) computations with. "
   ]
  },
  {
   "cell_type": "code",
   "execution_count": 13,
   "metadata": {
    "jukit_cell_id": "gauw3VIjl9"
   },
   "outputs": [
    {
     "name": "stdout",
     "output_type": "stream",
     "text": [
      "spec_mb program='qcmanybody' levels={1: QCSpecification(program='psi4', driver=<SinglepointDriver.energy: 'energy'>, method='hf', basis='6-31g*', keywords={'d_convergence': 8, 'scf_type': 'df'}, protocols=AtomicResultProtocols(wavefunction=<WavefunctionProtocolEnum.none: 'none'>, stdout=True, error_correction=ErrorCorrectionProtocol(default_policy=True, policies=None), native_files=<NativeFilesProtocolEnum.none: 'none'>)), 2: QCSpecification(program='psi4', driver=<SinglepointDriver.energy: 'energy'>, method='hf', basis='6-31g*', keywords={'d_convergence': 8, 'scf_type': 'df'}, protocols=AtomicResultProtocols(wavefunction=<WavefunctionProtocolEnum.none: 'none'>, stdout=True, error_correction=ErrorCorrectionProtocol(default_policy=True, policies=None), native_files=<NativeFilesProtocolEnum.none: 'none'>))} bsse_correction=[<BSSECorrectionEnum.cp: 'cp'>] keywords=ManybodyKeywords(return_total_data=False) protocols={}\n",
      "Submitted LoS-singlepoint dataset\n"
     ]
    }
   ],
   "source": [
    "# Set multiple levels of theory - you can add/remove levels as you desire.\n",
    "# Computational scaling will get quite expensive with better methods and larger\n",
    "# basis sets\n",
    "\n",
    "methods = [\n",
    "    'hf', # 'svwn', # 'pbe', \n",
    "]\n",
    "basis_sets = [\n",
    "    '6-31g*'\n",
    "]\n",
    "\n",
    "for method in methods:\n",
    "    for basis in basis_sets:\n",
    "        # Set the QCSpecification (QM interaction energy in our case)\n",
    "        qc_spec_mb = QCSpecification(\n",
    "            program=\"psi4\",\n",
    "            driver=\"energy\",\n",
    "            method=method,\n",
    "            basis=basis,\n",
    "            keywords={\n",
    "                \"d_convergence\": 8,\n",
    "                \"scf_type\": \"df\",\n",
    "            },\n",
    "        )\n",
    "\n",
    "        spec_mb = ManybodySpecification(\n",
    "            program='qcmanybody',\n",
    "            bsse_correction=['cp'],\n",
    "            levels={\n",
    "                1: qc_spec_mb,\n",
    "                2: qc_spec_mb,\n",
    "            },\n",
    "        )\n",
    "        print(\"spec_mb\", spec_mb)\n",
    "\n",
    "        ds_mb.add_specification(name=f\"psi4/{method}/{basis}\", specification=spec_mb)\n",
    "\n",
    "        # Run the computations\n",
    "        ds_mb.submit()\n",
    "        print(f\"Submitted {ds_name} dataset\")"
   ]
  },
  {
   "cell_type": "markdown",
   "metadata": {},
   "source": [
    "# Dataset Status\n",
    "We can re-execute the following cell to see how many computations have completed and how many are running/waiting."
   ]
  },
  {
   "cell_type": "code",
   "execution_count": 14,
   "metadata": {
    "jukit_cell_id": "qYukdPBXmi"
   },
   "outputs": [
    {
     "name": "stdout",
     "output_type": "stream",
     "text": [
      "{'psi4/SAPT0/cc-pvdz': {<RecordStatusEnum.complete: 'complete'>: 100}}\n",
      "{'psi4/hf/6-31g*': {<RecordStatusEnum.complete: 'complete'>: 100}}\n"
     ]
    }
   ],
   "source": [
    "pp(ds.status())\n",
    "pp(ds_mb.status())"
   ]
  },
  {
   "cell_type": "code",
   "execution_count": 15,
   "metadata": {},
   "outputs": [
    {
     "data": {
      "text/plain": [
       "[('LoS-IE-54', 'psi4/hf/6-31g*', <RecordStatusEnum.complete: 'complete'>),\n",
       " ('LoS-IE-39', 'psi4/hf/6-31g*', <RecordStatusEnum.complete: 'complete'>),\n",
       " ('LoS-IE-67', 'psi4/hf/6-31g*', <RecordStatusEnum.complete: 'complete'>),\n",
       " ('LoS-IE-11', 'psi4/hf/6-31g*', <RecordStatusEnum.complete: 'complete'>),\n",
       " ('LoS-IE-6', 'psi4/hf/6-31g*', <RecordStatusEnum.complete: 'complete'>),\n",
       " ('LoS-IE-55', 'psi4/hf/6-31g*', <RecordStatusEnum.complete: 'complete'>),\n",
       " ('LoS-IE-49', 'psi4/hf/6-31g*', <RecordStatusEnum.complete: 'complete'>),\n",
       " ('LoS-IE-17', 'psi4/hf/6-31g*', <RecordStatusEnum.complete: 'complete'>),\n",
       " ('LoS-IE-79', 'psi4/hf/6-31g*', <RecordStatusEnum.complete: 'complete'>),\n",
       " ('LoS-IE-70', 'psi4/hf/6-31g*', <RecordStatusEnum.complete: 'complete'>),\n",
       " ('LoS-IE-21', 'psi4/hf/6-31g*', <RecordStatusEnum.complete: 'complete'>),\n",
       " ('LoS-IE-76', 'psi4/hf/6-31g*', <RecordStatusEnum.complete: 'complete'>),\n",
       " ('LoS-IE-25', 'psi4/hf/6-31g*', <RecordStatusEnum.complete: 'complete'>),\n",
       " ('LoS-IE-56', 'psi4/hf/6-31g*', <RecordStatusEnum.complete: 'complete'>),\n",
       " ('LoS-IE-82', 'psi4/hf/6-31g*', <RecordStatusEnum.complete: 'complete'>),\n",
       " ('LoS-IE-43', 'psi4/hf/6-31g*', <RecordStatusEnum.complete: 'complete'>),\n",
       " ('LoS-IE-87', 'psi4/hf/6-31g*', <RecordStatusEnum.complete: 'complete'>),\n",
       " ('LoS-IE-23', 'psi4/hf/6-31g*', <RecordStatusEnum.complete: 'complete'>),\n",
       " ('LoS-IE-66', 'psi4/hf/6-31g*', <RecordStatusEnum.complete: 'complete'>),\n",
       " ('LoS-IE-94', 'psi4/hf/6-31g*', <RecordStatusEnum.complete: 'complete'>),\n",
       " ('LoS-IE-1', 'psi4/hf/6-31g*', <RecordStatusEnum.complete: 'complete'>),\n",
       " ('LoS-IE-22', 'psi4/hf/6-31g*', <RecordStatusEnum.complete: 'complete'>),\n",
       " ('LoS-IE-36', 'psi4/hf/6-31g*', <RecordStatusEnum.complete: 'complete'>),\n",
       " ('LoS-IE-50', 'psi4/hf/6-31g*', <RecordStatusEnum.complete: 'complete'>),\n",
       " ('LoS-IE-8', 'psi4/hf/6-31g*', <RecordStatusEnum.complete: 'complete'>),\n",
       " ('LoS-IE-92', 'psi4/hf/6-31g*', <RecordStatusEnum.complete: 'complete'>),\n",
       " ('LoS-IE-88', 'psi4/hf/6-31g*', <RecordStatusEnum.complete: 'complete'>),\n",
       " ('LoS-IE-10', 'psi4/hf/6-31g*', <RecordStatusEnum.complete: 'complete'>),\n",
       " ('LoS-IE-68', 'psi4/hf/6-31g*', <RecordStatusEnum.complete: 'complete'>),\n",
       " ('LoS-IE-37', 'psi4/hf/6-31g*', <RecordStatusEnum.complete: 'complete'>),\n",
       " ('LoS-IE-46', 'psi4/hf/6-31g*', <RecordStatusEnum.complete: 'complete'>),\n",
       " ('LoS-IE-38', 'psi4/hf/6-31g*', <RecordStatusEnum.complete: 'complete'>),\n",
       " ('LoS-IE-84', 'psi4/hf/6-31g*', <RecordStatusEnum.complete: 'complete'>),\n",
       " ('LoS-IE-53', 'psi4/hf/6-31g*', <RecordStatusEnum.complete: 'complete'>),\n",
       " ('LoS-IE-61', 'psi4/hf/6-31g*', <RecordStatusEnum.complete: 'complete'>),\n",
       " ('LoS-IE-29', 'psi4/hf/6-31g*', <RecordStatusEnum.complete: 'complete'>),\n",
       " ('LoS-IE-31', 'psi4/hf/6-31g*', <RecordStatusEnum.complete: 'complete'>),\n",
       " ('LoS-IE-85', 'psi4/hf/6-31g*', <RecordStatusEnum.complete: 'complete'>),\n",
       " ('LoS-IE-30', 'psi4/hf/6-31g*', <RecordStatusEnum.complete: 'complete'>),\n",
       " ('LoS-IE-32', 'psi4/hf/6-31g*', <RecordStatusEnum.complete: 'complete'>),\n",
       " ('LoS-IE-69', 'psi4/hf/6-31g*', <RecordStatusEnum.complete: 'complete'>),\n",
       " ('LoS-IE-64', 'psi4/hf/6-31g*', <RecordStatusEnum.complete: 'complete'>),\n",
       " ('LoS-IE-90', 'psi4/hf/6-31g*', <RecordStatusEnum.complete: 'complete'>),\n",
       " ('LoS-IE-65', 'psi4/hf/6-31g*', <RecordStatusEnum.complete: 'complete'>),\n",
       " ('LoS-IE-16', 'psi4/hf/6-31g*', <RecordStatusEnum.complete: 'complete'>),\n",
       " ('LoS-IE-13', 'psi4/hf/6-31g*', <RecordStatusEnum.complete: 'complete'>),\n",
       " ('LoS-IE-52', 'psi4/hf/6-31g*', <RecordStatusEnum.complete: 'complete'>),\n",
       " ('LoS-IE-19', 'psi4/hf/6-31g*', <RecordStatusEnum.complete: 'complete'>),\n",
       " ('LoS-IE-24', 'psi4/hf/6-31g*', <RecordStatusEnum.complete: 'complete'>),\n",
       " ('LoS-IE-89', 'psi4/hf/6-31g*', <RecordStatusEnum.complete: 'complete'>),\n",
       " ('LoS-IE-41', 'psi4/hf/6-31g*', <RecordStatusEnum.complete: 'complete'>),\n",
       " ('LoS-IE-3', 'psi4/hf/6-31g*', <RecordStatusEnum.complete: 'complete'>),\n",
       " ('LoS-IE-20', 'psi4/hf/6-31g*', <RecordStatusEnum.complete: 'complete'>),\n",
       " ('LoS-IE-63', 'psi4/hf/6-31g*', <RecordStatusEnum.complete: 'complete'>),\n",
       " ('LoS-IE-95', 'psi4/hf/6-31g*', <RecordStatusEnum.complete: 'complete'>),\n",
       " ('LoS-IE-77', 'psi4/hf/6-31g*', <RecordStatusEnum.complete: 'complete'>),\n",
       " ('LoS-IE-4', 'psi4/hf/6-31g*', <RecordStatusEnum.complete: 'complete'>),\n",
       " ('LoS-IE-34', 'psi4/hf/6-31g*', <RecordStatusEnum.complete: 'complete'>),\n",
       " ('LoS-IE-44', 'psi4/hf/6-31g*', <RecordStatusEnum.complete: 'complete'>),\n",
       " ('LoS-IE-81', 'psi4/hf/6-31g*', <RecordStatusEnum.complete: 'complete'>),\n",
       " ('LoS-IE-75', 'psi4/hf/6-31g*', <RecordStatusEnum.complete: 'complete'>),\n",
       " ('LoS-IE-71', 'psi4/hf/6-31g*', <RecordStatusEnum.complete: 'complete'>),\n",
       " ('LoS-IE-62', 'psi4/hf/6-31g*', <RecordStatusEnum.complete: 'complete'>),\n",
       " ('LoS-IE-73', 'psi4/hf/6-31g*', <RecordStatusEnum.complete: 'complete'>),\n",
       " ('LoS-IE-99', 'psi4/hf/6-31g*', <RecordStatusEnum.complete: 'complete'>),\n",
       " ('LoS-IE-58', 'psi4/hf/6-31g*', <RecordStatusEnum.complete: 'complete'>),\n",
       " ('LoS-IE-2', 'psi4/hf/6-31g*', <RecordStatusEnum.complete: 'complete'>),\n",
       " ('LoS-IE-74', 'psi4/hf/6-31g*', <RecordStatusEnum.complete: 'complete'>),\n",
       " ('LoS-IE-9', 'psi4/hf/6-31g*', <RecordStatusEnum.complete: 'complete'>),\n",
       " ('LoS-IE-14', 'psi4/hf/6-31g*', <RecordStatusEnum.complete: 'complete'>),\n",
       " ('LoS-IE-45', 'psi4/hf/6-31g*', <RecordStatusEnum.complete: 'complete'>),\n",
       " ('LoS-IE-5', 'psi4/hf/6-31g*', <RecordStatusEnum.complete: 'complete'>),\n",
       " ('LoS-IE-27', 'psi4/hf/6-31g*', <RecordStatusEnum.complete: 'complete'>),\n",
       " ('LoS-IE-47', 'psi4/hf/6-31g*', <RecordStatusEnum.complete: 'complete'>),\n",
       " ('LoS-IE-48', 'psi4/hf/6-31g*', <RecordStatusEnum.complete: 'complete'>),\n",
       " ('LoS-IE-59', 'psi4/hf/6-31g*', <RecordStatusEnum.complete: 'complete'>),\n",
       " ('LoS-IE-0', 'psi4/hf/6-31g*', <RecordStatusEnum.complete: 'complete'>),\n",
       " ('LoS-IE-91', 'psi4/hf/6-31g*', <RecordStatusEnum.complete: 'complete'>),\n",
       " ('LoS-IE-40', 'psi4/hf/6-31g*', <RecordStatusEnum.complete: 'complete'>),\n",
       " ('LoS-IE-26', 'psi4/hf/6-31g*', <RecordStatusEnum.complete: 'complete'>),\n",
       " ('LoS-IE-15', 'psi4/hf/6-31g*', <RecordStatusEnum.complete: 'complete'>),\n",
       " ('LoS-IE-57', 'psi4/hf/6-31g*', <RecordStatusEnum.complete: 'complete'>),\n",
       " ('LoS-IE-93', 'psi4/hf/6-31g*', <RecordStatusEnum.complete: 'complete'>),\n",
       " ('LoS-IE-86', 'psi4/hf/6-31g*', <RecordStatusEnum.complete: 'complete'>),\n",
       " ('LoS-IE-7', 'psi4/hf/6-31g*', <RecordStatusEnum.complete: 'complete'>),\n",
       " ('LoS-IE-12', 'psi4/hf/6-31g*', <RecordStatusEnum.complete: 'complete'>),\n",
       " ('LoS-IE-60', 'psi4/hf/6-31g*', <RecordStatusEnum.complete: 'complete'>),\n",
       " ('LoS-IE-98', 'psi4/hf/6-31g*', <RecordStatusEnum.complete: 'complete'>),\n",
       " ('LoS-IE-96', 'psi4/hf/6-31g*', <RecordStatusEnum.complete: 'complete'>),\n",
       " ('LoS-IE-35', 'psi4/hf/6-31g*', <RecordStatusEnum.complete: 'complete'>),\n",
       " ('LoS-IE-33', 'psi4/hf/6-31g*', <RecordStatusEnum.complete: 'complete'>),\n",
       " ('LoS-IE-42', 'psi4/hf/6-31g*', <RecordStatusEnum.complete: 'complete'>),\n",
       " ('LoS-IE-78', 'psi4/hf/6-31g*', <RecordStatusEnum.complete: 'complete'>),\n",
       " ('LoS-IE-18', 'psi4/hf/6-31g*', <RecordStatusEnum.complete: 'complete'>),\n",
       " ('LoS-IE-80', 'psi4/hf/6-31g*', <RecordStatusEnum.complete: 'complete'>),\n",
       " ('LoS-IE-72', 'psi4/hf/6-31g*', <RecordStatusEnum.complete: 'complete'>),\n",
       " ('LoS-IE-28', 'psi4/hf/6-31g*', <RecordStatusEnum.complete: 'complete'>),\n",
       " ('LoS-IE-97', 'psi4/hf/6-31g*', <RecordStatusEnum.complete: 'complete'>),\n",
       " ('LoS-IE-83', 'psi4/hf/6-31g*', <RecordStatusEnum.complete: 'complete'>),\n",
       " ('LoS-IE-51', 'psi4/hf/6-31g*', <RecordStatusEnum.complete: 'complete'>)]"
      ]
     },
     "execution_count": 15,
     "metadata": {},
     "output_type": "execute_result"
    }
   ],
   "source": [
    "ds_mb.detailed_status()"
   ]
  },
  {
   "cell_type": "markdown",
   "metadata": {
    "jukit_cell_id": "xgdzc0Klhx"
   },
   "source": [
    "# Data Assembly\n",
    "\n",
    "NOTE: While you can execute the following blocks before all computations are\n",
    "complete, it is recommended to wait until all computations are complete to\n",
    "continue.\n",
    "\n",
    "QCArchive allows use to write functions that operate on each dataset entry to return exactly what information\n",
    "we want from every record through the `compile_values` method. The method returns a\n",
    "pandas dataframe containing our QCSpecification names and our specified columns for each entry \n",
    "in our assemble data functions. Here is the Singlepoint data assembly for SAPT calculations. "
   ]
  },
  {
   "cell_type": "code",
   "execution_count": 16,
   "metadata": {
    "jukit_cell_id": "7RHL31QOoC"
   },
   "outputs": [
    {
     "name": "stdout",
     "output_type": "stream",
     "text": [
      "[('psi4/SAPT0/cc-pvdz', 'qcel_molecule'),\n",
      " ('psi4/SAPT0/cc-pvdz', 'Z'),\n",
      " ('psi4/SAPT0/cc-pvdz', 'R'),\n",
      " ('psi4/SAPT0/cc-pvdz', 'TQ'),\n",
      " ('psi4/SAPT0/cc-pvdz', 'molecular_multiplicity'),\n",
      " ('psi4/SAPT0/cc-pvdz', 'SAPT Energies')]\n"
     ]
    }
   ],
   "source": [
    "# Singlepoint data assemble\n",
    "def assemble_singlepoint_data(record):\n",
    "    record_dict = record.dict()\n",
    "    qcvars = record_dict[\"properties\"]\n",
    "    sapt_energies = np.array([np.nan, np.nan, np.nan, np.nan, np.nan])\n",
    "    sapt_energies[0] = qcvars['sapt total energy']\n",
    "    sapt_energies[1] = qcvars['sapt elst energy']\n",
    "    sapt_energies[2] = qcvars['sapt exch energy']\n",
    "    sapt_energies[3] = qcvars['sapt ind energy']\n",
    "    sapt_energies[4] = qcvars['sapt disp energy']\n",
    "    return (\n",
    "        record.molecule,\n",
    "        record.molecule.atomic_numbers,\n",
    "        record.molecule.geometry * qcel.constants.bohr2angstroms,\n",
    "        int(record.molecule.molecular_charge),\n",
    "        record.molecule.molecular_multiplicity,\n",
    "        sapt_energies,\n",
    "    )\n",
    "\n",
    "def assemble_singlepoint_data_value_names():\n",
    "    return [\n",
    "        'qcel_molecule',\n",
    "        \"Z\",\n",
    "        \"R\",\n",
    "        \"TQ\",\n",
    "        \"molecular_multiplicity\",\n",
    "        \"SAPT Energies\",\n",
    "    ]\n",
    "\n",
    "df = ds.compile_values(\n",
    "    value_call=assemble_singlepoint_data,\n",
    "    value_names=assemble_singlepoint_data_value_names(),\n",
    "    unpack=True,\n",
    ")\n",
    "pp(df.columns.tolist())\n",
    "df_sapt0 = df['psi4/SAPT0/cc-pvdz']"
   ]
  },
  {
   "cell_type": "markdown",
   "metadata": {},
   "source": [
    "Below is the assemble data function for our Manybody dataset results:"
   ]
  },
  {
   "cell_type": "code",
   "execution_count": 17,
   "metadata": {
    "jukit_cell_id": "CDD1QjxHpc"
   },
   "outputs": [
    {
     "name": "stdout",
     "output_type": "stream",
     "text": [
      "[('psi4/hf/6-31g*', 'qcel_molecule'),\n",
      " ('psi4/hf/6-31g*', 'CP_IE'),\n",
      " ('psi4/hf/6-31g*', 'NOCP_IE'),\n",
      " ('psi4/hf/6-31g*', 'Z'),\n",
      " ('psi4/hf/6-31g*', 'R'),\n",
      " ('psi4/hf/6-31g*', 'TQ'),\n",
      " ('psi4/hf/6-31g*', 'molecular_multiplicity')]\n"
     ]
    }
   ],
   "source": [
    "def assemble_data(record):\n",
    "    record_dict = record.dict()\n",
    "    qcvars = record_dict[\"properties\"]\n",
    "    CP_IE = qcvars['results']['cp_corrected_interaction_energy'] * h2kcalmol\n",
    "    NOCP_IE = qcvars['results'].get('nocp_corrected_interaction_energy', np.nan) * h2kcalmol\n",
    "    return (\n",
    "    record.initial_molecule,\n",
    "    CP_IE,\n",
    "    NOCP_IE,\n",
    "    record.initial_molecule.atomic_numbers,\n",
    "    record.initial_molecule.geometry * qcel.constants.bohr2angstroms,\n",
    "    int(record.initial_molecule.molecular_charge),\n",
    "    record.initial_molecule.molecular_multiplicity,\n",
    "    )\n",
    "\n",
    "def assemble_data_value_names():\n",
    "    return [\n",
    "        'qcel_molecule',\n",
    "        \"CP_IE\",\n",
    "        \"NOCP_IE\",\n",
    "        \"Z\",\n",
    "        \"R\",\n",
    "        \"TQ\",\n",
    "        \"molecular_multiplicity\"\n",
    "    ]\n",
    "\n",
    "df_mb = ds_mb.compile_values(\n",
    "    value_call=assemble_data,\n",
    "    value_names=assemble_data_value_names(),\n",
    "    unpack=True,\n",
    ")\n",
    "\n",
    "pp(df_mb.columns.tolist())"
   ]
  },
  {
   "cell_type": "markdown",
   "metadata": {},
   "source": [
    "Now we can pull together this data for analyzing our results. Our group has some\n",
    "common plotting scripts operating on pandas Dataframes, so we will convert\n",
    "our computed data into a format that is compatable with these scripts."
   ]
  },
  {
   "cell_type": "code",
   "execution_count": 18,
   "metadata": {
    "jukit_cell_id": "XT87RegBfm"
   },
   "outputs": [
    {
     "name": "stdout",
     "output_type": "stream",
     "text": [
      "       HF/6-31G* error  SAPT0/cc-pvdz error  SAPT0/aug-cc-pvdz error\n",
      "count       100.000000           100.000000               100.000000\n",
      "mean          1.639505            -0.478639                -1.322247\n",
      "std           2.229406             1.435985                 1.864081\n",
      "min          -3.161351            -8.113335                -9.134743\n",
      "25%           0.143764            -0.413298                -1.545590\n",
      "50%           0.839377            -0.032618                -0.499742\n",
      "75%           2.220704             0.180698                -0.195286\n",
      "max           9.469009             1.198256                 0.220561\n"
     ]
    },
    {
     "name": "stderr",
     "output_type": "stream",
     "text": [
      "/tmp/ipykernel_558940/1492624606.py:3: SettingWithCopyWarning: \n",
      "A value is trying to be set on a copy of a slice from a DataFrame.\n",
      "Try using .loc[row_indexer,col_indexer] = value instead\n",
      "\n",
      "See the caveats in the documentation: https://pandas.pydata.org/pandas-docs/stable/user_guide/indexing.html#returning-a-view-versus-a-copy\n",
      "  df_sapt0['sapt0 total energes'] = df_sapt0.apply(lambda x: x['SAPT Energies'][0] * h2kcalmol, axis=1)\n"
     ]
    }
   ],
   "source": [
    "from cdsg_plot import error_statistics\n",
    "\n",
    "df_sapt0['sapt0 total energes'] = df_sapt0.apply(lambda x: x['SAPT Energies'][0] * h2kcalmol, axis=1)\n",
    "df_plot = pd.DataFrame(\n",
    "    {\n",
    "        \"qcel_molecule\": df_mb[\"psi4/hf/6-31g*\"][\"qcel_molecule\"],\n",
    "        \"HF/6-31G*\": df_mb[\"psi4/hf/6-31g*\"][\"CP_IE\"],\n",
    "        'SAPT0/cc-pvdz': df_sapt0['sapt0 total energes'].values,\n",
    "        # \"svwn/6-31G*\": df_mb[\"psi4/svwn/6-31g*\"][\"CP_IE\"],\n",
    "        # \"PBE/6-31G*\": df_mb[\"psi4/pbe/6-31g*\"][\"CP_IE\"],\n",
    "    }\n",
    ")\n",
    "# print(df_plot)\n",
    "id = [int(i[7:]) for i in df_plot.index]\n",
    "df_plot['id'] = id\n",
    "df_plot.sort_values(by='id', inplace=True, ascending=True)\n",
    "df_plot['reference'] = ref_IEs\n",
    "df_plot['SAPT0/aug-cc-pvdz'] = sapt0_adz\n",
    "df_plot['HF/6-31G* error'] = (df_plot['HF/6-31G*'] - df_plot['reference']).astype(float)\n",
    "# df_plot['PBE/6-31G* error'] = (df_plot['PBE/6-31G*'] - df_plot['reference']).astype(float)\n",
    "# df_plot['svwn/6-31G* error'] = (df_plot['svwn/6-31G*'] - df_plot['reference']).astype(float)\n",
    "df_plot['SAPT0/cc-pvdz error'] = (df_plot['SAPT0/cc-pvdz'] - df_plot['reference']).astype(float)\n",
    "df_plot['SAPT0/aug-cc-pvdz error'] = (df_plot['SAPT0/aug-cc-pvdz'] - df_plot['reference']).astype(float)\n",
    "# print(df_plot[['HF/6-31G*', 'SAPT0/cc-pvdz', 'reference', \"SAPT0/aug-cc-pvdz\"]])\n",
    "df_plot = df_plot.dropna(subset=['qcel_molecule', 'HF/6-31G*', 'SAPT0/cc-pvdz', 'SAPT0/aug-cc-pvdz'])\n",
    "print(df_plot[['HF/6-31G* error', 'SAPT0/cc-pvdz error', \"SAPT0/aug-cc-pvdz error\"]].describe())"
   ]
  },
  {
   "cell_type": "markdown",
   "metadata": {
    "jukit_cell_id": "6ziYQ8PdtF"
   },
   "source": [
    "# Plotting the interaction energy errors\n",
    "The function below will plot violin plots of the error distributions of the\n",
    "approximate level of theory and our reference. For this dataset, the reference\n",
    "energies are estimated CCSD(T)/CBS interaction energies provided by the Levels\n",
    "of SAPT II Supplemental Information."
   ]
  },
  {
   "cell_type": "code",
   "execution_count": 20,
   "metadata": {
    "jukit_cell_id": "dRiuyCtOh1"
   },
   "outputs": [
    {
     "name": "stdout",
     "output_type": "stream",
     "text": [
      "Plotting S22-IE.png\n",
      "(-15, 15)\n",
      "lower_bound = -15, upper_bound = 20, inc = 5\n",
      "S22-IE_violin.png\n"
     ]
    },
    {
     "data": {
      "text/plain": [
       "<Figure size 3840x2880 with 0 Axes>"
      ]
     },
     "metadata": {},
     "output_type": "display_data"
    },
    {
     "data": {
      "image/png": "[encoded data removed]",
      "text/plain": [
       "<Figure size 600x600 with 1 Axes>"
      ]
     },
     "metadata": {},
     "output_type": "display_data"
    }
   ],
   "source": [
    "error_statistics.violin_plot(\n",
    "    df_plot,\n",
    "    df_labels_and_columns={\n",
    "        \"HF/6-31G*\": \"HF/6-31G* error\",\n",
    "        # \"svwn/6-31G*\": \"svwn/6-31G* error\",\n",
    "        # \"PBE/6-31G*\": \"PBE/6-31G* error\",\n",
    "        \"SAPT0/cc-pvdz\": \"SAPT0/cc-pvdz error\",\n",
    "        \"SAPT0/aug-cc-pvdz\": \"SAPT0/aug-cc-pvdz error\",\n",
    "    },\n",
    "    output_filename=\"S22-IE.png\",\n",
    "    figure_size=(6, 6),\n",
    "    x_label_fontsize=16,\n",
    "    ylim=(-15, 15),\n",
    "    rcParams={},\n",
    "    usetex=False,\n",
    "    ylabel=r\"IE Error vs. CCSD(T)/CBS (kcal/mol)\",\n",
    ")\n",
    "plt.show()"
   ]
  },
  {
   "cell_type": "markdown",
   "metadata": {},
   "source": [
    "![S22-IE_violin.png](./S22-IE_violin.png)"
   ]
  },
  {
   "cell_type": "markdown",
   "metadata": {
    "jukit_cell_id": "NoxyyvkpUK"
   },
   "source": [
    "# QCMLForge\n",
    "The previous sections conclude the benchmarking workflow; however, the remaining blocks in this\n",
    "notebook focus on using this QM data to train models and run inference to compare against QM methods. \n",
    "\n",
    "## Interaction energy ML model inference\n",
    "A specialized atom-pairwise neural network\n",
    "([AP-Net](https://pubs.rsc.org/en/content/articlehtml/2024/sc/d4sc01029a))\n",
    "architecture developed in the Sherrill group has been trained on 1.6 million\n",
    "dimers to predict SAPT0/aug-cc-pV(D+d)Z interaction energies. The model has been\n",
    "re-implemented and re-trained in PyTorch in QCMLForge for extending in the\n",
    "future. Below will take a pre-trained AP-Net2 model and predict energies on our\n",
    "current dimer dataset.  Note that the AP-Net2 architecture relies on first an\n",
    "AtomModel for predicting multipoles and intramolecular features, prior to more\n",
    "message passing neural networks for predicting SAPT component energies. As such,\n",
    "we must load pre-trained AtomModel weights and APNet2Model weights."
   ]
  },
  {
   "cell_type": "code",
   "execution_count": 21,
   "metadata": {
    "jukit_cell_id": "8jtfD3m3S4"
   },
   "outputs": [
    {
     "name": "stdout",
     "output_type": "stream",
     "text": [
      "running on the CPU\n",
      "running on the CPU\n",
      "self.dataset=None\n",
      "[Molecule(name='C2H4O4', formula='C2H4O4', hash='c5abb54'), Molecule(name='CH7NO', formula='CH7NO', hash='5ec955b'), Molecule(name='C3H9NO2', formula='C3H9NO2', hash='8682f32'), Molecule(name='C6H8O', formula='C6H8O', hash='eaedeb0'), Molecule(name='C4H8O4', formula='C4H8O4', hash='35b6c18'), Molecule(name='C4H8O4', formula='C4H8O4', hash='85f67af'), Molecule(name='H4O2', formula='H4O2', hash='80c4390'), Molecule(name='C2H6N2O2', formula='C2H6N2O2', hash='084885d'), Molecule(name='C3H9NO2', formula='C3H9NO2', hash='b28b356'), Molecule(name='C2H4O4', formula='C2H4O4', hash='f55cc2e'), Molecule(name='CH7NO', formula='CH7NO', hash='682fa43'), Molecule(name='FH2O', formula='FH2O-', hash='d69cf34'), Molecule(name='C2H10N2', formula='C2H10N2', hash='9f0ed39'), Molecule(name='C6H8O', formula='C6H8O', hash='849097c'), Molecule(name='C2H4O4', formula='C2H4O4', hash='55b0ef0'), Molecule(name='C3H9NO2', formula='C3H9NO2', hash='72f9061'), Molecule(name='CH6O2', formula='CH6O2', hash='5d8f9aa'), Molecule(name='C3H9NO2', formula='C3H9NO2', hash='08ed16d'), Molecule(name='C2H7N3O', formula='C2H7N3O', hash='c054a98'), Molecule(name='CH6O2', formula='CH6O2', hash='b6e3eb7'), Molecule(name='C5H7NO', formula='C5H7NO', hash='458a4c4'), Molecule(name='C2H8N4', formula='C2H8N4', hash='63271a9'), Molecule(name='C5H7NO', formula='C5H7NO', hash='2e03c23'), Molecule(name='C2H4O4', formula='C2H4O4', hash='af1cb59'), Molecule(name='C2H5NO3', formula='C2H5NO3', hash='fd88297'), Molecule(name='C2H10N2', formula='C2H10N2', hash='0777887'), Molecule(name='C2H8O2', formula='C2H8O2', hash='9bc507d'), Molecule(name='C2H10N2', formula='C2H10N2', hash='19bb134'), Molecule(name='C2H7N3O', formula='C2H7N3O', hash='bedfd94'), Molecule(name='C2H6N2O2', formula='C2H6N2O2', hash='dbda4c9'), Molecule(name='C7H7N', formula='C7H7N', hash='1c2aa59'), Molecule(name='C2H6N2O2', formula='C2H6N2O2', hash='349324f'), Molecule(name='CH6O2', formula='CH6O2', hash='71a4794'), Molecule(name='C2H5NO3', formula='C2H5NO3', hash='57066d1'), Molecule(name='C2H6N2O2', formula='C2H6N2O2', hash='0292d0f'), Molecule(name='C4H4', formula='C4H4', hash='72b857d'), Molecule(name='C2H6N2O2', formula='C2H6N2O2', hash='8605e82'), Molecule(name='C2H6N2O2', formula='C2H6N2O2', hash='b051b23'), Molecule(name='C3H9NO2', formula='C3H9NO2', hash='49087b5'), Molecule(name='CH6O2', formula='CH6O2', hash='b3fc637'), Molecule(name='C4H6O2', formula='C4H6O2', hash='5b3ed29'), Molecule(name='C2H8N4', formula='C2H8N4', hash='754d862'), Molecule(name='C2H5NO3', formula='C2H5NO3', hash='d35fb75'), Molecule(name='C2H6N2O2', formula='C2H6N2O2', hash='92a1616'), Molecule(name='CH6O2', formula='CH6O2', hash='06215e1'), Molecule(name='C2H8N4', formula='C2H8N4', hash='b6e736d'), Molecule(name='C7H7N', formula='C7H7N', hash='d9e8595'), Molecule(name='C4H4', formula='C4H4', hash='9c2b063'), Molecule(name='C4H8O4', formula='C4H8O4', hash='0a4dfca'), Molecule(name='C2H5NO3', formula='C2H5NO3', hash='20a7751'), Molecule(name='C2H9NO', formula='C2H9NO', hash='345b2ae'), Molecule(name='C3H9NO2', formula='C3H9NO2', hash='98df478'), Molecule(name='C3H9NO2', formula='C3H9NO2', hash='cba3af1'), Molecule(name='CH7NO', formula='CH7NO', hash='2d30678'), Molecule(name='C2H8N4', formula='C2H8N4', hash='1947adc'), Molecule(name='C2H7N3O', formula='C2H7N3O', hash='eb10a85'), Molecule(name='H4O2', formula='H4O2', hash='be8ff8c'), Molecule(name='C2H7N3O', formula='C2H7N3O', hash='ec7247f'), Molecule(name='ClH3N', formula='ClH3N-', hash='62173eb'), Molecule(name='C2H4O4', formula='C2H4O4', hash='c33d54a'), Molecule(name='C2H7N3O', formula='C2H7N3O', hash='ffdb3c7'), Molecule(name='CH6O2', formula='CH6O2', hash='bab5595'), Molecule(name='C2H6N2O2', formula='C2H6N2O2', hash='4db5772'), Molecule(name='C2H8O2', formula='C2H8O2', hash='00fc289'), Molecule(name='C2H8N4', formula='C2H8N4', hash='50e5f50'), Molecule(name='C2H4O4', formula='C2H4O4', hash='fda27a3'), Molecule(name='C3H9NO2', formula='C3H9NO2', hash='4fda6a5'), Molecule(name='C2H6N2O2', formula='C2H6N2O2', hash='deda652'), Molecule(name='C2H8N4', formula='C2H8N4', hash='3ab93e9'), Molecule(name='C2H4O4', formula='C2H4O4', hash='97216f2'), Molecule(name='C2H9NO', formula='C2H9NO', hash='3e39b03'), Molecule(name='C2H4O4', formula='C2H4O4', hash='151834e'), Molecule(name='C2H7N3O', formula='C2H7N3O', hash='fce08ad'), Molecule(name='C2H8O2', formula='C2H8O2', hash='03aec4e'), Molecule(name='C2H9NO', formula='C2H9NO', hash='989d436'), Molecule(name='C2H6N2O2', formula='C2H6N2O2', hash='0cd3584'), Molecule(name='C2H6N2O2', formula='C2H6N2O2', hash='95a9512'), Molecule(name='C2H8N4', formula='C2H8N4', hash='d670bd3'), Molecule(name='C2H4O', formula='C2H4O', hash='468091b'), Molecule(name='C2H7N3O', formula='C2H7N3O', hash='831a0de'), Molecule(name='C2H10N2', formula='C2H10N2', hash='41b57f8'), Molecule(name='C2H9NO', formula='C2H9NO', hash='51f95fd'), Molecule(name='C2H4O4', formula='C2H4O4', hash='03f500d'), Molecule(name='Cl2H', formula='Cl2H-', hash='45be16a'), Molecule(name='C6H8O', formula='C6H8O', hash='88261c2'), Molecule(name='C2H7N3O', formula='C2H7N3O', hash='3b66b47'), Molecule(name='H4NS', formula='H4NS-', hash='a29f60b'), Molecule(name='C2H6N2O2', formula='C2H6N2O2', hash='84da904'), Molecule(name='C3H9NO2', formula='C3H9NO2', hash='a0735ab'), Molecule(name='C2H6N2O2', formula='C2H6N2O2', hash='94432e6'), Molecule(name='C2H6N2O2', formula='C2H6N2O2', hash='e302ae6'), Molecule(name='C7H7N', formula='C7H7N', hash='ca8b493'), Molecule(name='C2H6N2O2', formula='C2H6N2O2', hash='df00d15'), Molecule(name='CH6O2', formula='CH6O2', hash='ad71bb4'), Molecule(name='C2H8N4', formula='C2H8N4', hash='2b8eeb4'), Molecule(name='C2H8N4', formula='C2H8N4', hash='b03442e'), Molecule(name='C2H7N3O', formula='C2H7N3O', hash='a659be4'), Molecule(name='C2H9NO', formula='C2H9NO', hash='9af7c0c'), Molecule(name='CH6O2', formula='CH6O2', hash='ceda15d'), Molecule(name='C7H7N', formula='C7H7N', hash='7ecac12')]\n"
     ]
    }
   ],
   "source": [
    "import apnet_pt\n",
    "from apnet_pt.AtomPairwiseModels.apnet2 import APNet2Model\n",
    "from apnet_pt.AtomModels.ap2_atom_model import AtomModel\n",
    "\n",
    "atom_model = AtomModel().set_pretrained_model(model_id=0)\n",
    "ap2 = APNet2Model(atom_model=atom_model.model).set_pretrained_model(model_id=0)\n",
    "ap2.atom_model = atom_model.model\n",
    "print(df_plot['qcel_molecule'].tolist())\n",
    "apnet2_ies_predicted = ap2.predict_qcel_mols(\n",
    "    mols=df_plot['qcel_molecule'].tolist(),\n",
    "    batch_size=16\n",
    ")"
   ]
  },
  {
   "cell_type": "code",
   "execution_count": 22,
   "metadata": {
    "jukit_cell_id": "nxmLPrfAfx"
   },
   "outputs": [
    {
     "name": "stdout",
     "output_type": "stream",
     "text": [
      "Plotting S22-IE-AP2.png\n",
      "S22-IE-AP2_violin.png\n"
     ]
    },
    {
     "data": {
      "text/plain": [
       "<Figure size 3840x2880 with 0 Axes>"
      ]
     },
     "metadata": {},
     "output_type": "display_data"
    },
    {
     "data": {
      "image/png": "[encoded data removed]",
      "text/plain": [
       "<Figure size 400x400 with 1 Axes>"
      ]
     },
     "metadata": {},
     "output_type": "display_data"
    }
   ],
   "source": [
    "# AP-Net2 IE\n",
    "df_plot['APNet2'] = np.sum(apnet2_ies_predicted, axis=1)\n",
    "df_plot['APNet2 error'] = (df_plot['APNet2'] - df_plot['reference']).astype(float)\n",
    "#print(df_plot.sort_values(by='APNet2 error', ascending=True)[['APNet2', 'reference']])\n",
    "error_statistics.violin_plot(\n",
    "    df_plot,\n",
    "    df_labels_and_columns={\n",
    "        \"HF/6-31G*\": \"HF/6-31G* error\",\n",
    "        # \"svwn/6-31G*\": \"svwn/6-31G* error\",\n",
    "        # \"PBE/6-31G*\": \"PBE/6-31G* error\",\n",
    "        \"SAPT0/cc-pvdz\": \"SAPT0/cc-pvdz error\",\n",
    "        \"SAPT0/aug-cc-pvdz\": \"SAPT0/aug-cc-pvdz error\",\n",
    "        \"APNet2\": \"APNet2 error\",\n",
    "    },\n",
    "    output_filename=\"S22-IE-AP2.png\",\n",
    "    rcParams={},\n",
    "    usetex=False,\n",
    "    figure_size=(4, 4),\n",
    "    ylabel=r\"IE Error vs. CCSD(T)/CBS (kcal/mol)\",\n",
    ")\n",
    "plt.show()"
   ]
  },
  {
   "cell_type": "markdown",
   "metadata": {},
   "source": [
    "![S22-IE-AP2_violin.png](./S22-IE-AP2_violin.png)"
   ]
  },
  {
   "cell_type": "markdown",
   "metadata": {},
   "source": [
    "# Transfer Learning\n",
    "To demonstrate transfer learning, we can use our reference data to then tune our\n",
    "pre-trained SAPT0 model to predict the CCSD(T)/CBS energies. Then we will\n",
    "re-plot, evaluating the model performance. Note that in any application, you\n",
    "should certainly use much more data and careful train/test set selection than\n",
    "what is done in this notebook. This is purely meant for demonstraion purposes\n",
    "only."
   ]
  },
  {
   "cell_type": "code",
   "execution_count": 23,
   "metadata": {
    "jukit_cell_id": "XtMJQEokjd"
   },
   "outputs": [
    {
     "name": "stdout",
     "output_type": "stream",
     "text": [
      "Received 100 QCElemental molecules with energy labels\n",
      "Processing directly from provided QCElemental molecules...\n",
      "Processing 100 dimers from provided QCElemental molecules...\n",
      "Creating data objects...\n",
      "len(RAs)=100, self.atomic_batch_size=8, self.batch_size=4\n",
      "0/100, 0.02s, 0.02s\n",
      "8/100, 0.02s, 0.05s\n",
      "16/100, 0.02s, 0.07s\n",
      "24/100, 0.02s, 0.09s\n",
      "32/100, 0.02s, 0.11s\n"
     ]
    },
    {
     "name": "stderr",
     "output_type": "stream",
     "text": [
      "Processing...\n"
     ]
    },
    {
     "name": "stdout",
     "output_type": "stream",
     "text": [
      "40/100, 0.02s, 0.13s\n",
      "48/100, 0.03s, 0.16s\n",
      "56/100, 0.02s, 0.17s\n",
      "64/100, 0.02s, 0.19s\n",
      "72/100, 0.02s, 0.21s\n",
      "80/100, 0.02s, 0.23s\n",
      "88/100, 0.02s, 0.25s\n",
      "96/100, 0.01s, 0.27s\n",
      "Processing directly from provided QCElemental molecules...\n"
     ]
    },
    {
     "name": "stderr",
     "output_type": "stream",
     "text": [
      "Done!\n",
      "Processing...\n"
     ]
    },
    {
     "name": "stdout",
     "output_type": "stream",
     "text": [
      "Processing 100 dimers from provided QCElemental molecules...\n",
      "Creating data objects...\n",
      "len(RAs)=100, self.atomic_batch_size=8, self.batch_size=4\n",
      "0/100, 0.03s, 0.03s\n",
      "8/100, 0.03s, 0.05s\n",
      "16/100, 0.03s, 0.08s\n",
      "24/100, 0.02s, 0.11s\n",
      "32/100, 0.02s, 0.13s\n",
      "40/100, 0.02s, 0.15s\n",
      "48/100, 0.02s, 0.17s\n",
      "56/100, 0.02s, 0.19s\n",
      "64/100, 0.02s, 0.22s\n",
      "72/100, 0.03s, 0.24s\n",
      "80/100, 0.02s, 0.26s\n",
      "88/100, 0.02s, 0.29s\n",
      "96/100, 0.01s, 0.30s\n",
      "self.root='data_dir', self.spec_type=None, self.in_memory=True\n",
      "apnet2_module_dataset(100)\n"
     ]
    },
    {
     "name": "stderr",
     "output_type": "stream",
     "text": [
      "Done!\n"
     ]
    }
   ],
   "source": [
    "# Training models on new QM data: Transfer Learning\n",
    "\n",
    "from apnet_pt import pairwise_datasets\n",
    "\n",
    "ds2 = pairwise_datasets.apnet2_module_dataset(\n",
    "    root=\"data_dir\",\n",
    "    spec_type=None,\n",
    "    atom_model=atom_model,\n",
    "    qcel_molecules=df_plot['qcel_molecule'].tolist(),\n",
    "    energy_labels=[np.array([i]) for i in df_plot['reference'].tolist()],\n",
    "    skip_compile=True,\n",
    "    force_reprocess=True,\n",
    "    atomic_batch_size=8,\n",
    "    prebatched=False,\n",
    "    in_memory=True,\n",
    "    batch_size=4,\n",
    ")\n",
    "print(ds2)"
   ]
  },
  {
   "cell_type": "code",
   "execution_count": 24,
   "metadata": {
    "jukit_cell_id": "xXslqNQSRI"
   },
   "outputs": [
    {
     "name": "stdout",
     "output_type": "stream",
     "text": [
      "Saving training results to...\n",
      "apnet2_transfer_learning.pt\n",
      "~~ Training APNet2Model ~~\n",
      "    Training on 80 samples, Testing on 20 samples\n",
      "\n",
      "Network Hyperparameters:\n",
      "  self.model.n_message=3\n",
      "  self.model.n_neuron=128\n",
      "  self.model.n_embed=8\n",
      "  self.model.n_rbf=8\n",
      "  self.model.r_cut=5.0\n",
      "  self.model.r_cut_im=8.0\n",
      "\n",
      "Training Hyperparameters:\n",
      "  n_epochs=50\n",
      "  lr=0.0005\n",
      "\n",
      "  lr_decay=None\n",
      "\n",
      "  batch_size=4\n",
      "Running single-process training\n",
      "                                       Total\n",
      "  (Pre-training) (0.64   s)  MAE:   1.525/2.130  \n",
      "  EPOCH:    0 (0.74   s)  MAE:   2.223/2.910    \n",
      "  EPOCH:    1 (0.75   s)  MAE:   1.098/2.808    \n",
      "  EPOCH:    2 (0.75   s)  MAE:   1.073/2.761    \n",
      "  EPOCH:    3 (0.78   s)  MAE:   0.772/2.535    \n",
      "  EPOCH:    4 (0.77   s)  MAE:   0.524/2.327    \n",
      "  EPOCH:    5 (0.77   s)  MAE:   0.435/2.608    \n",
      "  EPOCH:    6 (0.77   s)  MAE:   0.519/2.317    \n",
      "  EPOCH:    7 (0.75   s)  MAE:   0.457/2.436    \n",
      "  EPOCH:    8 (0.79   s)  MAE:   0.427/2.309    \n",
      "  EPOCH:    9 (0.76   s)  MAE:   0.319/2.254    \n",
      "  EPOCH:   10 (0.76   s)  MAE:   0.403/2.618    \n",
      "  EPOCH:   11 (0.77   s)  MAE:   0.561/2.297    \n",
      "  EPOCH:   12 (0.76   s)  MAE:   1.035/2.655    \n",
      "  EPOCH:   13 (0.74   s)  MAE:   0.987/2.607    \n",
      "  EPOCH:   14 (0.78   s)  MAE:   0.784/2.426    \n",
      "  EPOCH:   15 (0.78   s)  MAE:   0.807/2.133    \n",
      "  EPOCH:   16 (0.79   s)  MAE:   0.608/2.197    \n",
      "  EPOCH:   17 (0.79   s)  MAE:   0.490/2.032    \n",
      "  EPOCH:   18 (0.77   s)  MAE:   0.453/2.112    \n",
      "  EPOCH:   19 (0.76   s)  MAE:   0.456/2.112    \n",
      "  EPOCH:   20 (0.74   s)  MAE:   0.426/2.079    \n",
      "  EPOCH:   21 (0.74   s)  MAE:   0.241/2.110    \n",
      "  EPOCH:   22 (0.74   s)  MAE:   0.194/1.968    \n",
      "  EPOCH:   23 (0.75   s)  MAE:   0.245/2.134    \n",
      "  EPOCH:   24 (0.74   s)  MAE:   0.168/2.008    \n",
      "  EPOCH:   25 (0.75   s)  MAE:   0.165/2.086    \n",
      "  EPOCH:   26 (0.74   s)  MAE:   0.145/2.085    \n",
      "  EPOCH:   27 (0.75   s)  MAE:   0.112/2.040    \n",
      "  EPOCH:   28 (0.74   s)  MAE:   0.143/1.972    \n",
      "  EPOCH:   29 (0.74   s)  MAE:   0.205/2.108    \n",
      "  EPOCH:   30 (0.74   s)  MAE:   0.219/2.068    \n",
      "  EPOCH:   31 (0.74   s)  MAE:   0.148/2.021    \n",
      "  EPOCH:   32 (0.76   s)  MAE:   0.103/2.035    \n",
      "  EPOCH:   33 (0.74   s)  MAE:   0.129/2.065    \n",
      "  EPOCH:   34 (0.77   s)  MAE:   0.297/2.305    \n",
      "  EPOCH:   35 (0.77   s)  MAE:   0.340/2.163    \n",
      "  EPOCH:   36 (0.76   s)  MAE:   0.443/2.075    \n",
      "  EPOCH:   37 (0.74   s)  MAE:   0.221/2.050    \n",
      "  EPOCH:   38 (0.75   s)  MAE:   0.185/2.174    \n",
      "  EPOCH:   39 (0.75   s)  MAE:   0.173/2.107    \n",
      "  EPOCH:   40 (0.74   s)  MAE:   0.135/2.029    \n",
      "  EPOCH:   41 (0.75   s)  MAE:   0.113/2.095    \n",
      "  EPOCH:   42 (0.75   s)  MAE:   0.153/2.048    \n",
      "  EPOCH:   43 (0.75   s)  MAE:   0.112/2.068    \n",
      "  EPOCH:   44 (0.76   s)  MAE:   0.100/2.019    \n",
      "  EPOCH:   45 (0.75   s)  MAE:   0.146/2.075    \n",
      "  EPOCH:   46 (0.75   s)  MAE:   0.141/2.007    \n",
      "  EPOCH:   47 (0.74   s)  MAE:   0.165/2.227    \n",
      "  EPOCH:   48 (0.75   s)  MAE:   0.332/1.985    \n",
      "  EPOCH:   49 (0.75   s)  MAE:   0.498/2.494    \n"
     ]
    }
   ],
   "source": [
    "# Transfer Learning APNet2 model on computed QM data\n",
    "ap2.train(\n",
    "    dataset=ds2,\n",
    "    n_epochs=50,\n",
    "    transfer_learning=True,\n",
    "    skip_compile=True,\n",
    "    model_path=\"apnet2_transfer_learning.pt\",\n",
    "    split_percent=0.8,\n",
    ")"
   ]
  },
  {
   "cell_type": "code",
   "execution_count": 25,
   "metadata": {
    "jukit_cell_id": "KPOeFMBhWm"
   },
   "outputs": [
    {
     "name": "stdout",
     "output_type": "stream",
     "text": [
      "Plotting S22-IE-AP2-tf.png\n",
      "S22-IE-AP2-tf_violin.png\n"
     ]
    },
    {
     "data": {
      "text/plain": [
       "<Figure size 3840x2880 with 0 Axes>"
      ]
     },
     "metadata": {},
     "output_type": "display_data"
    },
    {
     "data": {
      "image/png": "[encoded data removed]",
      "text/plain": [
       "<Figure size 600x400 with 1 Axes>"
      ]
     },
     "metadata": {},
     "output_type": "display_data"
    }
   ],
   "source": [
    "# AP-Net2 IE\n",
    "apnet2_ies_predicted_transfer = ap2.predict_qcel_mols(\n",
    "    mols=df_plot['qcel_molecule'].tolist(),\n",
    "    batch_size=16,\n",
    ")\n",
    "df_plot['APNet2 transfer'] = np.sum(apnet2_ies_predicted_transfer, axis=1)\n",
    "df_plot['APNet2 transfer error'] = (df_plot['APNet2 transfer'] - df_plot['reference']).astype(float)\n",
    "\n",
    "error_statistics.violin_plot(\n",
    "    df_plot,\n",
    "    df_labels_and_columns={\n",
    "        \"HF/6-31G*\": \"HF/6-31G* error\",\n",
    "        # \"svwn/6-31G*\": \"svwn/6-31G* error\",\n",
    "        # \"PBE/6-31G*\": \"PBE/6-31G* error\",\n",
    "        \"SAPT0/aug-cc-pvdz\": \"SAPT0/aug-cc-pvdz error\",\n",
    "        \"APNet2\": \"APNet2 error\",\n",
    "        \"APNet2 transfer\": \"APNet2 transfer error\",\n",
    "    },\n",
    "    output_filename=\"S22-IE-AP2-tf.png\",\n",
    "    rcParams={},\n",
    "    usetex=False,\n",
    "    figure_size=(6, 4),\n",
    "    ylabel=r\"IE Error vs. CCSD(T)/CBS (kcal/mol)\",\n",
    ")\n",
    "plt.show()"
   ]
  },
  {
   "cell_type": "markdown",
   "metadata": {},
   "source": [
    "![S22-IE_violin-AP2-tf.png](./S22-IE-AP2-tf_violin.png)"
   ]
  },
  {
   "cell_type": "markdown",
   "metadata": {
    "jukit_cell_id": "M3Q6tUC2AJ"
   },
   "source": [
    "## $\\Delta$ Models\n",
    "Another option available in QCMLForge is to train $\\Delta {\\rm APNet2}$ models \n",
    "to predict the difference between one level of theory and another. This\n",
    "example highlights learning how to go from our computed HF/6-31G* IEs\n",
    "to our CCSD(T)/CBS energies."
   ]
  },
  {
   "cell_type": "code",
   "execution_count": 26,
   "metadata": {
    "jukit_cell_id": "ROLVxSHnj2"
   },
   "outputs": [
    {
     "name": "stdout",
     "output_type": "stream",
     "text": [
      "Received 100 QCElemental molecules with energy labels\n",
      "running on the CPU\n",
      "running on the CPU\n",
      "Loading pre-trained APNet2_MPNN model from /home/amwalla3/miniconda3/envs/p4_qcml/lib/python3.10/site-packages/apnet_pt/models/ap2_ensemble/ap2_0.pt\n",
      "self.dataset=None\n",
      "raw_path: data_dir/raw/splinter_spec1.pkl\n",
      "Loading dimers...\n",
      "Creating data objects...\n",
      "len(qcel_mols)=100, self.batch_size=2\n"
     ]
    },
    {
     "name": "stderr",
     "output_type": "stream",
     "text": [
      "Processing...\n",
      "Done!\n",
      "Processing...\n"
     ]
    },
    {
     "name": "stdout",
     "output_type": "stream",
     "text": [
      "raw_path: data_dir/raw/splinter_spec1.pkl\n",
      "Loading dimers...\n",
      "Creating data objects...\n",
      "len(qcel_mols)=100, self.batch_size=2\n",
      "self.root='data_dir', self.spec_type=None, self.in_memory=True\n",
      "raw_path: data_dir/raw/splinter_spec1.pkl\n",
      "Loading dimers...\n",
      "Saving to data_dir/processed_delta/targets_HF6-31G_to_CCSD_LP_T_RP_CBS.pt\n",
      "dapnet2_module_dataset_apnetStored(50)\n"
     ]
    },
    {
     "name": "stderr",
     "output_type": "stream",
     "text": [
      "Done!\n"
     ]
    }
   ],
   "source": [
    "from apnet_pt.pt_datasets.dapnet_ds import dapnet2_module_dataset_apnetStored\n",
    "\n",
    "delta_energies = df_plot['HF/6-31G* error'].tolist()\n",
    "\n",
    "# Only operates in pre-batched mode\n",
    "ds_dap2 = dapnet2_module_dataset_apnetStored(\n",
    "    root=\"data_dir\",\n",
    "    r_cut=5.0,\n",
    "    r_cut_im=8.0,\n",
    "    spec_type=None,\n",
    "    max_size=None,\n",
    "    force_reprocess=True,\n",
    "    batch_size=2,\n",
    "    num_devices=1,\n",
    "    skip_processed=False,\n",
    "    skip_compile=True,\n",
    "    print_level=2,\n",
    "    in_memory=True,\n",
    "    m1=\"HF/6-31G*\",\n",
    "    m2=\"CCSD(T)/CBS\",\n",
    "    qcel_molecules=df_plot['qcel_molecule'].tolist(),\n",
    "    energy_labels=delta_energies,\n",
    ")\n",
    "print(ds_dap2)"
   ]
  },
  {
   "cell_type": "code",
   "execution_count": 27,
   "metadata": {
    "jukit_cell_id": "jfEVLnbL5w"
   },
   "outputs": [
    {
     "name": "stdout",
     "output_type": "stream",
     "text": [
      "running on the CPU\n",
      "running on the CPU\n",
      "self.dataset=None\n",
      "running on the CPU\n",
      "None\n",
      "Saving training results to...\n",
      "None\n",
      "~~ Training APNet2Model ~~\n",
      "    Training on 30 samples, Testing on 20 samples\n",
      "\n",
      "Network Hyperparameters:\n",
      "  self.model.n_neuron=128\n",
      "\n",
      "Training Hyperparameters:\n",
      "  n_epochs=50\n",
      "  lr=0.0005\n",
      "\n",
      "  lr_decay=None\n",
      "\n",
      "  batch_size=1\n",
      "Running single-process training\n",
      "num_workers = 4\n",
      "                                       Energy\n",
      "  (Pre-training) (0.23   s)  MAE:   1.831/1.649  \n",
      "  EPOCH:    0 (0.25   s)  MAE:   1.152/0.980   *\n",
      "  EPOCH:    1 (0.26   s)  MAE:   0.996/0.830   *\n",
      "  EPOCH:    2 (0.26   s)  MAE:   0.750/0.897   *\n",
      "  EPOCH:    3 (0.27   s)  MAE:   0.687/0.820   *\n",
      "  EPOCH:    4 (0.25   s)  MAE:   0.617/0.970    \n",
      "  EPOCH:    5 (0.25   s)  MAE:   0.616/0.725   *\n",
      "  EPOCH:    6 (0.26   s)  MAE:   0.582/0.763   *\n",
      "  EPOCH:    7 (0.26   s)  MAE:   0.556/0.770    \n",
      "  EPOCH:    8 (0.26   s)  MAE:   0.500/0.755   *\n",
      "  EPOCH:    9 (0.26   s)  MAE:   0.524/0.629   *\n",
      "  EPOCH:   10 (0.26   s)  MAE:   0.555/0.553    \n",
      "  EPOCH:   11 (0.25   s)  MAE:   0.611/0.602    \n",
      "  EPOCH:   12 (0.24   s)  MAE:   0.566/0.565   *\n",
      "  EPOCH:   13 (0.24   s)  MAE:   0.388/0.466   *\n",
      "  EPOCH:   14 (0.25   s)  MAE:   0.359/0.453   *\n",
      "  EPOCH:   15 (0.25   s)  MAE:   0.315/0.395   *\n",
      "  EPOCH:   16 (0.25   s)  MAE:   0.277/0.350   *\n",
      "  EPOCH:   17 (0.26   s)  MAE:   0.248/0.431    \n",
      "  EPOCH:   18 (0.24   s)  MAE:   0.261/0.299   *\n",
      "  EPOCH:   19 (0.25   s)  MAE:   0.217/0.286    \n",
      "  EPOCH:   20 (0.25   s)  MAE:   0.245/0.555    \n",
      "  EPOCH:   21 (0.26   s)  MAE:   0.394/0.522    \n",
      "  EPOCH:   22 (0.25   s)  MAE:   0.253/0.336    \n",
      "  EPOCH:   23 (0.28   s)  MAE:   0.208/0.420    \n",
      "  EPOCH:   24 (0.27   s)  MAE:   0.200/0.284   *\n",
      "  EPOCH:   25 (0.25   s)  MAE:   0.180/0.282   *\n",
      "  EPOCH:   26 (0.27   s)  MAE:   0.157/0.260   *\n",
      "  EPOCH:   27 (0.25   s)  MAE:   0.150/0.320    \n",
      "  EPOCH:   28 (0.28   s)  MAE:   0.168/0.255   *\n",
      "  EPOCH:   29 (0.24   s)  MAE:   0.163/0.261    \n",
      "  EPOCH:   30 (0.27   s)  MAE:   0.138/0.240   *\n",
      "  EPOCH:   31 (0.27   s)  MAE:   0.123/0.264    \n",
      "  EPOCH:   32 (0.25   s)  MAE:   0.167/0.330    \n",
      "  EPOCH:   33 (0.26   s)  MAE:   0.165/0.241   *\n",
      "  EPOCH:   34 (0.27   s)  MAE:   0.137/0.292    \n",
      "  EPOCH:   35 (0.24   s)  MAE:   0.166/0.231    \n",
      "  EPOCH:   36 (0.26   s)  MAE:   0.139/0.283    \n",
      "  EPOCH:   37 (0.26   s)  MAE:   0.142/0.244   *\n",
      "  EPOCH:   38 (0.27   s)  MAE:   0.128/0.247    \n",
      "  EPOCH:   39 (0.26   s)  MAE:   0.146/0.324    \n",
      "  EPOCH:   40 (0.26   s)  MAE:   0.219/0.229   *\n",
      "  EPOCH:   41 (0.25   s)  MAE:   0.217/0.364    \n",
      "  EPOCH:   42 (0.25   s)  MAE:   0.167/0.265    \n",
      "  EPOCH:   43 (0.27   s)  MAE:   0.143/0.227   *\n",
      "  EPOCH:   44 (0.25   s)  MAE:   0.132/0.261    \n",
      "  EPOCH:   45 (0.26   s)  MAE:   0.234/0.381    \n",
      "  EPOCH:   46 (0.26   s)  MAE:   0.167/0.238    \n",
      "  EPOCH:   47 (0.26   s)  MAE:   0.150/0.235    \n",
      "  EPOCH:   48 (0.25   s)  MAE:   0.120/0.227   *\n",
      "  EPOCH:   49 (0.25   s)  MAE:   0.152/0.239    \n"
     ]
    }
   ],
   "source": [
    "from apnet_pt.AtomPairwiseModels.dapnet2 import dAPNet2Model\n",
    "\n",
    "dap2 = dAPNet2Model(\n",
    "    atom_model=AtomModel().set_pretrained_model(model_id=0),\n",
    "    apnet2_model=APNet2Model().set_pretrained_model(model_id=0).set_return_hidden_states(True),\n",
    ")\n",
    "dap2.train(\n",
    "    ds_dap2,\n",
    "    n_epochs=50,\n",
    "    skip_compile=True,\n",
    "    split_percent=0.6,\n",
    ")"
   ]
  },
  {
   "cell_type": "code",
   "execution_count": 28,
   "metadata": {
    "jukit_cell_id": "BbSVmmebsN"
   },
   "outputs": [
    {
     "name": "stdout",
     "output_type": "stream",
     "text": [
      "            dAPNet2 HF/6-31G* HF/6-31G*-dAPNet2  reference\n",
      "entry                                                     \n",
      "LoS-IE-0   2.805237 -15.29702        -18.102256    -18.075\n",
      "LoS-IE-1   0.482784 -4.790555         -5.273339     -5.220\n",
      "LoS-IE-2   1.119751     -3.52         -4.639751     -4.700\n",
      "LoS-IE-3   0.225899 -0.441187         -0.667086     -0.420\n",
      "LoS-IE-4   0.443690 -8.814418         -9.258107     -9.210\n",
      "...             ...       ...               ...        ...\n",
      "LoS-IE-95  0.622295 -4.834655          -5.45695     -5.532\n",
      "LoS-IE-96  7.804511 -4.583762        -12.388272    -12.862\n",
      "LoS-IE-97  0.446845 -3.208742         -3.655587     -3.350\n",
      "LoS-IE-98 -0.079373  -3.78051         -3.701137     -3.590\n",
      "LoS-IE-99  0.181476 -0.542195         -0.723671     -0.620\n",
      "\n",
      "[100 rows x 4 columns]\n",
      "Plotting S22-IE-AP2-dAP2.png\n",
      "S22-IE-AP2-dAP2_violin.png\n"
     ]
    },
    {
     "data": {
      "text/plain": [
       "<Figure size 3840x2880 with 0 Axes>"
      ]
     },
     "metadata": {},
     "output_type": "display_data"
    },
    {
     "data": {
      "image/png": "[encoded data removed]",
      "text/plain": [
       "<Figure size 600x400 with 1 Axes>"
      ]
     },
     "metadata": {},
     "output_type": "display_data"
    }
   ],
   "source": [
    "dAPNet2_ies_predicted_transfer = dap2.predict_qcel_mols(\n",
    "    mols=df_plot['qcel_molecule'].tolist(),\n",
    "    batch_size=2,\n",
    ")\n",
    "df_plot['dAPNet2'] = dAPNet2_ies_predicted_transfer\n",
    "df_plot['HF/6-31G*-dAPNet2'] = df_plot['HF/6-31G*'] - df_plot['dAPNet2']\n",
    "print(df_plot[['dAPNet2', 'HF/6-31G*', 'HF/6-31G*-dAPNet2',  'reference']])\n",
    "df_plot['dAPNet2 error'] = (df_plot['HF/6-31G*-dAPNet2'] - df_plot['reference']).astype(float)\n",
    "\n",
    "error_statistics.violin_plot(\n",
    "    df_plot,\n",
    "    df_labels_and_columns={\n",
    "        \"HF/6-31G*\": \"HF/6-31G* error\",\n",
    "        # \"svwn/6-31G*\": \"svwn/6-31G* error\",\n",
    "        # \"PBE/6-31G*\": \"PBE/6-31G* error\",\n",
    "        \"SAPT0/aug-cc-pvdz\": \"SAPT0/aug-cc-pvdz error\",\n",
    "        \"APNet2\": \"APNet2 error\",\n",
    "        \"APNet2 transfer\": \"APNet2 transfer error\",\n",
    "        \"dAPNet2 HF/6-31G* to CCSD(T)/CBS\": \"dAPNet2 error\",\n",
    "    },\n",
    "    output_filename=\"S22-IE-AP2-dAP2.png\",\n",
    "    rcParams={},\n",
    "    usetex=False,\n",
    "    figure_size=(6, 4),\n",
    "    ylabel=r\"IE Error vs. CCSD(T)/CBS (kcal/mol)\",\n",
    ")\n",
    "plt.show()"
   ]
  },
  {
   "cell_type": "code",
   "execution_count": null,
   "metadata": {
    "jukit_cell_id": "OVVcYRXWUA"
   },
   "outputs": [],
   "source": [
    "# Be careful with this for it can corrupt running status...\n",
    "# !ps aux | grep qcfractal | awk '{ print $2 }' | xargs kill -9"
   ]
  },
  {
   "cell_type": "markdown",
   "metadata": {},
   "source": [
    "![S22-IE_violin-AP2-dAP2.png](./S22-IE-AP2-dAP2_violin.png)"
   ]
  },
  {
   "cell_type": "markdown",
   "metadata": {
    "jukit_cell_id": "H2TTLmA061"
   },
   "source": [
    "# The end...\n",
    "\n",
    "This notebook has been designed to help demonstrate how QCArchive can be used to\n",
    "compute QM properties through cybershuttle, and then leverage that data for\n",
    "analysis or training AP-Net based models through QCMLForge. \n",
    "\n",
    "If you have any questions about this notebook or used packages, please feel\n",
    "free to reach out to me at awallace43@gatech.edu!"
   ]
  }
 ],
 "metadata": {
  "anaconda-cloud": {},
  "kernelspec": {
   "display_name": "p4_qcml",
   "language": "python",
   "name": "python3"
  },
  "language_info": {
   "codemirror_mode": {
    "name": "ipython",
    "version": 3
   },
   "file_extension": ".py",
   "mimetype": "text/x-python",
   "name": "python",
   "nbconvert_exporter": "python",
   "pygments_lexer": "ipython3",
   "version": "3.10.17"
  }
 },
 "nbformat": 4,
 "nbformat_minor": 4
}
